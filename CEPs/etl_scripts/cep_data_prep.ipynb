{
 "cells": [
  {
   "cell_type": "markdown",
   "source": [
    "# Notebook for extracting data for CEP-related analysis"
   ],
   "metadata": {
    "collapsed": false
   },
   "id": "6d684f619e828663"
  },
  {
   "cell_type": "code",
   "execution_count": 3,
   "outputs": [],
   "source": [
    "import pandas as pd\n",
    "import requests\n",
    "import numpy as np\n",
    "import os\n",
    "import glob\n",
    "import re\n",
    "from datetime import datetime\n",
    "from zipfile import ZipFile\n",
    "from io import BytesIO\n",
    "import helper_functions as hf\n",
    "from importlib import reload"
   ],
   "metadata": {
    "collapsed": false,
    "ExecuteTime": {
     "end_time": "2023-11-19T23:12:04.762749Z",
     "start_time": "2023-11-19T23:12:03.861345Z"
    }
   },
   "id": "9ed414e7d596bac3"
  },
  {
   "cell_type": "markdown",
   "source": [
    "### Extract and store all raw XLSX files from EIA page"
   ],
   "metadata": {
    "collapsed": false
   },
   "id": "b762dba68f39c5aa"
  },
  {
   "cell_type": "code",
   "execution_count": 6,
   "outputs": [],
   "source": [
    "# Set location for data files\n",
    "data_dir = os.path.join(os.getcwd(), 'raw_data')\n",
    "process_dir = os.path.join(os.getcwd(), 'prepared_data')"
   ],
   "metadata": {
    "collapsed": false,
    "ExecuteTime": {
     "end_time": "2023-11-19T23:12:28.231065Z",
     "start_time": "2023-11-19T23:12:28.215658Z"
    }
   },
   "id": "b6584a294ea87f1e"
  },
  {
   "cell_type": "code",
   "execution_count": 147,
   "outputs": [
    {
     "name": "stdout",
     "output_type": "stream",
     "text": [
      "Extracted Sales_Ult_Cust_2012.xlsx\n",
      "Extracted Sales_Ult_Cust_2013.xls\n",
      "Extracted Sales_Ult_Cust_2014.xls\n",
      "Extracted Sales_Ult_Cust_2015.xlsx\n",
      "Extracted Sales_Ult_Cust_2016.xlsx\n",
      "Extracted Sales_Ult_Cust_2017.xlsx\n",
      "Extracted Sales_Ult_Cust_2018.xlsx\n",
      "Extracted Sales_Ult_Cust_2019.xlsx\n",
      "Extracted Sales_Ult_Cust_2020.xlsx\n",
      "Extracted Sales_Ult_Cust_2021.xlsx\n",
      "Reading in /Users/Darren/git-clones/data-projects/CEPs/etl_scripts/raw_data/Sales_Ult_Cust_2017.xlsx\n",
      "Reading in /Users/Darren/git-clones/data-projects/CEPs/etl_scripts/raw_data/Sales_Ult_Cust_2021.xlsx\n",
      "Reading in /Users/Darren/git-clones/data-projects/CEPs/etl_scripts/raw_data/Sales_Ult_Cust_2020.xlsx\n",
      "Reading in /Users/Darren/git-clones/data-projects/CEPs/etl_scripts/raw_data/Sales_Ult_Cust_2016.xlsx\n",
      "Reading in /Users/Darren/git-clones/data-projects/CEPs/etl_scripts/raw_data/Sales_Ult_Cust_2013.xls\n",
      "Reading in /Users/Darren/git-clones/data-projects/CEPs/etl_scripts/raw_data/Sales_Ult_Cust_2012.xlsx\n",
      "Reading in /Users/Darren/git-clones/data-projects/CEPs/etl_scripts/raw_data/Sales_Ult_Cust_2014.xls\n",
      "Reading in /Users/Darren/git-clones/data-projects/CEPs/etl_scripts/raw_data/Sales_Ult_Cust_2015.xlsx\n",
      "Reading in /Users/Darren/git-clones/data-projects/CEPs/etl_scripts/raw_data/Sales_Ult_Cust_2019.xlsx\n",
      "Reading in /Users/Darren/git-clones/data-projects/CEPs/etl_scripts/raw_data/Sales_Ult_Cust_2022.xlsx\n",
      "Reading in /Users/Darren/git-clones/data-projects/CEPs/etl_scripts/raw_data/Sales_Ult_Cust_2018.xlsx\n",
      "Merged dataframe of (3438, 18)\n",
      "Wrote dataframe to CSV in /Users/Darren/git-clones/data-projects/CEPs/etl_scripts/prepared_data\n"
     ]
    }
   ],
   "source": [
    "# Read in EIA from web page\n",
    "hf.download_eia_861(2012, 2022, data_dir)"
   ],
   "metadata": {
    "collapsed": false,
    "ExecuteTime": {
     "end_time": "2023-11-19T08:06:47.320933Z",
     "start_time": "2023-11-19T08:06:28.237271Z"
    }
   },
   "id": "1f88754833674457"
  },
  {
   "cell_type": "code",
   "execution_count": 73,
   "outputs": [
    {
     "name": "stdout",
     "output_type": "stream",
     "text": [
      "Reading in /Users/Darren/git-clones/data-projects/CEPs/etl_scripts/raw_data/Sales_Ult_Cust_2017.xlsx\n",
      "Reading in /Users/Darren/git-clones/data-projects/CEPs/etl_scripts/raw_data/Sales_Ult_Cust_2021.xlsx\n",
      "Reading in /Users/Darren/git-clones/data-projects/CEPs/etl_scripts/raw_data/Sales_Ult_Cust_2020.xlsx\n",
      "Reading in /Users/Darren/git-clones/data-projects/CEPs/etl_scripts/raw_data/Sales_Ult_Cust_2016.xlsx\n",
      "Reading in /Users/Darren/git-clones/data-projects/CEPs/etl_scripts/raw_data/Sales_Ult_Cust_2013.xls\n",
      "Reading in /Users/Darren/git-clones/data-projects/CEPs/etl_scripts/raw_data/Sales_Ult_Cust_2012.xlsx\n",
      "Reading in /Users/Darren/git-clones/data-projects/CEPs/etl_scripts/raw_data/Sales_Ult_Cust_2014.xls\n",
      "Reading in /Users/Darren/git-clones/data-projects/CEPs/etl_scripts/raw_data/Sales_Ult_Cust_2015.xlsx\n",
      "Reading in /Users/Darren/git-clones/data-projects/CEPs/etl_scripts/raw_data/Sales_Ult_Cust_2019.xlsx\n",
      "Reading in /Users/Darren/git-clones/data-projects/CEPs/etl_scripts/raw_data/Sales_Ult_Cust_2022.xlsx\n",
      "Reading in /Users/Darren/git-clones/data-projects/CEPs/etl_scripts/raw_data/Sales_Ult_Cust_2018.xlsx\n",
      "Merged dataframe of (104481, 13)\n",
      "Wrote dataframe to CSV in /Users/Darren/git-clones/data-projects/CEPs/etl_scripts/prepared_data\n"
     ]
    }
   ],
   "source": [
    "# Import to dataframes and merge\n",
    "eia_df = hf.process_and_merge_861(data_dir=data_dir, process_dir=process_dir)"
   ],
   "metadata": {
    "collapsed": false,
    "ExecuteTime": {
     "end_time": "2023-11-20T00:12:17.512736Z",
     "start_time": "2023-11-20T00:12:09.706918Z"
    }
   },
   "id": "d937a909164da4de"
  },
  {
   "cell_type": "markdown",
   "source": [
    "## Extract and process "
   ],
   "metadata": {
    "collapsed": false
   },
   "id": "b0af441823919cc6"
  },
  {
   "cell_type": "code",
   "execution_count": 154,
   "outputs": [
    {
     "data": {
      "text/plain": "    YEAR              UTILITY_NAME      TESTING_VAR_NAME TESTING_VALUE_NAME\n0   2017   City of Aberdeen - (MS)        UTILITY_NUMBER               55.0\n1   2017  City of Abbeville - (LA)        UTILITY_NUMBER               59.0\n2   2017       A & N Electric Coop        UTILITY_NUMBER               84.0\n3   2017       A & N Electric Coop        UTILITY_NUMBER               84.0\n4   2017       Adams Electric Coop        UTILITY_NUMBER               97.0\n..   ...                       ...                   ...                ...\n75  2017   City of Aberdeen - (MS)  INDUSTRIAL_CUSTOMERS                  2\n76  2017  City of Abbeville - (LA)  INDUSTRIAL_CUSTOMERS                 27\n77  2017       A & N Electric Coop  INDUSTRIAL_CUSTOMERS                  0\n78  2017       A & N Electric Coop  INDUSTRIAL_CUSTOMERS                  8\n79  2017       Adams Electric Coop  INDUSTRIAL_CUSTOMERS                  .\n\n[80 rows x 4 columns]",
      "text/html": "<div>\n<style scoped>\n    .dataframe tbody tr th:only-of-type {\n        vertical-align: middle;\n    }\n\n    .dataframe tbody tr th {\n        vertical-align: top;\n    }\n\n    .dataframe thead th {\n        text-align: right;\n    }\n</style>\n<table border=\"1\" class=\"dataframe\">\n  <thead>\n    <tr style=\"text-align: right;\">\n      <th></th>\n      <th>YEAR</th>\n      <th>UTILITY_NAME</th>\n      <th>TESTING_VAR_NAME</th>\n      <th>TESTING_VALUE_NAME</th>\n    </tr>\n  </thead>\n  <tbody>\n    <tr>\n      <th>0</th>\n      <td>2017</td>\n      <td>City of Aberdeen - (MS)</td>\n      <td>UTILITY_NUMBER</td>\n      <td>55.0</td>\n    </tr>\n    <tr>\n      <th>1</th>\n      <td>2017</td>\n      <td>City of Abbeville - (LA)</td>\n      <td>UTILITY_NUMBER</td>\n      <td>59.0</td>\n    </tr>\n    <tr>\n      <th>2</th>\n      <td>2017</td>\n      <td>A &amp; N Electric Coop</td>\n      <td>UTILITY_NUMBER</td>\n      <td>84.0</td>\n    </tr>\n    <tr>\n      <th>3</th>\n      <td>2017</td>\n      <td>A &amp; N Electric Coop</td>\n      <td>UTILITY_NUMBER</td>\n      <td>84.0</td>\n    </tr>\n    <tr>\n      <th>4</th>\n      <td>2017</td>\n      <td>Adams Electric Coop</td>\n      <td>UTILITY_NUMBER</td>\n      <td>97.0</td>\n    </tr>\n    <tr>\n      <th>...</th>\n      <td>...</td>\n      <td>...</td>\n      <td>...</td>\n      <td>...</td>\n    </tr>\n    <tr>\n      <th>75</th>\n      <td>2017</td>\n      <td>City of Aberdeen - (MS)</td>\n      <td>INDUSTRIAL_CUSTOMERS</td>\n      <td>2</td>\n    </tr>\n    <tr>\n      <th>76</th>\n      <td>2017</td>\n      <td>City of Abbeville - (LA)</td>\n      <td>INDUSTRIAL_CUSTOMERS</td>\n      <td>27</td>\n    </tr>\n    <tr>\n      <th>77</th>\n      <td>2017</td>\n      <td>A &amp; N Electric Coop</td>\n      <td>INDUSTRIAL_CUSTOMERS</td>\n      <td>0</td>\n    </tr>\n    <tr>\n      <th>78</th>\n      <td>2017</td>\n      <td>A &amp; N Electric Coop</td>\n      <td>INDUSTRIAL_CUSTOMERS</td>\n      <td>8</td>\n    </tr>\n    <tr>\n      <th>79</th>\n      <td>2017</td>\n      <td>Adams Electric Coop</td>\n      <td>INDUSTRIAL_CUSTOMERS</td>\n      <td>.</td>\n    </tr>\n  </tbody>\n</table>\n<p>80 rows × 4 columns</p>\n</div>"
     },
     "execution_count": 154,
     "metadata": {},
     "output_type": "execute_result"
    }
   ],
   "source": [],
   "metadata": {
    "collapsed": false,
    "ExecuteTime": {
     "end_time": "2023-11-19T08:11:51.722479Z",
     "start_time": "2023-11-19T08:11:51.702929Z"
    }
   },
   "id": "7f198a7d26a0c763"
  },
  {
   "cell_type": "code",
   "execution_count": 34,
   "outputs": [
    {
     "ename": "AttributeError",
     "evalue": "'str' object has no attribute 'contains'",
     "output_type": "error",
     "traceback": [
      "\u001B[0;31m---------------------------------------------------------------------------\u001B[0m",
      "\u001B[0;31mAttributeError\u001B[0m                            Traceback (most recent call last)",
      "Cell \u001B[0;32mIn[34], line 3\u001B[0m\n\u001B[1;32m      1\u001B[0m strings_to_exclude \u001B[38;5;241m=\u001B[39m [\u001B[38;5;124m'\u001B[39m\u001B[38;5;124mRESIDENTIAL\u001B[39m\u001B[38;5;124m'\u001B[39m, \u001B[38;5;124m'\u001B[39m\u001B[38;5;124mCOMMERCIAL\u001B[39m\u001B[38;5;124m'\u001B[39m, \u001B[38;5;124m'\u001B[39m\u001B[38;5;124mINDUSTRIAL\u001B[39m\u001B[38;5;124m'\u001B[39m]\n\u001B[0;32m----> 3\u001B[0m cols \u001B[38;5;241m=\u001B[39m [col \u001B[38;5;28;01mfor\u001B[39;00m col \u001B[38;5;129;01min\u001B[39;00m eia_df\u001B[38;5;241m.\u001B[39mcolumns \n\u001B[1;32m      4\u001B[0m         \u001B[38;5;28;01mif\u001B[39;00m (\u001B[38;5;241m~\u001B[39mcol\u001B[38;5;241m.\u001B[39mcontains\u001B[38;5;241m.\u001B[39many(strings_to_exclude))\n\u001B[1;32m      5\u001B[0m         \u001B[38;5;129;01mor\u001B[39;00m (\u001B[38;5;124m'\u001B[39m\u001B[38;5;124mRESIDENTIAL\u001B[39m\u001B[38;5;124m'\u001B[39m \u001B[38;5;129;01min\u001B[39;00m col)]\n\u001B[1;32m      7\u001B[0m cols\n",
      "Cell \u001B[0;32mIn[34], line 4\u001B[0m, in \u001B[0;36m<listcomp>\u001B[0;34m(.0)\u001B[0m\n\u001B[1;32m      1\u001B[0m strings_to_exclude \u001B[38;5;241m=\u001B[39m [\u001B[38;5;124m'\u001B[39m\u001B[38;5;124mRESIDENTIAL\u001B[39m\u001B[38;5;124m'\u001B[39m, \u001B[38;5;124m'\u001B[39m\u001B[38;5;124mCOMMERCIAL\u001B[39m\u001B[38;5;124m'\u001B[39m, \u001B[38;5;124m'\u001B[39m\u001B[38;5;124mINDUSTRIAL\u001B[39m\u001B[38;5;124m'\u001B[39m]\n\u001B[1;32m      3\u001B[0m cols \u001B[38;5;241m=\u001B[39m [col \u001B[38;5;28;01mfor\u001B[39;00m col \u001B[38;5;129;01min\u001B[39;00m eia_df\u001B[38;5;241m.\u001B[39mcolumns \n\u001B[0;32m----> 4\u001B[0m         \u001B[38;5;28;01mif\u001B[39;00m (\u001B[38;5;241m~\u001B[39m\u001B[43mcol\u001B[49m\u001B[38;5;241;43m.\u001B[39;49m\u001B[43mcontains\u001B[49m\u001B[38;5;241m.\u001B[39many(strings_to_exclude))\n\u001B[1;32m      5\u001B[0m         \u001B[38;5;129;01mor\u001B[39;00m (\u001B[38;5;124m'\u001B[39m\u001B[38;5;124mRESIDENTIAL\u001B[39m\u001B[38;5;124m'\u001B[39m \u001B[38;5;129;01min\u001B[39;00m col)]\n\u001B[1;32m      7\u001B[0m cols\n",
      "\u001B[0;31mAttributeError\u001B[0m: 'str' object has no attribute 'contains'"
     ]
    }
   ],
   "source": [],
   "metadata": {
    "collapsed": false,
    "ExecuteTime": {
     "end_time": "2023-11-19T23:32:34.599637Z",
     "start_time": "2023-11-19T23:32:34.584269Z"
    }
   },
   "id": "6ea2104dfe07e29e"
  },
  {
   "cell_type": "code",
   "execution_count": 47,
   "outputs": [
    {
     "data": {
      "text/plain": "       YEAR  UTILITY_NUMBER              UTILITY_NAME PART SERVICE_TYPE  \\\n0      2017            55.0   City of Aberdeen - (MS)    A      Bundled   \n1      2017            59.0  City of Abbeville - (LA)    A      Bundled   \n2      2017            84.0       A & N Electric Coop    A      Bundled   \n3      2017            84.0       A & N Electric Coop    A      Bundled   \n4      2017            97.0       Adams Electric Coop    A      Bundled   \n...     ...             ...                       ...  ...          ...   \n34831  2018         99999.0           Adjustment 2018    B       Energy   \n34832  2018         99999.0           Adjustment 2018    B       Energy   \n34833  2018         99999.0           Adjustment 2018    B       Energy   \n34834  2018         99999.0           Adjustment 2018    B       Energy   \n34835  2018         99999.0           Adjustment 2018    B       Energy   \n\n      DATA_TYPE STATE    OWNERSHIP BA_CODE RESIDENTIAL_REVENUE  \\\n0             O    MS    Municipal     TVA                3644   \n1             O    LA    Municipal    MISO              5279.9   \n2             O    MD  Cooperative     PJM               235.3   \n3             O    VA  Cooperative     PJM             38308.7   \n4             O    IL  Cooperative    MISO               16341   \n...         ...   ...          ...     ...                 ...   \n34831         I    PA          NaN    NYIS               606.4   \n34832         I    PA          NaN     PJM             44993.9   \n34833         I    RI          NaN    ISNE                9796   \n34834         I    VA          NaN     PJM                   0   \n34835         I    WA          NaN    PSEI                   0   \n\n      RESIDENTIAL_SALES_MWH RESIDENTIAL_CUSTOMERS  \n0                     32158                  2595  \n1                     52746                  4464  \n2                      2047                   274  \n3                    344508                 31309  \n4                    109301                  8603  \n...                     ...                   ...  \n34831                  7805                  1241  \n34832                513574                 11885  \n34833                 83136                  4842  \n34834                     0                     0  \n34835                     0                     0  \n\n[34827 rows x 12 columns]",
      "text/html": "<div>\n<style scoped>\n    .dataframe tbody tr th:only-of-type {\n        vertical-align: middle;\n    }\n\n    .dataframe tbody tr th {\n        vertical-align: top;\n    }\n\n    .dataframe thead th {\n        text-align: right;\n    }\n</style>\n<table border=\"1\" class=\"dataframe\">\n  <thead>\n    <tr style=\"text-align: right;\">\n      <th></th>\n      <th>YEAR</th>\n      <th>UTILITY_NUMBER</th>\n      <th>UTILITY_NAME</th>\n      <th>PART</th>\n      <th>SERVICE_TYPE</th>\n      <th>DATA_TYPE</th>\n      <th>STATE</th>\n      <th>OWNERSHIP</th>\n      <th>BA_CODE</th>\n      <th>RESIDENTIAL_REVENUE</th>\n      <th>RESIDENTIAL_SALES_MWH</th>\n      <th>RESIDENTIAL_CUSTOMERS</th>\n    </tr>\n  </thead>\n  <tbody>\n    <tr>\n      <th>0</th>\n      <td>2017</td>\n      <td>55.0</td>\n      <td>City of Aberdeen - (MS)</td>\n      <td>A</td>\n      <td>Bundled</td>\n      <td>O</td>\n      <td>MS</td>\n      <td>Municipal</td>\n      <td>TVA</td>\n      <td>3644</td>\n      <td>32158</td>\n      <td>2595</td>\n    </tr>\n    <tr>\n      <th>1</th>\n      <td>2017</td>\n      <td>59.0</td>\n      <td>City of Abbeville - (LA)</td>\n      <td>A</td>\n      <td>Bundled</td>\n      <td>O</td>\n      <td>LA</td>\n      <td>Municipal</td>\n      <td>MISO</td>\n      <td>5279.9</td>\n      <td>52746</td>\n      <td>4464</td>\n    </tr>\n    <tr>\n      <th>2</th>\n      <td>2017</td>\n      <td>84.0</td>\n      <td>A &amp; N Electric Coop</td>\n      <td>A</td>\n      <td>Bundled</td>\n      <td>O</td>\n      <td>MD</td>\n      <td>Cooperative</td>\n      <td>PJM</td>\n      <td>235.3</td>\n      <td>2047</td>\n      <td>274</td>\n    </tr>\n    <tr>\n      <th>3</th>\n      <td>2017</td>\n      <td>84.0</td>\n      <td>A &amp; N Electric Coop</td>\n      <td>A</td>\n      <td>Bundled</td>\n      <td>O</td>\n      <td>VA</td>\n      <td>Cooperative</td>\n      <td>PJM</td>\n      <td>38308.7</td>\n      <td>344508</td>\n      <td>31309</td>\n    </tr>\n    <tr>\n      <th>4</th>\n      <td>2017</td>\n      <td>97.0</td>\n      <td>Adams Electric Coop</td>\n      <td>A</td>\n      <td>Bundled</td>\n      <td>O</td>\n      <td>IL</td>\n      <td>Cooperative</td>\n      <td>MISO</td>\n      <td>16341</td>\n      <td>109301</td>\n      <td>8603</td>\n    </tr>\n    <tr>\n      <th>...</th>\n      <td>...</td>\n      <td>...</td>\n      <td>...</td>\n      <td>...</td>\n      <td>...</td>\n      <td>...</td>\n      <td>...</td>\n      <td>...</td>\n      <td>...</td>\n      <td>...</td>\n      <td>...</td>\n      <td>...</td>\n    </tr>\n    <tr>\n      <th>34831</th>\n      <td>2018</td>\n      <td>99999.0</td>\n      <td>Adjustment 2018</td>\n      <td>B</td>\n      <td>Energy</td>\n      <td>I</td>\n      <td>PA</td>\n      <td>NaN</td>\n      <td>NYIS</td>\n      <td>606.4</td>\n      <td>7805</td>\n      <td>1241</td>\n    </tr>\n    <tr>\n      <th>34832</th>\n      <td>2018</td>\n      <td>99999.0</td>\n      <td>Adjustment 2018</td>\n      <td>B</td>\n      <td>Energy</td>\n      <td>I</td>\n      <td>PA</td>\n      <td>NaN</td>\n      <td>PJM</td>\n      <td>44993.9</td>\n      <td>513574</td>\n      <td>11885</td>\n    </tr>\n    <tr>\n      <th>34833</th>\n      <td>2018</td>\n      <td>99999.0</td>\n      <td>Adjustment 2018</td>\n      <td>B</td>\n      <td>Energy</td>\n      <td>I</td>\n      <td>RI</td>\n      <td>NaN</td>\n      <td>ISNE</td>\n      <td>9796</td>\n      <td>83136</td>\n      <td>4842</td>\n    </tr>\n    <tr>\n      <th>34834</th>\n      <td>2018</td>\n      <td>99999.0</td>\n      <td>Adjustment 2018</td>\n      <td>B</td>\n      <td>Energy</td>\n      <td>I</td>\n      <td>VA</td>\n      <td>NaN</td>\n      <td>PJM</td>\n      <td>0</td>\n      <td>0</td>\n      <td>0</td>\n    </tr>\n    <tr>\n      <th>34835</th>\n      <td>2018</td>\n      <td>99999.0</td>\n      <td>Adjustment 2018</td>\n      <td>B</td>\n      <td>Energy</td>\n      <td>I</td>\n      <td>WA</td>\n      <td>NaN</td>\n      <td>PSEI</td>\n      <td>0</td>\n      <td>0</td>\n      <td>0</td>\n    </tr>\n  </tbody>\n</table>\n<p>34827 rows × 12 columns</p>\n</div>"
     },
     "execution_count": 47,
     "metadata": {},
     "output_type": "execute_result"
    }
   ],
   "source": [
    "exclusion = '|'.join(['COMMERCIAL', 'INDUSTRIAL'])\n",
    "\n",
    "exclude = f'^(?!{exclusion})'\n",
    "\n",
    "eia_df.filter(regex=exclude)\n"
   ],
   "metadata": {
    "collapsed": false,
    "ExecuteTime": {
     "end_time": "2023-11-19T23:43:41.268403Z",
     "start_time": "2023-11-19T23:43:41.255062Z"
    }
   },
   "id": "3636424c66cf6116"
  },
  {
   "cell_type": "code",
   "execution_count": 70,
   "outputs": [
    {
     "data": {
      "text/plain": "        YEAR  UTILITY_NUMBER                    UTILITY_NAME PART  \\\n72477   2017         59313.0            Palmco Power MA, LLC    B   \n87834   2014          3839.0     Coahoma Electric Power Assn    A   \n27910   2019         59557.0                      RGS Energy    A   \n82941   2013         10019.0    Kaw Valley Electric Coop Inc    A   \n31021   2022         61131.0  Freepoint Energy Solutions LLC    B   \n101738  2018          7484.0        Grand Electric Coop, Inc    A   \n46833   2016         59624.0              Vivint Solar, Inc.    A   \n54516   2014         18447.0       Tallahatchie Valley E P A    A   \n100562  2022         59943.0                  Spruce Finance    A   \n4368    2021         14006.0                   Ohio Power Co    C   \n\n       SERVICE_TYPE DATA_TYPE STATE              OWNERSHIP BA_CODE REVENUE  \\\n72477        Energy         O    MA  Retail Power Marketer    ISNE       0   \n87834       Bundled         O    MS            Cooperative    MISO    2770   \n27910       Bundled         O    CA       Behind the Meter    CISO     NaN   \n82941       Bundled         O    KS            Cooperative      WR    2372   \n31021        Energy         O    NJ  Retail Power Marketer     PJM       0   \n101738      Bundled         O    MT            Cooperative    SWPP       .   \n46833       Bundled         O    CA       Behind the Meter    LDWP       .   \n54516       Bundled         O    MS            Cooperative     TVA   23834   \n100562      Bundled         O    NV       Behind the Meter    NEVP       0   \n4368       Delivery         O    OH         Investor Owned     PJM  486782   \n\n       SALES_MWH CUSTOMERS CUSTOMER_TYPE  \n72477          0         0    INDUSTRIAL  \n87834      29034        11    INDUSTRIAL  \n27910       75.2       372   RESIDENTIAL  \n82941      20698        23    INDUSTRIAL  \n31021          0         0   RESIDENTIAL  \n101738         .         .    INDUSTRIAL  \n46833          .         .    COMMERCIAL  \n54516     185507      5865    COMMERCIAL  \n100562         0         0    INDUSTRIAL  \n4368     6092770    555097   RESIDENTIAL  ",
      "text/html": "<div>\n<style scoped>\n    .dataframe tbody tr th:only-of-type {\n        vertical-align: middle;\n    }\n\n    .dataframe tbody tr th {\n        vertical-align: top;\n    }\n\n    .dataframe thead th {\n        text-align: right;\n    }\n</style>\n<table border=\"1\" class=\"dataframe\">\n  <thead>\n    <tr style=\"text-align: right;\">\n      <th></th>\n      <th>YEAR</th>\n      <th>UTILITY_NUMBER</th>\n      <th>UTILITY_NAME</th>\n      <th>PART</th>\n      <th>SERVICE_TYPE</th>\n      <th>DATA_TYPE</th>\n      <th>STATE</th>\n      <th>OWNERSHIP</th>\n      <th>BA_CODE</th>\n      <th>REVENUE</th>\n      <th>SALES_MWH</th>\n      <th>CUSTOMERS</th>\n      <th>CUSTOMER_TYPE</th>\n    </tr>\n  </thead>\n  <tbody>\n    <tr>\n      <th>72477</th>\n      <td>2017</td>\n      <td>59313.0</td>\n      <td>Palmco Power MA, LLC</td>\n      <td>B</td>\n      <td>Energy</td>\n      <td>O</td>\n      <td>MA</td>\n      <td>Retail Power Marketer</td>\n      <td>ISNE</td>\n      <td>0</td>\n      <td>0</td>\n      <td>0</td>\n      <td>INDUSTRIAL</td>\n    </tr>\n    <tr>\n      <th>87834</th>\n      <td>2014</td>\n      <td>3839.0</td>\n      <td>Coahoma Electric Power Assn</td>\n      <td>A</td>\n      <td>Bundled</td>\n      <td>O</td>\n      <td>MS</td>\n      <td>Cooperative</td>\n      <td>MISO</td>\n      <td>2770</td>\n      <td>29034</td>\n      <td>11</td>\n      <td>INDUSTRIAL</td>\n    </tr>\n    <tr>\n      <th>27910</th>\n      <td>2019</td>\n      <td>59557.0</td>\n      <td>RGS Energy</td>\n      <td>A</td>\n      <td>Bundled</td>\n      <td>O</td>\n      <td>CA</td>\n      <td>Behind the Meter</td>\n      <td>CISO</td>\n      <td>NaN</td>\n      <td>75.2</td>\n      <td>372</td>\n      <td>RESIDENTIAL</td>\n    </tr>\n    <tr>\n      <th>82941</th>\n      <td>2013</td>\n      <td>10019.0</td>\n      <td>Kaw Valley Electric Coop Inc</td>\n      <td>A</td>\n      <td>Bundled</td>\n      <td>O</td>\n      <td>KS</td>\n      <td>Cooperative</td>\n      <td>WR</td>\n      <td>2372</td>\n      <td>20698</td>\n      <td>23</td>\n      <td>INDUSTRIAL</td>\n    </tr>\n    <tr>\n      <th>31021</th>\n      <td>2022</td>\n      <td>61131.0</td>\n      <td>Freepoint Energy Solutions LLC</td>\n      <td>B</td>\n      <td>Energy</td>\n      <td>O</td>\n      <td>NJ</td>\n      <td>Retail Power Marketer</td>\n      <td>PJM</td>\n      <td>0</td>\n      <td>0</td>\n      <td>0</td>\n      <td>RESIDENTIAL</td>\n    </tr>\n    <tr>\n      <th>101738</th>\n      <td>2018</td>\n      <td>7484.0</td>\n      <td>Grand Electric Coop, Inc</td>\n      <td>A</td>\n      <td>Bundled</td>\n      <td>O</td>\n      <td>MT</td>\n      <td>Cooperative</td>\n      <td>SWPP</td>\n      <td>.</td>\n      <td>.</td>\n      <td>.</td>\n      <td>INDUSTRIAL</td>\n    </tr>\n    <tr>\n      <th>46833</th>\n      <td>2016</td>\n      <td>59624.0</td>\n      <td>Vivint Solar, Inc.</td>\n      <td>A</td>\n      <td>Bundled</td>\n      <td>O</td>\n      <td>CA</td>\n      <td>Behind the Meter</td>\n      <td>LDWP</td>\n      <td>.</td>\n      <td>.</td>\n      <td>.</td>\n      <td>COMMERCIAL</td>\n    </tr>\n    <tr>\n      <th>54516</th>\n      <td>2014</td>\n      <td>18447.0</td>\n      <td>Tallahatchie Valley E P A</td>\n      <td>A</td>\n      <td>Bundled</td>\n      <td>O</td>\n      <td>MS</td>\n      <td>Cooperative</td>\n      <td>TVA</td>\n      <td>23834</td>\n      <td>185507</td>\n      <td>5865</td>\n      <td>COMMERCIAL</td>\n    </tr>\n    <tr>\n      <th>100562</th>\n      <td>2022</td>\n      <td>59943.0</td>\n      <td>Spruce Finance</td>\n      <td>A</td>\n      <td>Bundled</td>\n      <td>O</td>\n      <td>NV</td>\n      <td>Behind the Meter</td>\n      <td>NEVP</td>\n      <td>0</td>\n      <td>0</td>\n      <td>0</td>\n      <td>INDUSTRIAL</td>\n    </tr>\n    <tr>\n      <th>4368</th>\n      <td>2021</td>\n      <td>14006.0</td>\n      <td>Ohio Power Co</td>\n      <td>C</td>\n      <td>Delivery</td>\n      <td>O</td>\n      <td>OH</td>\n      <td>Investor Owned</td>\n      <td>PJM</td>\n      <td>486782</td>\n      <td>6092770</td>\n      <td>555097</td>\n      <td>RESIDENTIAL</td>\n    </tr>\n  </tbody>\n</table>\n</div>"
     },
     "execution_count": 70,
     "metadata": {},
     "output_type": "execute_result"
    }
   ],
   "source": [
    "tiers = ['RESIDENTIAL', 'COMMERCIAL', 'INDUSTRIAL']\n",
    "measures = ['REVENUE', 'SALES_MWH', 'CUSTOMERS']\n",
    "\n",
    "dfs = []\n",
    "\n",
    "for tier in tiers:\n",
    "    ref_list = tiers.copy()\n",
    "    ref_list.remove(tier)\n",
    "    \n",
    "    exclusion = '|'.join(ref_list)\n",
    "    exclude_regex = f'^(?!{exclusion})'\n",
    "    \n",
    "    df = eia_df.filter(regex=exclude_regex).assign(CUSTOMER_TYPE=tier)\n",
    "\n",
    "    df.columns = [col.replace(f'{tier}_', '') for col in df.columns]\n",
    "    \n",
    "    dfs.append(df)\n",
    "\n",
    "pivot_df = pd.concat(dfs, axis=0).reset_index(drop=True)"
   ],
   "metadata": {
    "collapsed": false,
    "ExecuteTime": {
     "end_time": "2023-11-20T00:00:59.630011Z",
     "start_time": "2023-11-20T00:00:59.537479Z"
    }
   },
   "id": "86792a56d245c72b"
  },
  {
   "cell_type": "code",
   "execution_count": 68,
   "outputs": [
    {
     "data": {
      "text/plain": "   YEAR  UTILITY_NUMBER              UTILITY_NAME PART SERVICE_TYPE DATA_TYPE  \\\n0  2017            55.0   City of Aberdeen - (MS)    A      Bundled         O   \n1  2017            59.0  City of Abbeville - (LA)    A      Bundled         O   \n2  2017            84.0       A & N Electric Coop    A      Bundled         O   \n3  2017            84.0       A & N Electric Coop    A      Bundled         O   \n4  2017            97.0       Adams Electric Coop    A      Bundled         O   \n\n  STATE    OWNERSHIP BA_CODE REVENUE SALES_MWH CUSTOMERS CUSTOMER_TYPE  \n0    MS    Municipal     TVA    4980     47295       661    COMMERCIAL  \n1    LA    Municipal    MISO  4082.7     37537      1032    COMMERCIAL  \n2    MD  Cooperative     PJM      40       346        27    COMMERCIAL  \n3    VA  Cooperative     PJM   15960    156370      3992    COMMERCIAL  \n4    IL  Cooperative    MISO    5729     55057       222    COMMERCIAL  ",
      "text/html": "<div>\n<style scoped>\n    .dataframe tbody tr th:only-of-type {\n        vertical-align: middle;\n    }\n\n    .dataframe tbody tr th {\n        vertical-align: top;\n    }\n\n    .dataframe thead th {\n        text-align: right;\n    }\n</style>\n<table border=\"1\" class=\"dataframe\">\n  <thead>\n    <tr style=\"text-align: right;\">\n      <th></th>\n      <th>YEAR</th>\n      <th>UTILITY_NUMBER</th>\n      <th>UTILITY_NAME</th>\n      <th>PART</th>\n      <th>SERVICE_TYPE</th>\n      <th>DATA_TYPE</th>\n      <th>STATE</th>\n      <th>OWNERSHIP</th>\n      <th>BA_CODE</th>\n      <th>REVENUE</th>\n      <th>SALES_MWH</th>\n      <th>CUSTOMERS</th>\n      <th>CUSTOMER_TYPE</th>\n    </tr>\n  </thead>\n  <tbody>\n    <tr>\n      <th>0</th>\n      <td>2017</td>\n      <td>55.0</td>\n      <td>City of Aberdeen - (MS)</td>\n      <td>A</td>\n      <td>Bundled</td>\n      <td>O</td>\n      <td>MS</td>\n      <td>Municipal</td>\n      <td>TVA</td>\n      <td>4980</td>\n      <td>47295</td>\n      <td>661</td>\n      <td>COMMERCIAL</td>\n    </tr>\n    <tr>\n      <th>1</th>\n      <td>2017</td>\n      <td>59.0</td>\n      <td>City of Abbeville - (LA)</td>\n      <td>A</td>\n      <td>Bundled</td>\n      <td>O</td>\n      <td>LA</td>\n      <td>Municipal</td>\n      <td>MISO</td>\n      <td>4082.7</td>\n      <td>37537</td>\n      <td>1032</td>\n      <td>COMMERCIAL</td>\n    </tr>\n    <tr>\n      <th>2</th>\n      <td>2017</td>\n      <td>84.0</td>\n      <td>A &amp; N Electric Coop</td>\n      <td>A</td>\n      <td>Bundled</td>\n      <td>O</td>\n      <td>MD</td>\n      <td>Cooperative</td>\n      <td>PJM</td>\n      <td>40</td>\n      <td>346</td>\n      <td>27</td>\n      <td>COMMERCIAL</td>\n    </tr>\n    <tr>\n      <th>3</th>\n      <td>2017</td>\n      <td>84.0</td>\n      <td>A &amp; N Electric Coop</td>\n      <td>A</td>\n      <td>Bundled</td>\n      <td>O</td>\n      <td>VA</td>\n      <td>Cooperative</td>\n      <td>PJM</td>\n      <td>15960</td>\n      <td>156370</td>\n      <td>3992</td>\n      <td>COMMERCIAL</td>\n    </tr>\n    <tr>\n      <th>4</th>\n      <td>2017</td>\n      <td>97.0</td>\n      <td>Adams Electric Coop</td>\n      <td>A</td>\n      <td>Bundled</td>\n      <td>O</td>\n      <td>IL</td>\n      <td>Cooperative</td>\n      <td>MISO</td>\n      <td>5729</td>\n      <td>55057</td>\n      <td>222</td>\n      <td>COMMERCIAL</td>\n    </tr>\n  </tbody>\n</table>\n</div>"
     },
     "execution_count": 68,
     "metadata": {},
     "output_type": "execute_result"
    }
   ],
   "source": [
    "dfs[1].head()"
   ],
   "metadata": {
    "collapsed": false,
    "ExecuteTime": {
     "end_time": "2023-11-19T23:59:20.337055Z",
     "start_time": "2023-11-19T23:59:20.332145Z"
    }
   },
   "id": "d6600e154b33e41d"
  },
  {
   "cell_type": "code",
   "execution_count": 54,
   "outputs": [
    {
     "data": {
      "text/plain": "['YEAR',\n 'UTILITY_NUMBER',\n 'UTILITY_NAME',\n 'PART',\n 'SERVICE_TYPE',\n 'DATA_TYPE',\n 'STATE',\n 'OWNERSHIP',\n 'BA_CODE',\n 'REVENUE',\n 'SALES_MWH',\n 'CUSTOMERS',\n 'COMMERCIAL_REVENUE',\n 'COMMERCIAL_SALES_MWH',\n 'COMMERCIAL_CUSTOMERS',\n 'INDUSTRIAL_REVENUE',\n 'INDUSTRIAL_SALES_MWH',\n 'INDUSTRIAL_CUSTOMERS']"
     },
     "execution_count": 54,
     "metadata": {},
     "output_type": "execute_result"
    }
   ],
   "source": [
    "[col.replace('RESIDENTIAL_', '') for col in eia_df.columns]"
   ],
   "metadata": {
    "collapsed": false,
    "ExecuteTime": {
     "end_time": "2023-11-19T23:48:17.443995Z",
     "start_time": "2023-11-19T23:48:17.439542Z"
    }
   },
   "id": "7e99a8f05efdbf0e"
  },
  {
   "cell_type": "code",
   "execution_count": 72,
   "outputs": [
    {
     "data": {
      "text/plain": "<module 'helper_functions' from '/Users/Darren/git-clones/data-projects/CEPs/etl_scripts/helper_functions.py'>"
     },
     "execution_count": 72,
     "metadata": {},
     "output_type": "execute_result"
    }
   ],
   "source": [
    "reload(hf)"
   ],
   "metadata": {
    "collapsed": false,
    "ExecuteTime": {
     "end_time": "2023-11-20T00:11:53.527487Z",
     "start_time": "2023-11-20T00:11:53.517732Z"
    }
   },
   "id": "2931a2bf42755d8e"
  }
 ],
 "metadata": {
  "kernelspec": {
   "display_name": "Python 3",
   "language": "python",
   "name": "python3"
  },
  "language_info": {
   "codemirror_mode": {
    "name": "ipython",
    "version": 2
   },
   "file_extension": ".py",
   "mimetype": "text/x-python",
   "name": "python",
   "nbconvert_exporter": "python",
   "pygments_lexer": "ipython2",
   "version": "2.7.6"
  }
 },
 "nbformat": 4,
 "nbformat_minor": 5
}
