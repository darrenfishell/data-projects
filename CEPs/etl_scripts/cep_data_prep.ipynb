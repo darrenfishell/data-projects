{
 "cells": [
  {
   "cell_type": "markdown",
   "source": [
    "# Notebook for extracting data for CEP-related analysis\n",
    "\n",
    "This script retrieves and transforms various data sources for this analysis: \n",
    "\n",
    "1. EIA-861 files detailing MWh, Revenue and annual customers for CEPs\n",
    "2. Customer migration statistics from the Public Utilities Commission\n",
    "3. Historical standard offer rates by service territory (compiled manually)"
   ],
   "metadata": {
    "collapsed": false
   },
   "id": "6d684f619e828663"
  },
  {
   "cell_type": "code",
   "execution_count": 2,
   "outputs": [],
   "source": [
    "import os\n",
    "import pandas as pd\n",
    "\n",
    "import helper_functions as hf\n",
    "from importlib import reload"
   ],
   "metadata": {
    "collapsed": false,
    "ExecuteTime": {
     "end_time": "2024-02-22T03:48:39.537539Z",
     "start_time": "2024-02-22T03:48:38.265365Z"
    }
   },
   "id": "9ed414e7d596bac3"
  },
  {
   "cell_type": "markdown",
   "source": [
    "## 1. Extract and store EIA files"
   ],
   "metadata": {
    "collapsed": false
   },
   "id": "b762dba68f39c5aa"
  },
  {
   "cell_type": "markdown",
   "source": [
    "### Set locations"
   ],
   "metadata": {
    "collapsed": false
   },
   "id": "79e8837a6cdbf2be"
  },
  {
   "cell_type": "code",
   "execution_count": 5,
   "outputs": [],
   "source": [
    "data_dir = os.path.join(os.getcwd(), 'raw_data')\n",
    "process_dir = os.path.join(os.getcwd(), 'prepared_data')"
   ],
   "metadata": {
    "collapsed": false,
    "ExecuteTime": {
     "end_time": "2024-02-22T03:49:43.676750Z",
     "start_time": "2024-02-22T03:49:43.674520Z"
    }
   },
   "id": "b6584a294ea87f1e"
  },
  {
   "cell_type": "markdown",
   "source": [
    "#### Read in files from ZIPs at [EIA page](https://www.eia.gov/electricity/data/eia861/)"
   ],
   "metadata": {
    "collapsed": false
   },
   "id": "3a62ac451daead8a"
  },
  {
   "cell_type": "code",
   "execution_count": 3,
   "outputs": [
    {
     "name": "stdout",
     "output_type": "stream",
     "text": [
      "Extracted Sales_Ult_Cust_2012.xlsx\n",
      "Extracted Sales_Ult_Cust_2013.xls\n",
      "Extracted Sales_Ult_Cust_2014.xls\n",
      "Extracted Sales_Ult_Cust_2015.xlsx\n",
      "Extracted Sales_Ult_Cust_2016.xlsx\n",
      "Extracted Sales_Ult_Cust_2017.xlsx\n",
      "Extracted Sales_Ult_Cust_2018.xlsx\n",
      "Extracted Sales_Ult_Cust_2019.xlsx\n",
      "Extracted Sales_Ult_Cust_2020.xlsx\n",
      "Extracted Sales_Ult_Cust_2021.xlsx\n"
     ]
    }
   ],
   "source": [
    "hf.download_eia_861(2012, 2022, data_dir)"
   ],
   "metadata": {
    "collapsed": false,
    "ExecuteTime": {
     "end_time": "2023-12-05T05:36:10.949754Z",
     "start_time": "2023-12-05T05:35:28.215780Z"
    }
   },
   "id": "1f88754833674457"
  },
  {
   "cell_type": "markdown",
   "source": [
    "#### Transform and merge separate files, write to CSV and store as dataframe for inspection"
   ],
   "metadata": {
    "collapsed": false
   },
   "id": "bcf1cc805e4c8af1"
  },
  {
   "cell_type": "code",
   "execution_count": 4,
   "outputs": [
    {
     "name": "stdout",
     "output_type": "stream",
     "text": [
      "Reading in /Users/Darren/git-clones/data-projects/CEPs/etl_scripts/raw_data/Sales_Ult_Cust_2017.xlsx\n"
     ]
    },
    {
     "data": {
      "text/plain": "   YEAR  UTILITY_NUMBER              UTILITY_NAME PART SERVICE_TYPE DATA_TYPE  \\\n0  2017            55.0   City of Aberdeen - (MS)    A      Bundled         O   \n1  2017            59.0  City of Abbeville - (LA)    A      Bundled         O   \n2  2017            84.0       A & N Electric Coop    A      Bundled         O   \n3  2017            84.0       A & N Electric Coop    A      Bundled         O   \n4  2017            97.0       Adams Electric Coop    A      Bundled         O   \n\n  STATE    OWNERSHIP BA_CODE RESIDENTIAL_REVENUE RESIDENTIAL_SALES_MWH  \\\n0    MS    Municipal     TVA                3644                 32158   \n1    LA    Municipal    MISO              5279.9                 52746   \n2    MD  Cooperative     PJM               235.3                  2047   \n3    VA  Cooperative     PJM             38308.7                344508   \n4    IL  Cooperative    MISO               16341                109301   \n\n  RESIDENTIAL_CUSTOMERS COMMERCIAL_REVENUE COMMERCIAL_SALES_MWH  \\\n0                  2595               4980                47295   \n1                  4464             4082.7                37537   \n2                   274                 40                  346   \n3                 31309              15960               156370   \n4                  8603               5729                55057   \n\n  COMMERCIAL_CUSTOMERS INDUSTRIAL_REVENUE INDUSTRIAL_SALES_MWH  \\\n0                  661               6025               118989   \n1                 1032             3211.8                37566   \n2                   27                  0                    0   \n3                 3992            13952.7               169301   \n4                  222                  .                    .   \n\n  INDUSTRIAL_CUSTOMERS  \n0                    2  \n1                   27  \n2                    0  \n3                    8  \n4                    .  ",
      "text/html": "<div>\n<style scoped>\n    .dataframe tbody tr th:only-of-type {\n        vertical-align: middle;\n    }\n\n    .dataframe tbody tr th {\n        vertical-align: top;\n    }\n\n    .dataframe thead th {\n        text-align: right;\n    }\n</style>\n<table border=\"1\" class=\"dataframe\">\n  <thead>\n    <tr style=\"text-align: right;\">\n      <th></th>\n      <th>YEAR</th>\n      <th>UTILITY_NUMBER</th>\n      <th>UTILITY_NAME</th>\n      <th>PART</th>\n      <th>SERVICE_TYPE</th>\n      <th>DATA_TYPE</th>\n      <th>STATE</th>\n      <th>OWNERSHIP</th>\n      <th>BA_CODE</th>\n      <th>RESIDENTIAL_REVENUE</th>\n      <th>RESIDENTIAL_SALES_MWH</th>\n      <th>RESIDENTIAL_CUSTOMERS</th>\n      <th>COMMERCIAL_REVENUE</th>\n      <th>COMMERCIAL_SALES_MWH</th>\n      <th>COMMERCIAL_CUSTOMERS</th>\n      <th>INDUSTRIAL_REVENUE</th>\n      <th>INDUSTRIAL_SALES_MWH</th>\n      <th>INDUSTRIAL_CUSTOMERS</th>\n    </tr>\n  </thead>\n  <tbody>\n    <tr>\n      <th>0</th>\n      <td>2017</td>\n      <td>55.0</td>\n      <td>City of Aberdeen - (MS)</td>\n      <td>A</td>\n      <td>Bundled</td>\n      <td>O</td>\n      <td>MS</td>\n      <td>Municipal</td>\n      <td>TVA</td>\n      <td>3644</td>\n      <td>32158</td>\n      <td>2595</td>\n      <td>4980</td>\n      <td>47295</td>\n      <td>661</td>\n      <td>6025</td>\n      <td>118989</td>\n      <td>2</td>\n    </tr>\n    <tr>\n      <th>1</th>\n      <td>2017</td>\n      <td>59.0</td>\n      <td>City of Abbeville - (LA)</td>\n      <td>A</td>\n      <td>Bundled</td>\n      <td>O</td>\n      <td>LA</td>\n      <td>Municipal</td>\n      <td>MISO</td>\n      <td>5279.9</td>\n      <td>52746</td>\n      <td>4464</td>\n      <td>4082.7</td>\n      <td>37537</td>\n      <td>1032</td>\n      <td>3211.8</td>\n      <td>37566</td>\n      <td>27</td>\n    </tr>\n    <tr>\n      <th>2</th>\n      <td>2017</td>\n      <td>84.0</td>\n      <td>A &amp; N Electric Coop</td>\n      <td>A</td>\n      <td>Bundled</td>\n      <td>O</td>\n      <td>MD</td>\n      <td>Cooperative</td>\n      <td>PJM</td>\n      <td>235.3</td>\n      <td>2047</td>\n      <td>274</td>\n      <td>40</td>\n      <td>346</td>\n      <td>27</td>\n      <td>0</td>\n      <td>0</td>\n      <td>0</td>\n    </tr>\n    <tr>\n      <th>3</th>\n      <td>2017</td>\n      <td>84.0</td>\n      <td>A &amp; N Electric Coop</td>\n      <td>A</td>\n      <td>Bundled</td>\n      <td>O</td>\n      <td>VA</td>\n      <td>Cooperative</td>\n      <td>PJM</td>\n      <td>38308.7</td>\n      <td>344508</td>\n      <td>31309</td>\n      <td>15960</td>\n      <td>156370</td>\n      <td>3992</td>\n      <td>13952.7</td>\n      <td>169301</td>\n      <td>8</td>\n    </tr>\n    <tr>\n      <th>4</th>\n      <td>2017</td>\n      <td>97.0</td>\n      <td>Adams Electric Coop</td>\n      <td>A</td>\n      <td>Bundled</td>\n      <td>O</td>\n      <td>IL</td>\n      <td>Cooperative</td>\n      <td>MISO</td>\n      <td>16341</td>\n      <td>109301</td>\n      <td>8603</td>\n      <td>5729</td>\n      <td>55057</td>\n      <td>222</td>\n      <td>.</td>\n      <td>.</td>\n      <td>.</td>\n    </tr>\n  </tbody>\n</table>\n</div>"
     },
     "metadata": {},
     "output_type": "display_data"
    },
    {
     "name": "stdout",
     "output_type": "stream",
     "text": [
      "Reading in /Users/Darren/git-clones/data-projects/CEPs/etl_scripts/raw_data/Sales_Ult_Cust_2021.xlsx\n"
     ]
    },
    {
     "data": {
      "text/plain": "   YEAR  UTILITY_NUMBER                  UTILITY_NAME PART SERVICE_TYPE  \\\n0  2021            55.0       City of Aberdeen - (MS)    A      Bundled   \n1  2021            84.0           A & N Electric Coop    A      Bundled   \n2  2021            84.0           A & N Electric Coop    A      Bundled   \n3  2021           108.0  Adams-Columbia Electric Coop    A      Bundled   \n4  2021           113.0    Agway Energy Services, LLC    B       Energy   \n\n  DATA_TYPE STATE              OWNERSHIP BA_CODE RESIDENTIAL_REVENUE  \\\n0         O    MS              Municipal     TVA                3929   \n1         O    MD            Cooperative     PJM                 258   \n2         O    VA            Cooperative     PJM               43227   \n3         O    WI            Cooperative    MISO               43651   \n4         O    MD  Retail Power Marketer     PJM                14.3   \n\n  RESIDENTIAL_SALES_MWH RESIDENTIAL_CUSTOMERS COMMERCIAL_REVENUE  \\\n0                 34013                  2612               3373   \n1                  2115                   269                 72   \n2                375900                 32023              17467   \n3                275873                 35002              10434   \n4                   119                    10                  5   \n\n  COMMERCIAL_SALES_MWH COMMERCIAL_CUSTOMERS INDUSTRIAL_REVENUE  \\\n0                29285                  678               6656   \n1                  592                   44                  0   \n2               169476                 4260              13141   \n3                84986                 2411              17928   \n4                   45                    3                  0   \n\n  INDUSTRIAL_SALES_MWH INDUSTRIAL_CUSTOMERS  \n0               133352                    2  \n1                    0                    0  \n2               168719                    7  \n3               195647                  971  \n4                    0                    0  ",
      "text/html": "<div>\n<style scoped>\n    .dataframe tbody tr th:only-of-type {\n        vertical-align: middle;\n    }\n\n    .dataframe tbody tr th {\n        vertical-align: top;\n    }\n\n    .dataframe thead th {\n        text-align: right;\n    }\n</style>\n<table border=\"1\" class=\"dataframe\">\n  <thead>\n    <tr style=\"text-align: right;\">\n      <th></th>\n      <th>YEAR</th>\n      <th>UTILITY_NUMBER</th>\n      <th>UTILITY_NAME</th>\n      <th>PART</th>\n      <th>SERVICE_TYPE</th>\n      <th>DATA_TYPE</th>\n      <th>STATE</th>\n      <th>OWNERSHIP</th>\n      <th>BA_CODE</th>\n      <th>RESIDENTIAL_REVENUE</th>\n      <th>RESIDENTIAL_SALES_MWH</th>\n      <th>RESIDENTIAL_CUSTOMERS</th>\n      <th>COMMERCIAL_REVENUE</th>\n      <th>COMMERCIAL_SALES_MWH</th>\n      <th>COMMERCIAL_CUSTOMERS</th>\n      <th>INDUSTRIAL_REVENUE</th>\n      <th>INDUSTRIAL_SALES_MWH</th>\n      <th>INDUSTRIAL_CUSTOMERS</th>\n    </tr>\n  </thead>\n  <tbody>\n    <tr>\n      <th>0</th>\n      <td>2021</td>\n      <td>55.0</td>\n      <td>City of Aberdeen - (MS)</td>\n      <td>A</td>\n      <td>Bundled</td>\n      <td>O</td>\n      <td>MS</td>\n      <td>Municipal</td>\n      <td>TVA</td>\n      <td>3929</td>\n      <td>34013</td>\n      <td>2612</td>\n      <td>3373</td>\n      <td>29285</td>\n      <td>678</td>\n      <td>6656</td>\n      <td>133352</td>\n      <td>2</td>\n    </tr>\n    <tr>\n      <th>1</th>\n      <td>2021</td>\n      <td>84.0</td>\n      <td>A &amp; N Electric Coop</td>\n      <td>A</td>\n      <td>Bundled</td>\n      <td>O</td>\n      <td>MD</td>\n      <td>Cooperative</td>\n      <td>PJM</td>\n      <td>258</td>\n      <td>2115</td>\n      <td>269</td>\n      <td>72</td>\n      <td>592</td>\n      <td>44</td>\n      <td>0</td>\n      <td>0</td>\n      <td>0</td>\n    </tr>\n    <tr>\n      <th>2</th>\n      <td>2021</td>\n      <td>84.0</td>\n      <td>A &amp; N Electric Coop</td>\n      <td>A</td>\n      <td>Bundled</td>\n      <td>O</td>\n      <td>VA</td>\n      <td>Cooperative</td>\n      <td>PJM</td>\n      <td>43227</td>\n      <td>375900</td>\n      <td>32023</td>\n      <td>17467</td>\n      <td>169476</td>\n      <td>4260</td>\n      <td>13141</td>\n      <td>168719</td>\n      <td>7</td>\n    </tr>\n    <tr>\n      <th>3</th>\n      <td>2021</td>\n      <td>108.0</td>\n      <td>Adams-Columbia Electric Coop</td>\n      <td>A</td>\n      <td>Bundled</td>\n      <td>O</td>\n      <td>WI</td>\n      <td>Cooperative</td>\n      <td>MISO</td>\n      <td>43651</td>\n      <td>275873</td>\n      <td>35002</td>\n      <td>10434</td>\n      <td>84986</td>\n      <td>2411</td>\n      <td>17928</td>\n      <td>195647</td>\n      <td>971</td>\n    </tr>\n    <tr>\n      <th>4</th>\n      <td>2021</td>\n      <td>113.0</td>\n      <td>Agway Energy Services, LLC</td>\n      <td>B</td>\n      <td>Energy</td>\n      <td>O</td>\n      <td>MD</td>\n      <td>Retail Power Marketer</td>\n      <td>PJM</td>\n      <td>14.3</td>\n      <td>119</td>\n      <td>10</td>\n      <td>5</td>\n      <td>45</td>\n      <td>3</td>\n      <td>0</td>\n      <td>0</td>\n      <td>0</td>\n    </tr>\n  </tbody>\n</table>\n</div>"
     },
     "metadata": {},
     "output_type": "display_data"
    },
    {
     "name": "stdout",
     "output_type": "stream",
     "text": [
      "Reading in /Users/Darren/git-clones/data-projects/CEPs/etl_scripts/raw_data/Sales_Ult_Cust_2020.xlsx\n"
     ]
    },
    {
     "data": {
      "text/plain": "   YEAR  UTILITY_NUMBER                  UTILITY_NAME PART SERVICE_TYPE  \\\n0  2020            55.0       City of Aberdeen - (MS)    A      Bundled   \n1  2020            84.0           A & N Electric Coop    A      Bundled   \n2  2020            84.0           A & N Electric Coop    A      Bundled   \n3  2020           108.0  Adams-Columbia Electric Coop    A      Bundled   \n4  2020           113.0    Agway Energy Services, LLC    B       Energy   \n\n  DATA_TYPE STATE              OWNERSHIP BA_CODE RESIDENTIAL_REVENUE  \\\n0         O    MS              Municipal     TVA                3740   \n1         O    MD            Cooperative     PJM                 264   \n2         O    VA            Cooperative     PJM               42165   \n3         O    WI            Cooperative    MISO               43697   \n4         O    MD  Retail Power Marketer     PJM                 7.9   \n\n  RESIDENTIAL_SALES_MWH RESIDENTIAL_CUSTOMERS COMMERCIAL_REVENUE  \\\n0                 33274                  2629               4407   \n1                  2078                   269                 69   \n2                348316                 31765              16825   \n3                274080                 34633              10302   \n4                    85                     9                1.7   \n\n  COMMERCIAL_SALES_MWH COMMERCIAL_CUSTOMERS INDUSTRIAL_REVENUE  \\\n0                41236                  675               3826   \n1                  541                   44                  0   \n2               153950                 4368              13300   \n3                82909                 2387              16709   \n4                   19                    2                  0   \n\n  INDUSTRIAL_SALES_MWH INDUSTRIAL_CUSTOMERS  \n0                87360                    2  \n1                    0                    0  \n2               170017                    8  \n3               174673                  969  \n4                    0                    0  ",
      "text/html": "<div>\n<style scoped>\n    .dataframe tbody tr th:only-of-type {\n        vertical-align: middle;\n    }\n\n    .dataframe tbody tr th {\n        vertical-align: top;\n    }\n\n    .dataframe thead th {\n        text-align: right;\n    }\n</style>\n<table border=\"1\" class=\"dataframe\">\n  <thead>\n    <tr style=\"text-align: right;\">\n      <th></th>\n      <th>YEAR</th>\n      <th>UTILITY_NUMBER</th>\n      <th>UTILITY_NAME</th>\n      <th>PART</th>\n      <th>SERVICE_TYPE</th>\n      <th>DATA_TYPE</th>\n      <th>STATE</th>\n      <th>OWNERSHIP</th>\n      <th>BA_CODE</th>\n      <th>RESIDENTIAL_REVENUE</th>\n      <th>RESIDENTIAL_SALES_MWH</th>\n      <th>RESIDENTIAL_CUSTOMERS</th>\n      <th>COMMERCIAL_REVENUE</th>\n      <th>COMMERCIAL_SALES_MWH</th>\n      <th>COMMERCIAL_CUSTOMERS</th>\n      <th>INDUSTRIAL_REVENUE</th>\n      <th>INDUSTRIAL_SALES_MWH</th>\n      <th>INDUSTRIAL_CUSTOMERS</th>\n    </tr>\n  </thead>\n  <tbody>\n    <tr>\n      <th>0</th>\n      <td>2020</td>\n      <td>55.0</td>\n      <td>City of Aberdeen - (MS)</td>\n      <td>A</td>\n      <td>Bundled</td>\n      <td>O</td>\n      <td>MS</td>\n      <td>Municipal</td>\n      <td>TVA</td>\n      <td>3740</td>\n      <td>33274</td>\n      <td>2629</td>\n      <td>4407</td>\n      <td>41236</td>\n      <td>675</td>\n      <td>3826</td>\n      <td>87360</td>\n      <td>2</td>\n    </tr>\n    <tr>\n      <th>1</th>\n      <td>2020</td>\n      <td>84.0</td>\n      <td>A &amp; N Electric Coop</td>\n      <td>A</td>\n      <td>Bundled</td>\n      <td>O</td>\n      <td>MD</td>\n      <td>Cooperative</td>\n      <td>PJM</td>\n      <td>264</td>\n      <td>2078</td>\n      <td>269</td>\n      <td>69</td>\n      <td>541</td>\n      <td>44</td>\n      <td>0</td>\n      <td>0</td>\n      <td>0</td>\n    </tr>\n    <tr>\n      <th>2</th>\n      <td>2020</td>\n      <td>84.0</td>\n      <td>A &amp; N Electric Coop</td>\n      <td>A</td>\n      <td>Bundled</td>\n      <td>O</td>\n      <td>VA</td>\n      <td>Cooperative</td>\n      <td>PJM</td>\n      <td>42165</td>\n      <td>348316</td>\n      <td>31765</td>\n      <td>16825</td>\n      <td>153950</td>\n      <td>4368</td>\n      <td>13300</td>\n      <td>170017</td>\n      <td>8</td>\n    </tr>\n    <tr>\n      <th>3</th>\n      <td>2020</td>\n      <td>108.0</td>\n      <td>Adams-Columbia Electric Coop</td>\n      <td>A</td>\n      <td>Bundled</td>\n      <td>O</td>\n      <td>WI</td>\n      <td>Cooperative</td>\n      <td>MISO</td>\n      <td>43697</td>\n      <td>274080</td>\n      <td>34633</td>\n      <td>10302</td>\n      <td>82909</td>\n      <td>2387</td>\n      <td>16709</td>\n      <td>174673</td>\n      <td>969</td>\n    </tr>\n    <tr>\n      <th>4</th>\n      <td>2020</td>\n      <td>113.0</td>\n      <td>Agway Energy Services, LLC</td>\n      <td>B</td>\n      <td>Energy</td>\n      <td>O</td>\n      <td>MD</td>\n      <td>Retail Power Marketer</td>\n      <td>PJM</td>\n      <td>7.9</td>\n      <td>85</td>\n      <td>9</td>\n      <td>1.7</td>\n      <td>19</td>\n      <td>2</td>\n      <td>0</td>\n      <td>0</td>\n      <td>0</td>\n    </tr>\n  </tbody>\n</table>\n</div>"
     },
     "metadata": {},
     "output_type": "display_data"
    },
    {
     "name": "stdout",
     "output_type": "stream",
     "text": [
      "Reading in /Users/Darren/git-clones/data-projects/CEPs/etl_scripts/raw_data/Sales_Ult_Cust_2016.xlsx\n"
     ]
    },
    {
     "data": {
      "text/plain": "   YEAR  UTILITY_NUMBER              UTILITY_NAME PART SERVICE_TYPE DATA_TYPE  \\\n0  2016            55.0   City of Aberdeen - (MS)    A      Bundled         O   \n1  2016            55.0   City of Aberdeen - (MS)    A      Bundled         O   \n2  2016            59.0  City of Abbeville - (LA)    A      Bundled         O   \n3  2016            84.0       A & N Electric Coop    A      Bundled         O   \n4  2016            84.0       A & N Electric Coop    A      Bundled         O   \n\n  STATE    OWNERSHIP BA_CODE RESIDENTIAL_REVENUE RESIDENTIAL_SALES_MWH  \\\n0    AL    Municipal     TVA                   .                     .   \n1    MS    Municipal     TVA                3913                 35243   \n2    LA    Municipal    MISO              5748.2                 55262   \n3    MD  Cooperative     PJM                 248                  2063   \n4    VA  Cooperative     PJM               39757                340556   \n\n  RESIDENTIAL_CUSTOMERS COMMERCIAL_REVENUE COMMERCIAL_SALES_MWH  \\\n0                     .                  .                    .   \n1                  2607               5018                47874   \n2                  4531             4247.9                37857   \n3                   266               63.3                  502   \n4                 31000            17027.4               157615   \n\n  COMMERCIAL_CUSTOMERS INDUSTRIAL_REVENUE INDUSTRIAL_SALES_MWH  \\\n0                    .                  .                    .   \n1                  669               5686               117989   \n2                 1033             3460.9                38959   \n3                   44                  0                    0   \n4                 3987            14907.2               173874   \n\n  INDUSTRIAL_CUSTOMERS  \n0                    .  \n1                    2  \n2                   28  \n3                    0  \n4                    8  ",
      "text/html": "<div>\n<style scoped>\n    .dataframe tbody tr th:only-of-type {\n        vertical-align: middle;\n    }\n\n    .dataframe tbody tr th {\n        vertical-align: top;\n    }\n\n    .dataframe thead th {\n        text-align: right;\n    }\n</style>\n<table border=\"1\" class=\"dataframe\">\n  <thead>\n    <tr style=\"text-align: right;\">\n      <th></th>\n      <th>YEAR</th>\n      <th>UTILITY_NUMBER</th>\n      <th>UTILITY_NAME</th>\n      <th>PART</th>\n      <th>SERVICE_TYPE</th>\n      <th>DATA_TYPE</th>\n      <th>STATE</th>\n      <th>OWNERSHIP</th>\n      <th>BA_CODE</th>\n      <th>RESIDENTIAL_REVENUE</th>\n      <th>RESIDENTIAL_SALES_MWH</th>\n      <th>RESIDENTIAL_CUSTOMERS</th>\n      <th>COMMERCIAL_REVENUE</th>\n      <th>COMMERCIAL_SALES_MWH</th>\n      <th>COMMERCIAL_CUSTOMERS</th>\n      <th>INDUSTRIAL_REVENUE</th>\n      <th>INDUSTRIAL_SALES_MWH</th>\n      <th>INDUSTRIAL_CUSTOMERS</th>\n    </tr>\n  </thead>\n  <tbody>\n    <tr>\n      <th>0</th>\n      <td>2016</td>\n      <td>55.0</td>\n      <td>City of Aberdeen - (MS)</td>\n      <td>A</td>\n      <td>Bundled</td>\n      <td>O</td>\n      <td>AL</td>\n      <td>Municipal</td>\n      <td>TVA</td>\n      <td>.</td>\n      <td>.</td>\n      <td>.</td>\n      <td>.</td>\n      <td>.</td>\n      <td>.</td>\n      <td>.</td>\n      <td>.</td>\n      <td>.</td>\n    </tr>\n    <tr>\n      <th>1</th>\n      <td>2016</td>\n      <td>55.0</td>\n      <td>City of Aberdeen - (MS)</td>\n      <td>A</td>\n      <td>Bundled</td>\n      <td>O</td>\n      <td>MS</td>\n      <td>Municipal</td>\n      <td>TVA</td>\n      <td>3913</td>\n      <td>35243</td>\n      <td>2607</td>\n      <td>5018</td>\n      <td>47874</td>\n      <td>669</td>\n      <td>5686</td>\n      <td>117989</td>\n      <td>2</td>\n    </tr>\n    <tr>\n      <th>2</th>\n      <td>2016</td>\n      <td>59.0</td>\n      <td>City of Abbeville - (LA)</td>\n      <td>A</td>\n      <td>Bundled</td>\n      <td>O</td>\n      <td>LA</td>\n      <td>Municipal</td>\n      <td>MISO</td>\n      <td>5748.2</td>\n      <td>55262</td>\n      <td>4531</td>\n      <td>4247.9</td>\n      <td>37857</td>\n      <td>1033</td>\n      <td>3460.9</td>\n      <td>38959</td>\n      <td>28</td>\n    </tr>\n    <tr>\n      <th>3</th>\n      <td>2016</td>\n      <td>84.0</td>\n      <td>A &amp; N Electric Coop</td>\n      <td>A</td>\n      <td>Bundled</td>\n      <td>O</td>\n      <td>MD</td>\n      <td>Cooperative</td>\n      <td>PJM</td>\n      <td>248</td>\n      <td>2063</td>\n      <td>266</td>\n      <td>63.3</td>\n      <td>502</td>\n      <td>44</td>\n      <td>0</td>\n      <td>0</td>\n      <td>0</td>\n    </tr>\n    <tr>\n      <th>4</th>\n      <td>2016</td>\n      <td>84.0</td>\n      <td>A &amp; N Electric Coop</td>\n      <td>A</td>\n      <td>Bundled</td>\n      <td>O</td>\n      <td>VA</td>\n      <td>Cooperative</td>\n      <td>PJM</td>\n      <td>39757</td>\n      <td>340556</td>\n      <td>31000</td>\n      <td>17027.4</td>\n      <td>157615</td>\n      <td>3987</td>\n      <td>14907.2</td>\n      <td>173874</td>\n      <td>8</td>\n    </tr>\n  </tbody>\n</table>\n</div>"
     },
     "metadata": {},
     "output_type": "display_data"
    },
    {
     "name": "stdout",
     "output_type": "stream",
     "text": [
      "Reading in /Users/Darren/git-clones/data-projects/CEPs/etl_scripts/raw_data/Sales_Ult_Cust_2013.xls\n"
     ]
    },
    {
     "data": {
      "text/plain": "   YEAR  UTILITY_NUMBER              UTILITY_NAME PART SERVICE_TYPE DATA_TYPE  \\\n0  2013            55.0   City of Aberdeen - (MS)    A      Bundled         O   \n1  2013            59.0  City of Abbeville - (LA)    A      Bundled         O   \n2  2013            84.0       A & N Electric Coop    A      Bundled         O   \n3  2013            84.0       A & N Electric Coop    A      Bundled         O   \n4  2013            97.0       Adams Electric Coop    A      Bundled         O   \n\n  STATE    OWNERSHIP BA_CODE RESIDENTIAL_REVENUE RESIDENTIAL_SALES_MWH  \\\n0    MS    Municipal     TVA                3802                 36244   \n1    LA    Municipal    MISO                6524                 56007   \n2    MD  Cooperative     PJM               254.7                  2206   \n3    VA  Cooperative     PJM             37881.3                335905   \n4    IL  Cooperative    MISO               15905                115109   \n\n  RESIDENTIAL_CUSTOMERS COMMERCIAL_REVENUE COMMERCIAL_SALES_MWH  \\\n0                  2665               4096                38214   \n1                  4551               4991                39888   \n2                   272               65.3                  538   \n3                 30652            16946.2               165246   \n4                  8400               4852                50296   \n\n  COMMERCIAL_CUSTOMERS INDUSTRIAL_REVENUE INDUSTRIAL_SALES_MWH  \\\n0                  680               6573               121334   \n1                 1041               3772                37203   \n2                   45                  0                    0   \n3                 3913            13126.2               158903   \n4                  202                  .                    .   \n\n  INDUSTRIAL_CUSTOMERS  \n0                    2  \n1                   24  \n2                    0  \n3                    7  \n4                    .  ",
      "text/html": "<div>\n<style scoped>\n    .dataframe tbody tr th:only-of-type {\n        vertical-align: middle;\n    }\n\n    .dataframe tbody tr th {\n        vertical-align: top;\n    }\n\n    .dataframe thead th {\n        text-align: right;\n    }\n</style>\n<table border=\"1\" class=\"dataframe\">\n  <thead>\n    <tr style=\"text-align: right;\">\n      <th></th>\n      <th>YEAR</th>\n      <th>UTILITY_NUMBER</th>\n      <th>UTILITY_NAME</th>\n      <th>PART</th>\n      <th>SERVICE_TYPE</th>\n      <th>DATA_TYPE</th>\n      <th>STATE</th>\n      <th>OWNERSHIP</th>\n      <th>BA_CODE</th>\n      <th>RESIDENTIAL_REVENUE</th>\n      <th>RESIDENTIAL_SALES_MWH</th>\n      <th>RESIDENTIAL_CUSTOMERS</th>\n      <th>COMMERCIAL_REVENUE</th>\n      <th>COMMERCIAL_SALES_MWH</th>\n      <th>COMMERCIAL_CUSTOMERS</th>\n      <th>INDUSTRIAL_REVENUE</th>\n      <th>INDUSTRIAL_SALES_MWH</th>\n      <th>INDUSTRIAL_CUSTOMERS</th>\n    </tr>\n  </thead>\n  <tbody>\n    <tr>\n      <th>0</th>\n      <td>2013</td>\n      <td>55.0</td>\n      <td>City of Aberdeen - (MS)</td>\n      <td>A</td>\n      <td>Bundled</td>\n      <td>O</td>\n      <td>MS</td>\n      <td>Municipal</td>\n      <td>TVA</td>\n      <td>3802</td>\n      <td>36244</td>\n      <td>2665</td>\n      <td>4096</td>\n      <td>38214</td>\n      <td>680</td>\n      <td>6573</td>\n      <td>121334</td>\n      <td>2</td>\n    </tr>\n    <tr>\n      <th>1</th>\n      <td>2013</td>\n      <td>59.0</td>\n      <td>City of Abbeville - (LA)</td>\n      <td>A</td>\n      <td>Bundled</td>\n      <td>O</td>\n      <td>LA</td>\n      <td>Municipal</td>\n      <td>MISO</td>\n      <td>6524</td>\n      <td>56007</td>\n      <td>4551</td>\n      <td>4991</td>\n      <td>39888</td>\n      <td>1041</td>\n      <td>3772</td>\n      <td>37203</td>\n      <td>24</td>\n    </tr>\n    <tr>\n      <th>2</th>\n      <td>2013</td>\n      <td>84.0</td>\n      <td>A &amp; N Electric Coop</td>\n      <td>A</td>\n      <td>Bundled</td>\n      <td>O</td>\n      <td>MD</td>\n      <td>Cooperative</td>\n      <td>PJM</td>\n      <td>254.7</td>\n      <td>2206</td>\n      <td>272</td>\n      <td>65.3</td>\n      <td>538</td>\n      <td>45</td>\n      <td>0</td>\n      <td>0</td>\n      <td>0</td>\n    </tr>\n    <tr>\n      <th>3</th>\n      <td>2013</td>\n      <td>84.0</td>\n      <td>A &amp; N Electric Coop</td>\n      <td>A</td>\n      <td>Bundled</td>\n      <td>O</td>\n      <td>VA</td>\n      <td>Cooperative</td>\n      <td>PJM</td>\n      <td>37881.3</td>\n      <td>335905</td>\n      <td>30652</td>\n      <td>16946.2</td>\n      <td>165246</td>\n      <td>3913</td>\n      <td>13126.2</td>\n      <td>158903</td>\n      <td>7</td>\n    </tr>\n    <tr>\n      <th>4</th>\n      <td>2013</td>\n      <td>97.0</td>\n      <td>Adams Electric Coop</td>\n      <td>A</td>\n      <td>Bundled</td>\n      <td>O</td>\n      <td>IL</td>\n      <td>Cooperative</td>\n      <td>MISO</td>\n      <td>15905</td>\n      <td>115109</td>\n      <td>8400</td>\n      <td>4852</td>\n      <td>50296</td>\n      <td>202</td>\n      <td>.</td>\n      <td>.</td>\n      <td>.</td>\n    </tr>\n  </tbody>\n</table>\n</div>"
     },
     "metadata": {},
     "output_type": "display_data"
    },
    {
     "name": "stdout",
     "output_type": "stream",
     "text": [
      "Reading in /Users/Darren/git-clones/data-projects/CEPs/etl_scripts/raw_data/Sales_Ult_Cust_2012.xlsx\n"
     ]
    },
    {
     "data": {
      "text/plain": "   YEAR  UTILITY_NUMBER              UTILITY_NAME PART SERVICE_TYPE DATA_TYPE  \\\n0  2012              55   City of Aberdeen - (MS)    A      Bundled         O   \n1  2012              59  City of Abbeville - (LA)    A      Bundled         O   \n2  2012              84       A & N Electric Coop    A      Bundled         O   \n3  2012              84       A & N Electric Coop    A      Bundled         O   \n4  2012              97       Adams Electric Coop    A      Bundled         O   \n\n  STATE    OWNERSHIP  BA_CODE RESIDENTIAL_REVENUE RESIDENTIAL_SALES_MWH  \\\n0    MS    Municipal      NaN                3664                 35102   \n1    LA    Municipal      NaN                5677                 54580   \n2    MD  Cooperative      NaN               251.2                  2069   \n3    VA  Cooperative      NaN             37854.3                320164   \n4    IL  Cooperative      NaN               14937                105841   \n\n  RESIDENTIAL_CUSTOMERS COMMERCIAL_REVENUE COMMERCIAL_SALES_MWH  \\\n0                  2690               3755                34205   \n1                  4569               4534                40342   \n2                   276               69.6                  548   \n3                 30659            17279.2               158668   \n4                  8375               4938                53264   \n\n  COMMERCIAL_CUSTOMERS INDUSTRIAL_REVENUE INDUSTRIAL_SALES_MWH  \\\n0                  687               7566               123187   \n1                 1040               3317                37399   \n2                   45                  0                    0   \n3                 3926            14661.4               168368   \n4                  196                  .                    .   \n\n  INDUSTRIAL_CUSTOMERS  \n0                    3  \n1                   24  \n2                    0  \n3                    5  \n4                    .  ",
      "text/html": "<div>\n<style scoped>\n    .dataframe tbody tr th:only-of-type {\n        vertical-align: middle;\n    }\n\n    .dataframe tbody tr th {\n        vertical-align: top;\n    }\n\n    .dataframe thead th {\n        text-align: right;\n    }\n</style>\n<table border=\"1\" class=\"dataframe\">\n  <thead>\n    <tr style=\"text-align: right;\">\n      <th></th>\n      <th>YEAR</th>\n      <th>UTILITY_NUMBER</th>\n      <th>UTILITY_NAME</th>\n      <th>PART</th>\n      <th>SERVICE_TYPE</th>\n      <th>DATA_TYPE</th>\n      <th>STATE</th>\n      <th>OWNERSHIP</th>\n      <th>BA_CODE</th>\n      <th>RESIDENTIAL_REVENUE</th>\n      <th>RESIDENTIAL_SALES_MWH</th>\n      <th>RESIDENTIAL_CUSTOMERS</th>\n      <th>COMMERCIAL_REVENUE</th>\n      <th>COMMERCIAL_SALES_MWH</th>\n      <th>COMMERCIAL_CUSTOMERS</th>\n      <th>INDUSTRIAL_REVENUE</th>\n      <th>INDUSTRIAL_SALES_MWH</th>\n      <th>INDUSTRIAL_CUSTOMERS</th>\n    </tr>\n  </thead>\n  <tbody>\n    <tr>\n      <th>0</th>\n      <td>2012</td>\n      <td>55</td>\n      <td>City of Aberdeen - (MS)</td>\n      <td>A</td>\n      <td>Bundled</td>\n      <td>O</td>\n      <td>MS</td>\n      <td>Municipal</td>\n      <td>NaN</td>\n      <td>3664</td>\n      <td>35102</td>\n      <td>2690</td>\n      <td>3755</td>\n      <td>34205</td>\n      <td>687</td>\n      <td>7566</td>\n      <td>123187</td>\n      <td>3</td>\n    </tr>\n    <tr>\n      <th>1</th>\n      <td>2012</td>\n      <td>59</td>\n      <td>City of Abbeville - (LA)</td>\n      <td>A</td>\n      <td>Bundled</td>\n      <td>O</td>\n      <td>LA</td>\n      <td>Municipal</td>\n      <td>NaN</td>\n      <td>5677</td>\n      <td>54580</td>\n      <td>4569</td>\n      <td>4534</td>\n      <td>40342</td>\n      <td>1040</td>\n      <td>3317</td>\n      <td>37399</td>\n      <td>24</td>\n    </tr>\n    <tr>\n      <th>2</th>\n      <td>2012</td>\n      <td>84</td>\n      <td>A &amp; N Electric Coop</td>\n      <td>A</td>\n      <td>Bundled</td>\n      <td>O</td>\n      <td>MD</td>\n      <td>Cooperative</td>\n      <td>NaN</td>\n      <td>251.2</td>\n      <td>2069</td>\n      <td>276</td>\n      <td>69.6</td>\n      <td>548</td>\n      <td>45</td>\n      <td>0</td>\n      <td>0</td>\n      <td>0</td>\n    </tr>\n    <tr>\n      <th>3</th>\n      <td>2012</td>\n      <td>84</td>\n      <td>A &amp; N Electric Coop</td>\n      <td>A</td>\n      <td>Bundled</td>\n      <td>O</td>\n      <td>VA</td>\n      <td>Cooperative</td>\n      <td>NaN</td>\n      <td>37854.3</td>\n      <td>320164</td>\n      <td>30659</td>\n      <td>17279.2</td>\n      <td>158668</td>\n      <td>3926</td>\n      <td>14661.4</td>\n      <td>168368</td>\n      <td>5</td>\n    </tr>\n    <tr>\n      <th>4</th>\n      <td>2012</td>\n      <td>97</td>\n      <td>Adams Electric Coop</td>\n      <td>A</td>\n      <td>Bundled</td>\n      <td>O</td>\n      <td>IL</td>\n      <td>Cooperative</td>\n      <td>NaN</td>\n      <td>14937</td>\n      <td>105841</td>\n      <td>8375</td>\n      <td>4938</td>\n      <td>53264</td>\n      <td>196</td>\n      <td>.</td>\n      <td>.</td>\n      <td>.</td>\n    </tr>\n  </tbody>\n</table>\n</div>"
     },
     "metadata": {},
     "output_type": "display_data"
    },
    {
     "name": "stdout",
     "output_type": "stream",
     "text": [
      "Reading in /Users/Darren/git-clones/data-projects/CEPs/etl_scripts/raw_data/Sales_Ult_Cust_2014.xls\n"
     ]
    },
    {
     "data": {
      "text/plain": "   YEAR  UTILITY_NUMBER              UTILITY_NAME PART SERVICE_TYPE DATA_TYPE  \\\n0  2014            55.0   City of Aberdeen - (MS)    A      Bundled         O   \n1  2014            59.0  City of Abbeville - (LA)    A      Bundled         O   \n2  2014            84.0       A & N Electric Coop    A      Bundled         O   \n3  2014            84.0       A & N Electric Coop    A      Bundled         O   \n4  2014            97.0       Adams Electric Coop    A      Bundled         O   \n\n  STATE    OWNERSHIP BA_CODE RESIDENTIAL_REVENUE RESIDENTIAL_SALES_MWH  \\\n0    MS    Municipal     TVA                4096                 37090   \n1    LA    Municipal    MISO                5878                 56496   \n2    MD  Cooperative     PJM               269.2                  2238   \n3    VA  Cooperative     PJM             41418.2                353002   \n4    IL  Cooperative    MISO               16685                118512   \n\n  RESIDENTIAL_CUSTOMERS COMMERCIAL_REVENUE COMMERCIAL_SALES_MWH  \\\n0                  2629               4226                37978   \n1                  4585               4404                39148   \n2                   269               69.2                  544   \n3                 30758            17742.7               161534   \n4                  8433               5158                50633   \n\n  COMMERCIAL_CUSTOMERS INDUSTRIAL_REVENUE INDUSTRIAL_SALES_MWH  \\\n0                  679               6430               115634   \n1                 1029               3506                39510   \n2                   44                  .                    .   \n3                 3933            15226.8               170770   \n4                  207                  .                    .   \n\n  INDUSTRIAL_CUSTOMERS  \n0                    2  \n1                   27  \n2                    .  \n3                    8  \n4                    .  ",
      "text/html": "<div>\n<style scoped>\n    .dataframe tbody tr th:only-of-type {\n        vertical-align: middle;\n    }\n\n    .dataframe tbody tr th {\n        vertical-align: top;\n    }\n\n    .dataframe thead th {\n        text-align: right;\n    }\n</style>\n<table border=\"1\" class=\"dataframe\">\n  <thead>\n    <tr style=\"text-align: right;\">\n      <th></th>\n      <th>YEAR</th>\n      <th>UTILITY_NUMBER</th>\n      <th>UTILITY_NAME</th>\n      <th>PART</th>\n      <th>SERVICE_TYPE</th>\n      <th>DATA_TYPE</th>\n      <th>STATE</th>\n      <th>OWNERSHIP</th>\n      <th>BA_CODE</th>\n      <th>RESIDENTIAL_REVENUE</th>\n      <th>RESIDENTIAL_SALES_MWH</th>\n      <th>RESIDENTIAL_CUSTOMERS</th>\n      <th>COMMERCIAL_REVENUE</th>\n      <th>COMMERCIAL_SALES_MWH</th>\n      <th>COMMERCIAL_CUSTOMERS</th>\n      <th>INDUSTRIAL_REVENUE</th>\n      <th>INDUSTRIAL_SALES_MWH</th>\n      <th>INDUSTRIAL_CUSTOMERS</th>\n    </tr>\n  </thead>\n  <tbody>\n    <tr>\n      <th>0</th>\n      <td>2014</td>\n      <td>55.0</td>\n      <td>City of Aberdeen - (MS)</td>\n      <td>A</td>\n      <td>Bundled</td>\n      <td>O</td>\n      <td>MS</td>\n      <td>Municipal</td>\n      <td>TVA</td>\n      <td>4096</td>\n      <td>37090</td>\n      <td>2629</td>\n      <td>4226</td>\n      <td>37978</td>\n      <td>679</td>\n      <td>6430</td>\n      <td>115634</td>\n      <td>2</td>\n    </tr>\n    <tr>\n      <th>1</th>\n      <td>2014</td>\n      <td>59.0</td>\n      <td>City of Abbeville - (LA)</td>\n      <td>A</td>\n      <td>Bundled</td>\n      <td>O</td>\n      <td>LA</td>\n      <td>Municipal</td>\n      <td>MISO</td>\n      <td>5878</td>\n      <td>56496</td>\n      <td>4585</td>\n      <td>4404</td>\n      <td>39148</td>\n      <td>1029</td>\n      <td>3506</td>\n      <td>39510</td>\n      <td>27</td>\n    </tr>\n    <tr>\n      <th>2</th>\n      <td>2014</td>\n      <td>84.0</td>\n      <td>A &amp; N Electric Coop</td>\n      <td>A</td>\n      <td>Bundled</td>\n      <td>O</td>\n      <td>MD</td>\n      <td>Cooperative</td>\n      <td>PJM</td>\n      <td>269.2</td>\n      <td>2238</td>\n      <td>269</td>\n      <td>69.2</td>\n      <td>544</td>\n      <td>44</td>\n      <td>.</td>\n      <td>.</td>\n      <td>.</td>\n    </tr>\n    <tr>\n      <th>3</th>\n      <td>2014</td>\n      <td>84.0</td>\n      <td>A &amp; N Electric Coop</td>\n      <td>A</td>\n      <td>Bundled</td>\n      <td>O</td>\n      <td>VA</td>\n      <td>Cooperative</td>\n      <td>PJM</td>\n      <td>41418.2</td>\n      <td>353002</td>\n      <td>30758</td>\n      <td>17742.7</td>\n      <td>161534</td>\n      <td>3933</td>\n      <td>15226.8</td>\n      <td>170770</td>\n      <td>8</td>\n    </tr>\n    <tr>\n      <th>4</th>\n      <td>2014</td>\n      <td>97.0</td>\n      <td>Adams Electric Coop</td>\n      <td>A</td>\n      <td>Bundled</td>\n      <td>O</td>\n      <td>IL</td>\n      <td>Cooperative</td>\n      <td>MISO</td>\n      <td>16685</td>\n      <td>118512</td>\n      <td>8433</td>\n      <td>5158</td>\n      <td>50633</td>\n      <td>207</td>\n      <td>.</td>\n      <td>.</td>\n      <td>.</td>\n    </tr>\n  </tbody>\n</table>\n</div>"
     },
     "metadata": {},
     "output_type": "display_data"
    },
    {
     "name": "stdout",
     "output_type": "stream",
     "text": [
      "Reading in /Users/Darren/git-clones/data-projects/CEPs/etl_scripts/raw_data/Sales_Ult_Cust_2015.xlsx\n"
     ]
    },
    {
     "data": {
      "text/plain": "   YEAR  UTILITY_NUMBER              UTILITY_NAME PART SERVICE_TYPE DATA_TYPE  \\\n0  2015            55.0   City of Aberdeen - (MS)    A      Bundled         O   \n1  2015            59.0  City of Abbeville - (LA)    A      Bundled         O   \n2  2015            84.0       A & N Electric Coop    A      Bundled         O   \n3  2015            84.0       A & N Electric Coop    A      Bundled         O   \n4  2015            97.0       Adams Electric Coop    A      Bundled         O   \n\n  STATE    OWNERSHIP BA_CODE RESIDENTIAL_REVENUE RESIDENTIAL_SALES_MWH  \\\n0    MS    Municipal     TVA                3895                 35346   \n1    LA    Municipal    MISO              5966.6                 57203   \n2    MD  Cooperative     PJM               273.1                  2207   \n3    VA  Cooperative     PJM             44074.2                366441   \n4    IL  Cooperative    MISO               16107                109511   \n\n  RESIDENTIAL_CUSTOMERS COMMERCIAL_REVENUE COMMERCIAL_SALES_MWH  \\\n0                  2624               4627                42794   \n1                  4576             4357.1                39545   \n2                   268               69.8                  538   \n3                 30892            18209.2               161517   \n4                  8461               5384                52301   \n\n  COMMERCIAL_CUSTOMERS INDUSTRIAL_REVENUE INDUSTRIAL_SALES_MWH  \\\n0                  659               6205               120761   \n1                 1031             3631.8                42140   \n2                   44                  0                    0   \n3                 3931            16861.7               184580   \n4                  216                  .                    .   \n\n  INDUSTRIAL_CUSTOMERS  \n0                    2  \n1                   28  \n2                    0  \n3                    8  \n4                    .  ",
      "text/html": "<div>\n<style scoped>\n    .dataframe tbody tr th:only-of-type {\n        vertical-align: middle;\n    }\n\n    .dataframe tbody tr th {\n        vertical-align: top;\n    }\n\n    .dataframe thead th {\n        text-align: right;\n    }\n</style>\n<table border=\"1\" class=\"dataframe\">\n  <thead>\n    <tr style=\"text-align: right;\">\n      <th></th>\n      <th>YEAR</th>\n      <th>UTILITY_NUMBER</th>\n      <th>UTILITY_NAME</th>\n      <th>PART</th>\n      <th>SERVICE_TYPE</th>\n      <th>DATA_TYPE</th>\n      <th>STATE</th>\n      <th>OWNERSHIP</th>\n      <th>BA_CODE</th>\n      <th>RESIDENTIAL_REVENUE</th>\n      <th>RESIDENTIAL_SALES_MWH</th>\n      <th>RESIDENTIAL_CUSTOMERS</th>\n      <th>COMMERCIAL_REVENUE</th>\n      <th>COMMERCIAL_SALES_MWH</th>\n      <th>COMMERCIAL_CUSTOMERS</th>\n      <th>INDUSTRIAL_REVENUE</th>\n      <th>INDUSTRIAL_SALES_MWH</th>\n      <th>INDUSTRIAL_CUSTOMERS</th>\n    </tr>\n  </thead>\n  <tbody>\n    <tr>\n      <th>0</th>\n      <td>2015</td>\n      <td>55.0</td>\n      <td>City of Aberdeen - (MS)</td>\n      <td>A</td>\n      <td>Bundled</td>\n      <td>O</td>\n      <td>MS</td>\n      <td>Municipal</td>\n      <td>TVA</td>\n      <td>3895</td>\n      <td>35346</td>\n      <td>2624</td>\n      <td>4627</td>\n      <td>42794</td>\n      <td>659</td>\n      <td>6205</td>\n      <td>120761</td>\n      <td>2</td>\n    </tr>\n    <tr>\n      <th>1</th>\n      <td>2015</td>\n      <td>59.0</td>\n      <td>City of Abbeville - (LA)</td>\n      <td>A</td>\n      <td>Bundled</td>\n      <td>O</td>\n      <td>LA</td>\n      <td>Municipal</td>\n      <td>MISO</td>\n      <td>5966.6</td>\n      <td>57203</td>\n      <td>4576</td>\n      <td>4357.1</td>\n      <td>39545</td>\n      <td>1031</td>\n      <td>3631.8</td>\n      <td>42140</td>\n      <td>28</td>\n    </tr>\n    <tr>\n      <th>2</th>\n      <td>2015</td>\n      <td>84.0</td>\n      <td>A &amp; N Electric Coop</td>\n      <td>A</td>\n      <td>Bundled</td>\n      <td>O</td>\n      <td>MD</td>\n      <td>Cooperative</td>\n      <td>PJM</td>\n      <td>273.1</td>\n      <td>2207</td>\n      <td>268</td>\n      <td>69.8</td>\n      <td>538</td>\n      <td>44</td>\n      <td>0</td>\n      <td>0</td>\n      <td>0</td>\n    </tr>\n    <tr>\n      <th>3</th>\n      <td>2015</td>\n      <td>84.0</td>\n      <td>A &amp; N Electric Coop</td>\n      <td>A</td>\n      <td>Bundled</td>\n      <td>O</td>\n      <td>VA</td>\n      <td>Cooperative</td>\n      <td>PJM</td>\n      <td>44074.2</td>\n      <td>366441</td>\n      <td>30892</td>\n      <td>18209.2</td>\n      <td>161517</td>\n      <td>3931</td>\n      <td>16861.7</td>\n      <td>184580</td>\n      <td>8</td>\n    </tr>\n    <tr>\n      <th>4</th>\n      <td>2015</td>\n      <td>97.0</td>\n      <td>Adams Electric Coop</td>\n      <td>A</td>\n      <td>Bundled</td>\n      <td>O</td>\n      <td>IL</td>\n      <td>Cooperative</td>\n      <td>MISO</td>\n      <td>16107</td>\n      <td>109511</td>\n      <td>8461</td>\n      <td>5384</td>\n      <td>52301</td>\n      <td>216</td>\n      <td>.</td>\n      <td>.</td>\n      <td>.</td>\n    </tr>\n  </tbody>\n</table>\n</div>"
     },
     "metadata": {},
     "output_type": "display_data"
    },
    {
     "name": "stdout",
     "output_type": "stream",
     "text": [
      "Reading in /Users/Darren/git-clones/data-projects/CEPs/etl_scripts/raw_data/Sales_Ult_Cust_2019.xlsx\n"
     ]
    },
    {
     "data": {
      "text/plain": "   YEAR  UTILITY_NUMBER              UTILITY_NAME PART SERVICE_TYPE DATA_TYPE  \\\n0  2019            34.0  City of Abbeville - (SC)    A      Bundled         O   \n1  2019            55.0   City of Aberdeen - (MS)    A      Bundled         O   \n2  2019            59.0  City of Abbeville - (LA)    A      Bundled         O   \n3  2019            84.0       A & N Electric Coop    A      Bundled         O   \n4  2019            84.0       A & N Electric Coop    A      Bundled         O   \n\n  STATE    OWNERSHIP BA_CODE RESIDENTIAL_REVENUE RESIDENTIAL_SALES_MWH  \\\n0    SC    Municipal     DUK                4563                 33000   \n1    MS    Municipal     TVA                3930                 34781   \n2    LA    Municipal    MISO              5907.5                 59232   \n3    MD  Cooperative     PJM               273.5                  2094   \n4    VA  Cooperative     PJM               44102                357988   \n\n  RESIDENTIAL_CUSTOMERS COMMERCIAL_REVENUE COMMERCIAL_SALES_MWH  \\\n0                  3384               2973                25000   \n1                  2566               5229                48943   \n2                  4580             3464.4                32466   \n3                   272               69.5                  529   \n4                 31427              18546               167237   \n\n  COMMERCIAL_CUSTOMERS INDUSTRIAL_REVENUE INDUSTRIAL_SALES_MWH  \\\n0                  460                  0                    .   \n1                  662               5638               120537   \n2                  887             3011.1                35881   \n3                   44                  .                    .   \n4                 4183              15516               176162   \n\n  INDUSTRIAL_CUSTOMERS  \n0                    .  \n1                    1  \n2                   27  \n3                    .  \n4                    8  ",
      "text/html": "<div>\n<style scoped>\n    .dataframe tbody tr th:only-of-type {\n        vertical-align: middle;\n    }\n\n    .dataframe tbody tr th {\n        vertical-align: top;\n    }\n\n    .dataframe thead th {\n        text-align: right;\n    }\n</style>\n<table border=\"1\" class=\"dataframe\">\n  <thead>\n    <tr style=\"text-align: right;\">\n      <th></th>\n      <th>YEAR</th>\n      <th>UTILITY_NUMBER</th>\n      <th>UTILITY_NAME</th>\n      <th>PART</th>\n      <th>SERVICE_TYPE</th>\n      <th>DATA_TYPE</th>\n      <th>STATE</th>\n      <th>OWNERSHIP</th>\n      <th>BA_CODE</th>\n      <th>RESIDENTIAL_REVENUE</th>\n      <th>RESIDENTIAL_SALES_MWH</th>\n      <th>RESIDENTIAL_CUSTOMERS</th>\n      <th>COMMERCIAL_REVENUE</th>\n      <th>COMMERCIAL_SALES_MWH</th>\n      <th>COMMERCIAL_CUSTOMERS</th>\n      <th>INDUSTRIAL_REVENUE</th>\n      <th>INDUSTRIAL_SALES_MWH</th>\n      <th>INDUSTRIAL_CUSTOMERS</th>\n    </tr>\n  </thead>\n  <tbody>\n    <tr>\n      <th>0</th>\n      <td>2019</td>\n      <td>34.0</td>\n      <td>City of Abbeville - (SC)</td>\n      <td>A</td>\n      <td>Bundled</td>\n      <td>O</td>\n      <td>SC</td>\n      <td>Municipal</td>\n      <td>DUK</td>\n      <td>4563</td>\n      <td>33000</td>\n      <td>3384</td>\n      <td>2973</td>\n      <td>25000</td>\n      <td>460</td>\n      <td>0</td>\n      <td>.</td>\n      <td>.</td>\n    </tr>\n    <tr>\n      <th>1</th>\n      <td>2019</td>\n      <td>55.0</td>\n      <td>City of Aberdeen - (MS)</td>\n      <td>A</td>\n      <td>Bundled</td>\n      <td>O</td>\n      <td>MS</td>\n      <td>Municipal</td>\n      <td>TVA</td>\n      <td>3930</td>\n      <td>34781</td>\n      <td>2566</td>\n      <td>5229</td>\n      <td>48943</td>\n      <td>662</td>\n      <td>5638</td>\n      <td>120537</td>\n      <td>1</td>\n    </tr>\n    <tr>\n      <th>2</th>\n      <td>2019</td>\n      <td>59.0</td>\n      <td>City of Abbeville - (LA)</td>\n      <td>A</td>\n      <td>Bundled</td>\n      <td>O</td>\n      <td>LA</td>\n      <td>Municipal</td>\n      <td>MISO</td>\n      <td>5907.5</td>\n      <td>59232</td>\n      <td>4580</td>\n      <td>3464.4</td>\n      <td>32466</td>\n      <td>887</td>\n      <td>3011.1</td>\n      <td>35881</td>\n      <td>27</td>\n    </tr>\n    <tr>\n      <th>3</th>\n      <td>2019</td>\n      <td>84.0</td>\n      <td>A &amp; N Electric Coop</td>\n      <td>A</td>\n      <td>Bundled</td>\n      <td>O</td>\n      <td>MD</td>\n      <td>Cooperative</td>\n      <td>PJM</td>\n      <td>273.5</td>\n      <td>2094</td>\n      <td>272</td>\n      <td>69.5</td>\n      <td>529</td>\n      <td>44</td>\n      <td>.</td>\n      <td>.</td>\n      <td>.</td>\n    </tr>\n    <tr>\n      <th>4</th>\n      <td>2019</td>\n      <td>84.0</td>\n      <td>A &amp; N Electric Coop</td>\n      <td>A</td>\n      <td>Bundled</td>\n      <td>O</td>\n      <td>VA</td>\n      <td>Cooperative</td>\n      <td>PJM</td>\n      <td>44102</td>\n      <td>357988</td>\n      <td>31427</td>\n      <td>18546</td>\n      <td>167237</td>\n      <td>4183</td>\n      <td>15516</td>\n      <td>176162</td>\n      <td>8</td>\n    </tr>\n  </tbody>\n</table>\n</div>"
     },
     "metadata": {},
     "output_type": "display_data"
    },
    {
     "name": "stdout",
     "output_type": "stream",
     "text": [
      "Reading in /Users/Darren/git-clones/data-projects/CEPs/etl_scripts/raw_data/Sales_Ult_Cust_2022.xlsx\n"
     ]
    },
    {
     "data": {
      "text/plain": "   YEAR  UTILITY_NUMBER                  UTILITY_NAME PART SERVICE_TYPE  \\\n0  2022            55.0       City of Aberdeen - (MS)    A      Bundled   \n1  2022            84.0           A & N Electric Coop    A      Bundled   \n2  2022            84.0           A & N Electric Coop    A      Bundled   \n3  2022           108.0  Adams-Columbia Electric Coop    A      Bundled   \n4  2022           113.0    Agway Energy Services, LLC    B       Energy   \n\n  DATA_TYPE STATE              OWNERSHIP BA_CODE RESIDENTIAL_REVENUE  \\\n0         O    MS              Municipal     TVA                4345   \n1         O    MD            Cooperative     PJM               301.4   \n2         O    VA            Cooperative     PJM             47388.3   \n3         O    WI            Cooperative    MISO             48027.2   \n4         O    MD  Retail Power Marketer     PJM                11.7   \n\n  RESIDENTIAL_SALES_MWH RESIDENTIAL_CUSTOMERS COMMERCIAL_REVENUE  \\\n0                 34383                  2588               3684   \n1                  2337                   261               79.8   \n2                376851                 32415            20127.1   \n3                279312                 35333            11798.6   \n4                    71                     8                0.3   \n\n  COMMERCIAL_SALES_MWH COMMERCIAL_CUSTOMERS INDUSTRIAL_REVENUE  \\\n0                29241                  711               7847   \n1                  606                   42                  0   \n2               175360                 4186            15268.5   \n3                85681                 2497            24865.2   \n4                    2                    1                  0   \n\n  INDUSTRIAL_SALES_MWH INDUSTRIAL_CUSTOMERS  \n0               129598                    2  \n1                    0                    0  \n2               161135                    6  \n3               254133                  982  \n4                    0                    0  ",
      "text/html": "<div>\n<style scoped>\n    .dataframe tbody tr th:only-of-type {\n        vertical-align: middle;\n    }\n\n    .dataframe tbody tr th {\n        vertical-align: top;\n    }\n\n    .dataframe thead th {\n        text-align: right;\n    }\n</style>\n<table border=\"1\" class=\"dataframe\">\n  <thead>\n    <tr style=\"text-align: right;\">\n      <th></th>\n      <th>YEAR</th>\n      <th>UTILITY_NUMBER</th>\n      <th>UTILITY_NAME</th>\n      <th>PART</th>\n      <th>SERVICE_TYPE</th>\n      <th>DATA_TYPE</th>\n      <th>STATE</th>\n      <th>OWNERSHIP</th>\n      <th>BA_CODE</th>\n      <th>RESIDENTIAL_REVENUE</th>\n      <th>RESIDENTIAL_SALES_MWH</th>\n      <th>RESIDENTIAL_CUSTOMERS</th>\n      <th>COMMERCIAL_REVENUE</th>\n      <th>COMMERCIAL_SALES_MWH</th>\n      <th>COMMERCIAL_CUSTOMERS</th>\n      <th>INDUSTRIAL_REVENUE</th>\n      <th>INDUSTRIAL_SALES_MWH</th>\n      <th>INDUSTRIAL_CUSTOMERS</th>\n    </tr>\n  </thead>\n  <tbody>\n    <tr>\n      <th>0</th>\n      <td>2022</td>\n      <td>55.0</td>\n      <td>City of Aberdeen - (MS)</td>\n      <td>A</td>\n      <td>Bundled</td>\n      <td>O</td>\n      <td>MS</td>\n      <td>Municipal</td>\n      <td>TVA</td>\n      <td>4345</td>\n      <td>34383</td>\n      <td>2588</td>\n      <td>3684</td>\n      <td>29241</td>\n      <td>711</td>\n      <td>7847</td>\n      <td>129598</td>\n      <td>2</td>\n    </tr>\n    <tr>\n      <th>1</th>\n      <td>2022</td>\n      <td>84.0</td>\n      <td>A &amp; N Electric Coop</td>\n      <td>A</td>\n      <td>Bundled</td>\n      <td>O</td>\n      <td>MD</td>\n      <td>Cooperative</td>\n      <td>PJM</td>\n      <td>301.4</td>\n      <td>2337</td>\n      <td>261</td>\n      <td>79.8</td>\n      <td>606</td>\n      <td>42</td>\n      <td>0</td>\n      <td>0</td>\n      <td>0</td>\n    </tr>\n    <tr>\n      <th>2</th>\n      <td>2022</td>\n      <td>84.0</td>\n      <td>A &amp; N Electric Coop</td>\n      <td>A</td>\n      <td>Bundled</td>\n      <td>O</td>\n      <td>VA</td>\n      <td>Cooperative</td>\n      <td>PJM</td>\n      <td>47388.3</td>\n      <td>376851</td>\n      <td>32415</td>\n      <td>20127.1</td>\n      <td>175360</td>\n      <td>4186</td>\n      <td>15268.5</td>\n      <td>161135</td>\n      <td>6</td>\n    </tr>\n    <tr>\n      <th>3</th>\n      <td>2022</td>\n      <td>108.0</td>\n      <td>Adams-Columbia Electric Coop</td>\n      <td>A</td>\n      <td>Bundled</td>\n      <td>O</td>\n      <td>WI</td>\n      <td>Cooperative</td>\n      <td>MISO</td>\n      <td>48027.2</td>\n      <td>279312</td>\n      <td>35333</td>\n      <td>11798.6</td>\n      <td>85681</td>\n      <td>2497</td>\n      <td>24865.2</td>\n      <td>254133</td>\n      <td>982</td>\n    </tr>\n    <tr>\n      <th>4</th>\n      <td>2022</td>\n      <td>113.0</td>\n      <td>Agway Energy Services, LLC</td>\n      <td>B</td>\n      <td>Energy</td>\n      <td>O</td>\n      <td>MD</td>\n      <td>Retail Power Marketer</td>\n      <td>PJM</td>\n      <td>11.7</td>\n      <td>71</td>\n      <td>8</td>\n      <td>0.3</td>\n      <td>2</td>\n      <td>1</td>\n      <td>0</td>\n      <td>0</td>\n      <td>0</td>\n    </tr>\n  </tbody>\n</table>\n</div>"
     },
     "metadata": {},
     "output_type": "display_data"
    },
    {
     "name": "stdout",
     "output_type": "stream",
     "text": [
      "Reading in /Users/Darren/git-clones/data-projects/CEPs/etl_scripts/raw_data/Sales_Ult_Cust_2018.xlsx\n"
     ]
    },
    {
     "data": {
      "text/plain": "   YEAR  UTILITY_NUMBER              UTILITY_NAME PART SERVICE_TYPE DATA_TYPE  \\\n0  2018            55.0   City of Aberdeen - (MS)    A      Bundled         O   \n1  2018            59.0  City of Abbeville - (LA)    A      Bundled         O   \n2  2018            84.0       A & N Electric Coop    A      Bundled         O   \n3  2018            84.0       A & N Electric Coop    A      Bundled         O   \n4  2018            97.0       Adams Electric Coop    A      Bundled         O   \n\n  STATE    OWNERSHIP BA_CODE RESIDENTIAL_REVENUE RESIDENTIAL_SALES_MWH  \\\n0    MS    Municipal     TVA                4185                 37455   \n1    LA    Municipal    MISO              5572.6                 56479   \n2    MD  Cooperative     PJM               279.9                  2312   \n3    VA  Cooperative     PJM               45278                386800   \n4    IL  Cooperative    MISO               17507                119449   \n\n  RESIDENTIAL_CUSTOMERS COMMERCIAL_REVENUE COMMERCIAL_SALES_MWH  \\\n0                  2566               5483                52636   \n1                  4655             4053.7                37773   \n2                   271               73.5                  589   \n3                 31382              18724               172307   \n4                  8664               5839                55527   \n\n  COMMERCIAL_CUSTOMERS INDUSTRIAL_REVENUE INDUSTRIAL_SALES_MWH  \\\n0                  664               5723               119640   \n1                 1032             3009.2                35590   \n2                   43                  0                    0   \n3                 4130              13721               161336   \n4                  225                  .                    .   \n\n  INDUSTRIAL_CUSTOMERS  \n0                    2  \n1                   27  \n2                    0  \n3                    8  \n4                    .  ",
      "text/html": "<div>\n<style scoped>\n    .dataframe tbody tr th:only-of-type {\n        vertical-align: middle;\n    }\n\n    .dataframe tbody tr th {\n        vertical-align: top;\n    }\n\n    .dataframe thead th {\n        text-align: right;\n    }\n</style>\n<table border=\"1\" class=\"dataframe\">\n  <thead>\n    <tr style=\"text-align: right;\">\n      <th></th>\n      <th>YEAR</th>\n      <th>UTILITY_NUMBER</th>\n      <th>UTILITY_NAME</th>\n      <th>PART</th>\n      <th>SERVICE_TYPE</th>\n      <th>DATA_TYPE</th>\n      <th>STATE</th>\n      <th>OWNERSHIP</th>\n      <th>BA_CODE</th>\n      <th>RESIDENTIAL_REVENUE</th>\n      <th>RESIDENTIAL_SALES_MWH</th>\n      <th>RESIDENTIAL_CUSTOMERS</th>\n      <th>COMMERCIAL_REVENUE</th>\n      <th>COMMERCIAL_SALES_MWH</th>\n      <th>COMMERCIAL_CUSTOMERS</th>\n      <th>INDUSTRIAL_REVENUE</th>\n      <th>INDUSTRIAL_SALES_MWH</th>\n      <th>INDUSTRIAL_CUSTOMERS</th>\n    </tr>\n  </thead>\n  <tbody>\n    <tr>\n      <th>0</th>\n      <td>2018</td>\n      <td>55.0</td>\n      <td>City of Aberdeen - (MS)</td>\n      <td>A</td>\n      <td>Bundled</td>\n      <td>O</td>\n      <td>MS</td>\n      <td>Municipal</td>\n      <td>TVA</td>\n      <td>4185</td>\n      <td>37455</td>\n      <td>2566</td>\n      <td>5483</td>\n      <td>52636</td>\n      <td>664</td>\n      <td>5723</td>\n      <td>119640</td>\n      <td>2</td>\n    </tr>\n    <tr>\n      <th>1</th>\n      <td>2018</td>\n      <td>59.0</td>\n      <td>City of Abbeville - (LA)</td>\n      <td>A</td>\n      <td>Bundled</td>\n      <td>O</td>\n      <td>LA</td>\n      <td>Municipal</td>\n      <td>MISO</td>\n      <td>5572.6</td>\n      <td>56479</td>\n      <td>4655</td>\n      <td>4053.7</td>\n      <td>37773</td>\n      <td>1032</td>\n      <td>3009.2</td>\n      <td>35590</td>\n      <td>27</td>\n    </tr>\n    <tr>\n      <th>2</th>\n      <td>2018</td>\n      <td>84.0</td>\n      <td>A &amp; N Electric Coop</td>\n      <td>A</td>\n      <td>Bundled</td>\n      <td>O</td>\n      <td>MD</td>\n      <td>Cooperative</td>\n      <td>PJM</td>\n      <td>279.9</td>\n      <td>2312</td>\n      <td>271</td>\n      <td>73.5</td>\n      <td>589</td>\n      <td>43</td>\n      <td>0</td>\n      <td>0</td>\n      <td>0</td>\n    </tr>\n    <tr>\n      <th>3</th>\n      <td>2018</td>\n      <td>84.0</td>\n      <td>A &amp; N Electric Coop</td>\n      <td>A</td>\n      <td>Bundled</td>\n      <td>O</td>\n      <td>VA</td>\n      <td>Cooperative</td>\n      <td>PJM</td>\n      <td>45278</td>\n      <td>386800</td>\n      <td>31382</td>\n      <td>18724</td>\n      <td>172307</td>\n      <td>4130</td>\n      <td>13721</td>\n      <td>161336</td>\n      <td>8</td>\n    </tr>\n    <tr>\n      <th>4</th>\n      <td>2018</td>\n      <td>97.0</td>\n      <td>Adams Electric Coop</td>\n      <td>A</td>\n      <td>Bundled</td>\n      <td>O</td>\n      <td>IL</td>\n      <td>Cooperative</td>\n      <td>MISO</td>\n      <td>17507</td>\n      <td>119449</td>\n      <td>8664</td>\n      <td>5839</td>\n      <td>55527</td>\n      <td>225</td>\n      <td>.</td>\n      <td>.</td>\n      <td>.</td>\n    </tr>\n  </tbody>\n</table>\n</div>"
     },
     "metadata": {},
     "output_type": "display_data"
    },
    {
     "name": "stdout",
     "output_type": "stream",
     "text": [
      "Merged dataframe of (104481, 13)\n",
      "Wrote dataframe to CSV in /Users/Darren/git-clones/data-projects/CEPs/etl_scripts/prepared_data\n"
     ]
    }
   ],
   "source": [
    "reload(hf)\n",
    "eia_df = hf.process_and_merge_861(data_dir=data_dir, process_dir=process_dir)"
   ],
   "metadata": {
    "collapsed": false,
    "ExecuteTime": {
     "end_time": "2023-12-05T05:36:16.064722Z",
     "start_time": "2023-12-05T05:36:10.957875Z"
    }
   },
   "id": "d937a909164da4de"
  },
  {
   "cell_type": "code",
   "execution_count": 5,
   "outputs": [
    {
     "data": {
      "text/plain": "  Data Year  Utility Number              Utility Name Part Service Type  \\\n0      2019            34.0  City of Abbeville - (SC)    A      Bundled   \n1      2019            55.0   City of Aberdeen - (MS)    A      Bundled   \n2      2019            59.0  City of Abbeville - (LA)    A      Bundled   \n3      2019            84.0       A & N Electric Coop    A      Bundled   \n4      2019            84.0       A & N Electric Coop    A      Bundled   \n\n  Data Type\\nO = Observed\\nI = Imputed State    Ownership BA Code  \\\n0                                    O    SC    Municipal     DUK   \n1                                    O    MS    Municipal     TVA   \n2                                    O    LA    Municipal    MISO   \n3                                    O    MD  Cooperative     PJM   \n4                                    O    VA  Cooperative     PJM   \n\n  Thousand Dollars Megawatthours  Count Thousand Dollars.1 Megawatthours.1  \\\n0             4563         33000   3384               2973           25000   \n1             3930         34781   2566               5229           48943   \n2           5907.5         59232   4580             3464.4           32466   \n3            273.5          2094    272               69.5             529   \n4            44102        357988  31427              18546          167237   \n\n  Count.1 Thousand Dollars.2 Megawatthours.2 Count.2  \n0     460                  0               .       .  \n1     662               5638          120537       1  \n2     887             3011.1           35881      27  \n3      44                  .               .       .  \n4    4183              15516          176162       8  ",
      "text/html": "<div>\n<style scoped>\n    .dataframe tbody tr th:only-of-type {\n        vertical-align: middle;\n    }\n\n    .dataframe tbody tr th {\n        vertical-align: top;\n    }\n\n    .dataframe thead th {\n        text-align: right;\n    }\n</style>\n<table border=\"1\" class=\"dataframe\">\n  <thead>\n    <tr style=\"text-align: right;\">\n      <th></th>\n      <th>Data Year</th>\n      <th>Utility Number</th>\n      <th>Utility Name</th>\n      <th>Part</th>\n      <th>Service Type</th>\n      <th>Data Type\\nO = Observed\\nI = Imputed</th>\n      <th>State</th>\n      <th>Ownership</th>\n      <th>BA Code</th>\n      <th>Thousand Dollars</th>\n      <th>Megawatthours</th>\n      <th>Count</th>\n      <th>Thousand Dollars.1</th>\n      <th>Megawatthours.1</th>\n      <th>Count.1</th>\n      <th>Thousand Dollars.2</th>\n      <th>Megawatthours.2</th>\n      <th>Count.2</th>\n    </tr>\n  </thead>\n  <tbody>\n    <tr>\n      <th>0</th>\n      <td>2019</td>\n      <td>34.0</td>\n      <td>City of Abbeville - (SC)</td>\n      <td>A</td>\n      <td>Bundled</td>\n      <td>O</td>\n      <td>SC</td>\n      <td>Municipal</td>\n      <td>DUK</td>\n      <td>4563</td>\n      <td>33000</td>\n      <td>3384</td>\n      <td>2973</td>\n      <td>25000</td>\n      <td>460</td>\n      <td>0</td>\n      <td>.</td>\n      <td>.</td>\n    </tr>\n    <tr>\n      <th>1</th>\n      <td>2019</td>\n      <td>55.0</td>\n      <td>City of Aberdeen - (MS)</td>\n      <td>A</td>\n      <td>Bundled</td>\n      <td>O</td>\n      <td>MS</td>\n      <td>Municipal</td>\n      <td>TVA</td>\n      <td>3930</td>\n      <td>34781</td>\n      <td>2566</td>\n      <td>5229</td>\n      <td>48943</td>\n      <td>662</td>\n      <td>5638</td>\n      <td>120537</td>\n      <td>1</td>\n    </tr>\n    <tr>\n      <th>2</th>\n      <td>2019</td>\n      <td>59.0</td>\n      <td>City of Abbeville - (LA)</td>\n      <td>A</td>\n      <td>Bundled</td>\n      <td>O</td>\n      <td>LA</td>\n      <td>Municipal</td>\n      <td>MISO</td>\n      <td>5907.5</td>\n      <td>59232</td>\n      <td>4580</td>\n      <td>3464.4</td>\n      <td>32466</td>\n      <td>887</td>\n      <td>3011.1</td>\n      <td>35881</td>\n      <td>27</td>\n    </tr>\n    <tr>\n      <th>3</th>\n      <td>2019</td>\n      <td>84.0</td>\n      <td>A &amp; N Electric Coop</td>\n      <td>A</td>\n      <td>Bundled</td>\n      <td>O</td>\n      <td>MD</td>\n      <td>Cooperative</td>\n      <td>PJM</td>\n      <td>273.5</td>\n      <td>2094</td>\n      <td>272</td>\n      <td>69.5</td>\n      <td>529</td>\n      <td>44</td>\n      <td>.</td>\n      <td>.</td>\n      <td>.</td>\n    </tr>\n    <tr>\n      <th>4</th>\n      <td>2019</td>\n      <td>84.0</td>\n      <td>A &amp; N Electric Coop</td>\n      <td>A</td>\n      <td>Bundled</td>\n      <td>O</td>\n      <td>VA</td>\n      <td>Cooperative</td>\n      <td>PJM</td>\n      <td>44102</td>\n      <td>357988</td>\n      <td>31427</td>\n      <td>18546</td>\n      <td>167237</td>\n      <td>4183</td>\n      <td>15516</td>\n      <td>176162</td>\n      <td>8</td>\n    </tr>\n  </tbody>\n</table>\n</div>"
     },
     "execution_count": 5,
     "metadata": {},
     "output_type": "execute_result"
    }
   ],
   "source": [
    "test_df = pd.read_excel('raw_data/Sales_Ult_Cust_2019.xlsx', skiprows=2, usecols='A:S')\n",
    "\n",
    "test_df = test_df.drop(columns=['Short Form'])\n",
    "test_df.head()"
   ],
   "metadata": {
    "collapsed": false,
    "ExecuteTime": {
     "end_time": "2023-12-05T05:36:16.797877Z",
     "start_time": "2023-12-05T05:36:16.064395Z"
    }
   },
   "id": "7e3aa8e46d0f820e"
  },
  {
   "cell_type": "markdown",
   "source": [
    "## Extract and process "
   ],
   "metadata": {
    "collapsed": false
   },
   "id": "b0af441823919cc6"
  },
  {
   "cell_type": "markdown",
   "source": [
    "## 2. Maine customer migration statistics\n",
    "\n",
    "Update file dir based on [this page](https://www.maine.gov/mpuc/regulated-utilities/electricity/choosing-supplier/migration-statistics) from the Maine PUC. "
   ],
   "metadata": {
    "collapsed": false
   },
   "id": "e05b04e0e08dd85c"
  },
  {
   "cell_type": "code",
   "execution_count": 3,
   "outputs": [],
   "source": [
    "migration_xls = 'https://www.maine.gov/mpuc/sites/maine.gov.mpuc/files/inline-files/Standard%20Offer%20Migration%20Stats%20through%2008.15.23.xls'"
   ],
   "metadata": {
    "collapsed": false,
    "ExecuteTime": {
     "end_time": "2024-02-22T03:48:48.642966Z",
     "start_time": "2024-02-22T03:48:48.623222Z"
    }
   },
   "id": "2aa6a84db58ffb60"
  },
  {
   "cell_type": "code",
   "execution_count": 10,
   "outputs": [
    {
     "name": "stdout",
     "output_type": "stream",
     "text": [
      "Captured and wrote Customers file of shape (1644, 5)\n",
      "Captured and wrote Load file of shape (1650, 5)\n"
     ]
    },
    {
     "data": {
      "text/plain": "        DATE  CEP_LOAD_MWH  TOTAL_CLASS_LOAD_MWH                UTILITY  \\\n1 2023-07-31    211.428571           2176.285714  BANGOR HYDRO DISTRICT   \n2 2023-06-30    199.000000           2027.000000  BANGOR HYDRO DISTRICT   \n3 2023-05-31    194.571429           1999.857143  BANGOR HYDRO DISTRICT   \n4 2023-04-30    187.142857           2085.571429  BANGOR HYDRO DISTRICT   \n5 2023-03-31    237.571429           2751.571429  BANGOR HYDRO DISTRICT   \n\n  CUSTOMER_CLASS  \n1          SMALL  \n2          SMALL  \n3          SMALL  \n4          SMALL  \n5          SMALL  ",
      "text/html": "<div>\n<style scoped>\n    .dataframe tbody tr th:only-of-type {\n        vertical-align: middle;\n    }\n\n    .dataframe tbody tr th {\n        vertical-align: top;\n    }\n\n    .dataframe thead th {\n        text-align: right;\n    }\n</style>\n<table border=\"1\" class=\"dataframe\">\n  <thead>\n    <tr style=\"text-align: right;\">\n      <th></th>\n      <th>DATE</th>\n      <th>CEP_LOAD_MWH</th>\n      <th>TOTAL_CLASS_LOAD_MWH</th>\n      <th>UTILITY</th>\n      <th>CUSTOMER_CLASS</th>\n    </tr>\n  </thead>\n  <tbody>\n    <tr>\n      <th>1</th>\n      <td>2023-07-31</td>\n      <td>211.428571</td>\n      <td>2176.285714</td>\n      <td>BANGOR HYDRO DISTRICT</td>\n      <td>SMALL</td>\n    </tr>\n    <tr>\n      <th>2</th>\n      <td>2023-06-30</td>\n      <td>199.000000</td>\n      <td>2027.000000</td>\n      <td>BANGOR HYDRO DISTRICT</td>\n      <td>SMALL</td>\n    </tr>\n    <tr>\n      <th>3</th>\n      <td>2023-05-31</td>\n      <td>194.571429</td>\n      <td>1999.857143</td>\n      <td>BANGOR HYDRO DISTRICT</td>\n      <td>SMALL</td>\n    </tr>\n    <tr>\n      <th>4</th>\n      <td>2023-04-30</td>\n      <td>187.142857</td>\n      <td>2085.571429</td>\n      <td>BANGOR HYDRO DISTRICT</td>\n      <td>SMALL</td>\n    </tr>\n    <tr>\n      <th>5</th>\n      <td>2023-03-31</td>\n      <td>237.571429</td>\n      <td>2751.571429</td>\n      <td>BANGOR HYDRO DISTRICT</td>\n      <td>SMALL</td>\n    </tr>\n  </tbody>\n</table>\n</div>"
     },
     "execution_count": 10,
     "metadata": {},
     "output_type": "execute_result"
    }
   ],
   "source": [
    "migration_df = hf.process_customer_migration_files(migration_xls, data_dir, process_dir)\n",
    "\n",
    "migration_df.head()"
   ],
   "metadata": {
    "collapsed": false,
    "ExecuteTime": {
     "end_time": "2024-02-22T03:53:34.057413Z",
     "start_time": "2024-02-22T03:53:33.075287Z"
    }
   },
   "id": "749069e32eb89188"
  }
 ],
 "metadata": {
  "kernelspec": {
   "display_name": "Python 3",
   "language": "python",
   "name": "python3"
  },
  "language_info": {
   "codemirror_mode": {
    "name": "ipython",
    "version": 2
   },
   "file_extension": ".py",
   "mimetype": "text/x-python",
   "name": "python",
   "nbconvert_exporter": "python",
   "pygments_lexer": "ipython2",
   "version": "2.7.6"
  }
 },
 "nbformat": 4,
 "nbformat_minor": 5
}
