{
 "cells": [
  {
   "cell_type": "code",
   "execution_count": 121,
   "id": "initial_id",
   "metadata": {
    "collapsed": true,
    "ExecuteTime": {
     "end_time": "2023-11-19T07:41:44.387841Z",
     "start_time": "2023-11-19T07:41:44.372595Z"
    }
   },
   "outputs": [],
   "source": [
    "## Notebook for extracting data for CEP-related analysis"
   ]
  },
  {
   "cell_type": "code",
   "execution_count": 145,
   "outputs": [],
   "source": [
    "import pandas as pd\n",
    "import requests\n",
    "import numpy as np\n",
    "import os\n",
    "import glob\n",
    "import re\n",
    "from datetime import datetime\n",
    "from zipfile import ZipFile\n",
    "from io import BytesIO\n",
    "import helper_functions as hf\n",
    "from importlib import reload"
   ],
   "metadata": {
    "collapsed": false,
    "ExecuteTime": {
     "end_time": "2023-11-19T08:01:47.434650Z",
     "start_time": "2023-11-19T08:01:47.433271Z"
    }
   },
   "id": "9ed414e7d596bac3"
  },
  {
   "cell_type": "markdown",
   "source": [
    "### Extract and store all raw XLSX files from EIA page"
   ],
   "metadata": {
    "collapsed": false
   },
   "id": "b762dba68f39c5aa"
  },
  {
   "cell_type": "code",
   "execution_count": 147,
   "outputs": [
    {
     "name": "stdout",
     "output_type": "stream",
     "text": [
      "Extracted Sales_Ult_Cust_2012.xlsx\n",
      "Extracted Sales_Ult_Cust_2013.xls\n",
      "Extracted Sales_Ult_Cust_2014.xls\n",
      "Extracted Sales_Ult_Cust_2015.xlsx\n",
      "Extracted Sales_Ult_Cust_2016.xlsx\n",
      "Extracted Sales_Ult_Cust_2017.xlsx\n",
      "Extracted Sales_Ult_Cust_2018.xlsx\n",
      "Extracted Sales_Ult_Cust_2019.xlsx\n",
      "Extracted Sales_Ult_Cust_2020.xlsx\n",
      "Extracted Sales_Ult_Cust_2021.xlsx\n",
      "Reading in /Users/Darren/git-clones/data-projects/CEPs/etl_scripts/raw_data/Sales_Ult_Cust_2017.xlsx\n",
      "Reading in /Users/Darren/git-clones/data-projects/CEPs/etl_scripts/raw_data/Sales_Ult_Cust_2021.xlsx\n",
      "Reading in /Users/Darren/git-clones/data-projects/CEPs/etl_scripts/raw_data/Sales_Ult_Cust_2020.xlsx\n",
      "Reading in /Users/Darren/git-clones/data-projects/CEPs/etl_scripts/raw_data/Sales_Ult_Cust_2016.xlsx\n",
      "Reading in /Users/Darren/git-clones/data-projects/CEPs/etl_scripts/raw_data/Sales_Ult_Cust_2013.xls\n",
      "Reading in /Users/Darren/git-clones/data-projects/CEPs/etl_scripts/raw_data/Sales_Ult_Cust_2012.xlsx\n",
      "Reading in /Users/Darren/git-clones/data-projects/CEPs/etl_scripts/raw_data/Sales_Ult_Cust_2014.xls\n",
      "Reading in /Users/Darren/git-clones/data-projects/CEPs/etl_scripts/raw_data/Sales_Ult_Cust_2015.xlsx\n",
      "Reading in /Users/Darren/git-clones/data-projects/CEPs/etl_scripts/raw_data/Sales_Ult_Cust_2019.xlsx\n",
      "Reading in /Users/Darren/git-clones/data-projects/CEPs/etl_scripts/raw_data/Sales_Ult_Cust_2022.xlsx\n",
      "Reading in /Users/Darren/git-clones/data-projects/CEPs/etl_scripts/raw_data/Sales_Ult_Cust_2018.xlsx\n",
      "Merged dataframe of (3438, 18)\n",
      "Wrote dataframe to CSV in /Users/Darren/git-clones/data-projects/CEPs/etl_scripts/prepared_data\n"
     ]
    }
   ],
   "source": [
    "# Set location for data files\n",
    "data_dir = os.path.join(os.getcwd(), 'raw_data')\n",
    "process_dir = os.path.join(os.getcwd(), 'prepared_data')\n",
    "\n",
    "# Read in EIA from web page\n",
    "hf.download_eia_861(2012, 2022, data_dir)\n",
    "\n",
    "# Import to dataframes and merge\n",
    "eia_df = hf.process_and_merge_861(data_dir=data_dir, process_dir=process_dir)"
   ],
   "metadata": {
    "collapsed": false,
    "ExecuteTime": {
     "end_time": "2023-11-19T08:06:47.320933Z",
     "start_time": "2023-11-19T08:06:28.237271Z"
    }
   },
   "id": "1f88754833674457"
  },
  {
   "cell_type": "markdown",
   "source": [
    "## Extract and process "
   ],
   "metadata": {
    "collapsed": false
   },
   "id": "b0af441823919cc6"
  },
  {
   "cell_type": "code",
   "execution_count": 154,
   "outputs": [
    {
     "data": {
      "text/plain": "    YEAR              UTILITY_NAME      TESTING_VAR_NAME TESTING_VALUE_NAME\n0   2017   City of Aberdeen - (MS)        UTILITY_NUMBER               55.0\n1   2017  City of Abbeville - (LA)        UTILITY_NUMBER               59.0\n2   2017       A & N Electric Coop        UTILITY_NUMBER               84.0\n3   2017       A & N Electric Coop        UTILITY_NUMBER               84.0\n4   2017       Adams Electric Coop        UTILITY_NUMBER               97.0\n..   ...                       ...                   ...                ...\n75  2017   City of Aberdeen - (MS)  INDUSTRIAL_CUSTOMERS                  2\n76  2017  City of Abbeville - (LA)  INDUSTRIAL_CUSTOMERS                 27\n77  2017       A & N Electric Coop  INDUSTRIAL_CUSTOMERS                  0\n78  2017       A & N Electric Coop  INDUSTRIAL_CUSTOMERS                  8\n79  2017       Adams Electric Coop  INDUSTRIAL_CUSTOMERS                  .\n\n[80 rows x 4 columns]",
      "text/html": "<div>\n<style scoped>\n    .dataframe tbody tr th:only-of-type {\n        vertical-align: middle;\n    }\n\n    .dataframe tbody tr th {\n        vertical-align: top;\n    }\n\n    .dataframe thead th {\n        text-align: right;\n    }\n</style>\n<table border=\"1\" class=\"dataframe\">\n  <thead>\n    <tr style=\"text-align: right;\">\n      <th></th>\n      <th>YEAR</th>\n      <th>UTILITY_NAME</th>\n      <th>TESTING_VAR_NAME</th>\n      <th>TESTING_VALUE_NAME</th>\n    </tr>\n  </thead>\n  <tbody>\n    <tr>\n      <th>0</th>\n      <td>2017</td>\n      <td>City of Aberdeen - (MS)</td>\n      <td>UTILITY_NUMBER</td>\n      <td>55.0</td>\n    </tr>\n    <tr>\n      <th>1</th>\n      <td>2017</td>\n      <td>City of Abbeville - (LA)</td>\n      <td>UTILITY_NUMBER</td>\n      <td>59.0</td>\n    </tr>\n    <tr>\n      <th>2</th>\n      <td>2017</td>\n      <td>A &amp; N Electric Coop</td>\n      <td>UTILITY_NUMBER</td>\n      <td>84.0</td>\n    </tr>\n    <tr>\n      <th>3</th>\n      <td>2017</td>\n      <td>A &amp; N Electric Coop</td>\n      <td>UTILITY_NUMBER</td>\n      <td>84.0</td>\n    </tr>\n    <tr>\n      <th>4</th>\n      <td>2017</td>\n      <td>Adams Electric Coop</td>\n      <td>UTILITY_NUMBER</td>\n      <td>97.0</td>\n    </tr>\n    <tr>\n      <th>...</th>\n      <td>...</td>\n      <td>...</td>\n      <td>...</td>\n      <td>...</td>\n    </tr>\n    <tr>\n      <th>75</th>\n      <td>2017</td>\n      <td>City of Aberdeen - (MS)</td>\n      <td>INDUSTRIAL_CUSTOMERS</td>\n      <td>2</td>\n    </tr>\n    <tr>\n      <th>76</th>\n      <td>2017</td>\n      <td>City of Abbeville - (LA)</td>\n      <td>INDUSTRIAL_CUSTOMERS</td>\n      <td>27</td>\n    </tr>\n    <tr>\n      <th>77</th>\n      <td>2017</td>\n      <td>A &amp; N Electric Coop</td>\n      <td>INDUSTRIAL_CUSTOMERS</td>\n      <td>0</td>\n    </tr>\n    <tr>\n      <th>78</th>\n      <td>2017</td>\n      <td>A &amp; N Electric Coop</td>\n      <td>INDUSTRIAL_CUSTOMERS</td>\n      <td>8</td>\n    </tr>\n    <tr>\n      <th>79</th>\n      <td>2017</td>\n      <td>Adams Electric Coop</td>\n      <td>INDUSTRIAL_CUSTOMERS</td>\n      <td>.</td>\n    </tr>\n  </tbody>\n</table>\n<p>80 rows × 4 columns</p>\n</div>"
     },
     "execution_count": 154,
     "metadata": {},
     "output_type": "execute_result"
    }
   ],
   "source": [
    "pd.melt(eia_df.head(), id_vars = ['YEAR', 'UTILITY_NAME'], var_name = 'TESTING_VAR_NAME', value_name = 'TESTING_VALUE_NAME' )"
   ],
   "metadata": {
    "collapsed": false,
    "ExecuteTime": {
     "end_time": "2023-11-19T08:11:51.722479Z",
     "start_time": "2023-11-19T08:11:51.702929Z"
    }
   },
   "id": "7f198a7d26a0c763"
  },
  {
   "cell_type": "code",
   "execution_count": 149,
   "outputs": [
    {
     "data": {
      "text/plain": "<module 'helper_functions' from '/Users/Darren/git-clones/data-projects/CEPs/etl_scripts/helper_functions.py'>"
     },
     "execution_count": 149,
     "metadata": {},
     "output_type": "execute_result"
    }
   ],
   "source": [
    "reload(hf)"
   ],
   "metadata": {
    "collapsed": false,
    "ExecuteTime": {
     "end_time": "2023-11-19T08:08:05.510199Z",
     "start_time": "2023-11-19T08:08:05.501792Z"
    }
   },
   "id": "2931a2bf42755d8e"
  }
 ],
 "metadata": {
  "kernelspec": {
   "display_name": "Python 3",
   "language": "python",
   "name": "python3"
  },
  "language_info": {
   "codemirror_mode": {
    "name": "ipython",
    "version": 2
   },
   "file_extension": ".py",
   "mimetype": "text/x-python",
   "name": "python",
   "nbconvert_exporter": "python",
   "pygments_lexer": "ipython2",
   "version": "2.7.6"
  }
 },
 "nbformat": 4,
 "nbformat_minor": 5
}
