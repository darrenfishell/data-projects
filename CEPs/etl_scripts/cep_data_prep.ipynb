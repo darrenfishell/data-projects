{
 "cells": [
  {
   "cell_type": "markdown",
   "source": [
    "# Notebook for extracting data for CEP-related analysis\n",
    "\n",
    "This script retrieves and transforms various data sources for this analysis: \n",
    "\n",
    "1. EIA-861 files detailing MWh, Revenue and annual customers for CEPs\n",
    "2. Customer migration statistics from the Public Utilities Commission\n",
    "3. Historical standard offer rates by service territory (compiled manually)"
   ],
   "metadata": {
    "collapsed": false
   },
   "id": "6d684f619e828663"
  },
  {
   "cell_type": "code",
   "execution_count": 3,
   "outputs": [],
   "source": [
    "import pandas as pd\n",
    "import requests\n",
    "import numpy as np\n",
    "import os\n",
    "import glob\n",
    "import re\n",
    "from datetime import datetime\n",
    "from zipfile import ZipFile\n",
    "from io import BytesIO\n",
    "import helper_functions as hf\n",
    "from importlib import reload"
   ],
   "metadata": {
    "collapsed": false,
    "ExecuteTime": {
     "end_time": "2023-11-19T23:12:04.762749Z",
     "start_time": "2023-11-19T23:12:03.861345Z"
    }
   },
   "id": "9ed414e7d596bac3"
  },
  {
   "cell_type": "markdown",
   "source": [
    "## 1. Extract and store EIA files"
   ],
   "metadata": {
    "collapsed": false
   },
   "id": "b762dba68f39c5aa"
  },
  {
   "cell_type": "markdown",
   "source": [
    "### Set locations"
   ],
   "metadata": {
    "collapsed": false
   },
   "id": "79e8837a6cdbf2be"
  },
  {
   "cell_type": "code",
   "execution_count": 6,
   "outputs": [],
   "source": [
    "data_dir = os.path.join(os.getcwd(), 'raw_data')\n",
    "process_dir = os.path.join(os.getcwd(), 'prepared_data')"
   ],
   "metadata": {
    "collapsed": false,
    "ExecuteTime": {
     "end_time": "2023-11-19T23:12:28.231065Z",
     "start_time": "2023-11-19T23:12:28.215658Z"
    }
   },
   "id": "b6584a294ea87f1e"
  },
  {
   "cell_type": "markdown",
   "source": [
    "#### Read in files from ZIPs at [EIA page](https://www.eia.gov/electricity/data/eia861/)"
   ],
   "metadata": {
    "collapsed": false
   },
   "id": "3a62ac451daead8a"
  },
  {
   "cell_type": "code",
   "execution_count": 147,
   "outputs": [
    {
     "name": "stdout",
     "output_type": "stream",
     "text": [
      "Extracted Sales_Ult_Cust_2012.xlsx\n",
      "Extracted Sales_Ult_Cust_2013.xls\n",
      "Extracted Sales_Ult_Cust_2014.xls\n",
      "Extracted Sales_Ult_Cust_2015.xlsx\n",
      "Extracted Sales_Ult_Cust_2016.xlsx\n",
      "Extracted Sales_Ult_Cust_2017.xlsx\n",
      "Extracted Sales_Ult_Cust_2018.xlsx\n",
      "Extracted Sales_Ult_Cust_2019.xlsx\n",
      "Extracted Sales_Ult_Cust_2020.xlsx\n",
      "Extracted Sales_Ult_Cust_2021.xlsx\n",
      "Reading in /Users/Darren/git-clones/data-projects/CEPs/etl_scripts/raw_data/Sales_Ult_Cust_2017.xlsx\n",
      "Reading in /Users/Darren/git-clones/data-projects/CEPs/etl_scripts/raw_data/Sales_Ult_Cust_2021.xlsx\n",
      "Reading in /Users/Darren/git-clones/data-projects/CEPs/etl_scripts/raw_data/Sales_Ult_Cust_2020.xlsx\n",
      "Reading in /Users/Darren/git-clones/data-projects/CEPs/etl_scripts/raw_data/Sales_Ult_Cust_2016.xlsx\n",
      "Reading in /Users/Darren/git-clones/data-projects/CEPs/etl_scripts/raw_data/Sales_Ult_Cust_2013.xls\n",
      "Reading in /Users/Darren/git-clones/data-projects/CEPs/etl_scripts/raw_data/Sales_Ult_Cust_2012.xlsx\n",
      "Reading in /Users/Darren/git-clones/data-projects/CEPs/etl_scripts/raw_data/Sales_Ult_Cust_2014.xls\n",
      "Reading in /Users/Darren/git-clones/data-projects/CEPs/etl_scripts/raw_data/Sales_Ult_Cust_2015.xlsx\n",
      "Reading in /Users/Darren/git-clones/data-projects/CEPs/etl_scripts/raw_data/Sales_Ult_Cust_2019.xlsx\n",
      "Reading in /Users/Darren/git-clones/data-projects/CEPs/etl_scripts/raw_data/Sales_Ult_Cust_2022.xlsx\n",
      "Reading in /Users/Darren/git-clones/data-projects/CEPs/etl_scripts/raw_data/Sales_Ult_Cust_2018.xlsx\n",
      "Merged dataframe of (3438, 18)\n",
      "Wrote dataframe to CSV in /Users/Darren/git-clones/data-projects/CEPs/etl_scripts/prepared_data\n"
     ]
    }
   ],
   "source": [
    "hf.download_eia_861(2012, 2022, data_dir)"
   ],
   "metadata": {
    "collapsed": false,
    "ExecuteTime": {
     "end_time": "2023-11-19T08:06:47.320933Z",
     "start_time": "2023-11-19T08:06:28.237271Z"
    }
   },
   "id": "1f88754833674457"
  },
  {
   "cell_type": "markdown",
   "source": [
    "#### Transform and merge separate files, write to CSV and store as dataframe for inspection"
   ],
   "metadata": {
    "collapsed": false
   },
   "id": "bcf1cc805e4c8af1"
  },
  {
   "cell_type": "code",
   "execution_count": 84,
   "outputs": [
    {
     "name": "stdout",
     "output_type": "stream",
     "text": [
      "Reading in /Users/Darren/git-clones/data-projects/CEPs/etl_scripts/raw_data/Sales_Ult_Cust_2017.xlsx\n",
      "Reading in /Users/Darren/git-clones/data-projects/CEPs/etl_scripts/raw_data/Sales_Ult_Cust_2021.xlsx\n",
      "Reading in /Users/Darren/git-clones/data-projects/CEPs/etl_scripts/raw_data/Sales_Ult_Cust_2020.xlsx\n",
      "Reading in /Users/Darren/git-clones/data-projects/CEPs/etl_scripts/raw_data/Sales_Ult_Cust_2016.xlsx\n",
      "Reading in /Users/Darren/git-clones/data-projects/CEPs/etl_scripts/raw_data/Sales_Ult_Cust_2013.xls\n",
      "Reading in /Users/Darren/git-clones/data-projects/CEPs/etl_scripts/raw_data/Sales_Ult_Cust_2012.xlsx\n",
      "Reading in /Users/Darren/git-clones/data-projects/CEPs/etl_scripts/raw_data/Sales_Ult_Cust_2014.xls\n",
      "Reading in /Users/Darren/git-clones/data-projects/CEPs/etl_scripts/raw_data/Sales_Ult_Cust_2015.xlsx\n",
      "Reading in /Users/Darren/git-clones/data-projects/CEPs/etl_scripts/raw_data/Sales_Ult_Cust_2019.xlsx\n",
      "Reading in /Users/Darren/git-clones/data-projects/CEPs/etl_scripts/raw_data/Sales_Ult_Cust_2022.xlsx\n",
      "Reading in /Users/Darren/git-clones/data-projects/CEPs/etl_scripts/raw_data/Sales_Ult_Cust_2018.xlsx\n",
      "Merged dataframe of (104481, 13)\n",
      "Wrote dataframe to CSV in /Users/Darren/git-clones/data-projects/CEPs/etl_scripts/prepared_data\n"
     ]
    }
   ],
   "source": [
    "eia_df = hf.process_and_merge_861(data_dir=data_dir, process_dir=process_dir)"
   ],
   "metadata": {
    "collapsed": false,
    "ExecuteTime": {
     "end_time": "2023-11-20T00:32:41.017121Z",
     "start_time": "2023-11-20T00:32:32.587023Z"
    }
   },
   "id": "d937a909164da4de"
  },
  {
   "cell_type": "markdown",
   "source": [
    "## Extract and process "
   ],
   "metadata": {
    "collapsed": false
   },
   "id": "b0af441823919cc6"
  },
  {
   "cell_type": "code",
   "execution_count": 83,
   "outputs": [
    {
     "data": {
      "text/plain": "<module 'helper_functions' from '/Users/Darren/git-clones/data-projects/CEPs/etl_scripts/helper_functions.py'>"
     },
     "execution_count": 83,
     "metadata": {},
     "output_type": "execute_result"
    }
   ],
   "source": [
    "reload(hf)"
   ],
   "metadata": {
    "collapsed": false,
    "ExecuteTime": {
     "end_time": "2023-11-20T00:32:28.535635Z",
     "start_time": "2023-11-20T00:32:28.530179Z"
    }
   },
   "id": "2931a2bf42755d8e"
  },
  {
   "cell_type": "markdown",
   "source": [
    "## 2. Maine customer migration statistics\n",
    "\n",
    "Update file dir based on [this page](https://www.maine.gov/mpuc/regulated-utilities/electricity/choosing-supplier/migration-statistics) from the Maine PUC. "
   ],
   "metadata": {
    "collapsed": false
   },
   "id": "e05b04e0e08dd85c"
  },
  {
   "cell_type": "code",
   "execution_count": 109,
   "outputs": [],
   "source": [
    "migration_xls = 'https://www.maine.gov/mpuc/sites/maine.gov.mpuc/files/inline-files/Standard%20Offer%20Migration%20Stats%20through%2008.15.23.xls'\n",
    "\n",
    "customer_df = pd.read_excel(migration_xls, skiprows=3, usecols='A:AK')"
   ],
   "metadata": {
    "collapsed": false,
    "ExecuteTime": {
     "end_time": "2023-11-20T01:23:54.894194Z",
     "start_time": "2023-11-20T01:23:47.641086Z"
    }
   },
   "id": "2aa6a84db58ffb60"
  },
  {
   "cell_type": "code",
   "execution_count": 111,
   "outputs": [
    {
     "data": {
      "text/plain": "   Unnamed: 0    # CEP     % CEP  # customers in class  # CEP.1   % CEP.1  \\\n1  2023-07-31  10708.0  0.083539              128179.0    883.0  0.511587   \n2  2023-06-30  10553.0  0.082000              128042.0    877.0  0.508000   \n3  2023-05-31  10329.0  0.080830              127786.0    863.0  0.499421   \n4  2023-04-30  10008.0  0.078558              127396.0    847.0  0.493302   \n5  2023-03-31   9678.0  0.076214              126984.0    835.0  0.495255   \n6  2023-02-28   9590.0  0.075572              126899.0    821.0  0.492797   \n7  2023-01-31   9865.0  0.077760              126865.0    811.0  0.487087   \n8  2022-12-31  10017.0  0.079002              126794.0    796.0  0.476647   \n9  2022-11-30  10162.0  0.080170              126756.0    810.0  0.482430   \n10 2022-10-31  10285.0  0.080995              126983.0    818.0  0.482027   \n\n    # customers in class.1  # CEP.2   % CEP.2  # customers in class.2  ...  \\\n1                   1726.0     35.0  0.614035                    57.0  ...   \n2                   1728.0     35.0  0.614000                    57.0  ...   \n3                   1728.0     35.0  0.625000                    56.0  ...   \n4                   1717.0     36.0  0.654545                    55.0  ...   \n5                   1686.0     36.0  0.654545                    55.0  ...   \n6                   1666.0     36.0  0.654545                    55.0  ...   \n7                   1665.0     36.0  0.654545                    55.0  ...   \n8                   1670.0     36.0  0.654545                    55.0  ...   \n9                   1679.0     36.0  0.642857                    56.0  ...   \n10                  1697.0     36.0  0.642857                    56.0  ...   \n\n    # customers in class.8  # CEP.9   % CEP.9  # customers in class.9  \\\n1                  36238.0     50.0  0.246305                   203.0   \n2                  36222.0     51.0  0.250000                   204.0   \n3                  36228.0     51.0  0.250000                   204.0   \n4                  36160.0     50.0  0.235849                   212.0   \n5                  36140.0     50.0  0.242718                   206.0   \n6                  36137.0     55.0  0.261905                   210.0   \n7                  36149.0     56.0  0.265403                   211.0   \n8                  36115.0     47.0  0.221698                   212.0   \n9                  36137.0     47.0  0.223810                   210.0   \n10                 36104.0     51.0  0.245192                   208.0   \n\n    # CEP.10  % CEP.10  # customers in class.10  # CEP.11  % CEP.11  \\\n1       13.0  0.812500                     16.0     387.0  0.010615   \n2       13.0  0.813000                     16.0     414.0  0.011000   \n3       13.0  0.812500                     16.0     415.0  0.011386   \n4       13.0  0.812500                     16.0     384.0  0.010553   \n5       13.0  0.812500                     16.0     385.0  0.010588   \n6       13.0  0.812500                     16.0     403.0  0.011083   \n7       13.0  0.812500                     16.0     412.0  0.011326   \n8        6.0  0.375000                     16.0     314.0  0.008640   \n9        6.0  0.375000                     16.0     320.0  0.008800   \n10       6.0  0.666667                      9.0     328.0  0.009031   \n\n    # customers in class.11  \n1                   36457.0  \n2                   36442.0  \n3                   36448.0  \n4                   36388.0  \n5                   36362.0  \n6                   36363.0  \n7                   36376.0  \n8                   36343.0  \n9                   36363.0  \n10                  36321.0  \n\n[10 rows x 37 columns]",
      "text/html": "<div>\n<style scoped>\n    .dataframe tbody tr th:only-of-type {\n        vertical-align: middle;\n    }\n\n    .dataframe tbody tr th {\n        vertical-align: top;\n    }\n\n    .dataframe thead th {\n        text-align: right;\n    }\n</style>\n<table border=\"1\" class=\"dataframe\">\n  <thead>\n    <tr style=\"text-align: right;\">\n      <th></th>\n      <th>Unnamed: 0</th>\n      <th># CEP</th>\n      <th>% CEP</th>\n      <th># customers in class</th>\n      <th># CEP.1</th>\n      <th>% CEP.1</th>\n      <th># customers in class.1</th>\n      <th># CEP.2</th>\n      <th>% CEP.2</th>\n      <th># customers in class.2</th>\n      <th>...</th>\n      <th># customers in class.8</th>\n      <th># CEP.9</th>\n      <th>% CEP.9</th>\n      <th># customers in class.9</th>\n      <th># CEP.10</th>\n      <th>% CEP.10</th>\n      <th># customers in class.10</th>\n      <th># CEP.11</th>\n      <th>% CEP.11</th>\n      <th># customers in class.11</th>\n    </tr>\n  </thead>\n  <tbody>\n    <tr>\n      <th>1</th>\n      <td>2023-07-31</td>\n      <td>10708.0</td>\n      <td>0.083539</td>\n      <td>128179.0</td>\n      <td>883.0</td>\n      <td>0.511587</td>\n      <td>1726.0</td>\n      <td>35.0</td>\n      <td>0.614035</td>\n      <td>57.0</td>\n      <td>...</td>\n      <td>36238.0</td>\n      <td>50.0</td>\n      <td>0.246305</td>\n      <td>203.0</td>\n      <td>13.0</td>\n      <td>0.812500</td>\n      <td>16.0</td>\n      <td>387.0</td>\n      <td>0.010615</td>\n      <td>36457.0</td>\n    </tr>\n    <tr>\n      <th>2</th>\n      <td>2023-06-30</td>\n      <td>10553.0</td>\n      <td>0.082000</td>\n      <td>128042.0</td>\n      <td>877.0</td>\n      <td>0.508000</td>\n      <td>1728.0</td>\n      <td>35.0</td>\n      <td>0.614000</td>\n      <td>57.0</td>\n      <td>...</td>\n      <td>36222.0</td>\n      <td>51.0</td>\n      <td>0.250000</td>\n      <td>204.0</td>\n      <td>13.0</td>\n      <td>0.813000</td>\n      <td>16.0</td>\n      <td>414.0</td>\n      <td>0.011000</td>\n      <td>36442.0</td>\n    </tr>\n    <tr>\n      <th>3</th>\n      <td>2023-05-31</td>\n      <td>10329.0</td>\n      <td>0.080830</td>\n      <td>127786.0</td>\n      <td>863.0</td>\n      <td>0.499421</td>\n      <td>1728.0</td>\n      <td>35.0</td>\n      <td>0.625000</td>\n      <td>56.0</td>\n      <td>...</td>\n      <td>36228.0</td>\n      <td>51.0</td>\n      <td>0.250000</td>\n      <td>204.0</td>\n      <td>13.0</td>\n      <td>0.812500</td>\n      <td>16.0</td>\n      <td>415.0</td>\n      <td>0.011386</td>\n      <td>36448.0</td>\n    </tr>\n    <tr>\n      <th>4</th>\n      <td>2023-04-30</td>\n      <td>10008.0</td>\n      <td>0.078558</td>\n      <td>127396.0</td>\n      <td>847.0</td>\n      <td>0.493302</td>\n      <td>1717.0</td>\n      <td>36.0</td>\n      <td>0.654545</td>\n      <td>55.0</td>\n      <td>...</td>\n      <td>36160.0</td>\n      <td>50.0</td>\n      <td>0.235849</td>\n      <td>212.0</td>\n      <td>13.0</td>\n      <td>0.812500</td>\n      <td>16.0</td>\n      <td>384.0</td>\n      <td>0.010553</td>\n      <td>36388.0</td>\n    </tr>\n    <tr>\n      <th>5</th>\n      <td>2023-03-31</td>\n      <td>9678.0</td>\n      <td>0.076214</td>\n      <td>126984.0</td>\n      <td>835.0</td>\n      <td>0.495255</td>\n      <td>1686.0</td>\n      <td>36.0</td>\n      <td>0.654545</td>\n      <td>55.0</td>\n      <td>...</td>\n      <td>36140.0</td>\n      <td>50.0</td>\n      <td>0.242718</td>\n      <td>206.0</td>\n      <td>13.0</td>\n      <td>0.812500</td>\n      <td>16.0</td>\n      <td>385.0</td>\n      <td>0.010588</td>\n      <td>36362.0</td>\n    </tr>\n    <tr>\n      <th>6</th>\n      <td>2023-02-28</td>\n      <td>9590.0</td>\n      <td>0.075572</td>\n      <td>126899.0</td>\n      <td>821.0</td>\n      <td>0.492797</td>\n      <td>1666.0</td>\n      <td>36.0</td>\n      <td>0.654545</td>\n      <td>55.0</td>\n      <td>...</td>\n      <td>36137.0</td>\n      <td>55.0</td>\n      <td>0.261905</td>\n      <td>210.0</td>\n      <td>13.0</td>\n      <td>0.812500</td>\n      <td>16.0</td>\n      <td>403.0</td>\n      <td>0.011083</td>\n      <td>36363.0</td>\n    </tr>\n    <tr>\n      <th>7</th>\n      <td>2023-01-31</td>\n      <td>9865.0</td>\n      <td>0.077760</td>\n      <td>126865.0</td>\n      <td>811.0</td>\n      <td>0.487087</td>\n      <td>1665.0</td>\n      <td>36.0</td>\n      <td>0.654545</td>\n      <td>55.0</td>\n      <td>...</td>\n      <td>36149.0</td>\n      <td>56.0</td>\n      <td>0.265403</td>\n      <td>211.0</td>\n      <td>13.0</td>\n      <td>0.812500</td>\n      <td>16.0</td>\n      <td>412.0</td>\n      <td>0.011326</td>\n      <td>36376.0</td>\n    </tr>\n    <tr>\n      <th>8</th>\n      <td>2022-12-31</td>\n      <td>10017.0</td>\n      <td>0.079002</td>\n      <td>126794.0</td>\n      <td>796.0</td>\n      <td>0.476647</td>\n      <td>1670.0</td>\n      <td>36.0</td>\n      <td>0.654545</td>\n      <td>55.0</td>\n      <td>...</td>\n      <td>36115.0</td>\n      <td>47.0</td>\n      <td>0.221698</td>\n      <td>212.0</td>\n      <td>6.0</td>\n      <td>0.375000</td>\n      <td>16.0</td>\n      <td>314.0</td>\n      <td>0.008640</td>\n      <td>36343.0</td>\n    </tr>\n    <tr>\n      <th>9</th>\n      <td>2022-11-30</td>\n      <td>10162.0</td>\n      <td>0.080170</td>\n      <td>126756.0</td>\n      <td>810.0</td>\n      <td>0.482430</td>\n      <td>1679.0</td>\n      <td>36.0</td>\n      <td>0.642857</td>\n      <td>56.0</td>\n      <td>...</td>\n      <td>36137.0</td>\n      <td>47.0</td>\n      <td>0.223810</td>\n      <td>210.0</td>\n      <td>6.0</td>\n      <td>0.375000</td>\n      <td>16.0</td>\n      <td>320.0</td>\n      <td>0.008800</td>\n      <td>36363.0</td>\n    </tr>\n    <tr>\n      <th>10</th>\n      <td>2022-10-31</td>\n      <td>10285.0</td>\n      <td>0.080995</td>\n      <td>126983.0</td>\n      <td>818.0</td>\n      <td>0.482027</td>\n      <td>1697.0</td>\n      <td>36.0</td>\n      <td>0.642857</td>\n      <td>56.0</td>\n      <td>...</td>\n      <td>36104.0</td>\n      <td>51.0</td>\n      <td>0.245192</td>\n      <td>208.0</td>\n      <td>6.0</td>\n      <td>0.666667</td>\n      <td>9.0</td>\n      <td>328.0</td>\n      <td>0.009031</td>\n      <td>36321.0</td>\n    </tr>\n  </tbody>\n</table>\n<p>10 rows × 37 columns</p>\n</div>"
     },
     "execution_count": 111,
     "metadata": {},
     "output_type": "execute_result"
    }
   ],
   "source": [
    "customer_df = customer_df[~customer_df.iloc[:, 1].isna()]\n",
    "customer_df.head()"
   ],
   "metadata": {
    "collapsed": false,
    "ExecuteTime": {
     "end_time": "2023-11-20T01:26:05.073961Z",
     "start_time": "2023-11-20T01:26:05.070439Z"
    }
   },
   "id": "a81652e30caa72db"
  },
  {
   "cell_type": "code",
   "execution_count": 112,
   "outputs": [
    {
     "data": {
      "text/plain": "   Unnamed: 0    # CEP  # customers in class  # CEP.1  # customers in class.1  \\\n1  2023-07-31  10708.0              128179.0    883.0                  1726.0   \n2  2023-06-30  10553.0              128042.0    877.0                  1728.0   \n3  2023-05-31  10329.0              127786.0    863.0                  1728.0   \n4  2023-04-30  10008.0              127396.0    847.0                  1717.0   \n5  2023-03-31   9678.0              126984.0    835.0                  1686.0   \n6  2023-02-28   9590.0              126899.0    821.0                  1666.0   \n7  2023-01-31   9865.0              126865.0    811.0                  1665.0   \n8  2022-12-31  10017.0              126794.0    796.0                  1670.0   \n9  2022-11-30  10162.0              126756.0    810.0                  1679.0   \n10 2022-10-31  10285.0              126983.0    818.0                  1697.0   \n\n    # CEP.2  # customers in class.2  # CEP.3  # customers in class.3  # CEP.4  \\\n1      35.0                    57.0  11626.0                129962.0  74959.0   \n2      35.0                    57.0  11465.0                129827.0  75195.0   \n3      35.0                    56.0  11227.0                129570.0  71824.0   \n4      36.0                    55.0  10891.0                129168.0  60836.0   \n5      36.0                    55.0  10549.0                128725.0  66214.0   \n6      36.0                    55.0  10447.0                128620.0  61463.0   \n7      36.0                    55.0  10712.0                128585.0  69168.0   \n8      36.0                    55.0  10849.0                128519.0  70693.0   \n9      36.0                    56.0  11008.0                128491.0  68339.0   \n10     36.0                    56.0  11139.0                128736.0  69581.0   \n\n    ...  # CEP.7  # customers in class.7  # CEP.8  # customers in class.8  \\\n1   ...  80902.0                636183.0    324.0                 36238.0   \n2   ...  81400.0                662860.0    350.0                 36222.0   \n3   ...  77968.0                663946.0    351.0                 36228.0   \n4   ...  66221.0                595513.0    321.0                 36160.0   \n5   ...  72105.0                663075.0    322.0                 36140.0   \n6   ...  66670.0                600891.0    335.0                 36137.0   \n7   ...  74827.0                661304.0    343.0                 36149.0   \n8   ...  76325.0                660258.0    261.0                 36115.0   \n9   ...  73693.0                625336.0    267.0                 36137.0   \n10  ...  74963.0                633798.0    271.0                 36104.0   \n\n    # CEP.9  # customers in class.9  # CEP.10  # customers in class.10  \\\n1      50.0                   203.0      13.0                     16.0   \n2      51.0                   204.0      13.0                     16.0   \n3      51.0                   204.0      13.0                     16.0   \n4      50.0                   212.0      13.0                     16.0   \n5      50.0                   206.0      13.0                     16.0   \n6      55.0                   210.0      13.0                     16.0   \n7      56.0                   211.0      13.0                     16.0   \n8      47.0                   212.0       6.0                     16.0   \n9      47.0                   210.0       6.0                     16.0   \n10     51.0                   208.0       6.0                      9.0   \n\n    # CEP.11  # customers in class.11  \n1      387.0                  36457.0  \n2      414.0                  36442.0  \n3      415.0                  36448.0  \n4      384.0                  36388.0  \n5      385.0                  36362.0  \n6      403.0                  36363.0  \n7      412.0                  36376.0  \n8      314.0                  36343.0  \n9      320.0                  36363.0  \n10     328.0                  36321.0  \n\n[10 rows x 25 columns]",
      "text/html": "<div>\n<style scoped>\n    .dataframe tbody tr th:only-of-type {\n        vertical-align: middle;\n    }\n\n    .dataframe tbody tr th {\n        vertical-align: top;\n    }\n\n    .dataframe thead th {\n        text-align: right;\n    }\n</style>\n<table border=\"1\" class=\"dataframe\">\n  <thead>\n    <tr style=\"text-align: right;\">\n      <th></th>\n      <th>Unnamed: 0</th>\n      <th># CEP</th>\n      <th># customers in class</th>\n      <th># CEP.1</th>\n      <th># customers in class.1</th>\n      <th># CEP.2</th>\n      <th># customers in class.2</th>\n      <th># CEP.3</th>\n      <th># customers in class.3</th>\n      <th># CEP.4</th>\n      <th>...</th>\n      <th># CEP.7</th>\n      <th># customers in class.7</th>\n      <th># CEP.8</th>\n      <th># customers in class.8</th>\n      <th># CEP.9</th>\n      <th># customers in class.9</th>\n      <th># CEP.10</th>\n      <th># customers in class.10</th>\n      <th># CEP.11</th>\n      <th># customers in class.11</th>\n    </tr>\n  </thead>\n  <tbody>\n    <tr>\n      <th>1</th>\n      <td>2023-07-31</td>\n      <td>10708.0</td>\n      <td>128179.0</td>\n      <td>883.0</td>\n      <td>1726.0</td>\n      <td>35.0</td>\n      <td>57.0</td>\n      <td>11626.0</td>\n      <td>129962.0</td>\n      <td>74959.0</td>\n      <td>...</td>\n      <td>80902.0</td>\n      <td>636183.0</td>\n      <td>324.0</td>\n      <td>36238.0</td>\n      <td>50.0</td>\n      <td>203.0</td>\n      <td>13.0</td>\n      <td>16.0</td>\n      <td>387.0</td>\n      <td>36457.0</td>\n    </tr>\n    <tr>\n      <th>2</th>\n      <td>2023-06-30</td>\n      <td>10553.0</td>\n      <td>128042.0</td>\n      <td>877.0</td>\n      <td>1728.0</td>\n      <td>35.0</td>\n      <td>57.0</td>\n      <td>11465.0</td>\n      <td>129827.0</td>\n      <td>75195.0</td>\n      <td>...</td>\n      <td>81400.0</td>\n      <td>662860.0</td>\n      <td>350.0</td>\n      <td>36222.0</td>\n      <td>51.0</td>\n      <td>204.0</td>\n      <td>13.0</td>\n      <td>16.0</td>\n      <td>414.0</td>\n      <td>36442.0</td>\n    </tr>\n    <tr>\n      <th>3</th>\n      <td>2023-05-31</td>\n      <td>10329.0</td>\n      <td>127786.0</td>\n      <td>863.0</td>\n      <td>1728.0</td>\n      <td>35.0</td>\n      <td>56.0</td>\n      <td>11227.0</td>\n      <td>129570.0</td>\n      <td>71824.0</td>\n      <td>...</td>\n      <td>77968.0</td>\n      <td>663946.0</td>\n      <td>351.0</td>\n      <td>36228.0</td>\n      <td>51.0</td>\n      <td>204.0</td>\n      <td>13.0</td>\n      <td>16.0</td>\n      <td>415.0</td>\n      <td>36448.0</td>\n    </tr>\n    <tr>\n      <th>4</th>\n      <td>2023-04-30</td>\n      <td>10008.0</td>\n      <td>127396.0</td>\n      <td>847.0</td>\n      <td>1717.0</td>\n      <td>36.0</td>\n      <td>55.0</td>\n      <td>10891.0</td>\n      <td>129168.0</td>\n      <td>60836.0</td>\n      <td>...</td>\n      <td>66221.0</td>\n      <td>595513.0</td>\n      <td>321.0</td>\n      <td>36160.0</td>\n      <td>50.0</td>\n      <td>212.0</td>\n      <td>13.0</td>\n      <td>16.0</td>\n      <td>384.0</td>\n      <td>36388.0</td>\n    </tr>\n    <tr>\n      <th>5</th>\n      <td>2023-03-31</td>\n      <td>9678.0</td>\n      <td>126984.0</td>\n      <td>835.0</td>\n      <td>1686.0</td>\n      <td>36.0</td>\n      <td>55.0</td>\n      <td>10549.0</td>\n      <td>128725.0</td>\n      <td>66214.0</td>\n      <td>...</td>\n      <td>72105.0</td>\n      <td>663075.0</td>\n      <td>322.0</td>\n      <td>36140.0</td>\n      <td>50.0</td>\n      <td>206.0</td>\n      <td>13.0</td>\n      <td>16.0</td>\n      <td>385.0</td>\n      <td>36362.0</td>\n    </tr>\n    <tr>\n      <th>6</th>\n      <td>2023-02-28</td>\n      <td>9590.0</td>\n      <td>126899.0</td>\n      <td>821.0</td>\n      <td>1666.0</td>\n      <td>36.0</td>\n      <td>55.0</td>\n      <td>10447.0</td>\n      <td>128620.0</td>\n      <td>61463.0</td>\n      <td>...</td>\n      <td>66670.0</td>\n      <td>600891.0</td>\n      <td>335.0</td>\n      <td>36137.0</td>\n      <td>55.0</td>\n      <td>210.0</td>\n      <td>13.0</td>\n      <td>16.0</td>\n      <td>403.0</td>\n      <td>36363.0</td>\n    </tr>\n    <tr>\n      <th>7</th>\n      <td>2023-01-31</td>\n      <td>9865.0</td>\n      <td>126865.0</td>\n      <td>811.0</td>\n      <td>1665.0</td>\n      <td>36.0</td>\n      <td>55.0</td>\n      <td>10712.0</td>\n      <td>128585.0</td>\n      <td>69168.0</td>\n      <td>...</td>\n      <td>74827.0</td>\n      <td>661304.0</td>\n      <td>343.0</td>\n      <td>36149.0</td>\n      <td>56.0</td>\n      <td>211.0</td>\n      <td>13.0</td>\n      <td>16.0</td>\n      <td>412.0</td>\n      <td>36376.0</td>\n    </tr>\n    <tr>\n      <th>8</th>\n      <td>2022-12-31</td>\n      <td>10017.0</td>\n      <td>126794.0</td>\n      <td>796.0</td>\n      <td>1670.0</td>\n      <td>36.0</td>\n      <td>55.0</td>\n      <td>10849.0</td>\n      <td>128519.0</td>\n      <td>70693.0</td>\n      <td>...</td>\n      <td>76325.0</td>\n      <td>660258.0</td>\n      <td>261.0</td>\n      <td>36115.0</td>\n      <td>47.0</td>\n      <td>212.0</td>\n      <td>6.0</td>\n      <td>16.0</td>\n      <td>314.0</td>\n      <td>36343.0</td>\n    </tr>\n    <tr>\n      <th>9</th>\n      <td>2022-11-30</td>\n      <td>10162.0</td>\n      <td>126756.0</td>\n      <td>810.0</td>\n      <td>1679.0</td>\n      <td>36.0</td>\n      <td>56.0</td>\n      <td>11008.0</td>\n      <td>128491.0</td>\n      <td>68339.0</td>\n      <td>...</td>\n      <td>73693.0</td>\n      <td>625336.0</td>\n      <td>267.0</td>\n      <td>36137.0</td>\n      <td>47.0</td>\n      <td>210.0</td>\n      <td>6.0</td>\n      <td>16.0</td>\n      <td>320.0</td>\n      <td>36363.0</td>\n    </tr>\n    <tr>\n      <th>10</th>\n      <td>2022-10-31</td>\n      <td>10285.0</td>\n      <td>126983.0</td>\n      <td>818.0</td>\n      <td>1697.0</td>\n      <td>36.0</td>\n      <td>56.0</td>\n      <td>11139.0</td>\n      <td>128736.0</td>\n      <td>69581.0</td>\n      <td>...</td>\n      <td>74963.0</td>\n      <td>633798.0</td>\n      <td>271.0</td>\n      <td>36104.0</td>\n      <td>51.0</td>\n      <td>208.0</td>\n      <td>6.0</td>\n      <td>9.0</td>\n      <td>328.0</td>\n      <td>36321.0</td>\n    </tr>\n  </tbody>\n</table>\n<p>10 rows × 25 columns</p>\n</div>"
     },
     "execution_count": 112,
     "metadata": {},
     "output_type": "execute_result"
    }
   ],
   "source": [
    "exclude_regex = f'^(?!%)'\n",
    "\n",
    "df_cols = customer_df.filter(regex=exclude_regex)\n",
    "\n",
    "df_cols.head(10)"
   ],
   "metadata": {
    "collapsed": false,
    "ExecuteTime": {
     "end_time": "2023-11-20T01:26:17.401868Z",
     "start_time": "2023-11-20T01:26:17.396795Z"
    }
   },
   "id": "935e35f0e62ec853"
  },
  {
   "cell_type": "code",
   "execution_count": 130,
   "outputs": [],
   "source": [
    "bhe_loc = slice(1, 3)\n",
    "cmp_loc = slice(9, 11)\n",
    "mps_loc = slice(17, 19)\n",
    "\n",
    "bhe_df = df_cols.iloc[: , np.r_[0, bhe_loc]].assign(UTILITY='BANGOR HYDRO DISTRICT')\n",
    "cmp_df = df_cols.iloc[: , np.r_[0, cmp_loc]].assign(UTILITY='CENTRAL MAINE POWER CO.')\n",
    "mps_df = df_cols.iloc[: , np.r_[0, mps_loc]].assign(UTILITY='MAINE PUBLIC SERVICE')"
   ],
   "metadata": {
    "collapsed": false,
    "ExecuteTime": {
     "end_time": "2023-11-20T01:53:53.097668Z",
     "start_time": "2023-11-20T01:53:53.088098Z"
    }
   },
   "id": "80ede2703c789195"
  },
  {
   "cell_type": "code",
   "execution_count": 132,
   "outputs": [],
   "source": [
    "district_dict = {\n",
    "    'BANGOR HYDRO DISTRICT': bhe_loc,\n",
    "    'CENTRAL MAINE POWER CO.': cmp_loc,\n",
    "    'MAINE PUBLIC SERVICE': mps_loc\n",
    "}"
   ],
   "metadata": {
    "collapsed": false,
    "ExecuteTime": {
     "end_time": "2023-11-20T01:57:10.093220Z",
     "start_time": "2023-11-20T01:57:10.089405Z"
    }
   },
   "id": "666161fcd30bf54e"
  },
  {
   "cell_type": "code",
   "execution_count": 143,
   "outputs": [],
   "source": [
    "dfs = []\n",
    "cep_cols = ['DATE', 'CEP_CUSTOMERS', 'TOTAL_CUSTOMERS', 'UTILITY']\n",
    "\n",
    "for utility, col_slice in district_dict.items():\n",
    "    df_slice = df_cols.iloc[: , np.r_[0, col_slice]].assign(UTILITY=utility)\n",
    "    df_slice.columns = cep_cols \n",
    "    dfs.append(df_slice)\n",
    "    \n",
    "migration_df = pd.concat(dfs, axis=0)\n",
    "\n",
    "migration_df.to_csv(os.path.join(process_dir, 'mpuc_customer_migration_statistics.csv'), index=False)"
   ],
   "metadata": {
    "collapsed": false,
    "ExecuteTime": {
     "end_time": "2023-11-20T02:04:14.654586Z",
     "start_time": "2023-11-20T02:04:14.642440Z"
    }
   },
   "id": "f8a5a46e3904627c"
  }
 ],
 "metadata": {
  "kernelspec": {
   "display_name": "Python 3",
   "language": "python",
   "name": "python3"
  },
  "language_info": {
   "codemirror_mode": {
    "name": "ipython",
    "version": 2
   },
   "file_extension": ".py",
   "mimetype": "text/x-python",
   "name": "python",
   "nbconvert_exporter": "python",
   "pygments_lexer": "ipython2",
   "version": "2.7.6"
  }
 },
 "nbformat": 4,
 "nbformat_minor": 5
}
