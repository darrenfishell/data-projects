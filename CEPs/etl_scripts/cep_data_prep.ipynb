{
 "cells": [
  {
   "cell_type": "markdown",
   "source": [
    "# Notebook for extracting data for CEP-related analysis\n",
    "\n",
    "This script retrieves and transforms various data sources for this analysis: \n",
    "\n",
    "1. EIA-861 files detailing MWh, Revenue and annual customers for CEPs\n",
    "2. Customer migration statistics from the Public Utilities Commission\n",
    "3. Historical standard offer rates by service territory (compiled manually)"
   ],
   "metadata": {
    "collapsed": false
   },
   "id": "6d684f619e828663"
  },
  {
   "cell_type": "code",
   "execution_count": 3,
   "outputs": [],
   "source": [
    "import os\n",
    "import helper_functions as hf"
   ],
   "metadata": {
    "collapsed": false,
    "ExecuteTime": {
     "end_time": "2023-11-19T23:12:04.762749Z",
     "start_time": "2023-11-19T23:12:03.861345Z"
    }
   },
   "id": "9ed414e7d596bac3"
  },
  {
   "cell_type": "markdown",
   "source": [
    "## 1. Extract and store EIA files"
   ],
   "metadata": {
    "collapsed": false
   },
   "id": "b762dba68f39c5aa"
  },
  {
   "cell_type": "markdown",
   "source": [
    "### Set locations"
   ],
   "metadata": {
    "collapsed": false
   },
   "id": "79e8837a6cdbf2be"
  },
  {
   "cell_type": "code",
   "execution_count": 6,
   "outputs": [],
   "source": [
    "data_dir = os.path.join(os.getcwd(), 'raw_data')\n",
    "process_dir = os.path.join(os.getcwd(), 'prepared_data')"
   ],
   "metadata": {
    "collapsed": false,
    "ExecuteTime": {
     "end_time": "2023-11-19T23:12:28.231065Z",
     "start_time": "2023-11-19T23:12:28.215658Z"
    }
   },
   "id": "b6584a294ea87f1e"
  },
  {
   "cell_type": "markdown",
   "source": [
    "#### Read in files from ZIPs at [EIA page](https://www.eia.gov/electricity/data/eia861/)"
   ],
   "metadata": {
    "collapsed": false
   },
   "id": "3a62ac451daead8a"
  },
  {
   "cell_type": "code",
   "execution_count": 147,
   "outputs": [
    {
     "name": "stdout",
     "output_type": "stream",
     "text": [
      "Extracted Sales_Ult_Cust_2012.xlsx\n",
      "Extracted Sales_Ult_Cust_2013.xls\n",
      "Extracted Sales_Ult_Cust_2014.xls\n",
      "Extracted Sales_Ult_Cust_2015.xlsx\n",
      "Extracted Sales_Ult_Cust_2016.xlsx\n",
      "Extracted Sales_Ult_Cust_2017.xlsx\n",
      "Extracted Sales_Ult_Cust_2018.xlsx\n",
      "Extracted Sales_Ult_Cust_2019.xlsx\n",
      "Extracted Sales_Ult_Cust_2020.xlsx\n",
      "Extracted Sales_Ult_Cust_2021.xlsx\n",
      "Reading in /Users/Darren/git-clones/data-projects/CEPs/etl_scripts/raw_data/Sales_Ult_Cust_2017.xlsx\n",
      "Reading in /Users/Darren/git-clones/data-projects/CEPs/etl_scripts/raw_data/Sales_Ult_Cust_2021.xlsx\n",
      "Reading in /Users/Darren/git-clones/data-projects/CEPs/etl_scripts/raw_data/Sales_Ult_Cust_2020.xlsx\n",
      "Reading in /Users/Darren/git-clones/data-projects/CEPs/etl_scripts/raw_data/Sales_Ult_Cust_2016.xlsx\n",
      "Reading in /Users/Darren/git-clones/data-projects/CEPs/etl_scripts/raw_data/Sales_Ult_Cust_2013.xls\n",
      "Reading in /Users/Darren/git-clones/data-projects/CEPs/etl_scripts/raw_data/Sales_Ult_Cust_2012.xlsx\n",
      "Reading in /Users/Darren/git-clones/data-projects/CEPs/etl_scripts/raw_data/Sales_Ult_Cust_2014.xls\n",
      "Reading in /Users/Darren/git-clones/data-projects/CEPs/etl_scripts/raw_data/Sales_Ult_Cust_2015.xlsx\n",
      "Reading in /Users/Darren/git-clones/data-projects/CEPs/etl_scripts/raw_data/Sales_Ult_Cust_2019.xlsx\n",
      "Reading in /Users/Darren/git-clones/data-projects/CEPs/etl_scripts/raw_data/Sales_Ult_Cust_2022.xlsx\n",
      "Reading in /Users/Darren/git-clones/data-projects/CEPs/etl_scripts/raw_data/Sales_Ult_Cust_2018.xlsx\n",
      "Merged dataframe of (3438, 18)\n",
      "Wrote dataframe to CSV in /Users/Darren/git-clones/data-projects/CEPs/etl_scripts/prepared_data\n"
     ]
    }
   ],
   "source": [
    "hf.download_eia_861(2012, 2022, data_dir)"
   ],
   "metadata": {
    "collapsed": false,
    "ExecuteTime": {
     "end_time": "2023-11-19T08:06:47.320933Z",
     "start_time": "2023-11-19T08:06:28.237271Z"
    }
   },
   "id": "1f88754833674457"
  },
  {
   "cell_type": "markdown",
   "source": [
    "#### Transform and merge separate files, write to CSV and store as dataframe for inspection"
   ],
   "metadata": {
    "collapsed": false
   },
   "id": "bcf1cc805e4c8af1"
  },
  {
   "cell_type": "code",
   "execution_count": 84,
   "outputs": [
    {
     "name": "stdout",
     "output_type": "stream",
     "text": [
      "Reading in /Users/Darren/git-clones/data-projects/CEPs/etl_scripts/raw_data/Sales_Ult_Cust_2017.xlsx\n",
      "Reading in /Users/Darren/git-clones/data-projects/CEPs/etl_scripts/raw_data/Sales_Ult_Cust_2021.xlsx\n",
      "Reading in /Users/Darren/git-clones/data-projects/CEPs/etl_scripts/raw_data/Sales_Ult_Cust_2020.xlsx\n",
      "Reading in /Users/Darren/git-clones/data-projects/CEPs/etl_scripts/raw_data/Sales_Ult_Cust_2016.xlsx\n",
      "Reading in /Users/Darren/git-clones/data-projects/CEPs/etl_scripts/raw_data/Sales_Ult_Cust_2013.xls\n",
      "Reading in /Users/Darren/git-clones/data-projects/CEPs/etl_scripts/raw_data/Sales_Ult_Cust_2012.xlsx\n",
      "Reading in /Users/Darren/git-clones/data-projects/CEPs/etl_scripts/raw_data/Sales_Ult_Cust_2014.xls\n",
      "Reading in /Users/Darren/git-clones/data-projects/CEPs/etl_scripts/raw_data/Sales_Ult_Cust_2015.xlsx\n",
      "Reading in /Users/Darren/git-clones/data-projects/CEPs/etl_scripts/raw_data/Sales_Ult_Cust_2019.xlsx\n",
      "Reading in /Users/Darren/git-clones/data-projects/CEPs/etl_scripts/raw_data/Sales_Ult_Cust_2022.xlsx\n",
      "Reading in /Users/Darren/git-clones/data-projects/CEPs/etl_scripts/raw_data/Sales_Ult_Cust_2018.xlsx\n",
      "Merged dataframe of (104481, 13)\n",
      "Wrote dataframe to CSV in /Users/Darren/git-clones/data-projects/CEPs/etl_scripts/prepared_data\n"
     ]
    }
   ],
   "source": [
    "eia_df = hf.process_and_merge_861(data_dir=data_dir, process_dir=process_dir)"
   ],
   "metadata": {
    "collapsed": false,
    "ExecuteTime": {
     "end_time": "2023-11-20T00:32:41.017121Z",
     "start_time": "2023-11-20T00:32:32.587023Z"
    }
   },
   "id": "d937a909164da4de"
  },
  {
   "cell_type": "markdown",
   "source": [
    "## Extract and process "
   ],
   "metadata": {
    "collapsed": false
   },
   "id": "b0af441823919cc6"
  },
  {
   "cell_type": "markdown",
   "source": [
    "## 2. Maine customer migration statistics\n",
    "\n",
    "Update file dir based on [this page](https://www.maine.gov/mpuc/regulated-utilities/electricity/choosing-supplier/migration-statistics) from the Maine PUC. "
   ],
   "metadata": {
    "collapsed": false
   },
   "id": "e05b04e0e08dd85c"
  },
  {
   "cell_type": "code",
   "execution_count": 109,
   "outputs": [],
   "source": [
    "migration_xls = 'https://www.maine.gov/mpuc/sites/maine.gov.mpuc/files/inline-files/Standard%20Offer%20Migration%20Stats%20through%2008.15.23.xls'"
   ],
   "metadata": {
    "collapsed": false,
    "ExecuteTime": {
     "end_time": "2023-11-20T01:23:54.894194Z",
     "start_time": "2023-11-20T01:23:47.641086Z"
    }
   },
   "id": "2aa6a84db58ffb60"
  },
  {
   "cell_type": "code",
   "execution_count": 150,
   "outputs": [
    {
     "name": "stdout",
     "output_type": "stream",
     "text": [
      "Captured and wrote file of shape (822, 4)\n"
     ]
    }
   ],
   "source": [
    "migration_df = hf.process_customer_migration_files(migration_xls, process_dir)\n",
    "migration_df.head()"
   ],
   "metadata": {
    "collapsed": false,
    "ExecuteTime": {
     "end_time": "2023-11-20T02:16:10.092496Z",
     "start_time": "2023-11-20T02:16:03.285176Z"
    }
   },
   "id": "749069e32eb89188"
  }
 ],
 "metadata": {
  "kernelspec": {
   "display_name": "Python 3",
   "language": "python",
   "name": "python3"
  },
  "language_info": {
   "codemirror_mode": {
    "name": "ipython",
    "version": 2
   },
   "file_extension": ".py",
   "mimetype": "text/x-python",
   "name": "python",
   "nbconvert_exporter": "python",
   "pygments_lexer": "ipython2",
   "version": "2.7.6"
  }
 },
 "nbformat": 4,
 "nbformat_minor": 5
}
