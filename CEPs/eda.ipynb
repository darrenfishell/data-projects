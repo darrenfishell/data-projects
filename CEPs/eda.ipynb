{
 "cells": [
  {
   "cell_type": "code",
   "execution_count": 1,
   "id": "initial_id",
   "metadata": {
    "ExecuteTime": {
     "end_time": "2024-02-22T00:34:08.554378Z",
     "start_time": "2024-02-22T00:34:07.916949Z"
    }
   },
   "outputs": [],
   "source": [
    "import pandas as pd\n",
    "import numpy as np\n",
    "import os"
   ]
  },
  {
   "cell_type": "code",
   "execution_count": 2,
   "id": "192b7ee424fcc75f",
   "metadata": {
    "ExecuteTime": {
     "end_time": "2024-02-22T00:34:08.993210Z",
     "start_time": "2024-02-22T00:34:08.557229Z"
    }
   },
   "outputs": [],
   "source": [
    "df = pd.read_csv('etl_scripts/prepared_data/sales_ult_cust_all_years.csv')"
   ]
  },
  {
   "cell_type": "code",
   "execution_count": 3,
   "id": "ca7d49b7c30fa883",
   "metadata": {
    "ExecuteTime": {
     "end_time": "2024-02-22T00:34:09.061708Z",
     "start_time": "2024-02-22T00:34:08.990971Z"
    }
   },
   "outputs": [
    {
     "data": {
      "text/plain": "   YEAR  UTILITY_NUMBER              UTILITY_NAME PART SERVICE_TYPE DATA_TYPE  \\\n0  2017            55.0   City of Aberdeen - (MS)    A      Bundled         O   \n1  2017            59.0  City of Abbeville - (LA)    A      Bundled         O   \n2  2017            84.0       A & N Electric Coop    A      Bundled         O   \n3  2017            84.0       A & N Electric Coop    A      Bundled         O   \n4  2017            97.0       Adams Electric Coop    A      Bundled         O   \n\n  STATE    OWNERSHIP BA_CODE     REVENUE  SALES_KWH CUSTOMERS CUSTOMER_TYPE  \n0    MS    Municipal     TVA     3644000   32158000      2595   RESIDENTIAL  \n1    LA    Municipal    MISO   5279900.0   52746000      4464   RESIDENTIAL  \n2    MD  Cooperative     PJM    235300.0    2047000       274   RESIDENTIAL  \n3    VA  Cooperative     PJM  38308700.0  344508000     31309   RESIDENTIAL  \n4    IL  Cooperative    MISO    16341000  109301000      8603   RESIDENTIAL  ",
      "text/html": "<div>\n<style scoped>\n    .dataframe tbody tr th:only-of-type {\n        vertical-align: middle;\n    }\n\n    .dataframe tbody tr th {\n        vertical-align: top;\n    }\n\n    .dataframe thead th {\n        text-align: right;\n    }\n</style>\n<table border=\"1\" class=\"dataframe\">\n  <thead>\n    <tr style=\"text-align: right;\">\n      <th></th>\n      <th>YEAR</th>\n      <th>UTILITY_NUMBER</th>\n      <th>UTILITY_NAME</th>\n      <th>PART</th>\n      <th>SERVICE_TYPE</th>\n      <th>DATA_TYPE</th>\n      <th>STATE</th>\n      <th>OWNERSHIP</th>\n      <th>BA_CODE</th>\n      <th>REVENUE</th>\n      <th>SALES_KWH</th>\n      <th>CUSTOMERS</th>\n      <th>CUSTOMER_TYPE</th>\n    </tr>\n  </thead>\n  <tbody>\n    <tr>\n      <th>0</th>\n      <td>2017</td>\n      <td>55.0</td>\n      <td>City of Aberdeen - (MS)</td>\n      <td>A</td>\n      <td>Bundled</td>\n      <td>O</td>\n      <td>MS</td>\n      <td>Municipal</td>\n      <td>TVA</td>\n      <td>3644000</td>\n      <td>32158000</td>\n      <td>2595</td>\n      <td>RESIDENTIAL</td>\n    </tr>\n    <tr>\n      <th>1</th>\n      <td>2017</td>\n      <td>59.0</td>\n      <td>City of Abbeville - (LA)</td>\n      <td>A</td>\n      <td>Bundled</td>\n      <td>O</td>\n      <td>LA</td>\n      <td>Municipal</td>\n      <td>MISO</td>\n      <td>5279900.0</td>\n      <td>52746000</td>\n      <td>4464</td>\n      <td>RESIDENTIAL</td>\n    </tr>\n    <tr>\n      <th>2</th>\n      <td>2017</td>\n      <td>84.0</td>\n      <td>A &amp; N Electric Coop</td>\n      <td>A</td>\n      <td>Bundled</td>\n      <td>O</td>\n      <td>MD</td>\n      <td>Cooperative</td>\n      <td>PJM</td>\n      <td>235300.0</td>\n      <td>2047000</td>\n      <td>274</td>\n      <td>RESIDENTIAL</td>\n    </tr>\n    <tr>\n      <th>3</th>\n      <td>2017</td>\n      <td>84.0</td>\n      <td>A &amp; N Electric Coop</td>\n      <td>A</td>\n      <td>Bundled</td>\n      <td>O</td>\n      <td>VA</td>\n      <td>Cooperative</td>\n      <td>PJM</td>\n      <td>38308700.0</td>\n      <td>344508000</td>\n      <td>31309</td>\n      <td>RESIDENTIAL</td>\n    </tr>\n    <tr>\n      <th>4</th>\n      <td>2017</td>\n      <td>97.0</td>\n      <td>Adams Electric Coop</td>\n      <td>A</td>\n      <td>Bundled</td>\n      <td>O</td>\n      <td>IL</td>\n      <td>Cooperative</td>\n      <td>MISO</td>\n      <td>16341000</td>\n      <td>109301000</td>\n      <td>8603</td>\n      <td>RESIDENTIAL</td>\n    </tr>\n  </tbody>\n</table>\n</div>"
     },
     "execution_count": 3,
     "metadata": {},
     "output_type": "execute_result"
    }
   ],
   "source": [
    "df.head()"
   ]
  },
  {
   "cell_type": "code",
   "execution_count": 4,
   "id": "1ff54f9c420369aa",
   "metadata": {
    "ExecuteTime": {
     "end_time": "2024-02-22T00:34:09.119203Z",
     "start_time": "2024-02-22T00:34:09.024164Z"
    }
   },
   "outputs": [
    {
     "data": {
      "text/plain": "      YEAR  UTILITY_NUMBER                         UTILITY_NAME PART  \\\n140   2017          1611.0          Linde Energy Services, Inc.    B   \n400   2017          4191.0          Consolidated Edison Sol Inc    B   \n690   2017          7279.0         NextEra Energy Services, LLC    B   \n1230  2017         13374.0         Constellation NewEnergy, Inc    B   \n1632  2017         16840.0        Calpine Energy Solutions, LLC    B   \n1702  2017         17549.0          South Jersey Energy Company    B   \n1802  2017         18193.0                 Strategic Energy LLC    B   \n1906  2017         19119.0    TransCanada Power Marketing, Ltd.    B   \n2142  2017         21795.0  Constellation Energy Services, Inc.    B   \n2258  2017         49730.0                    American PowerNet    B   \n2269  2017         49891.0   NextEra Energy Power Marketing LLC    B   \n2281  2017         50046.0             Texas Retail Energy, LLC    B   \n2321  2017         54862.0             Champion Energy Services    B   \n2331  2017         54873.0                       Freedom Energy    B   \n2352  2017         55781.0                  Liberty Power Corp.    B   \n2401  2017         56212.0           Ambit Energy Holdings, LLC    B   \n2453  2017         56522.0           Backyard Farms Energy, LLC    B   \n2498  2017         57067.0                    ENGIE Retail, LLC    B   \n2580  2017         58085.0               Electricity Maine, LLC    B   \n2598  2017         58158.0                 FairPoint Energy LLC    B   \n\n     SERVICE_TYPE DATA_TYPE STATE              OWNERSHIP BA_CODE    REVENUE  \\\n140        Energy         O    ME  Retail Power Marketer    ISNE          0   \n400        Energy         O    ME  Retail Power Marketer    ISNE          0   \n690        Energy         O    ME  Retail Power Marketer    ISNE          0   \n1230       Energy         O    ME  Retail Power Marketer    ISNE      55000   \n1632       Energy         O    ME  Retail Power Marketer    ISNE          0   \n1702       Energy         O    ME  Retail Power Marketer    ISNE          0   \n1802       Energy         O    ME  Retail Power Marketer    ISNE          0   \n1906       Energy         O    ME  Retail Power Marketer    ISNE          0   \n2142       Energy         O    ME  Retail Power Marketer    ISNE   118600.0   \n2258       Energy         O    ME  Retail Power Marketer    ISNE          0   \n2269       Energy         O    ME  Retail Power Marketer    ISNE          0   \n2281       Energy         O    ME  Retail Power Marketer    ISNE          0   \n2321       Energy         O    ME  Retail Power Marketer    ISNE          0   \n2331       Energy         O    ME  Retail Power Marketer    ISNE          0   \n2352       Energy         O    ME  Retail Power Marketer    ISNE          0   \n2401       Energy         O    ME  Retail Power Marketer    ISNE  3867800.0   \n2453       Energy         O    ME  Retail Power Marketer    ISNE          0   \n2498       Energy         O    ME  Retail Power Marketer    ISNE  2066900.0   \n2580       Energy         O    ME  Retail Power Marketer    ISNE   46942000   \n2598       Energy         O    ME  Retail Power Marketer    NBSO  4893300.0   \n\n      SALES_KWH CUSTOMERS CUSTOMER_TYPE  \n140           0         0   RESIDENTIAL  \n400           0         0   RESIDENTIAL  \n690           0         0   RESIDENTIAL  \n1230     874000        47   RESIDENTIAL  \n1632          0         0   RESIDENTIAL  \n1702          0         0   RESIDENTIAL  \n1802          0         0   RESIDENTIAL  \n1906          0         0   RESIDENTIAL  \n2142    1658000       154   RESIDENTIAL  \n2258          0         0   RESIDENTIAL  \n2269          0         0   RESIDENTIAL  \n2281          0         0   RESIDENTIAL  \n2321          0         0   RESIDENTIAL  \n2331          0         0   RESIDENTIAL  \n2352          0         0   RESIDENTIAL  \n2401   51083000      6536   RESIDENTIAL  \n2453          0         0   RESIDENTIAL  \n2498   31376000      4037   RESIDENTIAL  \n2580  474743000     67295   RESIDENTIAL  \n2598   57837000      9749   RESIDENTIAL  ",
      "text/html": "<div>\n<style scoped>\n    .dataframe tbody tr th:only-of-type {\n        vertical-align: middle;\n    }\n\n    .dataframe tbody tr th {\n        vertical-align: top;\n    }\n\n    .dataframe thead th {\n        text-align: right;\n    }\n</style>\n<table border=\"1\" class=\"dataframe\">\n  <thead>\n    <tr style=\"text-align: right;\">\n      <th></th>\n      <th>YEAR</th>\n      <th>UTILITY_NUMBER</th>\n      <th>UTILITY_NAME</th>\n      <th>PART</th>\n      <th>SERVICE_TYPE</th>\n      <th>DATA_TYPE</th>\n      <th>STATE</th>\n      <th>OWNERSHIP</th>\n      <th>BA_CODE</th>\n      <th>REVENUE</th>\n      <th>SALES_KWH</th>\n      <th>CUSTOMERS</th>\n      <th>CUSTOMER_TYPE</th>\n    </tr>\n  </thead>\n  <tbody>\n    <tr>\n      <th>140</th>\n      <td>2017</td>\n      <td>1611.0</td>\n      <td>Linde Energy Services, Inc.</td>\n      <td>B</td>\n      <td>Energy</td>\n      <td>O</td>\n      <td>ME</td>\n      <td>Retail Power Marketer</td>\n      <td>ISNE</td>\n      <td>0</td>\n      <td>0</td>\n      <td>0</td>\n      <td>RESIDENTIAL</td>\n    </tr>\n    <tr>\n      <th>400</th>\n      <td>2017</td>\n      <td>4191.0</td>\n      <td>Consolidated Edison Sol Inc</td>\n      <td>B</td>\n      <td>Energy</td>\n      <td>O</td>\n      <td>ME</td>\n      <td>Retail Power Marketer</td>\n      <td>ISNE</td>\n      <td>0</td>\n      <td>0</td>\n      <td>0</td>\n      <td>RESIDENTIAL</td>\n    </tr>\n    <tr>\n      <th>690</th>\n      <td>2017</td>\n      <td>7279.0</td>\n      <td>NextEra Energy Services, LLC</td>\n      <td>B</td>\n      <td>Energy</td>\n      <td>O</td>\n      <td>ME</td>\n      <td>Retail Power Marketer</td>\n      <td>ISNE</td>\n      <td>0</td>\n      <td>0</td>\n      <td>0</td>\n      <td>RESIDENTIAL</td>\n    </tr>\n    <tr>\n      <th>1230</th>\n      <td>2017</td>\n      <td>13374.0</td>\n      <td>Constellation NewEnergy, Inc</td>\n      <td>B</td>\n      <td>Energy</td>\n      <td>O</td>\n      <td>ME</td>\n      <td>Retail Power Marketer</td>\n      <td>ISNE</td>\n      <td>55000</td>\n      <td>874000</td>\n      <td>47</td>\n      <td>RESIDENTIAL</td>\n    </tr>\n    <tr>\n      <th>1632</th>\n      <td>2017</td>\n      <td>16840.0</td>\n      <td>Calpine Energy Solutions, LLC</td>\n      <td>B</td>\n      <td>Energy</td>\n      <td>O</td>\n      <td>ME</td>\n      <td>Retail Power Marketer</td>\n      <td>ISNE</td>\n      <td>0</td>\n      <td>0</td>\n      <td>0</td>\n      <td>RESIDENTIAL</td>\n    </tr>\n    <tr>\n      <th>1702</th>\n      <td>2017</td>\n      <td>17549.0</td>\n      <td>South Jersey Energy Company</td>\n      <td>B</td>\n      <td>Energy</td>\n      <td>O</td>\n      <td>ME</td>\n      <td>Retail Power Marketer</td>\n      <td>ISNE</td>\n      <td>0</td>\n      <td>0</td>\n      <td>0</td>\n      <td>RESIDENTIAL</td>\n    </tr>\n    <tr>\n      <th>1802</th>\n      <td>2017</td>\n      <td>18193.0</td>\n      <td>Strategic Energy LLC</td>\n      <td>B</td>\n      <td>Energy</td>\n      <td>O</td>\n      <td>ME</td>\n      <td>Retail Power Marketer</td>\n      <td>ISNE</td>\n      <td>0</td>\n      <td>0</td>\n      <td>0</td>\n      <td>RESIDENTIAL</td>\n    </tr>\n    <tr>\n      <th>1906</th>\n      <td>2017</td>\n      <td>19119.0</td>\n      <td>TransCanada Power Marketing, Ltd.</td>\n      <td>B</td>\n      <td>Energy</td>\n      <td>O</td>\n      <td>ME</td>\n      <td>Retail Power Marketer</td>\n      <td>ISNE</td>\n      <td>0</td>\n      <td>0</td>\n      <td>0</td>\n      <td>RESIDENTIAL</td>\n    </tr>\n    <tr>\n      <th>2142</th>\n      <td>2017</td>\n      <td>21795.0</td>\n      <td>Constellation Energy Services, Inc.</td>\n      <td>B</td>\n      <td>Energy</td>\n      <td>O</td>\n      <td>ME</td>\n      <td>Retail Power Marketer</td>\n      <td>ISNE</td>\n      <td>118600.0</td>\n      <td>1658000</td>\n      <td>154</td>\n      <td>RESIDENTIAL</td>\n    </tr>\n    <tr>\n      <th>2258</th>\n      <td>2017</td>\n      <td>49730.0</td>\n      <td>American PowerNet</td>\n      <td>B</td>\n      <td>Energy</td>\n      <td>O</td>\n      <td>ME</td>\n      <td>Retail Power Marketer</td>\n      <td>ISNE</td>\n      <td>0</td>\n      <td>0</td>\n      <td>0</td>\n      <td>RESIDENTIAL</td>\n    </tr>\n    <tr>\n      <th>2269</th>\n      <td>2017</td>\n      <td>49891.0</td>\n      <td>NextEra Energy Power Marketing LLC</td>\n      <td>B</td>\n      <td>Energy</td>\n      <td>O</td>\n      <td>ME</td>\n      <td>Retail Power Marketer</td>\n      <td>ISNE</td>\n      <td>0</td>\n      <td>0</td>\n      <td>0</td>\n      <td>RESIDENTIAL</td>\n    </tr>\n    <tr>\n      <th>2281</th>\n      <td>2017</td>\n      <td>50046.0</td>\n      <td>Texas Retail Energy, LLC</td>\n      <td>B</td>\n      <td>Energy</td>\n      <td>O</td>\n      <td>ME</td>\n      <td>Retail Power Marketer</td>\n      <td>ISNE</td>\n      <td>0</td>\n      <td>0</td>\n      <td>0</td>\n      <td>RESIDENTIAL</td>\n    </tr>\n    <tr>\n      <th>2321</th>\n      <td>2017</td>\n      <td>54862.0</td>\n      <td>Champion Energy Services</td>\n      <td>B</td>\n      <td>Energy</td>\n      <td>O</td>\n      <td>ME</td>\n      <td>Retail Power Marketer</td>\n      <td>ISNE</td>\n      <td>0</td>\n      <td>0</td>\n      <td>0</td>\n      <td>RESIDENTIAL</td>\n    </tr>\n    <tr>\n      <th>2331</th>\n      <td>2017</td>\n      <td>54873.0</td>\n      <td>Freedom Energy</td>\n      <td>B</td>\n      <td>Energy</td>\n      <td>O</td>\n      <td>ME</td>\n      <td>Retail Power Marketer</td>\n      <td>ISNE</td>\n      <td>0</td>\n      <td>0</td>\n      <td>0</td>\n      <td>RESIDENTIAL</td>\n    </tr>\n    <tr>\n      <th>2352</th>\n      <td>2017</td>\n      <td>55781.0</td>\n      <td>Liberty Power Corp.</td>\n      <td>B</td>\n      <td>Energy</td>\n      <td>O</td>\n      <td>ME</td>\n      <td>Retail Power Marketer</td>\n      <td>ISNE</td>\n      <td>0</td>\n      <td>0</td>\n      <td>0</td>\n      <td>RESIDENTIAL</td>\n    </tr>\n    <tr>\n      <th>2401</th>\n      <td>2017</td>\n      <td>56212.0</td>\n      <td>Ambit Energy Holdings, LLC</td>\n      <td>B</td>\n      <td>Energy</td>\n      <td>O</td>\n      <td>ME</td>\n      <td>Retail Power Marketer</td>\n      <td>ISNE</td>\n      <td>3867800.0</td>\n      <td>51083000</td>\n      <td>6536</td>\n      <td>RESIDENTIAL</td>\n    </tr>\n    <tr>\n      <th>2453</th>\n      <td>2017</td>\n      <td>56522.0</td>\n      <td>Backyard Farms Energy, LLC</td>\n      <td>B</td>\n      <td>Energy</td>\n      <td>O</td>\n      <td>ME</td>\n      <td>Retail Power Marketer</td>\n      <td>ISNE</td>\n      <td>0</td>\n      <td>0</td>\n      <td>0</td>\n      <td>RESIDENTIAL</td>\n    </tr>\n    <tr>\n      <th>2498</th>\n      <td>2017</td>\n      <td>57067.0</td>\n      <td>ENGIE Retail, LLC</td>\n      <td>B</td>\n      <td>Energy</td>\n      <td>O</td>\n      <td>ME</td>\n      <td>Retail Power Marketer</td>\n      <td>ISNE</td>\n      <td>2066900.0</td>\n      <td>31376000</td>\n      <td>4037</td>\n      <td>RESIDENTIAL</td>\n    </tr>\n    <tr>\n      <th>2580</th>\n      <td>2017</td>\n      <td>58085.0</td>\n      <td>Electricity Maine, LLC</td>\n      <td>B</td>\n      <td>Energy</td>\n      <td>O</td>\n      <td>ME</td>\n      <td>Retail Power Marketer</td>\n      <td>ISNE</td>\n      <td>46942000</td>\n      <td>474743000</td>\n      <td>67295</td>\n      <td>RESIDENTIAL</td>\n    </tr>\n    <tr>\n      <th>2598</th>\n      <td>2017</td>\n      <td>58158.0</td>\n      <td>FairPoint Energy LLC</td>\n      <td>B</td>\n      <td>Energy</td>\n      <td>O</td>\n      <td>ME</td>\n      <td>Retail Power Marketer</td>\n      <td>NBSO</td>\n      <td>4893300.0</td>\n      <td>57837000</td>\n      <td>9749</td>\n      <td>RESIDENTIAL</td>\n    </tr>\n  </tbody>\n</table>\n</div>"
     },
     "execution_count": 4,
     "metadata": {},
     "output_type": "execute_result"
    }
   ],
   "source": [
    "me_res_df = df[(df['CUSTOMER_TYPE'] == 'RESIDENTIAL') & (df['STATE'] == 'ME') & (df['OWNERSHIP'] == 'Retail Power Marketer') & (df['CUSTOMERS'] != '.')]\n",
    "me_res_df.head(20)"
   ]
  },
  {
   "cell_type": "markdown",
   "id": "4b4c998b09163284",
   "metadata": {},
   "source": [
    "### Annual numbers"
   ]
  },
  {
   "cell_type": "code",
   "execution_count": 5,
   "id": "ca879864fc989840",
   "metadata": {
    "ExecuteTime": {
     "end_time": "2024-02-22T00:34:09.522904Z",
     "start_time": "2024-02-22T00:34:09.117880Z"
    }
   },
   "outputs": [],
   "source": [
    "import matplotlib as plt"
   ]
  },
  {
   "cell_type": "code",
   "execution_count": 6,
   "id": "41110aeb17387000",
   "metadata": {
    "ExecuteTime": {
     "end_time": "2024-02-22T00:34:09.525449Z",
     "start_time": "2024-02-22T00:34:09.319030Z"
    }
   },
   "outputs": [
    {
     "name": "stderr",
     "output_type": "stream",
     "text": [
      "/var/folders/y6/mrljv2f12c56x4bmwb18gr8h0000gp/T/ipykernel_2352/4157095894.py:1: SettingWithCopyWarning: \n",
      "A value is trying to be set on a copy of a slice from a DataFrame.\n",
      "Try using .loc[row_indexer,col_indexer] = value instead\n",
      "\n",
      "See the caveats in the documentation: https://pandas.pydata.org/pandas-docs/stable/user_guide/indexing.html#returning-a-view-versus-a-copy\n",
      "  me_res_df['CUSTOMERS'] = me_res_df['CUSTOMERS'].astype('int')\n",
      "/var/folders/y6/mrljv2f12c56x4bmwb18gr8h0000gp/T/ipykernel_2352/4157095894.py:2: SettingWithCopyWarning: \n",
      "A value is trying to be set on a copy of a slice from a DataFrame.\n",
      "Try using .loc[row_indexer,col_indexer] = value instead\n",
      "\n",
      "See the caveats in the documentation: https://pandas.pydata.org/pandas-docs/stable/user_guide/indexing.html#returning-a-view-versus-a-copy\n",
      "  me_res_df['SALES_KWH'] = me_res_df['SALES_KWH'].astype('int')\n"
     ]
    },
    {
     "data": {
      "text/plain": "YEAR\n2012     812857\n2013     917381\n2014    1114153\n2015     136139\n2016     117544\n2017     112504\n2018     105786\n2019      76053\n2020      67730\n2021      64279\n2022      62100\nName: CUSTOMERS, dtype: int64"
     },
     "execution_count": 6,
     "metadata": {},
     "output_type": "execute_result"
    }
   ],
   "source": [
    "me_res_df['CUSTOMERS'] = me_res_df['CUSTOMERS'].astype('int')\n",
    "me_res_df['SALES_KWH'] = me_res_df['SALES_KWH'].astype('int')\n",
    "me_res_df.groupby('YEAR')['CUSTOMERS'].sum()"
   ]
  },
  {
   "cell_type": "code",
   "execution_count": 7,
   "id": "1c26fd74623f48b3",
   "metadata": {
    "ExecuteTime": {
     "end_time": "2024-02-22T00:34:09.526642Z",
     "start_time": "2024-02-22T00:34:09.330438Z"
    }
   },
   "outputs": [
    {
     "data": {
      "text/plain": "array(['Linde Energy Services, Inc.', 'Consolidated Edison Sol Inc',\n       'NextEra Energy Services, LLC', 'Constellation NewEnergy, Inc',\n       'Calpine Energy Solutions, LLC', 'South Jersey Energy Company',\n       'Strategic Energy LLC', 'TransCanada Power Marketing, Ltd.',\n       'Constellation Energy Services, Inc.', 'American PowerNet',\n       'NextEra Energy Power Marketing LLC', 'Texas Retail Energy, LLC',\n       'Champion Energy Services', 'Freedom Energy',\n       'Liberty Power Corp.', 'Ambit Energy Holdings, LLC',\n       'Backyard Farms Energy, LLC', 'ENGIE Retail, LLC',\n       'Electricity Maine, LLC', 'FairPoint Energy LLC',\n       'C. N. Brown Electricity, LLC', 'XOOM Energy Maine, LLC',\n       'North American Power and Gas, LLC', 'Mint Energy, LLC',\n       'Clearview Electric Inc.', 'Mega Energy of Maine, LLC',\n       'Union Atlantic Electricity', 'Agera Energy LLC',\n       'EDF Energy Services, LLC', 'First Point Power, LLC',\n       'Algonquin Energy Services', 'Messer Energy Services, Inc.',\n       'Calpine Power America LLC', 'ENGIE Resources LLC',\n       'SmartEnergy Holdings, LLC', 'Town Square Energy',\n       'Sunwave Gas & Power Connecticut, Inc.', 'MP2 Energy LLC',\n       'Direct Energy Business', 'New Brunswick Power Generation Corp.',\n       'NextEra Energy Power Marketing', 'Dominion Retail Inc',\n       'CECG Maine, LLC', 'Noble Americas Energy Solutions LLC',\n       'Suez Energy Resources North Am',\n       'Direct Energy Business Marketing, LLC',\n       'Talen Energy Marketing, LLC', 'Competitive Energy Services, L',\n       'Glacial Energy Holdings', 'NEPM II', 'GEXA Corp.',\n       'Integrys Energy Services, Inc.', 'HESS CORPORATION',\n       'PPL EnergyPlus LLC', 'ENGIE Resources Inc.',\n       'Gulf Oil Limited Partnership', 'Major Energy Electric Services',\n       'Energywell LLC'], dtype=object)"
     },
     "execution_count": 7,
     "metadata": {},
     "output_type": "execute_result"
    }
   ],
   "source": [
    "me_res_df.UTILITY_NAME.unique()"
   ]
  },
  {
   "cell_type": "code",
   "execution_count": 8,
   "id": "d0cc586b",
   "metadata": {
    "ExecuteTime": {
     "end_time": "2024-02-22T00:34:09.527966Z",
     "start_time": "2024-02-22T00:34:09.345710Z"
    }
   },
   "outputs": [
    {
     "data": {
      "text/plain": "YEAR\n2012    461.561710\n2013    432.629409\n2014    377.197147\n2015    571.064011\n2016    562.141269\n2017    535.886131\n2018    539.896584\n2019    587.276855\n2020    580.470250\n2021    584.522161\n2022    557.546967\ndtype: float64"
     },
     "execution_count": 8,
     "metadata": {},
     "output_type": "execute_result"
    }
   ],
   "source": [
    "# Calculate the sum of SALES_KWH and CUSTOMERS grouped by year\n",
    "sum_sales_kwh = me_res_df.groupby('YEAR')['SALES_KWH'].sum()\n",
    "sum_customers = me_res_df.groupby('YEAR')['CUSTOMERS'].sum()\n",
    "\n",
    "# Compute the quotient\n",
    "quotient = sum_sales_kwh / sum_customers / 12\n",
    "quotient"
   ]
  },
  {
   "cell_type": "code",
   "execution_count": 11,
   "outputs": [
    {
     "name": "stdout",
     "output_type": "stream",
     "text": [
      "Annual Average Per Customer\n"
     ]
    },
    {
     "data": {
      "text/plain": "YEAR\n2012    461.561710\n2013    432.629409\n2014    377.197147\n2015    571.064011\n2016    562.141269\n2017    535.886131\n2018    539.896584\n2019    587.276855\n2020    580.470250\n2021    584.522161\n2022    557.546967\ndtype: float64"
     },
     "execution_count": 11,
     "metadata": {},
     "output_type": "execute_result"
    }
   ],
   "source": [
    "print('Annual Average Per Customer')\n",
    "me_res_df.groupby('YEAR')['SALES_KWH'].sum() / me_res_df.groupby('YEAR')['CUSTOMERS'].sum() / 12"
   ],
   "metadata": {
    "collapsed": false,
    "ExecuteTime": {
     "end_time": "2024-02-22T00:34:57.443772Z",
     "start_time": "2024-02-22T00:34:57.434875Z"
    }
   },
   "id": "487a32810669ab7a"
  },
  {
   "cell_type": "markdown",
   "source": [
    "## Computing average price required to save $33M\n",
    "\n",
    "Average standard offer (as used in OPA analysis): 0.115291333333333\n",
    "Year-end CEP customers in analysis: 51,834\n",
    "Stated savings: 33,205,291"
   ],
   "metadata": {
    "collapsed": false
   },
   "id": "b8750cc8e266c38c"
  },
  {
   "cell_type": "code",
   "execution_count": 67,
   "outputs": [
    {
     "data": {
      "text/plain": "           DATE  CEP_CUSTOMERS  TOTAL_CUSTOMERS                UTILITY  \\\n7    2022-12-31        10017.0         126794.0  BANGOR HYDRO DISTRICT   \n19   2021-12-31        10772.0         134874.0  BANGOR HYDRO DISTRICT   \n31   2020-12-31        11040.0         133202.0  BANGOR HYDRO DISTRICT   \n43   2019-12-01        11076.0         127251.0  BANGOR HYDRO DISTRICT   \n55   2018-12-01        11933.0         126595.0  BANGOR HYDRO DISTRICT   \n...         ...            ...              ...                    ...   \n1319 2004-12-01         2671.0              NaN   MAINE PUBLIC SERVICE   \n1331 2003-12-01         2882.0              NaN   MAINE PUBLIC SERVICE   \n1342 2002-12-01         5715.0              NaN   MAINE PUBLIC SERVICE   \n1354 2001-12-01         1281.0              NaN   MAINE PUBLIC SERVICE   \n1366 2000-12-01         1680.0              NaN   MAINE PUBLIC SERVICE   \n\n     CUSTOMER_CLASS  \n7             SMALL  \n19            SMALL  \n31            SMALL  \n43            SMALL  \n55            SMALL  \n...             ...  \n1319          SMALL  \n1331          SMALL  \n1342          SMALL  \n1354          SMALL  \n1366          SMALL  \n\n[69 rows x 5 columns]",
      "text/html": "<div>\n<style scoped>\n    .dataframe tbody tr th:only-of-type {\n        vertical-align: middle;\n    }\n\n    .dataframe tbody tr th {\n        vertical-align: top;\n    }\n\n    .dataframe thead th {\n        text-align: right;\n    }\n</style>\n<table border=\"1\" class=\"dataframe\">\n  <thead>\n    <tr style=\"text-align: right;\">\n      <th></th>\n      <th>DATE</th>\n      <th>CEP_CUSTOMERS</th>\n      <th>TOTAL_CUSTOMERS</th>\n      <th>UTILITY</th>\n      <th>CUSTOMER_CLASS</th>\n    </tr>\n  </thead>\n  <tbody>\n    <tr>\n      <th>7</th>\n      <td>2022-12-31</td>\n      <td>10017.0</td>\n      <td>126794.0</td>\n      <td>BANGOR HYDRO DISTRICT</td>\n      <td>SMALL</td>\n    </tr>\n    <tr>\n      <th>19</th>\n      <td>2021-12-31</td>\n      <td>10772.0</td>\n      <td>134874.0</td>\n      <td>BANGOR HYDRO DISTRICT</td>\n      <td>SMALL</td>\n    </tr>\n    <tr>\n      <th>31</th>\n      <td>2020-12-31</td>\n      <td>11040.0</td>\n      <td>133202.0</td>\n      <td>BANGOR HYDRO DISTRICT</td>\n      <td>SMALL</td>\n    </tr>\n    <tr>\n      <th>43</th>\n      <td>2019-12-01</td>\n      <td>11076.0</td>\n      <td>127251.0</td>\n      <td>BANGOR HYDRO DISTRICT</td>\n      <td>SMALL</td>\n    </tr>\n    <tr>\n      <th>55</th>\n      <td>2018-12-01</td>\n      <td>11933.0</td>\n      <td>126595.0</td>\n      <td>BANGOR HYDRO DISTRICT</td>\n      <td>SMALL</td>\n    </tr>\n    <tr>\n      <th>...</th>\n      <td>...</td>\n      <td>...</td>\n      <td>...</td>\n      <td>...</td>\n      <td>...</td>\n    </tr>\n    <tr>\n      <th>1319</th>\n      <td>2004-12-01</td>\n      <td>2671.0</td>\n      <td>NaN</td>\n      <td>MAINE PUBLIC SERVICE</td>\n      <td>SMALL</td>\n    </tr>\n    <tr>\n      <th>1331</th>\n      <td>2003-12-01</td>\n      <td>2882.0</td>\n      <td>NaN</td>\n      <td>MAINE PUBLIC SERVICE</td>\n      <td>SMALL</td>\n    </tr>\n    <tr>\n      <th>1342</th>\n      <td>2002-12-01</td>\n      <td>5715.0</td>\n      <td>NaN</td>\n      <td>MAINE PUBLIC SERVICE</td>\n      <td>SMALL</td>\n    </tr>\n    <tr>\n      <th>1354</th>\n      <td>2001-12-01</td>\n      <td>1281.0</td>\n      <td>NaN</td>\n      <td>MAINE PUBLIC SERVICE</td>\n      <td>SMALL</td>\n    </tr>\n    <tr>\n      <th>1366</th>\n      <td>2000-12-01</td>\n      <td>1680.0</td>\n      <td>NaN</td>\n      <td>MAINE PUBLIC SERVICE</td>\n      <td>SMALL</td>\n    </tr>\n  </tbody>\n</table>\n<p>69 rows × 5 columns</p>\n</div>"
     },
     "execution_count": 67,
     "metadata": {},
     "output_type": "execute_result"
    }
   ],
   "source": [
    "puc_migration = pd.read_csv('etl_scripts/prepared_data/customers_migrated.csv')\n",
    "puc_migration['DATE'] = pd.to_datetime(puc_migration['DATE'])\n",
    "\n",
    "puc_migration[(puc_migration['DATE'].dt.month == 12) & (puc_migration['CUSTOMER_CLASS'] == 'SMALL')]"
   ],
   "metadata": {
    "collapsed": false,
    "ExecuteTime": {
     "end_time": "2024-02-22T03:52:13.956524Z",
     "start_time": "2024-02-22T03:52:13.919781Z"
    }
   },
   "id": "36ff1d320b23aa8"
  },
  {
   "cell_type": "code",
   "execution_count": 68,
   "outputs": [
    {
     "data": {
      "text/plain": "DATE\n2000-08-01     1494.0\n2000-10-01     2554.0\n2000-11-01     2895.0\n2000-12-01     2951.0\n2001-01-01     3114.0\n               ...   \n2023-03-31    82638.0\n2023-04-30    77135.0\n2023-05-31    89205.0\n2023-06-30    92879.0\n2023-07-31    92553.0\nName: CEP_CUSTOMERS, Length: 274, dtype: float64"
     },
     "execution_count": 68,
     "metadata": {},
     "output_type": "execute_result"
    }
   ],
   "source": [
    "puc_migration['DATE'] = pd.to_datetime(puc_migration['DATE'])\n",
    "puc_migration['YEAR'] = puc_migration['DATE'].dt.year\n",
    "\n",
    "puc_migration.groupby('DATE')['CEP_CUSTOMERS'].sum()"
   ],
   "metadata": {
    "collapsed": false,
    "ExecuteTime": {
     "end_time": "2024-02-22T03:52:21.126544Z",
     "start_time": "2024-02-22T03:52:21.099280Z"
    }
   },
   "id": "b17b121887c39390"
  },
  {
   "cell_type": "markdown",
   "source": [
    "### Import rate info from PDFs"
   ],
   "metadata": {
    "collapsed": false
   },
   "id": "bddcad97ba66d162"
  },
  {
   "cell_type": "code",
   "execution_count": 176,
   "outputs": [
    {
     "data": {
      "text/plain": "   YEAR   AVG_CEP  AVG_STANDARD\n0  2016  0.079866      0.065441\n1  2017  0.076268      0.065065\n2  2018  0.092201      0.075728\n3  2019  0.091628      0.086862\n4  2020  0.091652      0.070911\n5  2021  0.083604      0.063227\n6  2022  0.087177      0.117501",
      "text/html": "<div>\n<style scoped>\n    .dataframe tbody tr th:only-of-type {\n        vertical-align: middle;\n    }\n\n    .dataframe tbody tr th {\n        vertical-align: top;\n    }\n\n    .dataframe thead th {\n        text-align: right;\n    }\n</style>\n<table border=\"1\" class=\"dataframe\">\n  <thead>\n    <tr style=\"text-align: right;\">\n      <th></th>\n      <th>YEAR</th>\n      <th>AVG_CEP</th>\n      <th>AVG_STANDARD</th>\n    </tr>\n  </thead>\n  <tbody>\n    <tr>\n      <th>0</th>\n      <td>2016</td>\n      <td>0.079866</td>\n      <td>0.065441</td>\n    </tr>\n    <tr>\n      <th>1</th>\n      <td>2017</td>\n      <td>0.076268</td>\n      <td>0.065065</td>\n    </tr>\n    <tr>\n      <th>2</th>\n      <td>2018</td>\n      <td>0.092201</td>\n      <td>0.075728</td>\n    </tr>\n    <tr>\n      <th>3</th>\n      <td>2019</td>\n      <td>0.091628</td>\n      <td>0.086862</td>\n    </tr>\n    <tr>\n      <th>4</th>\n      <td>2020</td>\n      <td>0.091652</td>\n      <td>0.070911</td>\n    </tr>\n    <tr>\n      <th>5</th>\n      <td>2021</td>\n      <td>0.083604</td>\n      <td>0.063227</td>\n    </tr>\n    <tr>\n      <th>6</th>\n      <td>2022</td>\n      <td>0.087177</td>\n      <td>0.117501</td>\n    </tr>\n  </tbody>\n</table>\n</div>"
     },
     "execution_count": 176,
     "metadata": {},
     "output_type": "execute_result"
    }
   ],
   "source": [
    "import tabula\n",
    "\n",
    "pdf_path = \"etl_scripts/raw_data/2024-02-06_OPA Testimony_SUPPORT w Attachments_LD 2163.pdf\"\n",
    "tables = tabula.read_pdf(pdf_path, pages='4-8', multiple_tables=True)\n",
    "rates_df = tables[0]\n",
    "\n",
    "new_row = pd.DataFrame([rates_df.columns], columns=rates_df.columns)\n",
    "rates_df = pd.concat([new_row, rates_df], ignore_index=True)\n",
    "\n",
    "rates_df.columns = ['YEAR', 'CMP_STANDARD', 'CMP_CEP', 'BHD_STANDARD', 'BHD_CEP', 'MPS_STANDARD', 'MPS_CEP']\n",
    "\n",
    "rates_df = rates_df.drop(columns=rates_df.columns[-2:])\n",
    "\n",
    "# Convert all values to numeric\n",
    "rates_df = rates_df.applymap(lambda x: pd.to_numeric(str(x).replace('$', ''), errors='coerce'))\n",
    "\n",
    "# Compute average standard offer and CEP rates for each year\n",
    "melted_df = pd.melt(rates_df, id_vars=['YEAR'], var_name='column')\n",
    "\n",
    "# Extract the type (e.g., STANDARD or CEP) from the column names\n",
    "melted_df['type'] = melted_df['column'].str.split('_').str[-1]\n",
    "\n",
    "# Compute the average for each group of columns\n",
    "average_df = melted_df.groupby(['YEAR', 'type'])['value'].mean().reset_index()\n",
    "\n",
    "# Pivot the DataFrame back to the desired wide format\n",
    "rates_df = average_df.pivot(index='YEAR', columns='type', values='value').reset_index()\n",
    "\n",
    "# Rename the columns\n",
    "rates_df.columns.name = None  # Remove the 'type' header\n",
    "rates_df.columns = ['YEAR', 'AVG_CEP', 'AVG_STANDARD']\n",
    "\n",
    "rates_df"
   ],
   "metadata": {
    "collapsed": false,
    "ExecuteTime": {
     "end_time": "2024-02-22T05:13:50.263799Z",
     "start_time": "2024-02-22T05:13:48.026935Z"
    }
   },
   "id": "6a0be9014b0d2eab"
  },
  {
   "cell_type": "code",
   "execution_count": 177,
   "outputs": [
    {
     "data": {
      "text/plain": "   YEAR    MPUC     EIA\n0  2016  115040  117544\n1  2017  116700  112504\n2  2018   85843  105786\n3  2019   71600   76053\n4  2020   67553   67730\n5  2021   64693   64279\n6  2022   51834   62100",
      "text/html": "<div>\n<style scoped>\n    .dataframe tbody tr th:only-of-type {\n        vertical-align: middle;\n    }\n\n    .dataframe tbody tr th {\n        vertical-align: top;\n    }\n\n    .dataframe thead th {\n        text-align: right;\n    }\n</style>\n<table border=\"1\" class=\"dataframe\">\n  <thead>\n    <tr style=\"text-align: right;\">\n      <th></th>\n      <th>YEAR</th>\n      <th>MPUC</th>\n      <th>EIA</th>\n    </tr>\n  </thead>\n  <tbody>\n    <tr>\n      <th>0</th>\n      <td>2016</td>\n      <td>115040</td>\n      <td>117544</td>\n    </tr>\n    <tr>\n      <th>1</th>\n      <td>2017</td>\n      <td>116700</td>\n      <td>112504</td>\n    </tr>\n    <tr>\n      <th>2</th>\n      <td>2018</td>\n      <td>85843</td>\n      <td>105786</td>\n    </tr>\n    <tr>\n      <th>3</th>\n      <td>2019</td>\n      <td>71600</td>\n      <td>76053</td>\n    </tr>\n    <tr>\n      <th>4</th>\n      <td>2020</td>\n      <td>67553</td>\n      <td>67730</td>\n    </tr>\n    <tr>\n      <th>5</th>\n      <td>2021</td>\n      <td>64693</td>\n      <td>64279</td>\n    </tr>\n    <tr>\n      <th>6</th>\n      <td>2022</td>\n      <td>51834</td>\n      <td>62100</td>\n    </tr>\n  </tbody>\n</table>\n</div>"
     },
     "execution_count": 177,
     "metadata": {},
     "output_type": "execute_result"
    }
   ],
   "source": [
    "cust_df = tables[1]\n",
    "cust_df[['YEAR', 'MPUC', 'EIA']] = cust_df['Total Year-end Residential CEP Customers'].str.split(expand=True)\n",
    "cust_df = cust_df.iloc[1:, 1:]\n",
    "cust_df = cust_df.applymap(lambda x: pd.to_numeric(x.replace(',', '')))\n",
    "cust_df = cust_df.reset_index(drop=True)\n",
    "cust_df"
   ],
   "metadata": {
    "collapsed": false,
    "ExecuteTime": {
     "end_time": "2024-02-22T05:14:03.787133Z",
     "start_time": "2024-02-22T05:14:03.768439Z"
    }
   },
   "id": "32e8033a1c425fe6"
  },
  {
   "cell_type": "code",
   "execution_count": 178,
   "outputs": [
    {
     "data": {
      "text/plain": "   YEAR   SAVINGS\n0  2016  30350984\n1  2017  18841561\n2  2018  15920084\n3  2019   4735869\n4  2020  18163917\n5  2021  25551475\n6  2022 -33205291",
      "text/html": "<div>\n<style scoped>\n    .dataframe tbody tr th:only-of-type {\n        vertical-align: middle;\n    }\n\n    .dataframe tbody tr th {\n        vertical-align: top;\n    }\n\n    .dataframe thead th {\n        text-align: right;\n    }\n</style>\n<table border=\"1\" class=\"dataframe\">\n  <thead>\n    <tr style=\"text-align: right;\">\n      <th></th>\n      <th>YEAR</th>\n      <th>SAVINGS</th>\n    </tr>\n  </thead>\n  <tbody>\n    <tr>\n      <th>0</th>\n      <td>2016</td>\n      <td>30350984</td>\n    </tr>\n    <tr>\n      <th>1</th>\n      <td>2017</td>\n      <td>18841561</td>\n    </tr>\n    <tr>\n      <th>2</th>\n      <td>2018</td>\n      <td>15920084</td>\n    </tr>\n    <tr>\n      <th>3</th>\n      <td>2019</td>\n      <td>4735869</td>\n    </tr>\n    <tr>\n      <th>4</th>\n      <td>2020</td>\n      <td>18163917</td>\n    </tr>\n    <tr>\n      <th>5</th>\n      <td>2021</td>\n      <td>25551475</td>\n    </tr>\n    <tr>\n      <th>6</th>\n      <td>2022</td>\n      <td>-33205291</td>\n    </tr>\n  </tbody>\n</table>\n</div>"
     },
     "execution_count": 178,
     "metadata": {},
     "output_type": "execute_result"
    }
   ],
   "source": [
    "savings = {\n",
    "    'YEAR': range(2016, 2023),\n",
    "    'SAVINGS': [30350984, 18841561, 15920084, 4735869, 18163917, 25551475, -33205291] \n",
    "} \n",
    "\n",
    "savings_df = pd.DataFrame(savings)\n",
    "\n",
    "savings_df"
   ],
   "metadata": {
    "collapsed": false,
    "ExecuteTime": {
     "end_time": "2024-02-22T05:14:06.535197Z",
     "start_time": "2024-02-22T05:14:06.530769Z"
    }
   },
   "id": "87382c0f9d5de4c3"
  },
  {
   "cell_type": "code",
   "execution_count": 180,
   "outputs": [
    {
     "data": {
      "text/plain": "   YEAR   SAVINGS    MPUC     EIA   AVG_CEP  AVG_STANDARD\n0  2016  30350984  115040  117544  0.079866      0.065441\n1  2017  18841561  116700  112504  0.076268      0.065065\n2  2018  15920084   85843  105786  0.092201      0.075728\n3  2019   4735869   71600   76053  0.091628      0.086862\n4  2020  18163917   67553   67730  0.091652      0.070911\n5  2021  25551475   64693   64279  0.083604      0.063227\n6  2022 -33205291   51834   62100  0.087177      0.117501",
      "text/html": "<div>\n<style scoped>\n    .dataframe tbody tr th:only-of-type {\n        vertical-align: middle;\n    }\n\n    .dataframe tbody tr th {\n        vertical-align: top;\n    }\n\n    .dataframe thead th {\n        text-align: right;\n    }\n</style>\n<table border=\"1\" class=\"dataframe\">\n  <thead>\n    <tr style=\"text-align: right;\">\n      <th></th>\n      <th>YEAR</th>\n      <th>SAVINGS</th>\n      <th>MPUC</th>\n      <th>EIA</th>\n      <th>AVG_CEP</th>\n      <th>AVG_STANDARD</th>\n    </tr>\n  </thead>\n  <tbody>\n    <tr>\n      <th>0</th>\n      <td>2016</td>\n      <td>30350984</td>\n      <td>115040</td>\n      <td>117544</td>\n      <td>0.079866</td>\n      <td>0.065441</td>\n    </tr>\n    <tr>\n      <th>1</th>\n      <td>2017</td>\n      <td>18841561</td>\n      <td>116700</td>\n      <td>112504</td>\n      <td>0.076268</td>\n      <td>0.065065</td>\n    </tr>\n    <tr>\n      <th>2</th>\n      <td>2018</td>\n      <td>15920084</td>\n      <td>85843</td>\n      <td>105786</td>\n      <td>0.092201</td>\n      <td>0.075728</td>\n    </tr>\n    <tr>\n      <th>3</th>\n      <td>2019</td>\n      <td>4735869</td>\n      <td>71600</td>\n      <td>76053</td>\n      <td>0.091628</td>\n      <td>0.086862</td>\n    </tr>\n    <tr>\n      <th>4</th>\n      <td>2020</td>\n      <td>18163917</td>\n      <td>67553</td>\n      <td>67730</td>\n      <td>0.091652</td>\n      <td>0.070911</td>\n    </tr>\n    <tr>\n      <th>5</th>\n      <td>2021</td>\n      <td>25551475</td>\n      <td>64693</td>\n      <td>64279</td>\n      <td>0.083604</td>\n      <td>0.063227</td>\n    </tr>\n    <tr>\n      <th>6</th>\n      <td>2022</td>\n      <td>-33205291</td>\n      <td>51834</td>\n      <td>62100</td>\n      <td>0.087177</td>\n      <td>0.117501</td>\n    </tr>\n  </tbody>\n</table>\n</div>"
     },
     "execution_count": 180,
     "metadata": {},
     "output_type": "execute_result"
    }
   ],
   "source": [
    "analysis_df = savings_df.merge(cust_df, on='YEAR').merge(rates_df, on='YEAR')\n",
    "\n",
    "analysis_df"
   ],
   "metadata": {
    "collapsed": false,
    "ExecuteTime": {
     "end_time": "2024-02-22T05:14:35.427590Z",
     "start_time": "2024-02-22T05:14:35.421534Z"
    }
   },
   "id": "2f121c5c7191cb15"
  },
  {
   "cell_type": "code",
   "execution_count": 184,
   "outputs": [
    {
     "name": "stdout",
     "output_type": "stream",
     "text": [
      "AVERAGE MONTHLY USE FROM SAVINGS\n"
     ]
    },
    {
     "data": {
      "text/plain": "0    1524.199759\n1    1201.018856\n2     938.180763\n3    1156.515278\n4    1080.323767\n5    1615.200858\n6    1760.454610\ndtype: float64"
     },
     "execution_count": 184,
     "metadata": {},
     "output_type": "execute_result"
    }
   ],
   "source": [
    "# kw = savings / (avg_std - avg_cep)\n",
    "# kw / cust_2022 / 12\n",
    "\n",
    "avg_use = abs( analysis_df['SAVINGS'] / (analysis_df['AVG_STANDARD'] - analysis_df['AVG_CEP']) / analysis_df['MPUC'] / 12 )\n",
    "\n",
    "print('AVERAGE MONTHLY USE FROM SAVINGS')\n",
    "avg_use"
   ],
   "metadata": {
    "collapsed": false,
    "ExecuteTime": {
     "end_time": "2024-02-22T05:16:58.660832Z",
     "start_time": "2024-02-22T05:16:58.651913Z"
    }
   },
   "id": "e4f6908c11f4e659"
  }
 ],
 "metadata": {
  "kernelspec": {
   "display_name": "Python 3 (ipykernel)",
   "language": "python",
   "name": "python3"
  },
  "language_info": {
   "codemirror_mode": {
    "name": "ipython",
    "version": 3
   },
   "file_extension": ".py",
   "mimetype": "text/x-python",
   "name": "python",
   "nbconvert_exporter": "python",
   "pygments_lexer": "ipython3",
   "version": "3.10.13"
  }
 },
 "nbformat": 4,
 "nbformat_minor": 5
}
