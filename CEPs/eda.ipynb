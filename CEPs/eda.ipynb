{
 "cells": [
  {
   "cell_type": "code",
   "execution_count": 18,
   "id": "initial_id",
   "metadata": {
    "ExecuteTime": {
     "end_time": "2024-02-27T00:24:22.692722Z",
     "start_time": "2024-02-27T00:24:22.650009Z"
    }
   },
   "outputs": [],
   "source": [
    "import pandas as pd\n",
    "import numpy as np\n",
    "import os"
   ]
  },
  {
   "cell_type": "code",
   "execution_count": 19,
   "id": "192b7ee424fcc75f",
   "metadata": {
    "ExecuteTime": {
     "end_time": "2024-02-27T00:24:22.894337Z",
     "start_time": "2024-02-27T00:24:22.658315Z"
    }
   },
   "outputs": [],
   "source": [
    "df = pd.read_csv('etl_scripts/prepared_data/sales_ult_cust_all_years.csv')"
   ]
  },
  {
   "cell_type": "code",
   "execution_count": 20,
   "id": "ca7d49b7c30fa883",
   "metadata": {
    "ExecuteTime": {
     "end_time": "2024-02-27T00:24:22.909185Z",
     "start_time": "2024-02-27T00:24:22.902298Z"
    }
   },
   "outputs": [
    {
     "data": {
      "text/plain": "   YEAR  UTILITY_NUMBER              UTILITY_NAME PART SERVICE_TYPE DATA_TYPE  \\\n0  2017            55.0   City of Aberdeen - (MS)    A      Bundled         O   \n1  2017            59.0  City of Abbeville - (LA)    A      Bundled         O   \n2  2017            84.0       A & N Electric Coop    A      Bundled         O   \n3  2017            84.0       A & N Electric Coop    A      Bundled         O   \n4  2017            97.0       Adams Electric Coop    A      Bundled         O   \n\n  STATE    OWNERSHIP BA_CODE     REVENUE  SALES_KWH CUSTOMERS CUSTOMER_TYPE  \n0    MS    Municipal     TVA     3644000   32158000      2595   RESIDENTIAL  \n1    LA    Municipal    MISO   5279900.0   52746000      4464   RESIDENTIAL  \n2    MD  Cooperative     PJM    235300.0    2047000       274   RESIDENTIAL  \n3    VA  Cooperative     PJM  38308700.0  344508000     31309   RESIDENTIAL  \n4    IL  Cooperative    MISO    16341000  109301000      8603   RESIDENTIAL  ",
      "text/html": "<div>\n<style scoped>\n    .dataframe tbody tr th:only-of-type {\n        vertical-align: middle;\n    }\n\n    .dataframe tbody tr th {\n        vertical-align: top;\n    }\n\n    .dataframe thead th {\n        text-align: right;\n    }\n</style>\n<table border=\"1\" class=\"dataframe\">\n  <thead>\n    <tr style=\"text-align: right;\">\n      <th></th>\n      <th>YEAR</th>\n      <th>UTILITY_NUMBER</th>\n      <th>UTILITY_NAME</th>\n      <th>PART</th>\n      <th>SERVICE_TYPE</th>\n      <th>DATA_TYPE</th>\n      <th>STATE</th>\n      <th>OWNERSHIP</th>\n      <th>BA_CODE</th>\n      <th>REVENUE</th>\n      <th>SALES_KWH</th>\n      <th>CUSTOMERS</th>\n      <th>CUSTOMER_TYPE</th>\n    </tr>\n  </thead>\n  <tbody>\n    <tr>\n      <th>0</th>\n      <td>2017</td>\n      <td>55.0</td>\n      <td>City of Aberdeen - (MS)</td>\n      <td>A</td>\n      <td>Bundled</td>\n      <td>O</td>\n      <td>MS</td>\n      <td>Municipal</td>\n      <td>TVA</td>\n      <td>3644000</td>\n      <td>32158000</td>\n      <td>2595</td>\n      <td>RESIDENTIAL</td>\n    </tr>\n    <tr>\n      <th>1</th>\n      <td>2017</td>\n      <td>59.0</td>\n      <td>City of Abbeville - (LA)</td>\n      <td>A</td>\n      <td>Bundled</td>\n      <td>O</td>\n      <td>LA</td>\n      <td>Municipal</td>\n      <td>MISO</td>\n      <td>5279900.0</td>\n      <td>52746000</td>\n      <td>4464</td>\n      <td>RESIDENTIAL</td>\n    </tr>\n    <tr>\n      <th>2</th>\n      <td>2017</td>\n      <td>84.0</td>\n      <td>A &amp; N Electric Coop</td>\n      <td>A</td>\n      <td>Bundled</td>\n      <td>O</td>\n      <td>MD</td>\n      <td>Cooperative</td>\n      <td>PJM</td>\n      <td>235300.0</td>\n      <td>2047000</td>\n      <td>274</td>\n      <td>RESIDENTIAL</td>\n    </tr>\n    <tr>\n      <th>3</th>\n      <td>2017</td>\n      <td>84.0</td>\n      <td>A &amp; N Electric Coop</td>\n      <td>A</td>\n      <td>Bundled</td>\n      <td>O</td>\n      <td>VA</td>\n      <td>Cooperative</td>\n      <td>PJM</td>\n      <td>38308700.0</td>\n      <td>344508000</td>\n      <td>31309</td>\n      <td>RESIDENTIAL</td>\n    </tr>\n    <tr>\n      <th>4</th>\n      <td>2017</td>\n      <td>97.0</td>\n      <td>Adams Electric Coop</td>\n      <td>A</td>\n      <td>Bundled</td>\n      <td>O</td>\n      <td>IL</td>\n      <td>Cooperative</td>\n      <td>MISO</td>\n      <td>16341000</td>\n      <td>109301000</td>\n      <td>8603</td>\n      <td>RESIDENTIAL</td>\n    </tr>\n  </tbody>\n</table>\n</div>"
     },
     "execution_count": 20,
     "metadata": {},
     "output_type": "execute_result"
    }
   ],
   "source": [
    "df.head()"
   ]
  },
  {
   "cell_type": "code",
   "execution_count": 21,
   "id": "1ff54f9c420369aa",
   "metadata": {
    "ExecuteTime": {
     "end_time": "2024-02-27T00:24:23.003191Z",
     "start_time": "2024-02-27T00:24:22.917730Z"
    }
   },
   "outputs": [
    {
     "data": {
      "text/plain": "      YEAR  UTILITY_NUMBER                         UTILITY_NAME PART  \\\n140   2017          1611.0          Linde Energy Services, Inc.    B   \n400   2017          4191.0          Consolidated Edison Sol Inc    B   \n690   2017          7279.0         NextEra Energy Services, LLC    B   \n1230  2017         13374.0         Constellation NewEnergy, Inc    B   \n1632  2017         16840.0        Calpine Energy Solutions, LLC    B   \n1702  2017         17549.0          South Jersey Energy Company    B   \n1802  2017         18193.0                 Strategic Energy LLC    B   \n1906  2017         19119.0    TransCanada Power Marketing, Ltd.    B   \n2142  2017         21795.0  Constellation Energy Services, Inc.    B   \n2258  2017         49730.0                    American PowerNet    B   \n2269  2017         49891.0   NextEra Energy Power Marketing LLC    B   \n2281  2017         50046.0             Texas Retail Energy, LLC    B   \n2321  2017         54862.0             Champion Energy Services    B   \n2331  2017         54873.0                       Freedom Energy    B   \n2352  2017         55781.0                  Liberty Power Corp.    B   \n2401  2017         56212.0           Ambit Energy Holdings, LLC    B   \n2453  2017         56522.0           Backyard Farms Energy, LLC    B   \n2498  2017         57067.0                    ENGIE Retail, LLC    B   \n2580  2017         58085.0               Electricity Maine, LLC    B   \n2598  2017         58158.0                 FairPoint Energy LLC    B   \n\n     SERVICE_TYPE DATA_TYPE STATE              OWNERSHIP BA_CODE    REVENUE  \\\n140        Energy         O    ME  Retail Power Marketer    ISNE          0   \n400        Energy         O    ME  Retail Power Marketer    ISNE          0   \n690        Energy         O    ME  Retail Power Marketer    ISNE          0   \n1230       Energy         O    ME  Retail Power Marketer    ISNE      55000   \n1632       Energy         O    ME  Retail Power Marketer    ISNE          0   \n1702       Energy         O    ME  Retail Power Marketer    ISNE          0   \n1802       Energy         O    ME  Retail Power Marketer    ISNE          0   \n1906       Energy         O    ME  Retail Power Marketer    ISNE          0   \n2142       Energy         O    ME  Retail Power Marketer    ISNE   118600.0   \n2258       Energy         O    ME  Retail Power Marketer    ISNE          0   \n2269       Energy         O    ME  Retail Power Marketer    ISNE          0   \n2281       Energy         O    ME  Retail Power Marketer    ISNE          0   \n2321       Energy         O    ME  Retail Power Marketer    ISNE          0   \n2331       Energy         O    ME  Retail Power Marketer    ISNE          0   \n2352       Energy         O    ME  Retail Power Marketer    ISNE          0   \n2401       Energy         O    ME  Retail Power Marketer    ISNE  3867800.0   \n2453       Energy         O    ME  Retail Power Marketer    ISNE          0   \n2498       Energy         O    ME  Retail Power Marketer    ISNE  2066900.0   \n2580       Energy         O    ME  Retail Power Marketer    ISNE   46942000   \n2598       Energy         O    ME  Retail Power Marketer    NBSO  4893300.0   \n\n      SALES_KWH CUSTOMERS CUSTOMER_TYPE  \n140           0         0   RESIDENTIAL  \n400           0         0   RESIDENTIAL  \n690           0         0   RESIDENTIAL  \n1230     874000        47   RESIDENTIAL  \n1632          0         0   RESIDENTIAL  \n1702          0         0   RESIDENTIAL  \n1802          0         0   RESIDENTIAL  \n1906          0         0   RESIDENTIAL  \n2142    1658000       154   RESIDENTIAL  \n2258          0         0   RESIDENTIAL  \n2269          0         0   RESIDENTIAL  \n2281          0         0   RESIDENTIAL  \n2321          0         0   RESIDENTIAL  \n2331          0         0   RESIDENTIAL  \n2352          0         0   RESIDENTIAL  \n2401   51083000      6536   RESIDENTIAL  \n2453          0         0   RESIDENTIAL  \n2498   31376000      4037   RESIDENTIAL  \n2580  474743000     67295   RESIDENTIAL  \n2598   57837000      9749   RESIDENTIAL  ",
      "text/html": "<div>\n<style scoped>\n    .dataframe tbody tr th:only-of-type {\n        vertical-align: middle;\n    }\n\n    .dataframe tbody tr th {\n        vertical-align: top;\n    }\n\n    .dataframe thead th {\n        text-align: right;\n    }\n</style>\n<table border=\"1\" class=\"dataframe\">\n  <thead>\n    <tr style=\"text-align: right;\">\n      <th></th>\n      <th>YEAR</th>\n      <th>UTILITY_NUMBER</th>\n      <th>UTILITY_NAME</th>\n      <th>PART</th>\n      <th>SERVICE_TYPE</th>\n      <th>DATA_TYPE</th>\n      <th>STATE</th>\n      <th>OWNERSHIP</th>\n      <th>BA_CODE</th>\n      <th>REVENUE</th>\n      <th>SALES_KWH</th>\n      <th>CUSTOMERS</th>\n      <th>CUSTOMER_TYPE</th>\n    </tr>\n  </thead>\n  <tbody>\n    <tr>\n      <th>140</th>\n      <td>2017</td>\n      <td>1611.0</td>\n      <td>Linde Energy Services, Inc.</td>\n      <td>B</td>\n      <td>Energy</td>\n      <td>O</td>\n      <td>ME</td>\n      <td>Retail Power Marketer</td>\n      <td>ISNE</td>\n      <td>0</td>\n      <td>0</td>\n      <td>0</td>\n      <td>RESIDENTIAL</td>\n    </tr>\n    <tr>\n      <th>400</th>\n      <td>2017</td>\n      <td>4191.0</td>\n      <td>Consolidated Edison Sol Inc</td>\n      <td>B</td>\n      <td>Energy</td>\n      <td>O</td>\n      <td>ME</td>\n      <td>Retail Power Marketer</td>\n      <td>ISNE</td>\n      <td>0</td>\n      <td>0</td>\n      <td>0</td>\n      <td>RESIDENTIAL</td>\n    </tr>\n    <tr>\n      <th>690</th>\n      <td>2017</td>\n      <td>7279.0</td>\n      <td>NextEra Energy Services, LLC</td>\n      <td>B</td>\n      <td>Energy</td>\n      <td>O</td>\n      <td>ME</td>\n      <td>Retail Power Marketer</td>\n      <td>ISNE</td>\n      <td>0</td>\n      <td>0</td>\n      <td>0</td>\n      <td>RESIDENTIAL</td>\n    </tr>\n    <tr>\n      <th>1230</th>\n      <td>2017</td>\n      <td>13374.0</td>\n      <td>Constellation NewEnergy, Inc</td>\n      <td>B</td>\n      <td>Energy</td>\n      <td>O</td>\n      <td>ME</td>\n      <td>Retail Power Marketer</td>\n      <td>ISNE</td>\n      <td>55000</td>\n      <td>874000</td>\n      <td>47</td>\n      <td>RESIDENTIAL</td>\n    </tr>\n    <tr>\n      <th>1632</th>\n      <td>2017</td>\n      <td>16840.0</td>\n      <td>Calpine Energy Solutions, LLC</td>\n      <td>B</td>\n      <td>Energy</td>\n      <td>O</td>\n      <td>ME</td>\n      <td>Retail Power Marketer</td>\n      <td>ISNE</td>\n      <td>0</td>\n      <td>0</td>\n      <td>0</td>\n      <td>RESIDENTIAL</td>\n    </tr>\n    <tr>\n      <th>1702</th>\n      <td>2017</td>\n      <td>17549.0</td>\n      <td>South Jersey Energy Company</td>\n      <td>B</td>\n      <td>Energy</td>\n      <td>O</td>\n      <td>ME</td>\n      <td>Retail Power Marketer</td>\n      <td>ISNE</td>\n      <td>0</td>\n      <td>0</td>\n      <td>0</td>\n      <td>RESIDENTIAL</td>\n    </tr>\n    <tr>\n      <th>1802</th>\n      <td>2017</td>\n      <td>18193.0</td>\n      <td>Strategic Energy LLC</td>\n      <td>B</td>\n      <td>Energy</td>\n      <td>O</td>\n      <td>ME</td>\n      <td>Retail Power Marketer</td>\n      <td>ISNE</td>\n      <td>0</td>\n      <td>0</td>\n      <td>0</td>\n      <td>RESIDENTIAL</td>\n    </tr>\n    <tr>\n      <th>1906</th>\n      <td>2017</td>\n      <td>19119.0</td>\n      <td>TransCanada Power Marketing, Ltd.</td>\n      <td>B</td>\n      <td>Energy</td>\n      <td>O</td>\n      <td>ME</td>\n      <td>Retail Power Marketer</td>\n      <td>ISNE</td>\n      <td>0</td>\n      <td>0</td>\n      <td>0</td>\n      <td>RESIDENTIAL</td>\n    </tr>\n    <tr>\n      <th>2142</th>\n      <td>2017</td>\n      <td>21795.0</td>\n      <td>Constellation Energy Services, Inc.</td>\n      <td>B</td>\n      <td>Energy</td>\n      <td>O</td>\n      <td>ME</td>\n      <td>Retail Power Marketer</td>\n      <td>ISNE</td>\n      <td>118600.0</td>\n      <td>1658000</td>\n      <td>154</td>\n      <td>RESIDENTIAL</td>\n    </tr>\n    <tr>\n      <th>2258</th>\n      <td>2017</td>\n      <td>49730.0</td>\n      <td>American PowerNet</td>\n      <td>B</td>\n      <td>Energy</td>\n      <td>O</td>\n      <td>ME</td>\n      <td>Retail Power Marketer</td>\n      <td>ISNE</td>\n      <td>0</td>\n      <td>0</td>\n      <td>0</td>\n      <td>RESIDENTIAL</td>\n    </tr>\n    <tr>\n      <th>2269</th>\n      <td>2017</td>\n      <td>49891.0</td>\n      <td>NextEra Energy Power Marketing LLC</td>\n      <td>B</td>\n      <td>Energy</td>\n      <td>O</td>\n      <td>ME</td>\n      <td>Retail Power Marketer</td>\n      <td>ISNE</td>\n      <td>0</td>\n      <td>0</td>\n      <td>0</td>\n      <td>RESIDENTIAL</td>\n    </tr>\n    <tr>\n      <th>2281</th>\n      <td>2017</td>\n      <td>50046.0</td>\n      <td>Texas Retail Energy, LLC</td>\n      <td>B</td>\n      <td>Energy</td>\n      <td>O</td>\n      <td>ME</td>\n      <td>Retail Power Marketer</td>\n      <td>ISNE</td>\n      <td>0</td>\n      <td>0</td>\n      <td>0</td>\n      <td>RESIDENTIAL</td>\n    </tr>\n    <tr>\n      <th>2321</th>\n      <td>2017</td>\n      <td>54862.0</td>\n      <td>Champion Energy Services</td>\n      <td>B</td>\n      <td>Energy</td>\n      <td>O</td>\n      <td>ME</td>\n      <td>Retail Power Marketer</td>\n      <td>ISNE</td>\n      <td>0</td>\n      <td>0</td>\n      <td>0</td>\n      <td>RESIDENTIAL</td>\n    </tr>\n    <tr>\n      <th>2331</th>\n      <td>2017</td>\n      <td>54873.0</td>\n      <td>Freedom Energy</td>\n      <td>B</td>\n      <td>Energy</td>\n      <td>O</td>\n      <td>ME</td>\n      <td>Retail Power Marketer</td>\n      <td>ISNE</td>\n      <td>0</td>\n      <td>0</td>\n      <td>0</td>\n      <td>RESIDENTIAL</td>\n    </tr>\n    <tr>\n      <th>2352</th>\n      <td>2017</td>\n      <td>55781.0</td>\n      <td>Liberty Power Corp.</td>\n      <td>B</td>\n      <td>Energy</td>\n      <td>O</td>\n      <td>ME</td>\n      <td>Retail Power Marketer</td>\n      <td>ISNE</td>\n      <td>0</td>\n      <td>0</td>\n      <td>0</td>\n      <td>RESIDENTIAL</td>\n    </tr>\n    <tr>\n      <th>2401</th>\n      <td>2017</td>\n      <td>56212.0</td>\n      <td>Ambit Energy Holdings, LLC</td>\n      <td>B</td>\n      <td>Energy</td>\n      <td>O</td>\n      <td>ME</td>\n      <td>Retail Power Marketer</td>\n      <td>ISNE</td>\n      <td>3867800.0</td>\n      <td>51083000</td>\n      <td>6536</td>\n      <td>RESIDENTIAL</td>\n    </tr>\n    <tr>\n      <th>2453</th>\n      <td>2017</td>\n      <td>56522.0</td>\n      <td>Backyard Farms Energy, LLC</td>\n      <td>B</td>\n      <td>Energy</td>\n      <td>O</td>\n      <td>ME</td>\n      <td>Retail Power Marketer</td>\n      <td>ISNE</td>\n      <td>0</td>\n      <td>0</td>\n      <td>0</td>\n      <td>RESIDENTIAL</td>\n    </tr>\n    <tr>\n      <th>2498</th>\n      <td>2017</td>\n      <td>57067.0</td>\n      <td>ENGIE Retail, LLC</td>\n      <td>B</td>\n      <td>Energy</td>\n      <td>O</td>\n      <td>ME</td>\n      <td>Retail Power Marketer</td>\n      <td>ISNE</td>\n      <td>2066900.0</td>\n      <td>31376000</td>\n      <td>4037</td>\n      <td>RESIDENTIAL</td>\n    </tr>\n    <tr>\n      <th>2580</th>\n      <td>2017</td>\n      <td>58085.0</td>\n      <td>Electricity Maine, LLC</td>\n      <td>B</td>\n      <td>Energy</td>\n      <td>O</td>\n      <td>ME</td>\n      <td>Retail Power Marketer</td>\n      <td>ISNE</td>\n      <td>46942000</td>\n      <td>474743000</td>\n      <td>67295</td>\n      <td>RESIDENTIAL</td>\n    </tr>\n    <tr>\n      <th>2598</th>\n      <td>2017</td>\n      <td>58158.0</td>\n      <td>FairPoint Energy LLC</td>\n      <td>B</td>\n      <td>Energy</td>\n      <td>O</td>\n      <td>ME</td>\n      <td>Retail Power Marketer</td>\n      <td>NBSO</td>\n      <td>4893300.0</td>\n      <td>57837000</td>\n      <td>9749</td>\n      <td>RESIDENTIAL</td>\n    </tr>\n  </tbody>\n</table>\n</div>"
     },
     "execution_count": 21,
     "metadata": {},
     "output_type": "execute_result"
    }
   ],
   "source": [
    "me_res_df = df[(df['CUSTOMER_TYPE'] == 'RESIDENTIAL') & (df['STATE'] == 'ME') & (df['OWNERSHIP'] == 'Retail Power Marketer') & (df['CUSTOMERS'] != '.')]\n",
    "me_res_df.head(20)"
   ]
  },
  {
   "cell_type": "markdown",
   "id": "4b4c998b09163284",
   "metadata": {},
   "source": [
    "### Annual numbers"
   ]
  },
  {
   "cell_type": "code",
   "execution_count": 22,
   "id": "ca879864fc989840",
   "metadata": {
    "ExecuteTime": {
     "end_time": "2024-02-27T00:24:23.003608Z",
     "start_time": "2024-02-27T00:24:22.943749Z"
    }
   },
   "outputs": [],
   "source": [
    "import matplotlib as plt"
   ]
  },
  {
   "cell_type": "code",
   "execution_count": 23,
   "id": "41110aeb17387000",
   "metadata": {
    "ExecuteTime": {
     "end_time": "2024-02-27T00:24:23.020471Z",
     "start_time": "2024-02-27T00:24:22.950739Z"
    }
   },
   "outputs": [
    {
     "name": "stderr",
     "output_type": "stream",
     "text": [
      "/var/folders/y6/mrljv2f12c56x4bmwb18gr8h0000gp/T/ipykernel_1191/4157095894.py:1: SettingWithCopyWarning: \n",
      "A value is trying to be set on a copy of a slice from a DataFrame.\n",
      "Try using .loc[row_indexer,col_indexer] = value instead\n",
      "\n",
      "See the caveats in the documentation: https://pandas.pydata.org/pandas-docs/stable/user_guide/indexing.html#returning-a-view-versus-a-copy\n",
      "  me_res_df['CUSTOMERS'] = me_res_df['CUSTOMERS'].astype('int')\n",
      "/var/folders/y6/mrljv2f12c56x4bmwb18gr8h0000gp/T/ipykernel_1191/4157095894.py:2: SettingWithCopyWarning: \n",
      "A value is trying to be set on a copy of a slice from a DataFrame.\n",
      "Try using .loc[row_indexer,col_indexer] = value instead\n",
      "\n",
      "See the caveats in the documentation: https://pandas.pydata.org/pandas-docs/stable/user_guide/indexing.html#returning-a-view-versus-a-copy\n",
      "  me_res_df['SALES_KWH'] = me_res_df['SALES_KWH'].astype('int')\n"
     ]
    },
    {
     "data": {
      "text/plain": "YEAR\n2012     812857\n2013     917381\n2014    1114153\n2015     136139\n2016     117544\n2017     112504\n2018     105786\n2019      76053\n2020      67730\n2021      64279\n2022      62100\nName: CUSTOMERS, dtype: int64"
     },
     "execution_count": 23,
     "metadata": {},
     "output_type": "execute_result"
    }
   ],
   "source": [
    "me_res_df['CUSTOMERS'] = me_res_df['CUSTOMERS'].astype('int')\n",
    "me_res_df['SALES_KWH'] = me_res_df['SALES_KWH'].astype('int')\n",
    "me_res_df.groupby('YEAR')['CUSTOMERS'].sum()"
   ]
  },
  {
   "cell_type": "code",
   "execution_count": 24,
   "id": "1c26fd74623f48b3",
   "metadata": {
    "ExecuteTime": {
     "end_time": "2024-02-27T00:24:23.021001Z",
     "start_time": "2024-02-27T00:24:22.957709Z"
    }
   },
   "outputs": [
    {
     "data": {
      "text/plain": "array(['Linde Energy Services, Inc.', 'Consolidated Edison Sol Inc',\n       'NextEra Energy Services, LLC', 'Constellation NewEnergy, Inc',\n       'Calpine Energy Solutions, LLC', 'South Jersey Energy Company',\n       'Strategic Energy LLC', 'TransCanada Power Marketing, Ltd.',\n       'Constellation Energy Services, Inc.', 'American PowerNet',\n       'NextEra Energy Power Marketing LLC', 'Texas Retail Energy, LLC',\n       'Champion Energy Services', 'Freedom Energy',\n       'Liberty Power Corp.', 'Ambit Energy Holdings, LLC',\n       'Backyard Farms Energy, LLC', 'ENGIE Retail, LLC',\n       'Electricity Maine, LLC', 'FairPoint Energy LLC',\n       'C. N. Brown Electricity, LLC', 'XOOM Energy Maine, LLC',\n       'North American Power and Gas, LLC', 'Mint Energy, LLC',\n       'Clearview Electric Inc.', 'Mega Energy of Maine, LLC',\n       'Union Atlantic Electricity', 'Agera Energy LLC',\n       'EDF Energy Services, LLC', 'First Point Power, LLC',\n       'Algonquin Energy Services', 'Messer Energy Services, Inc.',\n       'Calpine Power America LLC', 'ENGIE Resources LLC',\n       'SmartEnergy Holdings, LLC', 'Town Square Energy',\n       'Sunwave Gas & Power Connecticut, Inc.', 'MP2 Energy LLC',\n       'Direct Energy Business', 'New Brunswick Power Generation Corp.',\n       'NextEra Energy Power Marketing', 'Dominion Retail Inc',\n       'CECG Maine, LLC', 'Noble Americas Energy Solutions LLC',\n       'Suez Energy Resources North Am',\n       'Direct Energy Business Marketing, LLC',\n       'Talen Energy Marketing, LLC', 'Competitive Energy Services, L',\n       'Glacial Energy Holdings', 'NEPM II', 'GEXA Corp.',\n       'Integrys Energy Services, Inc.', 'HESS CORPORATION',\n       'PPL EnergyPlus LLC', 'ENGIE Resources Inc.',\n       'Gulf Oil Limited Partnership', 'Major Energy Electric Services',\n       'Energywell LLC'], dtype=object)"
     },
     "execution_count": 24,
     "metadata": {},
     "output_type": "execute_result"
    }
   ],
   "source": [
    "me_res_df.UTILITY_NAME.unique()"
   ]
  },
  {
   "cell_type": "code",
   "execution_count": 25,
   "id": "d0cc586b",
   "metadata": {
    "ExecuteTime": {
     "end_time": "2024-02-27T00:24:23.021269Z",
     "start_time": "2024-02-27T00:24:22.964199Z"
    }
   },
   "outputs": [
    {
     "data": {
      "text/plain": "YEAR\n2012    461.561710\n2013    432.629409\n2014    377.197147\n2015    571.064011\n2016    562.141269\n2017    535.886131\n2018    539.896584\n2019    587.276855\n2020    580.470250\n2021    584.522161\n2022    557.546967\ndtype: float64"
     },
     "execution_count": 25,
     "metadata": {},
     "output_type": "execute_result"
    }
   ],
   "source": [
    "# Calculate the sum of SALES_KWH and CUSTOMERS grouped by year\n",
    "sum_sales_kwh = me_res_df.groupby('YEAR')['SALES_KWH'].sum()\n",
    "sum_customers = me_res_df.groupby('YEAR')['CUSTOMERS'].sum()\n",
    "\n",
    "# Compute the quotient\n",
    "quotient = sum_sales_kwh / sum_customers / 12\n",
    "quotient"
   ]
  },
  {
   "cell_type": "code",
   "execution_count": 26,
   "outputs": [
    {
     "name": "stdout",
     "output_type": "stream",
     "text": [
      "Annual Average Per Customer\n"
     ]
    },
    {
     "data": {
      "text/plain": "YEAR\n2012    461.561710\n2013    432.629409\n2014    377.197147\n2015    571.064011\n2016    562.141269\n2017    535.886131\n2018    539.896584\n2019    587.276855\n2020    580.470250\n2021    584.522161\n2022    557.546967\ndtype: float64"
     },
     "execution_count": 26,
     "metadata": {},
     "output_type": "execute_result"
    }
   ],
   "source": [
    "print('Annual Average Per Customer')\n",
    "me_res_df.groupby('YEAR')['SALES_KWH'].sum() / me_res_df.groupby('YEAR')['CUSTOMERS'].sum() / 12"
   ],
   "metadata": {
    "collapsed": false,
    "ExecuteTime": {
     "end_time": "2024-02-27T00:24:23.021675Z",
     "start_time": "2024-02-27T00:24:22.966333Z"
    }
   },
   "id": "487a32810669ab7a"
  },
  {
   "cell_type": "markdown",
   "source": [
    "## Computing average price required to save $33M\n",
    "\n",
    "Average standard offer (as used in OPA analysis): 0.115291333333333\n",
    "Year-end CEP customers in analysis: 51,834\n",
    "Stated savings: 33,205,291"
   ],
   "metadata": {
    "collapsed": false
   },
   "id": "b8750cc8e266c38c"
  },
  {
   "cell_type": "code",
   "execution_count": 27,
   "outputs": [
    {
     "data": {
      "text/plain": "           DATE  CEP_CUSTOMERS  TOTAL_CUSTOMERS                UTILITY  \\\n7    2022-12-31        10017.0         126794.0  BANGOR HYDRO DISTRICT   \n19   2021-12-31        10772.0         134874.0  BANGOR HYDRO DISTRICT   \n31   2020-12-31        11040.0         133202.0  BANGOR HYDRO DISTRICT   \n43   2019-12-01        11076.0         127251.0  BANGOR HYDRO DISTRICT   \n55   2018-12-01        11933.0         126595.0  BANGOR HYDRO DISTRICT   \n...         ...            ...              ...                    ...   \n1319 2004-12-01         2671.0              NaN   MAINE PUBLIC SERVICE   \n1331 2003-12-01         2882.0              NaN   MAINE PUBLIC SERVICE   \n1342 2002-12-01         5715.0              NaN   MAINE PUBLIC SERVICE   \n1354 2001-12-01         1281.0              NaN   MAINE PUBLIC SERVICE   \n1366 2000-12-01         1680.0              NaN   MAINE PUBLIC SERVICE   \n\n     CUSTOMER_CLASS  \n7             SMALL  \n19            SMALL  \n31            SMALL  \n43            SMALL  \n55            SMALL  \n...             ...  \n1319          SMALL  \n1331          SMALL  \n1342          SMALL  \n1354          SMALL  \n1366          SMALL  \n\n[69 rows x 5 columns]",
      "text/html": "<div>\n<style scoped>\n    .dataframe tbody tr th:only-of-type {\n        vertical-align: middle;\n    }\n\n    .dataframe tbody tr th {\n        vertical-align: top;\n    }\n\n    .dataframe thead th {\n        text-align: right;\n    }\n</style>\n<table border=\"1\" class=\"dataframe\">\n  <thead>\n    <tr style=\"text-align: right;\">\n      <th></th>\n      <th>DATE</th>\n      <th>CEP_CUSTOMERS</th>\n      <th>TOTAL_CUSTOMERS</th>\n      <th>UTILITY</th>\n      <th>CUSTOMER_CLASS</th>\n    </tr>\n  </thead>\n  <tbody>\n    <tr>\n      <th>7</th>\n      <td>2022-12-31</td>\n      <td>10017.0</td>\n      <td>126794.0</td>\n      <td>BANGOR HYDRO DISTRICT</td>\n      <td>SMALL</td>\n    </tr>\n    <tr>\n      <th>19</th>\n      <td>2021-12-31</td>\n      <td>10772.0</td>\n      <td>134874.0</td>\n      <td>BANGOR HYDRO DISTRICT</td>\n      <td>SMALL</td>\n    </tr>\n    <tr>\n      <th>31</th>\n      <td>2020-12-31</td>\n      <td>11040.0</td>\n      <td>133202.0</td>\n      <td>BANGOR HYDRO DISTRICT</td>\n      <td>SMALL</td>\n    </tr>\n    <tr>\n      <th>43</th>\n      <td>2019-12-01</td>\n      <td>11076.0</td>\n      <td>127251.0</td>\n      <td>BANGOR HYDRO DISTRICT</td>\n      <td>SMALL</td>\n    </tr>\n    <tr>\n      <th>55</th>\n      <td>2018-12-01</td>\n      <td>11933.0</td>\n      <td>126595.0</td>\n      <td>BANGOR HYDRO DISTRICT</td>\n      <td>SMALL</td>\n    </tr>\n    <tr>\n      <th>...</th>\n      <td>...</td>\n      <td>...</td>\n      <td>...</td>\n      <td>...</td>\n      <td>...</td>\n    </tr>\n    <tr>\n      <th>1319</th>\n      <td>2004-12-01</td>\n      <td>2671.0</td>\n      <td>NaN</td>\n      <td>MAINE PUBLIC SERVICE</td>\n      <td>SMALL</td>\n    </tr>\n    <tr>\n      <th>1331</th>\n      <td>2003-12-01</td>\n      <td>2882.0</td>\n      <td>NaN</td>\n      <td>MAINE PUBLIC SERVICE</td>\n      <td>SMALL</td>\n    </tr>\n    <tr>\n      <th>1342</th>\n      <td>2002-12-01</td>\n      <td>5715.0</td>\n      <td>NaN</td>\n      <td>MAINE PUBLIC SERVICE</td>\n      <td>SMALL</td>\n    </tr>\n    <tr>\n      <th>1354</th>\n      <td>2001-12-01</td>\n      <td>1281.0</td>\n      <td>NaN</td>\n      <td>MAINE PUBLIC SERVICE</td>\n      <td>SMALL</td>\n    </tr>\n    <tr>\n      <th>1366</th>\n      <td>2000-12-01</td>\n      <td>1680.0</td>\n      <td>NaN</td>\n      <td>MAINE PUBLIC SERVICE</td>\n      <td>SMALL</td>\n    </tr>\n  </tbody>\n</table>\n<p>69 rows × 5 columns</p>\n</div>"
     },
     "execution_count": 27,
     "metadata": {},
     "output_type": "execute_result"
    }
   ],
   "source": [
    "puc_migration = pd.read_csv('etl_scripts/prepared_data/customers_migrated.csv')\n",
    "puc_migration['DATE'] = pd.to_datetime(puc_migration['DATE'])\n",
    "\n",
    "puc_migration[(puc_migration['DATE'].dt.month == 12) & (puc_migration['CUSTOMER_CLASS'] == 'SMALL')]"
   ],
   "metadata": {
    "collapsed": false,
    "ExecuteTime": {
     "end_time": "2024-02-27T00:24:23.022491Z",
     "start_time": "2024-02-27T00:24:22.973899Z"
    }
   },
   "id": "36ff1d320b23aa8"
  },
  {
   "cell_type": "code",
   "execution_count": 112,
   "outputs": [
    {
     "data": {
      "text/plain": "DATE\n2000-12-01     2951.00000\n2001-12-01     4838.00000\n2002-12-01     8688.00000\n2003-12-01     8088.00000\n2004-12-01     8399.00000\n2005-12-01     7160.00000\n2006-12-01     6308.00000\n2007-12-01     6903.00000\n2008-12-01     6774.00000\n2009-12-01    13256.00000\n2010-12-01    22472.00000\n2011-12-01    37749.00000\n2012-12-01   197008.00000\n2013-12-01   216997.00000\n2014-12-01   178283.00000\n2015-12-01   150837.00000\n2016-12-01   140674.00000\n2017-12-01   118073.00000\n2018-12-01   110486.00000\n2019-12-01   102210.00000\n2020-12-31    96969.00000\n2021-12-31    90609.00000\n2022-12-31    87103.00000\nName: CEP_CUSTOMERS, dtype: float64"
     },
     "execution_count": 112,
     "metadata": {},
     "output_type": "execute_result"
    }
   ],
   "source": [
    "puc_migration['DATE'] = pd.to_datetime(puc_migration['DATE'])\n",
    "puc_migration['YEAR'] = puc_migration['DATE'].dt.year\n",
    "\n",
    "puc_year_end = puc_migration[puc_migration['DATE'].dt.month == 12]\n",
    "puc_year_end.groupby('DATE')['CEP_CUSTOMERS'].sum()"
   ],
   "metadata": {
    "collapsed": false,
    "ExecuteTime": {
     "end_time": "2024-02-27T04:25:14.997244Z",
     "start_time": "2024-02-27T04:25:14.993034Z"
    }
   },
   "id": "b17b121887c39390"
  },
  {
   "cell_type": "markdown",
   "source": [
    "### Import rate info from PDFs"
   ],
   "metadata": {
    "collapsed": false
   },
   "id": "bddcad97ba66d162"
  },
  {
   "cell_type": "code",
   "execution_count": 40,
   "outputs": [
    {
     "data": {
      "text/plain": "   YEAR   AVG_CEP  AVG_STANDARD\n0  2016  0.079866      0.065441\n1  2017  0.076268      0.065065\n2  2018  0.092201      0.075728\n3  2019  0.091628      0.086862\n4  2020  0.091652      0.070911\n5  2021  0.083604      0.063227\n6  2022  0.087177      0.117501",
      "text/html": "<div>\n<style scoped>\n    .dataframe tbody tr th:only-of-type {\n        vertical-align: middle;\n    }\n\n    .dataframe tbody tr th {\n        vertical-align: top;\n    }\n\n    .dataframe thead th {\n        text-align: right;\n    }\n</style>\n<table border=\"1\" class=\"dataframe\">\n  <thead>\n    <tr style=\"text-align: right;\">\n      <th></th>\n      <th>YEAR</th>\n      <th>AVG_CEP</th>\n      <th>AVG_STANDARD</th>\n    </tr>\n  </thead>\n  <tbody>\n    <tr>\n      <th>0</th>\n      <td>2016</td>\n      <td>0.079866</td>\n      <td>0.065441</td>\n    </tr>\n    <tr>\n      <th>1</th>\n      <td>2017</td>\n      <td>0.076268</td>\n      <td>0.065065</td>\n    </tr>\n    <tr>\n      <th>2</th>\n      <td>2018</td>\n      <td>0.092201</td>\n      <td>0.075728</td>\n    </tr>\n    <tr>\n      <th>3</th>\n      <td>2019</td>\n      <td>0.091628</td>\n      <td>0.086862</td>\n    </tr>\n    <tr>\n      <th>4</th>\n      <td>2020</td>\n      <td>0.091652</td>\n      <td>0.070911</td>\n    </tr>\n    <tr>\n      <th>5</th>\n      <td>2021</td>\n      <td>0.083604</td>\n      <td>0.063227</td>\n    </tr>\n    <tr>\n      <th>6</th>\n      <td>2022</td>\n      <td>0.087177</td>\n      <td>0.117501</td>\n    </tr>\n  </tbody>\n</table>\n</div>"
     },
     "execution_count": 40,
     "metadata": {},
     "output_type": "execute_result"
    }
   ],
   "source": [
    "import tabula\n",
    "\n",
    "pdf_path = \"etl_scripts/raw_data/2024-02-06_OPA Testimony_SUPPORT w Attachments_LD 2163.pdf\"\n",
    "tables = tabula.read_pdf(pdf_path, pages='4-8', multiple_tables=True)\n",
    "rates_df = tables[0]\n",
    "\n",
    "new_row = pd.DataFrame([rates_df.columns], columns=rates_df.columns)\n",
    "rates_df = pd.concat([new_row, rates_df], ignore_index=True)\n",
    "\n",
    "rates_df.columns = ['YEAR', 'CMP_STANDARD', 'CMP_CEP', 'BHD_STANDARD', 'BHD_CEP', 'MPS_STANDARD', 'MPS_CEP']\n",
    "\n",
    "all_rates_df = rates_df.applymap(lambda x: pd.to_numeric(str(x).replace('$', ''), errors='coerce'))\n",
    "\n",
    "rates_df = rates_df.drop(columns=rates_df.columns[-2:])\n",
    "\n",
    "# Convert all values to numeric\n",
    "rates_df = rates_df.applymap(lambda x: pd.to_numeric(str(x).replace('$', ''), errors='coerce'))\n",
    "\n",
    "# Compute average standard offer and CEP rates for each year\n",
    "melted_df = pd.melt(rates_df, id_vars=['YEAR'], var_name='column')\n",
    "\n",
    "# Extract the type (e.g., STANDARD or CEP) from the column names\n",
    "melted_df['type'] = melted_df['column'].str.split('_').str[-1]\n",
    "\n",
    "# Compute the average for each group of columns\n",
    "average_df = melted_df.groupby(['YEAR', 'type'])['value'].mean().reset_index()\n",
    "\n",
    "# Pivot the DataFrame back to the desired wide format\n",
    "rates_df = average_df.pivot(index='YEAR', columns='type', values='value').reset_index()\n",
    "\n",
    "# Rename the columns\n",
    "rates_df.columns.name = None  # Remove the 'type' header\n",
    "rates_df.columns = ['YEAR', 'AVG_CEP', 'AVG_STANDARD']\n",
    "\n",
    "rates_df"
   ],
   "metadata": {
    "collapsed": false,
    "ExecuteTime": {
     "end_time": "2024-02-27T00:31:28.533955Z",
     "start_time": "2024-02-27T00:31:25.164310Z"
    }
   },
   "id": "6a0be9014b0d2eab"
  },
  {
   "cell_type": "code",
   "execution_count": 89,
   "outputs": [
    {
     "data": {
      "text/plain": "   YEAR    MPUC     EIA\n0  2016  115040  117544\n1  2017  116700  112504\n2  2018   85843  105786\n3  2019   71600   76053\n4  2020   67553   67730\n5  2021   64693   64279\n6  2022   51834   62100",
      "text/html": "<div>\n<style scoped>\n    .dataframe tbody tr th:only-of-type {\n        vertical-align: middle;\n    }\n\n    .dataframe tbody tr th {\n        vertical-align: top;\n    }\n\n    .dataframe thead th {\n        text-align: right;\n    }\n</style>\n<table border=\"1\" class=\"dataframe\">\n  <thead>\n    <tr style=\"text-align: right;\">\n      <th></th>\n      <th>YEAR</th>\n      <th>MPUC</th>\n      <th>EIA</th>\n    </tr>\n  </thead>\n  <tbody>\n    <tr>\n      <th>0</th>\n      <td>2016</td>\n      <td>115040</td>\n      <td>117544</td>\n    </tr>\n    <tr>\n      <th>1</th>\n      <td>2017</td>\n      <td>116700</td>\n      <td>112504</td>\n    </tr>\n    <tr>\n      <th>2</th>\n      <td>2018</td>\n      <td>85843</td>\n      <td>105786</td>\n    </tr>\n    <tr>\n      <th>3</th>\n      <td>2019</td>\n      <td>71600</td>\n      <td>76053</td>\n    </tr>\n    <tr>\n      <th>4</th>\n      <td>2020</td>\n      <td>67553</td>\n      <td>67730</td>\n    </tr>\n    <tr>\n      <th>5</th>\n      <td>2021</td>\n      <td>64693</td>\n      <td>64279</td>\n    </tr>\n    <tr>\n      <th>6</th>\n      <td>2022</td>\n      <td>51834</td>\n      <td>62100</td>\n    </tr>\n  </tbody>\n</table>\n</div>"
     },
     "execution_count": 89,
     "metadata": {},
     "output_type": "execute_result"
    }
   ],
   "source": [
    "cust_df = tables[1]\n",
    "cust_df[['YEAR', 'MPUC', 'EIA']] = cust_df['Total Year-end Residential CEP Customers'].str.split(expand=True)\n",
    "cust_df = cust_df.iloc[1:, 1:]\n",
    "cust_df = cust_df.applymap(lambda x: pd.to_numeric(x.replace(',', '')))\n",
    "cust_df = cust_df.reset_index(drop=True)\n",
    "cust_df"
   ],
   "metadata": {
    "collapsed": false,
    "ExecuteTime": {
     "end_time": "2024-02-27T00:57:55.150035Z",
     "start_time": "2024-02-27T00:57:55.146019Z"
    }
   },
   "id": "32e8033a1c425fe6"
  },
  {
   "cell_type": "code",
   "execution_count": null,
   "outputs": [],
   "source": [
    "savings = {\n",
    "    'YEAR': range(2016, 2023),\n",
    "    'SAVINGS': [30350984, 18841561, 15920084, 4735869, 18163917, 25551475, -33205291] \n",
    "} \n",
    "\n",
    "savings_df = pd.DataFrame(savings)\n",
    "\n",
    "savings_df"
   ],
   "metadata": {
    "collapsed": false,
    "ExecuteTime": {
     "start_time": "2024-02-27T00:24:28.593388Z"
    }
   },
   "id": "87382c0f9d5de4c3"
  },
  {
   "cell_type": "code",
   "execution_count": null,
   "outputs": [],
   "source": [
    "analysis_df = savings_df.merge(cust_df, on='YEAR').merge(rates_df, on='YEAR')\n",
    "\n",
    "analysis_df"
   ],
   "metadata": {
    "collapsed": false,
    "ExecuteTime": {
     "start_time": "2024-02-27T00:24:28.594934Z"
    }
   },
   "id": "2f121c5c7191cb15"
  },
  {
   "cell_type": "code",
   "execution_count": null,
   "outputs": [],
   "source": [
    "# kw = savings / (avg_std - avg_cep)\n",
    "# kw / cust_2022 / 12\n",
    "\n",
    "avg_use = abs( analysis_df['SAVINGS'] / (analysis_df['AVG_STANDARD'] - analysis_df['AVG_CEP']) / analysis_df['MPUC'] / 12 )\n",
    "\n",
    "print('AVERAGE MONTHLY USE FROM SAVINGS')\n",
    "avg_use"
   ],
   "metadata": {
    "collapsed": false,
    "ExecuteTime": {
     "start_time": "2024-02-27T00:24:28.595940Z"
    }
   },
   "id": "e4f6908c11f4e659"
  },
  {
   "cell_type": "markdown",
   "source": [
    "## Analysis assuming set annual average\n",
    "\n",
    "Assuming a parameterized annual average household usage, use the most generous rate (in MPS) to estimate savings. "
   ],
   "metadata": {
    "collapsed": false
   },
   "id": "8a3c508c8b9ea2d8"
  },
  {
   "cell_type": "code",
   "execution_count": 106,
   "outputs": [
    {
     "data": {
      "text/plain": "   YEAR  BHD_CEP  BHD_STANDARD  CUSTOMERS (MPUC)  \\\n0  2016  0.06242       0.06624            115040   \n1  2017  0.06539       0.06322            116700   \n2  2018  0.09225       0.07225             85843   \n3  2019  0.09005       0.08370             71600   \n4  2020  0.09169       0.06878             67553   \n5  2021  0.08135       0.06196             64693   \n6  2022  0.08335       0.11684             51834   \n0  2016  0.06242       0.06624            115040   \n1  2017  0.06539       0.06322            116700   \n2  2018  0.09225       0.07225             85843   \n3  2019  0.09005       0.08370             71600   \n4  2020  0.09169       0.06878             67553   \n5  2021  0.08135       0.06196             64693   \n6  2022  0.08335       0.11684             51834   \n0  2016  0.06242       0.06624            115040   \n1  2017  0.06539       0.06322            116700   \n2  2018  0.09225       0.07225             85843   \n3  2019  0.09005       0.08370             71600   \n4  2020  0.09169       0.06878             67553   \n5  2021  0.08135       0.06196             64693   \n6  2022  0.08335       0.11684             51834   \n0  2016  0.06242       0.06624            115040   \n1  2017  0.06539       0.06322            116700   \n2  2018  0.09225       0.07225             85843   \n3  2019  0.09005       0.08370             71600   \n4  2020  0.09169       0.06878             67553   \n5  2021  0.08135       0.06196             64693   \n6  2022  0.08335       0.11684             51834   \n0  2016  0.06242       0.06624            115040   \n1  2017  0.06539       0.06322            116700   \n2  2018  0.09225       0.07225             85843   \n3  2019  0.09005       0.08370             71600   \n4  2020  0.09169       0.06878             67553   \n5  2021  0.08135       0.06196             64693   \n6  2022  0.08335       0.11684             51834   \n0  2016  0.06242       0.06624            115040   \n1  2017  0.06539       0.06322            116700   \n2  2018  0.09225       0.07225             85843   \n3  2019  0.09005       0.08370             71600   \n4  2020  0.09169       0.06878             67553   \n5  2021  0.08135       0.06196             64693   \n6  2022  0.08335       0.11684             51834   \n\n   MONTHLY_USAGE_ASSUMPTION (KWH)  COST_OR_SAVINGS  \n0                             450   -2371181.47200  \n1                             450    1364969.88000  \n2                             450    9270580.44780  \n3                             450    2456710.56000  \n4                             450    8357251.84200  \n5                             450    6773046.57360  \n6                             450   -9374531.37120  \n0                             680   -3583118.66880  \n1                             680    2062621.15200  \n2                             680   14008877.12112  \n3                             680    3712362.62400  \n4                             680   12628736.11680  \n5                             680   10234825.93344  \n6                             680  -14165958.51648  \n0                             910   -4795055.86560  \n1                             910    2760272.42400  \n2                             910   18747173.79444  \n3                             910    4968014.68800  \n4                             910   16900220.39160  \n5                             910   13696605.29328  \n6                             910  -18957385.66176  \n0                            1140   -6006993.06240  \n1                            1140    3457923.69600  \n2                            1140   23485470.46776  \n3                            1140    6223666.75200  \n4                            1140   21171704.66640  \n5                            1140   17158384.65312  \n6                            1140  -23748812.80704  \n0                            1370   -7218930.25920  \n1                            1370    4155574.96800  \n2                            1370   28223767.14108  \n3                            1370    7479318.81600  \n4                            1370   25443188.94120  \n5                            1370   20620164.01296  \n6                            1370  -28540239.95232  \n0                            1600   -8430867.45600  \n1                            1600    4853226.24000  \n2                            1600   32962063.81440  \n3                            1600    8734970.88000  \n4                            1600   29714673.21600  \n5                            1600   24081943.37280  \n6                            1600  -33331667.09760  ",
      "text/html": "<div>\n<style scoped>\n    .dataframe tbody tr th:only-of-type {\n        vertical-align: middle;\n    }\n\n    .dataframe tbody tr th {\n        vertical-align: top;\n    }\n\n    .dataframe thead th {\n        text-align: right;\n    }\n</style>\n<table border=\"1\" class=\"dataframe\">\n  <thead>\n    <tr style=\"text-align: right;\">\n      <th></th>\n      <th>YEAR</th>\n      <th>BHD_CEP</th>\n      <th>BHD_STANDARD</th>\n      <th>CUSTOMERS (MPUC)</th>\n      <th>MONTHLY_USAGE_ASSUMPTION (KWH)</th>\n      <th>COST_OR_SAVINGS</th>\n    </tr>\n  </thead>\n  <tbody>\n    <tr>\n      <th>0</th>\n      <td>2016</td>\n      <td>0.06242</td>\n      <td>0.06624</td>\n      <td>115040</td>\n      <td>450</td>\n      <td>-2371181.47200</td>\n    </tr>\n    <tr>\n      <th>1</th>\n      <td>2017</td>\n      <td>0.06539</td>\n      <td>0.06322</td>\n      <td>116700</td>\n      <td>450</td>\n      <td>1364969.88000</td>\n    </tr>\n    <tr>\n      <th>2</th>\n      <td>2018</td>\n      <td>0.09225</td>\n      <td>0.07225</td>\n      <td>85843</td>\n      <td>450</td>\n      <td>9270580.44780</td>\n    </tr>\n    <tr>\n      <th>3</th>\n      <td>2019</td>\n      <td>0.09005</td>\n      <td>0.08370</td>\n      <td>71600</td>\n      <td>450</td>\n      <td>2456710.56000</td>\n    </tr>\n    <tr>\n      <th>4</th>\n      <td>2020</td>\n      <td>0.09169</td>\n      <td>0.06878</td>\n      <td>67553</td>\n      <td>450</td>\n      <td>8357251.84200</td>\n    </tr>\n    <tr>\n      <th>5</th>\n      <td>2021</td>\n      <td>0.08135</td>\n      <td>0.06196</td>\n      <td>64693</td>\n      <td>450</td>\n      <td>6773046.57360</td>\n    </tr>\n    <tr>\n      <th>6</th>\n      <td>2022</td>\n      <td>0.08335</td>\n      <td>0.11684</td>\n      <td>51834</td>\n      <td>450</td>\n      <td>-9374531.37120</td>\n    </tr>\n    <tr>\n      <th>0</th>\n      <td>2016</td>\n      <td>0.06242</td>\n      <td>0.06624</td>\n      <td>115040</td>\n      <td>680</td>\n      <td>-3583118.66880</td>\n    </tr>\n    <tr>\n      <th>1</th>\n      <td>2017</td>\n      <td>0.06539</td>\n      <td>0.06322</td>\n      <td>116700</td>\n      <td>680</td>\n      <td>2062621.15200</td>\n    </tr>\n    <tr>\n      <th>2</th>\n      <td>2018</td>\n      <td>0.09225</td>\n      <td>0.07225</td>\n      <td>85843</td>\n      <td>680</td>\n      <td>14008877.12112</td>\n    </tr>\n    <tr>\n      <th>3</th>\n      <td>2019</td>\n      <td>0.09005</td>\n      <td>0.08370</td>\n      <td>71600</td>\n      <td>680</td>\n      <td>3712362.62400</td>\n    </tr>\n    <tr>\n      <th>4</th>\n      <td>2020</td>\n      <td>0.09169</td>\n      <td>0.06878</td>\n      <td>67553</td>\n      <td>680</td>\n      <td>12628736.11680</td>\n    </tr>\n    <tr>\n      <th>5</th>\n      <td>2021</td>\n      <td>0.08135</td>\n      <td>0.06196</td>\n      <td>64693</td>\n      <td>680</td>\n      <td>10234825.93344</td>\n    </tr>\n    <tr>\n      <th>6</th>\n      <td>2022</td>\n      <td>0.08335</td>\n      <td>0.11684</td>\n      <td>51834</td>\n      <td>680</td>\n      <td>-14165958.51648</td>\n    </tr>\n    <tr>\n      <th>0</th>\n      <td>2016</td>\n      <td>0.06242</td>\n      <td>0.06624</td>\n      <td>115040</td>\n      <td>910</td>\n      <td>-4795055.86560</td>\n    </tr>\n    <tr>\n      <th>1</th>\n      <td>2017</td>\n      <td>0.06539</td>\n      <td>0.06322</td>\n      <td>116700</td>\n      <td>910</td>\n      <td>2760272.42400</td>\n    </tr>\n    <tr>\n      <th>2</th>\n      <td>2018</td>\n      <td>0.09225</td>\n      <td>0.07225</td>\n      <td>85843</td>\n      <td>910</td>\n      <td>18747173.79444</td>\n    </tr>\n    <tr>\n      <th>3</th>\n      <td>2019</td>\n      <td>0.09005</td>\n      <td>0.08370</td>\n      <td>71600</td>\n      <td>910</td>\n      <td>4968014.68800</td>\n    </tr>\n    <tr>\n      <th>4</th>\n      <td>2020</td>\n      <td>0.09169</td>\n      <td>0.06878</td>\n      <td>67553</td>\n      <td>910</td>\n      <td>16900220.39160</td>\n    </tr>\n    <tr>\n      <th>5</th>\n      <td>2021</td>\n      <td>0.08135</td>\n      <td>0.06196</td>\n      <td>64693</td>\n      <td>910</td>\n      <td>13696605.29328</td>\n    </tr>\n    <tr>\n      <th>6</th>\n      <td>2022</td>\n      <td>0.08335</td>\n      <td>0.11684</td>\n      <td>51834</td>\n      <td>910</td>\n      <td>-18957385.66176</td>\n    </tr>\n    <tr>\n      <th>0</th>\n      <td>2016</td>\n      <td>0.06242</td>\n      <td>0.06624</td>\n      <td>115040</td>\n      <td>1140</td>\n      <td>-6006993.06240</td>\n    </tr>\n    <tr>\n      <th>1</th>\n      <td>2017</td>\n      <td>0.06539</td>\n      <td>0.06322</td>\n      <td>116700</td>\n      <td>1140</td>\n      <td>3457923.69600</td>\n    </tr>\n    <tr>\n      <th>2</th>\n      <td>2018</td>\n      <td>0.09225</td>\n      <td>0.07225</td>\n      <td>85843</td>\n      <td>1140</td>\n      <td>23485470.46776</td>\n    </tr>\n    <tr>\n      <th>3</th>\n      <td>2019</td>\n      <td>0.09005</td>\n      <td>0.08370</td>\n      <td>71600</td>\n      <td>1140</td>\n      <td>6223666.75200</td>\n    </tr>\n    <tr>\n      <th>4</th>\n      <td>2020</td>\n      <td>0.09169</td>\n      <td>0.06878</td>\n      <td>67553</td>\n      <td>1140</td>\n      <td>21171704.66640</td>\n    </tr>\n    <tr>\n      <th>5</th>\n      <td>2021</td>\n      <td>0.08135</td>\n      <td>0.06196</td>\n      <td>64693</td>\n      <td>1140</td>\n      <td>17158384.65312</td>\n    </tr>\n    <tr>\n      <th>6</th>\n      <td>2022</td>\n      <td>0.08335</td>\n      <td>0.11684</td>\n      <td>51834</td>\n      <td>1140</td>\n      <td>-23748812.80704</td>\n    </tr>\n    <tr>\n      <th>0</th>\n      <td>2016</td>\n      <td>0.06242</td>\n      <td>0.06624</td>\n      <td>115040</td>\n      <td>1370</td>\n      <td>-7218930.25920</td>\n    </tr>\n    <tr>\n      <th>1</th>\n      <td>2017</td>\n      <td>0.06539</td>\n      <td>0.06322</td>\n      <td>116700</td>\n      <td>1370</td>\n      <td>4155574.96800</td>\n    </tr>\n    <tr>\n      <th>2</th>\n      <td>2018</td>\n      <td>0.09225</td>\n      <td>0.07225</td>\n      <td>85843</td>\n      <td>1370</td>\n      <td>28223767.14108</td>\n    </tr>\n    <tr>\n      <th>3</th>\n      <td>2019</td>\n      <td>0.09005</td>\n      <td>0.08370</td>\n      <td>71600</td>\n      <td>1370</td>\n      <td>7479318.81600</td>\n    </tr>\n    <tr>\n      <th>4</th>\n      <td>2020</td>\n      <td>0.09169</td>\n      <td>0.06878</td>\n      <td>67553</td>\n      <td>1370</td>\n      <td>25443188.94120</td>\n    </tr>\n    <tr>\n      <th>5</th>\n      <td>2021</td>\n      <td>0.08135</td>\n      <td>0.06196</td>\n      <td>64693</td>\n      <td>1370</td>\n      <td>20620164.01296</td>\n    </tr>\n    <tr>\n      <th>6</th>\n      <td>2022</td>\n      <td>0.08335</td>\n      <td>0.11684</td>\n      <td>51834</td>\n      <td>1370</td>\n      <td>-28540239.95232</td>\n    </tr>\n    <tr>\n      <th>0</th>\n      <td>2016</td>\n      <td>0.06242</td>\n      <td>0.06624</td>\n      <td>115040</td>\n      <td>1600</td>\n      <td>-8430867.45600</td>\n    </tr>\n    <tr>\n      <th>1</th>\n      <td>2017</td>\n      <td>0.06539</td>\n      <td>0.06322</td>\n      <td>116700</td>\n      <td>1600</td>\n      <td>4853226.24000</td>\n    </tr>\n    <tr>\n      <th>2</th>\n      <td>2018</td>\n      <td>0.09225</td>\n      <td>0.07225</td>\n      <td>85843</td>\n      <td>1600</td>\n      <td>32962063.81440</td>\n    </tr>\n    <tr>\n      <th>3</th>\n      <td>2019</td>\n      <td>0.09005</td>\n      <td>0.08370</td>\n      <td>71600</td>\n      <td>1600</td>\n      <td>8734970.88000</td>\n    </tr>\n    <tr>\n      <th>4</th>\n      <td>2020</td>\n      <td>0.09169</td>\n      <td>0.06878</td>\n      <td>67553</td>\n      <td>1600</td>\n      <td>29714673.21600</td>\n    </tr>\n    <tr>\n      <th>5</th>\n      <td>2021</td>\n      <td>0.08135</td>\n      <td>0.06196</td>\n      <td>64693</td>\n      <td>1600</td>\n      <td>24081943.37280</td>\n    </tr>\n    <tr>\n      <th>6</th>\n      <td>2022</td>\n      <td>0.08335</td>\n      <td>0.11684</td>\n      <td>51834</td>\n      <td>1600</td>\n      <td>-33331667.09760</td>\n    </tr>\n  </tbody>\n</table>\n</div>"
     },
     "execution_count": 106,
     "metadata": {},
     "output_type": "execute_result"
    }
   ],
   "source": [
    "scenarios = np.linspace(450, 1600, 6, dtype=int)\n",
    "\n",
    "rate_diff = all_rates_df['BHD_CEP'] - all_rates_df['BHD_STANDARD']\n",
    "\n",
    "collector = []\n",
    "\n",
    "for scenario in scenarios:\n",
    "    saving_scenario = cust_df['MPUC'] * scenario * 12 * rate_diff\n",
    "    \n",
    "    saving_df = pd.DataFrame()\n",
    "    saving_df['YEAR'] = cust_df['YEAR']\n",
    "    saving_df['BHD_CEP'] = all_rates_df['BHD_CEP']\n",
    "    saving_df['BHD_STANDARD'] = all_rates_df['BHD_STANDARD']\n",
    "    saving_df['CUSTOMERS (MPUC)'] = cust_df['MPUC']\n",
    "    saving_df['MONTHLY_USAGE_ASSUMPTION (KWH)'] = scenario\n",
    "    saving_df['COST_OR_SAVINGS'] = saving_scenario\n",
    "    saving_df = saving_df[~saving_df['COST_OR_SAVINGS'].isna()]\n",
    "    collector.append(saving_df)\n",
    "\n",
    "scenario_df = pd.concat(collector)\n",
    "scenario_df.to_csv('CEP_SAVING_SCENARIOS.csv', index=False)\n",
    "scenario_df"
   ],
   "metadata": {
    "collapsed": false,
    "ExecuteTime": {
     "end_time": "2024-02-27T04:15:42.275652Z",
     "start_time": "2024-02-27T04:15:42.240228Z"
    }
   },
   "id": "7a898d7837c6fe6c"
  },
  {
   "cell_type": "code",
   "execution_count": 99,
   "outputs": [
    {
     "data": {
      "text/plain": "   YEAR  CMP_STANDARD  CMP_CEP  BHD_STANDARD  BHD_CEP  MPS_STANDARD  MPS_CEP  \\\n0  2016       0.06464  0.09731       0.06624  0.06242       0.08260      NaN   \n1  2017       0.06691  0.08715       0.06322  0.06539       0.07067  0.07068   \n2  2018       0.07921  0.09215       0.07225  0.09225       0.07423  0.06693   \n3  2019       0.09003  0.09321       0.08370  0.09005       0.08461  0.07197   \n4  2020       0.07304  0.09161       0.06878  0.09169       0.06729  0.07128   \n5  2021       0.06449  0.08586       0.06196  0.08135       0.06027  0.07086   \n6  2022       0.11816  0.09101       0.11684  0.08335       0.11087  0.07795   \n\n   CMP_VAR  BHD_VAR  MPS_VAR  \n0 -0.03267  0.00382      NaN  \n1 -0.02024 -0.00217 -0.00001  \n2 -0.01295 -0.02000  0.00730  \n3 -0.00318 -0.00635  0.01264  \n4 -0.01857 -0.02291 -0.00399  \n5 -0.02137 -0.01939 -0.01059  \n6  0.02716  0.03349  0.03292  ",
      "text/html": "<div>\n<style scoped>\n    .dataframe tbody tr th:only-of-type {\n        vertical-align: middle;\n    }\n\n    .dataframe tbody tr th {\n        vertical-align: top;\n    }\n\n    .dataframe thead th {\n        text-align: right;\n    }\n</style>\n<table border=\"1\" class=\"dataframe\">\n  <thead>\n    <tr style=\"text-align: right;\">\n      <th></th>\n      <th>YEAR</th>\n      <th>CMP_STANDARD</th>\n      <th>CMP_CEP</th>\n      <th>BHD_STANDARD</th>\n      <th>BHD_CEP</th>\n      <th>MPS_STANDARD</th>\n      <th>MPS_CEP</th>\n      <th>CMP_VAR</th>\n      <th>BHD_VAR</th>\n      <th>MPS_VAR</th>\n    </tr>\n  </thead>\n  <tbody>\n    <tr>\n      <th>0</th>\n      <td>2016</td>\n      <td>0.06464</td>\n      <td>0.09731</td>\n      <td>0.06624</td>\n      <td>0.06242</td>\n      <td>0.08260</td>\n      <td>NaN</td>\n      <td>-0.03267</td>\n      <td>0.00382</td>\n      <td>NaN</td>\n    </tr>\n    <tr>\n      <th>1</th>\n      <td>2017</td>\n      <td>0.06691</td>\n      <td>0.08715</td>\n      <td>0.06322</td>\n      <td>0.06539</td>\n      <td>0.07067</td>\n      <td>0.07068</td>\n      <td>-0.02024</td>\n      <td>-0.00217</td>\n      <td>-0.00001</td>\n    </tr>\n    <tr>\n      <th>2</th>\n      <td>2018</td>\n      <td>0.07921</td>\n      <td>0.09215</td>\n      <td>0.07225</td>\n      <td>0.09225</td>\n      <td>0.07423</td>\n      <td>0.06693</td>\n      <td>-0.01295</td>\n      <td>-0.02000</td>\n      <td>0.00730</td>\n    </tr>\n    <tr>\n      <th>3</th>\n      <td>2019</td>\n      <td>0.09003</td>\n      <td>0.09321</td>\n      <td>0.08370</td>\n      <td>0.09005</td>\n      <td>0.08461</td>\n      <td>0.07197</td>\n      <td>-0.00318</td>\n      <td>-0.00635</td>\n      <td>0.01264</td>\n    </tr>\n    <tr>\n      <th>4</th>\n      <td>2020</td>\n      <td>0.07304</td>\n      <td>0.09161</td>\n      <td>0.06878</td>\n      <td>0.09169</td>\n      <td>0.06729</td>\n      <td>0.07128</td>\n      <td>-0.01857</td>\n      <td>-0.02291</td>\n      <td>-0.00399</td>\n    </tr>\n    <tr>\n      <th>5</th>\n      <td>2021</td>\n      <td>0.06449</td>\n      <td>0.08586</td>\n      <td>0.06196</td>\n      <td>0.08135</td>\n      <td>0.06027</td>\n      <td>0.07086</td>\n      <td>-0.02137</td>\n      <td>-0.01939</td>\n      <td>-0.01059</td>\n    </tr>\n    <tr>\n      <th>6</th>\n      <td>2022</td>\n      <td>0.11816</td>\n      <td>0.09101</td>\n      <td>0.11684</td>\n      <td>0.08335</td>\n      <td>0.11087</td>\n      <td>0.07795</td>\n      <td>0.02716</td>\n      <td>0.03349</td>\n      <td>0.03292</td>\n    </tr>\n  </tbody>\n</table>\n</div>"
     },
     "execution_count": 99,
     "metadata": {},
     "output_type": "execute_result"
    }
   ],
   "source": [
    "all_rates_df['CMP_VAR'] = all_rates_df['CMP_STANDARD'] - all_rates_df['CMP_CEP']\n",
    "all_rates_df['BHD_VAR'] = all_rates_df['BHD_STANDARD'] - all_rates_df['BHD_CEP']\n",
    "all_rates_df['MPS_VAR'] = all_rates_df['MPS_STANDARD'] - all_rates_df['MPS_CEP']\n",
    "\n",
    "all_rates_df"
   ],
   "metadata": {
    "collapsed": false,
    "ExecuteTime": {
     "end_time": "2024-02-27T04:01:25.907333Z",
     "start_time": "2024-02-27T04:01:25.901572Z"
    }
   },
   "id": "ffe2f0ae8db4138f"
  }
 ],
 "metadata": {
  "kernelspec": {
   "display_name": "Python 3 (ipykernel)",
   "language": "python",
   "name": "python3"
  },
  "language_info": {
   "codemirror_mode": {
    "name": "ipython",
    "version": 3
   },
   "file_extension": ".py",
   "mimetype": "text/x-python",
   "name": "python",
   "nbconvert_exporter": "python",
   "pygments_lexer": "ipython3",
   "version": "3.10.13"
  }
 },
 "nbformat": 4,
 "nbformat_minor": 5
}
