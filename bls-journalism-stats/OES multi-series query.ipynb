{
 "cells": [
  {
   "cell_type": "code",
   "execution_count": 1,
   "metadata": {},
   "outputs": [],
   "source": [
    "import numpy as np\n",
    "import pandas as pd\n",
    "import requests\n",
    "import config\n",
    "import os\n",
    "import json"
   ]
  },
  {
   "cell_type": "code",
   "execution_count": 14,
   "metadata": {},
   "outputs": [
    {
     "data": {
      "text/plain": [
       "<Response [405]>"
      ]
     },
     "execution_count": 14,
     "metadata": {},
     "output_type": "execute_result"
    }
   ],
   "source": [
    "##Template: \n",
    "# https://api.bls.gov/publicAPI/v2/timeseries/data/\n",
    "# .xlsx?registrationkey=000f4e000f204473bb565256e8eee73e&\n",
    "# catalog=true&startyear=2010&endyear=2014&calculations=true&annualaverage=true\n",
    "\n",
    "base_url='https://api.bls.gov/publicAPI/v2/timeseries/data/?'\n",
    "\n",
    "querydict = {'registrationkey':config.api_key\n",
    "          ,'catalog':'true'\n",
    "          ,'startyear':'1999'\n",
    "          ,'endyear':'2019'\n",
    "          ,'calculations':'true'\n",
    "          ,'annualaverage':'true'\n",
    "         }\n",
    "\n",
    "r = requests.get(base_url,params=querydict)\n",
    "r"
   ]
  },
  {
   "cell_type": "code",
   "execution_count": 13,
   "metadata": {},
   "outputs": [
    {
     "data": {
      "text/plain": [
       "'https://api.bls.gov/publicAPI/v2/timeseries/data/?'"
      ]
     },
     "execution_count": 13,
     "metadata": {},
     "output_type": "execute_result"
    }
   ],
   "source": [
    "base_url"
   ]
  }
 ],
 "metadata": {
  "kernelspec": {
   "display_name": "Python 3",
   "language": "python",
   "name": "python3"
  },
  "language_info": {
   "codemirror_mode": {
    "name": "ipython",
    "version": 3
   },
   "file_extension": ".py",
   "mimetype": "text/x-python",
   "name": "python",
   "nbconvert_exporter": "python",
   "pygments_lexer": "ipython3",
   "version": "3.6.4"
  }
 },
 "nbformat": 4,
 "nbformat_minor": 2
}
