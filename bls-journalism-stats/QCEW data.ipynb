{
 "cells": [
  {
   "cell_type": "code",
   "execution_count": 1,
   "metadata": {},
   "outputs": [],
   "source": [
    "import pandas as pd\n",
    "import os\n",
    "cwd=os.getcwd()\n",
    "# U.S. Department of Labor\n",
    "# Bureau of Labor Statistics \n",
    "# Quarterly Census of Employment and Wages\n",
    "# July 2014\n",
    "#  \n",
    "# QCEW Open Data Access for Python 3.x\n",
    "#  \n",
    "# This version was written using Python 3.3 and should work with other \"3.x\"\n",
    "# versions. However, some modification may be needed. There is a separate \n",
    "# example file for \"2.x\" versions Python. \n",
    "#\n",
    "#\n",
    "# Submit questions at: http://www.bls.gov/cgi-bin/forms/cew?/cew/home.htm \n",
    "#\n",
    "# *******************************************************************************\n",
    "\n",
    "\n",
    "import urllib.request\n",
    "import urllib"
   ]
  },
  {
   "cell_type": "code",
   "execution_count": null,
   "metadata": {},
   "outputs": [],
   "source": [
    "## DEFINE METHODS ##\n",
    "\n",
    "# *******************************************************************************\n",
    "# qcewCreateDataRows : This function takes a raw csv string and splits it into\n",
    "# a two-dimensional array containing the data and the header row of the csv file\n",
    "# a try/except block is used to handle for both binary and char encoding\n",
    "def qcewCreateDataRows(csv):\n",
    "    dataRows = []\n",
    "    try: dataLines = csv.decode().split('\\r\\n')\n",
    "    except er: dataLines = csv.split('\\r\\n');\n",
    "    for row in dataLines:\n",
    "        dataRows.append(row.split(','))\n",
    "    return dataRows\n",
    "# *******************************************************************************\n",
    "\n",
    "\n",
    "# *******************************************************************************\n",
    "# qcewGetAreaData : This function takes a year, quarter, and area argument and\n",
    "# returns an array containing the associated area data. Use 'a' for annual\n",
    "# averages. \n",
    "# For all area codes and titles see:\n",
    "# http://www.bls.gov/cew/doc/titles/area/area_titles.htm\n",
    "#\n",
    "def qcewGetAreaData(year,qtr,area):\n",
    "    urlPath = \"http://data.bls.gov/cew/data/api/[YEAR]/[QTR]/area/[AREA].csv\"\n",
    "    urlPath = urlPath.replace(\"[YEAR]\",year)\n",
    "    urlPath = urlPath.replace(\"[QTR]\",qtr.lower())\n",
    "    urlPath = urlPath.replace(\"[AREA]\",area.upper())\n",
    "    httpStream = urllib.request.urlopen(urlPath)\n",
    "    csv = httpStream.read()\n",
    "    httpStream.close()\n",
    "    return qcewCreateDataRows(csv)\n",
    "# *******************************************************************************\n",
    "\n",
    "\n",
    "\n",
    "\n",
    "# *******************************************************************************\n",
    "# qcewGetIndustryData : This function takes a year, quarter, and industry code\n",
    "# and returns an array containing the associated industry data. Use 'a' for \n",
    "# annual averages. Some industry codes contain hyphens. The CSV files use\n",
    "# underscores instead of hyphens. So 31-33 becomes 31_33. \n",
    "# For all industry codes and titles see:\n",
    "# http://www.bls.gov/cew/doc/titles/industry/industry_titles.htm\n",
    "#\n",
    "def qcewGetIndustryData(year,qtr,industry):\n",
    "    urlPath = \"http://data.bls.gov/cew/data/api/[YEAR]/[QTR]/industry/[IND].csv\"\n",
    "    urlPath = urlPath.replace(\"[YEAR]\",year)\n",
    "    urlPath = urlPath.replace(\"[QTR]\",qtr.lower())\n",
    "    urlPath = urlPath.replace(\"[IND]\",industry)\n",
    "    httpStream = urllib.request.urlopen(urlPath)\n",
    "    csv = httpStream.read()\n",
    "    httpStream.close()\n",
    "    return qcewCreateDataRows(csv)\n",
    "# *******************************************************************************\n",
    "\n",
    "\n",
    "\n",
    "\n",
    "# *******************************************************************************\n",
    "# qcewGetSizeData : This function takes a year and establishment size class code\n",
    "# and returns an array containing the associated size data. Size data\n",
    "# is only available for the first quarter of each year.\n",
    "# For all establishment size classes and titles see:\n",
    "# http://www.bls.gov/cew/doc/titles/size/size_titles.htm\n",
    "#\n",
    "def qcewGetSizeData(year,size):\n",
    "    urlPath = \"http://data.bls.gov/cew/data/api/[YEAR]/1/size/[SIZE].csv\"\n",
    "    urlPath = urlPath.replace(\"[YEAR]\",year)\n",
    "    urlPath = urlPath.replace(\"[SIZE]\",size)\n",
    "    httpStream = urllib.request.urlopen(urlPath)\n",
    "    csv = httpStream.read()\n",
    "    httpStream.close()\n",
    "    return qcewCreateDataRows(csv)\n",
    "# *******************************************************************************"
   ]
  },
  {
   "cell_type": "code",
   "execution_count": null,
   "metadata": {},
   "outputs": [],
   "source": [
    "Maine_Data = pd.DataFrame(qcewGetAreaData(\"2015\",\"a\",\"23000\"))\n",
    "# Auto_Manufacturing = qcewGetIndustryData(\"2015\",\"1\",\"3361\")\n",
    "# SizeData = qcewGetSizeData(\"2015\",\"6\")\n",
    "\n",
    "# prints the industry_code in row 5.\n",
    "# remember row zero contains field names\n",
    "print(Maine_Data)\n",
    "Maine_Data.to_csv(cwd+'/maine-2015-qcew-totals.csv')\n",
    "\n",
    "\n",
    "# prints the area_fips in row 1.\n",
    "# remember row zero contains field names\n",
    "# print(Auto_Manufacturing[1][0])\n",
    "\n",
    "\n",
    "# prints the own_code in row 1.\n",
    "# remember row zero contains field names\n",
    "# print(SizeData[1][1])"
   ]
  },
  {
   "cell_type": "code",
   "execution_count": 27,
   "metadata": {},
   "outputs": [
    {
     "data": {
      "text/plain": [
       "'/Users/Darren/Github clones/data-projects/bls-journalism-stats'"
      ]
     },
     "execution_count": 27,
     "metadata": {},
     "output_type": "execute_result"
    }
   ],
   "source": [
    "cwd"
   ]
  },
  {
   "cell_type": "code",
   "execution_count": null,
   "metadata": {},
   "outputs": [],
   "source": []
  }
 ],
 "metadata": {
  "kernelspec": {
   "display_name": "Python 3",
   "language": "python",
   "name": "python3"
  },
  "language_info": {
   "codemirror_mode": {
    "name": "ipython",
    "version": 3
   },
   "file_extension": ".py",
   "mimetype": "text/x-python",
   "name": "python",
   "nbconvert_exporter": "python",
   "pygments_lexer": "ipython3",
   "version": "3.6.4"
  }
 },
 "nbformat": 4,
 "nbformat_minor": 2
}
