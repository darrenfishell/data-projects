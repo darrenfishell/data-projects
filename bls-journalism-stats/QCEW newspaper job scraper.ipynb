{
 "cells": [
  {
   "cell_type": "code",
   "execution_count": 25,
   "metadata": {
    "ExecuteTime": {
     "end_time": "2023-11-19T06:15:21.071847Z",
     "start_time": "2023-11-19T06:15:21.050102Z"
    }
   },
   "outputs": [],
   "source": [
    "import pandas as pd\n",
    "import requests\n",
    "import string\n",
    "import urllib\n",
    "# import datadotworld as dw\n",
    "import os\n",
    "from scrapy import Selector"
   ]
  },
  {
   "cell_type": "code",
   "execution_count": 26,
   "metadata": {
    "ExecuteTime": {
     "end_time": "2023-11-19T06:15:21.072452Z",
     "start_time": "2023-11-19T06:15:21.054151Z"
    }
   },
   "outputs": [],
   "source": [
    "# os.makedirs('/test')"
   ]
  },
  {
   "cell_type": "code",
   "execution_count": 27,
   "metadata": {
    "collapsed": true,
    "ExecuteTime": {
     "end_time": "2023-11-19T06:15:21.278667Z",
     "start_time": "2023-11-19T06:15:21.059832Z"
    }
   },
   "outputs": [],
   "source": [
    "# Data file URL\n",
    "url = 'https://www.bls.gov/cew/downloadable-data-files.htm'\n",
    "\n",
    "#Pull in page content\n",
    "r = requests.get(url)\n",
    "\n",
    "#Make Selector item to scrape\n",
    "sel = Selector(text = r.text)\n",
    "\n",
    "# Select annual average file list\n",
    "sing_files = sel.xpath('//*[@id=\"cew_naics_data\"]/tbody//td[7]//@href').extract()"
   ]
  },
  {
   "cell_type": "code",
   "execution_count": 28,
   "metadata": {
    "ExecuteTime": {
     "end_time": "2023-11-19T06:15:22.041361Z",
     "start_time": "2023-11-19T06:15:21.279204Z"
    }
   },
   "outputs": [
    {
     "data": {
      "text/plain": "      area_fips      area_title\n4          1000         Alabama\n76         2000          Alaska\n129        4000         Arizona\n149        5000        Arkansas\n229        6000      California\n292        8000        Colorado\n361        9000     Connecticut\n374       10000        Delaware\n388       12000         Florida\n461       13000         Georgia\n626       15000          Hawaii\n635       16000           Idaho\n684       17000        Illinois\n791       18000         Indiana\n888       19000            Iowa\n992       20000          Kansas\n1102      21000        Kentucky\n1227      22000       Louisiana\n1296      23000           Maine\n1317      24000        Maryland\n1346      25000   Massachusetts\n1365      26000        Michigan\n1453      27000       Minnesota\n1545      28000     Mississippi\n1632      29000        Missouri\n1753      30000         Montana\n1815      31000        Nebraska\n1913      32000          Nevada\n1935      33000   New Hampshire\n1950      34000      New Jersey\n1976      35000      New Mexico\n2014      36000        New York\n2081      37000  North Carolina\n2186      38000    North Dakota\n2244      39000            Ohio\n2337      40000        Oklahoma\n2419      41000          Oregon\n2460      42000    Pennsylvania\n2532      44000    Rhode Island\n2542      45000  South Carolina\n2593      46000    South Dakota\n2666      47000       Tennessee\n2766      48000           Texas\n3025      49000            Utah\n3059      50000         Vermont\n3078      51000        Virginia\n3219      53000      Washington\n3263      54000   West Virginia\n3323      55000       Wisconsin\n3401      56000         Wyoming\n3430      72000     Puerto Rico\n3513      78000  Virgin Islands",
      "text/html": "<div>\n<style scoped>\n    .dataframe tbody tr th:only-of-type {\n        vertical-align: middle;\n    }\n\n    .dataframe tbody tr th {\n        vertical-align: top;\n    }\n\n    .dataframe thead th {\n        text-align: right;\n    }\n</style>\n<table border=\"1\" class=\"dataframe\">\n  <thead>\n    <tr style=\"text-align: right;\">\n      <th></th>\n      <th>area_fips</th>\n      <th>area_title</th>\n    </tr>\n  </thead>\n  <tbody>\n    <tr>\n      <th>4</th>\n      <td>1000</td>\n      <td>Alabama</td>\n    </tr>\n    <tr>\n      <th>76</th>\n      <td>2000</td>\n      <td>Alaska</td>\n    </tr>\n    <tr>\n      <th>129</th>\n      <td>4000</td>\n      <td>Arizona</td>\n    </tr>\n    <tr>\n      <th>149</th>\n      <td>5000</td>\n      <td>Arkansas</td>\n    </tr>\n    <tr>\n      <th>229</th>\n      <td>6000</td>\n      <td>California</td>\n    </tr>\n    <tr>\n      <th>292</th>\n      <td>8000</td>\n      <td>Colorado</td>\n    </tr>\n    <tr>\n      <th>361</th>\n      <td>9000</td>\n      <td>Connecticut</td>\n    </tr>\n    <tr>\n      <th>374</th>\n      <td>10000</td>\n      <td>Delaware</td>\n    </tr>\n    <tr>\n      <th>388</th>\n      <td>12000</td>\n      <td>Florida</td>\n    </tr>\n    <tr>\n      <th>461</th>\n      <td>13000</td>\n      <td>Georgia</td>\n    </tr>\n    <tr>\n      <th>626</th>\n      <td>15000</td>\n      <td>Hawaii</td>\n    </tr>\n    <tr>\n      <th>635</th>\n      <td>16000</td>\n      <td>Idaho</td>\n    </tr>\n    <tr>\n      <th>684</th>\n      <td>17000</td>\n      <td>Illinois</td>\n    </tr>\n    <tr>\n      <th>791</th>\n      <td>18000</td>\n      <td>Indiana</td>\n    </tr>\n    <tr>\n      <th>888</th>\n      <td>19000</td>\n      <td>Iowa</td>\n    </tr>\n    <tr>\n      <th>992</th>\n      <td>20000</td>\n      <td>Kansas</td>\n    </tr>\n    <tr>\n      <th>1102</th>\n      <td>21000</td>\n      <td>Kentucky</td>\n    </tr>\n    <tr>\n      <th>1227</th>\n      <td>22000</td>\n      <td>Louisiana</td>\n    </tr>\n    <tr>\n      <th>1296</th>\n      <td>23000</td>\n      <td>Maine</td>\n    </tr>\n    <tr>\n      <th>1317</th>\n      <td>24000</td>\n      <td>Maryland</td>\n    </tr>\n    <tr>\n      <th>1346</th>\n      <td>25000</td>\n      <td>Massachusetts</td>\n    </tr>\n    <tr>\n      <th>1365</th>\n      <td>26000</td>\n      <td>Michigan</td>\n    </tr>\n    <tr>\n      <th>1453</th>\n      <td>27000</td>\n      <td>Minnesota</td>\n    </tr>\n    <tr>\n      <th>1545</th>\n      <td>28000</td>\n      <td>Mississippi</td>\n    </tr>\n    <tr>\n      <th>1632</th>\n      <td>29000</td>\n      <td>Missouri</td>\n    </tr>\n    <tr>\n      <th>1753</th>\n      <td>30000</td>\n      <td>Montana</td>\n    </tr>\n    <tr>\n      <th>1815</th>\n      <td>31000</td>\n      <td>Nebraska</td>\n    </tr>\n    <tr>\n      <th>1913</th>\n      <td>32000</td>\n      <td>Nevada</td>\n    </tr>\n    <tr>\n      <th>1935</th>\n      <td>33000</td>\n      <td>New Hampshire</td>\n    </tr>\n    <tr>\n      <th>1950</th>\n      <td>34000</td>\n      <td>New Jersey</td>\n    </tr>\n    <tr>\n      <th>1976</th>\n      <td>35000</td>\n      <td>New Mexico</td>\n    </tr>\n    <tr>\n      <th>2014</th>\n      <td>36000</td>\n      <td>New York</td>\n    </tr>\n    <tr>\n      <th>2081</th>\n      <td>37000</td>\n      <td>North Carolina</td>\n    </tr>\n    <tr>\n      <th>2186</th>\n      <td>38000</td>\n      <td>North Dakota</td>\n    </tr>\n    <tr>\n      <th>2244</th>\n      <td>39000</td>\n      <td>Ohio</td>\n    </tr>\n    <tr>\n      <th>2337</th>\n      <td>40000</td>\n      <td>Oklahoma</td>\n    </tr>\n    <tr>\n      <th>2419</th>\n      <td>41000</td>\n      <td>Oregon</td>\n    </tr>\n    <tr>\n      <th>2460</th>\n      <td>42000</td>\n      <td>Pennsylvania</td>\n    </tr>\n    <tr>\n      <th>2532</th>\n      <td>44000</td>\n      <td>Rhode Island</td>\n    </tr>\n    <tr>\n      <th>2542</th>\n      <td>45000</td>\n      <td>South Carolina</td>\n    </tr>\n    <tr>\n      <th>2593</th>\n      <td>46000</td>\n      <td>South Dakota</td>\n    </tr>\n    <tr>\n      <th>2666</th>\n      <td>47000</td>\n      <td>Tennessee</td>\n    </tr>\n    <tr>\n      <th>2766</th>\n      <td>48000</td>\n      <td>Texas</td>\n    </tr>\n    <tr>\n      <th>3025</th>\n      <td>49000</td>\n      <td>Utah</td>\n    </tr>\n    <tr>\n      <th>3059</th>\n      <td>50000</td>\n      <td>Vermont</td>\n    </tr>\n    <tr>\n      <th>3078</th>\n      <td>51000</td>\n      <td>Virginia</td>\n    </tr>\n    <tr>\n      <th>3219</th>\n      <td>53000</td>\n      <td>Washington</td>\n    </tr>\n    <tr>\n      <th>3263</th>\n      <td>54000</td>\n      <td>West Virginia</td>\n    </tr>\n    <tr>\n      <th>3323</th>\n      <td>55000</td>\n      <td>Wisconsin</td>\n    </tr>\n    <tr>\n      <th>3401</th>\n      <td>56000</td>\n      <td>Wyoming</td>\n    </tr>\n    <tr>\n      <th>3430</th>\n      <td>72000</td>\n      <td>Puerto Rico</td>\n    </tr>\n    <tr>\n      <th>3513</th>\n      <td>78000</td>\n      <td>Virgin Islands</td>\n    </tr>\n  </tbody>\n</table>\n</div>"
     },
     "execution_count": 28,
     "metadata": {},
     "output_type": "execute_result"
    }
   ],
   "source": [
    "# Define list of state codes from BLS link and filter to code and name\n",
    "# This will be a reference to filter the single files\n",
    "state_list = pd.read_csv('https://data.bls.gov/cew/doc/titles/area/area_titles.csv')\n",
    "state_list = state_list[state_list['area_title'].str.contains('-- Statewide',regex=False)]\n",
    "state_list['area_title'] = state_list['area_title'].str.split(' --',n=1,expand=True)[0]\n",
    "state_list['area_fips'] = state_list['area_fips'].astype('int64')\n",
    "state_list"
   ]
  },
  {
   "cell_type": "code",
   "execution_count": 29,
   "metadata": {
    "ExecuteTime": {
     "end_time": "2023-11-19T06:15:22.592102Z",
     "start_time": "2023-11-19T06:15:22.048972Z"
    }
   },
   "outputs": [],
   "source": [
    "# Define list of industries from BLS\n",
    "industry_list = pd.read_csv('https://data.bls.gov/cew/doc/titles/industry/industry_titles.csv')\n",
    "\n",
    "# Winnow down to just six-digit values\n",
    "six_digit = industry_list[industry_list['industry_code'].str.len()==6]\n",
    "\n",
    "# Identify only the newspaper-related code: 511110\n",
    "news = (six_digit[six_digit['industry_title']\n",
    "                  .str.contains('Newspaper publishers',regex=False)]\n",
    "       )\n",
    "\n",
    "all = (industry_list[industry_list['industry_title']\n",
    "                     .str.contains('Total, all industries',regex=False)]\n",
    "      )\n",
    "\n",
    "news_all = pd.concat([news,all])"
   ]
  },
  {
   "cell_type": "code",
   "execution_count": 30,
   "outputs": [
    {
     "data": {
      "text/plain": "[]"
     },
     "execution_count": 30,
     "metadata": {},
     "output_type": "execute_result"
    }
   ],
   "source": [
    "sing_files"
   ],
   "metadata": {
    "collapsed": false,
    "ExecuteTime": {
     "end_time": "2023-11-19T06:15:22.611700Z",
     "start_time": "2023-11-19T06:15:22.594804Z"
    }
   }
  },
  {
   "cell_type": "code",
   "execution_count": 31,
   "metadata": {
    "scrolled": true,
    "ExecuteTime": {
     "end_time": "2023-11-19T06:15:22.747055Z",
     "start_time": "2023-11-19T06:15:22.640145Z"
    }
   },
   "outputs": [
    {
     "ename": "ValueError",
     "evalue": "No objects to concatenate",
     "output_type": "error",
     "traceback": [
      "\u001B[0;31m---------------------------------------------------------------------------\u001B[0m",
      "\u001B[0;31mValueError\u001B[0m                                Traceback (most recent call last)",
      "Cell \u001B[0;32mIn[31], line 12\u001B[0m\n\u001B[1;32m      9\u001B[0m     dfs\u001B[38;5;241m.\u001B[39mappend(qcew)\n\u001B[1;32m     10\u001B[0m     \u001B[38;5;28mid\u001B[39m\u001B[38;5;241m+\u001B[39m\u001B[38;5;241m=\u001B[39m\u001B[38;5;241m1\u001B[39m\n\u001B[0;32m---> 12\u001B[0m df \u001B[38;5;241m=\u001B[39m \u001B[43mpd\u001B[49m\u001B[38;5;241;43m.\u001B[39;49m\u001B[43mconcat\u001B[49m\u001B[43m(\u001B[49m\u001B[43mdfs\u001B[49m\u001B[43m,\u001B[49m\u001B[43msort\u001B[49m\u001B[38;5;241;43m=\u001B[39;49m\u001B[38;5;28;43;01mFalse\u001B[39;49;00m\u001B[43m,\u001B[49m\u001B[43mignore_index\u001B[49m\u001B[38;5;241;43m=\u001B[39;49m\u001B[38;5;28;43;01mTrue\u001B[39;49;00m\u001B[43m)\u001B[49m\u001B[38;5;241m.\u001B[39mdrop_duplicates()\u001B[38;5;241m.\u001B[39mreset_index(drop \u001B[38;5;241m=\u001B[39m \u001B[38;5;28;01mTrue\u001B[39;00m)\n",
      "File \u001B[0;32m~/miniconda3/envs/base_ds/envs/scraping_env/lib/python3.10/site-packages/pandas/core/reshape/concat.py:372\u001B[0m, in \u001B[0;36mconcat\u001B[0;34m(objs, axis, join, ignore_index, keys, levels, names, verify_integrity, sort, copy)\u001B[0m\n\u001B[1;32m    369\u001B[0m \u001B[38;5;28;01melif\u001B[39;00m copy \u001B[38;5;129;01mand\u001B[39;00m using_copy_on_write():\n\u001B[1;32m    370\u001B[0m     copy \u001B[38;5;241m=\u001B[39m \u001B[38;5;28;01mFalse\u001B[39;00m\n\u001B[0;32m--> 372\u001B[0m op \u001B[38;5;241m=\u001B[39m \u001B[43m_Concatenator\u001B[49m\u001B[43m(\u001B[49m\n\u001B[1;32m    373\u001B[0m \u001B[43m    \u001B[49m\u001B[43mobjs\u001B[49m\u001B[43m,\u001B[49m\n\u001B[1;32m    374\u001B[0m \u001B[43m    \u001B[49m\u001B[43maxis\u001B[49m\u001B[38;5;241;43m=\u001B[39;49m\u001B[43maxis\u001B[49m\u001B[43m,\u001B[49m\n\u001B[1;32m    375\u001B[0m \u001B[43m    \u001B[49m\u001B[43mignore_index\u001B[49m\u001B[38;5;241;43m=\u001B[39;49m\u001B[43mignore_index\u001B[49m\u001B[43m,\u001B[49m\n\u001B[1;32m    376\u001B[0m \u001B[43m    \u001B[49m\u001B[43mjoin\u001B[49m\u001B[38;5;241;43m=\u001B[39;49m\u001B[43mjoin\u001B[49m\u001B[43m,\u001B[49m\n\u001B[1;32m    377\u001B[0m \u001B[43m    \u001B[49m\u001B[43mkeys\u001B[49m\u001B[38;5;241;43m=\u001B[39;49m\u001B[43mkeys\u001B[49m\u001B[43m,\u001B[49m\n\u001B[1;32m    378\u001B[0m \u001B[43m    \u001B[49m\u001B[43mlevels\u001B[49m\u001B[38;5;241;43m=\u001B[39;49m\u001B[43mlevels\u001B[49m\u001B[43m,\u001B[49m\n\u001B[1;32m    379\u001B[0m \u001B[43m    \u001B[49m\u001B[43mnames\u001B[49m\u001B[38;5;241;43m=\u001B[39;49m\u001B[43mnames\u001B[49m\u001B[43m,\u001B[49m\n\u001B[1;32m    380\u001B[0m \u001B[43m    \u001B[49m\u001B[43mverify_integrity\u001B[49m\u001B[38;5;241;43m=\u001B[39;49m\u001B[43mverify_integrity\u001B[49m\u001B[43m,\u001B[49m\n\u001B[1;32m    381\u001B[0m \u001B[43m    \u001B[49m\u001B[43mcopy\u001B[49m\u001B[38;5;241;43m=\u001B[39;49m\u001B[43mcopy\u001B[49m\u001B[43m,\u001B[49m\n\u001B[1;32m    382\u001B[0m \u001B[43m    \u001B[49m\u001B[43msort\u001B[49m\u001B[38;5;241;43m=\u001B[39;49m\u001B[43msort\u001B[49m\u001B[43m,\u001B[49m\n\u001B[1;32m    383\u001B[0m \u001B[43m\u001B[49m\u001B[43m)\u001B[49m\n\u001B[1;32m    385\u001B[0m \u001B[38;5;28;01mreturn\u001B[39;00m op\u001B[38;5;241m.\u001B[39mget_result()\n",
      "File \u001B[0;32m~/miniconda3/envs/base_ds/envs/scraping_env/lib/python3.10/site-packages/pandas/core/reshape/concat.py:429\u001B[0m, in \u001B[0;36m_Concatenator.__init__\u001B[0;34m(self, objs, axis, join, keys, levels, names, ignore_index, verify_integrity, copy, sort)\u001B[0m\n\u001B[1;32m    426\u001B[0m     objs \u001B[38;5;241m=\u001B[39m \u001B[38;5;28mlist\u001B[39m(objs)\n\u001B[1;32m    428\u001B[0m \u001B[38;5;28;01mif\u001B[39;00m \u001B[38;5;28mlen\u001B[39m(objs) \u001B[38;5;241m==\u001B[39m \u001B[38;5;241m0\u001B[39m:\n\u001B[0;32m--> 429\u001B[0m     \u001B[38;5;28;01mraise\u001B[39;00m \u001B[38;5;167;01mValueError\u001B[39;00m(\u001B[38;5;124m\"\u001B[39m\u001B[38;5;124mNo objects to concatenate\u001B[39m\u001B[38;5;124m\"\u001B[39m)\n\u001B[1;32m    431\u001B[0m \u001B[38;5;28;01mif\u001B[39;00m keys \u001B[38;5;129;01mis\u001B[39;00m \u001B[38;5;28;01mNone\u001B[39;00m:\n\u001B[1;32m    432\u001B[0m     objs \u001B[38;5;241m=\u001B[39m \u001B[38;5;28mlist\u001B[39m(com\u001B[38;5;241m.\u001B[39mnot_none(\u001B[38;5;241m*\u001B[39mobjs))\n",
      "\u001B[0;31mValueError\u001B[0m: No objects to concatenate"
     ]
    }
   ],
   "source": [
    "id=0\n",
    "dfs=[]\n",
    "for x in range(0,len(sing_files)-1):\n",
    "    \n",
    "    qcew = (pd.read_csv(sing_files[id])\n",
    "            .merge(state_list, how='inner', on='area_fips')\n",
    "            .merge(news_all,how='inner',on='industry_code')\n",
    "           )\n",
    "    dfs.append(qcew)\n",
    "    id+=1\n",
    "    \n",
    "df = pd.concat(dfs,sort=False,ignore_index=True).drop_duplicates().reset_index(drop = True)"
   ]
  },
  {
   "cell_type": "code",
   "execution_count": null,
   "metadata": {
    "ExecuteTime": {
     "start_time": "2023-11-19T06:15:22.737430Z"
    }
   },
   "outputs": [],
   "source": [
    "df.to_csv('newspaper_jobs_and_totals_by_state.csv')"
   ]
  }
 ],
 "metadata": {
  "kernelspec": {
   "display_name": "Python 3",
   "language": "python",
   "name": "python3"
  },
  "language_info": {
   "codemirror_mode": {
    "name": "ipython",
    "version": 3
   },
   "file_extension": ".py",
   "mimetype": "text/x-python",
   "name": "python",
   "nbconvert_exporter": "python",
   "pygments_lexer": "ipython3",
   "version": "3.6.9"
  }
 },
 "nbformat": 4,
 "nbformat_minor": 2
}
