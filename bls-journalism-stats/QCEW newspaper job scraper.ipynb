{
 "cells": [
  {
   "cell_type": "code",
   "execution_count": 2,
   "metadata": {
    "ExecuteTime": {
     "end_time": "2024-01-25T04:46:27.561924Z",
     "start_time": "2024-01-25T04:46:26.827870Z"
    }
   },
   "outputs": [],
   "source": [
    "import pandas as pd\n",
    "import requests\n",
    "import datetime\n",
    "import os\n",
    "from scrapy import Selector"
   ]
  },
  {
   "cell_type": "code",
   "execution_count": 3,
   "metadata": {
    "ExecuteTime": {
     "end_time": "2024-01-25T04:46:27.564747Z",
     "start_time": "2024-01-25T04:46:27.562298Z"
    }
   },
   "outputs": [],
   "source": [
    "# os.makedirs('/test')"
   ]
  },
  {
   "cell_type": "code",
   "execution_count": 4,
   "metadata": {
    "collapsed": true,
    "ExecuteTime": {
     "end_time": "2024-01-25T04:46:28.031042Z",
     "start_time": "2024-01-25T04:46:27.565364Z"
    }
   },
   "outputs": [],
   "source": [
    "# Data file URL\n",
    "url = 'https://www.bls.gov/cew/downloadable-data-files.htm'\n",
    "\n",
    "#Pull in page content\n",
    "r = requests.get(url)\n",
    "\n",
    "#Make Selector item to scrape\n",
    "sel = Selector(text = r.text)\n",
    "\n",
    "# Select annual average file list\n",
    "sing_files = [f'https://data.bls.gov/cew/data/files/{year}/csv/{year}_annual_singlefile.zip' for year in range(1990, datetime.date.today().year-1)]"
   ]
  },
  {
   "cell_type": "code",
   "execution_count": 42,
   "metadata": {
    "ExecuteTime": {
     "end_time": "2024-01-25T05:17:54.683236Z",
     "start_time": "2024-01-25T05:17:54.129464Z"
    }
   },
   "outputs": [
    {
     "data": {
      "text/plain": "     area_fips      area_title\n4        01000         Alabama\n76       02000          Alaska\n129      04000         Arizona\n149      05000        Arkansas\n229      06000      California\n292      08000        Colorado\n361      09000     Connecticut\n374      10000        Delaware\n388      12000         Florida\n461      13000         Georgia\n626      15000          Hawaii\n635      16000           Idaho\n684      17000        Illinois\n791      18000         Indiana\n888      19000            Iowa\n992      20000          Kansas\n1102     21000        Kentucky\n1227     22000       Louisiana\n1296     23000           Maine\n1317     24000        Maryland\n1346     25000   Massachusetts\n1365     26000        Michigan\n1453     27000       Minnesota\n1545     28000     Mississippi\n1632     29000        Missouri\n1753     30000         Montana\n1815     31000        Nebraska\n1913     32000          Nevada\n1935     33000   New Hampshire\n1950     34000      New Jersey\n1976     35000      New Mexico\n2014     36000        New York\n2081     37000  North Carolina\n2186     38000    North Dakota\n2244     39000            Ohio\n2337     40000        Oklahoma\n2419     41000          Oregon\n2460     42000    Pennsylvania\n2532     44000    Rhode Island\n2542     45000  South Carolina\n2593     46000    South Dakota\n2666     47000       Tennessee\n2766     48000           Texas\n3025     49000            Utah\n3059     50000         Vermont\n3078     51000        Virginia\n3219     53000      Washington\n3263     54000   West Virginia\n3323     55000       Wisconsin\n3401     56000         Wyoming\n3430     72000     Puerto Rico\n3513     78000  Virgin Islands",
      "text/html": "<div>\n<style scoped>\n    .dataframe tbody tr th:only-of-type {\n        vertical-align: middle;\n    }\n\n    .dataframe tbody tr th {\n        vertical-align: top;\n    }\n\n    .dataframe thead th {\n        text-align: right;\n    }\n</style>\n<table border=\"1\" class=\"dataframe\">\n  <thead>\n    <tr style=\"text-align: right;\">\n      <th></th>\n      <th>area_fips</th>\n      <th>area_title</th>\n    </tr>\n  </thead>\n  <tbody>\n    <tr>\n      <th>4</th>\n      <td>01000</td>\n      <td>Alabama</td>\n    </tr>\n    <tr>\n      <th>76</th>\n      <td>02000</td>\n      <td>Alaska</td>\n    </tr>\n    <tr>\n      <th>129</th>\n      <td>04000</td>\n      <td>Arizona</td>\n    </tr>\n    <tr>\n      <th>149</th>\n      <td>05000</td>\n      <td>Arkansas</td>\n    </tr>\n    <tr>\n      <th>229</th>\n      <td>06000</td>\n      <td>California</td>\n    </tr>\n    <tr>\n      <th>292</th>\n      <td>08000</td>\n      <td>Colorado</td>\n    </tr>\n    <tr>\n      <th>361</th>\n      <td>09000</td>\n      <td>Connecticut</td>\n    </tr>\n    <tr>\n      <th>374</th>\n      <td>10000</td>\n      <td>Delaware</td>\n    </tr>\n    <tr>\n      <th>388</th>\n      <td>12000</td>\n      <td>Florida</td>\n    </tr>\n    <tr>\n      <th>461</th>\n      <td>13000</td>\n      <td>Georgia</td>\n    </tr>\n    <tr>\n      <th>626</th>\n      <td>15000</td>\n      <td>Hawaii</td>\n    </tr>\n    <tr>\n      <th>635</th>\n      <td>16000</td>\n      <td>Idaho</td>\n    </tr>\n    <tr>\n      <th>684</th>\n      <td>17000</td>\n      <td>Illinois</td>\n    </tr>\n    <tr>\n      <th>791</th>\n      <td>18000</td>\n      <td>Indiana</td>\n    </tr>\n    <tr>\n      <th>888</th>\n      <td>19000</td>\n      <td>Iowa</td>\n    </tr>\n    <tr>\n      <th>992</th>\n      <td>20000</td>\n      <td>Kansas</td>\n    </tr>\n    <tr>\n      <th>1102</th>\n      <td>21000</td>\n      <td>Kentucky</td>\n    </tr>\n    <tr>\n      <th>1227</th>\n      <td>22000</td>\n      <td>Louisiana</td>\n    </tr>\n    <tr>\n      <th>1296</th>\n      <td>23000</td>\n      <td>Maine</td>\n    </tr>\n    <tr>\n      <th>1317</th>\n      <td>24000</td>\n      <td>Maryland</td>\n    </tr>\n    <tr>\n      <th>1346</th>\n      <td>25000</td>\n      <td>Massachusetts</td>\n    </tr>\n    <tr>\n      <th>1365</th>\n      <td>26000</td>\n      <td>Michigan</td>\n    </tr>\n    <tr>\n      <th>1453</th>\n      <td>27000</td>\n      <td>Minnesota</td>\n    </tr>\n    <tr>\n      <th>1545</th>\n      <td>28000</td>\n      <td>Mississippi</td>\n    </tr>\n    <tr>\n      <th>1632</th>\n      <td>29000</td>\n      <td>Missouri</td>\n    </tr>\n    <tr>\n      <th>1753</th>\n      <td>30000</td>\n      <td>Montana</td>\n    </tr>\n    <tr>\n      <th>1815</th>\n      <td>31000</td>\n      <td>Nebraska</td>\n    </tr>\n    <tr>\n      <th>1913</th>\n      <td>32000</td>\n      <td>Nevada</td>\n    </tr>\n    <tr>\n      <th>1935</th>\n      <td>33000</td>\n      <td>New Hampshire</td>\n    </tr>\n    <tr>\n      <th>1950</th>\n      <td>34000</td>\n      <td>New Jersey</td>\n    </tr>\n    <tr>\n      <th>1976</th>\n      <td>35000</td>\n      <td>New Mexico</td>\n    </tr>\n    <tr>\n      <th>2014</th>\n      <td>36000</td>\n      <td>New York</td>\n    </tr>\n    <tr>\n      <th>2081</th>\n      <td>37000</td>\n      <td>North Carolina</td>\n    </tr>\n    <tr>\n      <th>2186</th>\n      <td>38000</td>\n      <td>North Dakota</td>\n    </tr>\n    <tr>\n      <th>2244</th>\n      <td>39000</td>\n      <td>Ohio</td>\n    </tr>\n    <tr>\n      <th>2337</th>\n      <td>40000</td>\n      <td>Oklahoma</td>\n    </tr>\n    <tr>\n      <th>2419</th>\n      <td>41000</td>\n      <td>Oregon</td>\n    </tr>\n    <tr>\n      <th>2460</th>\n      <td>42000</td>\n      <td>Pennsylvania</td>\n    </tr>\n    <tr>\n      <th>2532</th>\n      <td>44000</td>\n      <td>Rhode Island</td>\n    </tr>\n    <tr>\n      <th>2542</th>\n      <td>45000</td>\n      <td>South Carolina</td>\n    </tr>\n    <tr>\n      <th>2593</th>\n      <td>46000</td>\n      <td>South Dakota</td>\n    </tr>\n    <tr>\n      <th>2666</th>\n      <td>47000</td>\n      <td>Tennessee</td>\n    </tr>\n    <tr>\n      <th>2766</th>\n      <td>48000</td>\n      <td>Texas</td>\n    </tr>\n    <tr>\n      <th>3025</th>\n      <td>49000</td>\n      <td>Utah</td>\n    </tr>\n    <tr>\n      <th>3059</th>\n      <td>50000</td>\n      <td>Vermont</td>\n    </tr>\n    <tr>\n      <th>3078</th>\n      <td>51000</td>\n      <td>Virginia</td>\n    </tr>\n    <tr>\n      <th>3219</th>\n      <td>53000</td>\n      <td>Washington</td>\n    </tr>\n    <tr>\n      <th>3263</th>\n      <td>54000</td>\n      <td>West Virginia</td>\n    </tr>\n    <tr>\n      <th>3323</th>\n      <td>55000</td>\n      <td>Wisconsin</td>\n    </tr>\n    <tr>\n      <th>3401</th>\n      <td>56000</td>\n      <td>Wyoming</td>\n    </tr>\n    <tr>\n      <th>3430</th>\n      <td>72000</td>\n      <td>Puerto Rico</td>\n    </tr>\n    <tr>\n      <th>3513</th>\n      <td>78000</td>\n      <td>Virgin Islands</td>\n    </tr>\n  </tbody>\n</table>\n</div>"
     },
     "execution_count": 42,
     "metadata": {},
     "output_type": "execute_result"
    }
   ],
   "source": [
    "# Define list of state codes from BLS link and filter to code and name\n",
    "# This will be a reference to filter the single files\n",
    "state_list = pd.read_csv('https://data.bls.gov/cew/doc/titles/area/area_titles.csv')\n",
    "state_list = state_list[state_list['area_title'].str.contains('-- Statewide',regex=False)]\n",
    "state_list['area_title'] = state_list['area_title'].str.split(' --',n=1,expand=True)[0]\n",
    "state_list['area_fips'] = state_list['area_fips'].astype('int')\n",
    "state_list['area_fips'] = state_list['area_fips'].astype('str').str.zfill(5)\n",
    "state_list"
   ]
  },
  {
   "cell_type": "code",
   "execution_count": 6,
   "metadata": {
    "ExecuteTime": {
     "end_time": "2024-01-25T04:46:29.139154Z",
     "start_time": "2024-01-25T04:46:28.662310Z"
    }
   },
   "outputs": [],
   "source": [
    "# Define list of industries from BLS\n",
    "industry_list = pd.read_csv('https://data.bls.gov/cew/doc/titles/industry/industry_titles.csv')\n",
    "\n",
    "# Winnow down to just six-digit values\n",
    "six_digit = industry_list[industry_list['industry_code'].str.len()==6]\n",
    "\n",
    "# Identify only the newspaper-related code: 511110\n",
    "news = (six_digit[six_digit['industry_title']\n",
    "                  .str.contains('Newspaper publishers',regex=False)]\n",
    "       )\n",
    "\n",
    "all = (industry_list[industry_list['industry_title']\n",
    "                     .str.contains('Total, all industries',regex=False)]\n",
    "      )\n",
    "\n",
    "news_all = pd.concat([news,all])"
   ]
  },
  {
   "cell_type": "code",
   "execution_count": 48,
   "metadata": {
    "scrolled": true,
    "ExecuteTime": {
     "end_time": "2024-01-25T05:27:37.837712Z",
     "start_time": "2024-01-25T05:20:34.132588Z"
    }
   },
   "outputs": [
    {
     "name": "stdout",
     "output_type": "stream",
     "text": [
      "Loaded from: https://data.bls.gov/cew/data/files/1990/csv/1990_annual_singlefile.zip\n",
      "Loaded from: https://data.bls.gov/cew/data/files/1991/csv/1991_annual_singlefile.zip\n",
      "Loaded from: https://data.bls.gov/cew/data/files/1992/csv/1992_annual_singlefile.zip\n",
      "Loaded from: https://data.bls.gov/cew/data/files/1993/csv/1993_annual_singlefile.zip\n",
      "Loaded from: https://data.bls.gov/cew/data/files/1994/csv/1994_annual_singlefile.zip\n",
      "Loaded from: https://data.bls.gov/cew/data/files/1995/csv/1995_annual_singlefile.zip\n",
      "Loaded from: https://data.bls.gov/cew/data/files/1996/csv/1996_annual_singlefile.zip\n",
      "Loaded from: https://data.bls.gov/cew/data/files/1997/csv/1997_annual_singlefile.zip\n",
      "Loaded from: https://data.bls.gov/cew/data/files/1998/csv/1998_annual_singlefile.zip\n",
      "Loaded from: https://data.bls.gov/cew/data/files/1999/csv/1999_annual_singlefile.zip\n",
      "Loaded from: https://data.bls.gov/cew/data/files/2000/csv/2000_annual_singlefile.zip\n",
      "Loaded from: https://data.bls.gov/cew/data/files/2001/csv/2001_annual_singlefile.zip\n",
      "Loaded from: https://data.bls.gov/cew/data/files/2002/csv/2002_annual_singlefile.zip\n",
      "Loaded from: https://data.bls.gov/cew/data/files/2003/csv/2003_annual_singlefile.zip\n",
      "Loaded from: https://data.bls.gov/cew/data/files/2004/csv/2004_annual_singlefile.zip\n",
      "Loaded from: https://data.bls.gov/cew/data/files/2005/csv/2005_annual_singlefile.zip\n",
      "Loaded from: https://data.bls.gov/cew/data/files/2006/csv/2006_annual_singlefile.zip\n",
      "Loaded from: https://data.bls.gov/cew/data/files/2007/csv/2007_annual_singlefile.zip\n",
      "Loaded from: https://data.bls.gov/cew/data/files/2008/csv/2008_annual_singlefile.zip\n",
      "Loaded from: https://data.bls.gov/cew/data/files/2009/csv/2009_annual_singlefile.zip\n",
      "Loaded from: https://data.bls.gov/cew/data/files/2010/csv/2010_annual_singlefile.zip\n",
      "Loaded from: https://data.bls.gov/cew/data/files/2011/csv/2011_annual_singlefile.zip\n",
      "Loaded from: https://data.bls.gov/cew/data/files/2012/csv/2012_annual_singlefile.zip\n",
      "Loaded from: https://data.bls.gov/cew/data/files/2013/csv/2013_annual_singlefile.zip\n",
      "Loaded from: https://data.bls.gov/cew/data/files/2014/csv/2014_annual_singlefile.zip\n",
      "Loaded from: https://data.bls.gov/cew/data/files/2015/csv/2015_annual_singlefile.zip\n",
      "Loaded from: https://data.bls.gov/cew/data/files/2016/csv/2016_annual_singlefile.zip\n",
      "Loaded from: https://data.bls.gov/cew/data/files/2017/csv/2017_annual_singlefile.zip\n",
      "Loaded from: https://data.bls.gov/cew/data/files/2018/csv/2018_annual_singlefile.zip\n",
      "Loaded from: https://data.bls.gov/cew/data/files/2019/csv/2019_annual_singlefile.zip\n",
      "Loaded from: https://data.bls.gov/cew/data/files/2020/csv/2020_annual_singlefile.zip\n",
      "Loaded from: https://data.bls.gov/cew/data/files/2021/csv/2021_annual_singlefile.zip\n",
      "Loaded from: https://data.bls.gov/cew/data/files/2022/csv/2022_annual_singlefile.zip\n"
     ]
    }
   ],
   "source": [
    "dfs=[]\n",
    "\n",
    "# Convert to enable join\n",
    "state_list['area_fips'] = state_list['area_fips'].astype('object')\n",
    "\n",
    "for file in sing_files:\n",
    "    qcew = pd.read_csv(file, low_memory=False)\n",
    "    qcew = qcew.merge(news_all,how='inner',on='industry_code').merge(state_list,how='inner',on='area_fips')\n",
    "    dfs.append(qcew)\n",
    "    print(f'Loaded from: {file}')"
   ]
  },
  {
   "cell_type": "code",
   "execution_count": 50,
   "outputs": [
    {
     "data": {
      "text/plain": "  area_fips  own_code industry_code  agglvl_code  size_code  year qtr  \\\n0     01000         0            10           50          0  1990   A   \n1     01000         1            10           51          0  1990   A   \n2     01000         2            10           51          0  1990   A   \n3     01000         3            10           51          0  1990   A   \n4     01000         5            10           51          0  1990   A   \n\n  disclosure_code  annual_avg_estabs  annual_avg_emplvl  ...  \\\n0             NaN              86872            1600920  ...   \n1             NaN                841              65549  ...   \n2             NaN               1046              77265  ...   \n3             NaN               1341             167017  ...   \n4             NaN              83645            1291089  ...   \n\n   oty_taxable_annual_wages_chg  oty_taxable_annual_wages_pct_chg  \\\n0                   -9982526190                            -100.0   \n1                             0                               0.0   \n2                             0                               0.0   \n3                     -52230648                            -100.0   \n4                   -9930295542                            -100.0   \n\n   oty_annual_contributions_chg  oty_annual_contributions_pct_chg  \\\n0                    -143901271                            -100.0   \n1                             0                               0.0   \n2                             0                               0.0   \n3                       -430505                            -100.0   \n4                    -143470766                            -100.0   \n\n   oty_annual_avg_wkly_wage_chg oty_annual_avg_wkly_wage_pct_chg  \\\n0                            18                              4.8   \n1                            35                              6.2   \n2                            22                              5.0   \n3                            15                              4.5   \n4                            17                              4.6   \n\n   oty_avg_annual_pay_chg  oty_avg_annual_pay_pct_chg  \\\n0                     875                         4.5   \n1                    1752                         6.0   \n2                    1108                         4.9   \n3                     775                         4.4   \n4                     835                         4.4   \n\n             industry_title  area_title  \n0  10 Total, all industries     Alabama  \n1  10 Total, all industries     Alabama  \n2  10 Total, all industries     Alabama  \n3  10 Total, all industries     Alabama  \n4  10 Total, all industries     Alabama  \n\n[5 rows x 40 columns]",
      "text/html": "<div>\n<style scoped>\n    .dataframe tbody tr th:only-of-type {\n        vertical-align: middle;\n    }\n\n    .dataframe tbody tr th {\n        vertical-align: top;\n    }\n\n    .dataframe thead th {\n        text-align: right;\n    }\n</style>\n<table border=\"1\" class=\"dataframe\">\n  <thead>\n    <tr style=\"text-align: right;\">\n      <th></th>\n      <th>area_fips</th>\n      <th>own_code</th>\n      <th>industry_code</th>\n      <th>agglvl_code</th>\n      <th>size_code</th>\n      <th>year</th>\n      <th>qtr</th>\n      <th>disclosure_code</th>\n      <th>annual_avg_estabs</th>\n      <th>annual_avg_emplvl</th>\n      <th>...</th>\n      <th>oty_taxable_annual_wages_chg</th>\n      <th>oty_taxable_annual_wages_pct_chg</th>\n      <th>oty_annual_contributions_chg</th>\n      <th>oty_annual_contributions_pct_chg</th>\n      <th>oty_annual_avg_wkly_wage_chg</th>\n      <th>oty_annual_avg_wkly_wage_pct_chg</th>\n      <th>oty_avg_annual_pay_chg</th>\n      <th>oty_avg_annual_pay_pct_chg</th>\n      <th>industry_title</th>\n      <th>area_title</th>\n    </tr>\n  </thead>\n  <tbody>\n    <tr>\n      <th>0</th>\n      <td>01000</td>\n      <td>0</td>\n      <td>10</td>\n      <td>50</td>\n      <td>0</td>\n      <td>1990</td>\n      <td>A</td>\n      <td>NaN</td>\n      <td>86872</td>\n      <td>1600920</td>\n      <td>...</td>\n      <td>-9982526190</td>\n      <td>-100.0</td>\n      <td>-143901271</td>\n      <td>-100.0</td>\n      <td>18</td>\n      <td>4.8</td>\n      <td>875</td>\n      <td>4.5</td>\n      <td>10 Total, all industries</td>\n      <td>Alabama</td>\n    </tr>\n    <tr>\n      <th>1</th>\n      <td>01000</td>\n      <td>1</td>\n      <td>10</td>\n      <td>51</td>\n      <td>0</td>\n      <td>1990</td>\n      <td>A</td>\n      <td>NaN</td>\n      <td>841</td>\n      <td>65549</td>\n      <td>...</td>\n      <td>0</td>\n      <td>0.0</td>\n      <td>0</td>\n      <td>0.0</td>\n      <td>35</td>\n      <td>6.2</td>\n      <td>1752</td>\n      <td>6.0</td>\n      <td>10 Total, all industries</td>\n      <td>Alabama</td>\n    </tr>\n    <tr>\n      <th>2</th>\n      <td>01000</td>\n      <td>2</td>\n      <td>10</td>\n      <td>51</td>\n      <td>0</td>\n      <td>1990</td>\n      <td>A</td>\n      <td>NaN</td>\n      <td>1046</td>\n      <td>77265</td>\n      <td>...</td>\n      <td>0</td>\n      <td>0.0</td>\n      <td>0</td>\n      <td>0.0</td>\n      <td>22</td>\n      <td>5.0</td>\n      <td>1108</td>\n      <td>4.9</td>\n      <td>10 Total, all industries</td>\n      <td>Alabama</td>\n    </tr>\n    <tr>\n      <th>3</th>\n      <td>01000</td>\n      <td>3</td>\n      <td>10</td>\n      <td>51</td>\n      <td>0</td>\n      <td>1990</td>\n      <td>A</td>\n      <td>NaN</td>\n      <td>1341</td>\n      <td>167017</td>\n      <td>...</td>\n      <td>-52230648</td>\n      <td>-100.0</td>\n      <td>-430505</td>\n      <td>-100.0</td>\n      <td>15</td>\n      <td>4.5</td>\n      <td>775</td>\n      <td>4.4</td>\n      <td>10 Total, all industries</td>\n      <td>Alabama</td>\n    </tr>\n    <tr>\n      <th>4</th>\n      <td>01000</td>\n      <td>5</td>\n      <td>10</td>\n      <td>51</td>\n      <td>0</td>\n      <td>1990</td>\n      <td>A</td>\n      <td>NaN</td>\n      <td>83645</td>\n      <td>1291089</td>\n      <td>...</td>\n      <td>-9930295542</td>\n      <td>-100.0</td>\n      <td>-143470766</td>\n      <td>-100.0</td>\n      <td>17</td>\n      <td>4.6</td>\n      <td>835</td>\n      <td>4.4</td>\n      <td>10 Total, all industries</td>\n      <td>Alabama</td>\n    </tr>\n  </tbody>\n</table>\n<p>5 rows × 40 columns</p>\n</div>"
     },
     "execution_count": 50,
     "metadata": {},
     "output_type": "execute_result"
    }
   ],
   "source": [
    "df = pd.concat(dfs, sort=False, ignore_index=True)\n",
    "df.head()"
   ],
   "metadata": {
    "collapsed": false,
    "ExecuteTime": {
     "end_time": "2024-01-25T05:27:50.168931Z",
     "start_time": "2024-01-25T05:27:50.135873Z"
    }
   }
  },
  {
   "cell_type": "code",
   "execution_count": 54,
   "metadata": {
    "ExecuteTime": {
     "end_time": "2024-01-25T05:28:59.896319Z",
     "start_time": "2024-01-25T05:28:59.786444Z"
    }
   },
   "outputs": [],
   "source": [
    "df.to_csv('newspaper_jobs_and_totals_by_state.csv')"
   ]
  }
 ],
 "metadata": {
  "kernelspec": {
   "display_name": "Python 3",
   "language": "python",
   "name": "python3"
  },
  "language_info": {
   "codemirror_mode": {
    "name": "ipython",
    "version": 3
   },
   "file_extension": ".py",
   "mimetype": "text/x-python",
   "name": "python",
   "nbconvert_exporter": "python",
   "pygments_lexer": "ipython3",
   "version": "3.6.9"
  }
 },
 "nbformat": 4,
 "nbformat_minor": 2
}
