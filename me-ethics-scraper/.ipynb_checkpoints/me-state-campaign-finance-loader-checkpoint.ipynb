{
 "cells": [
  {
   "cell_type": "code",
   "execution_count": 27,
   "metadata": {},
   "outputs": [],
   "source": [
    "import pandas as pd\n",
    "import requests\n",
    "import string\n",
    "import time\n",
    "import datadotworld as dw\n",
    "import os\n",
    "import json\n",
    "from io import StringIO\n",
    "from pandas.io.json import json_normalize"
   ]
  },
  {
   "cell_type": "code",
   "execution_count": 46,
   "metadata": {},
   "outputs": [],
   "source": [
    "##CONFIG.PY##\n",
    "#URL and session variables\n",
    "url = 'https://mainecampaignfinance.com/api///Search/TransactionSearchInformationExpExportToCSV'\n",
    "url_base = 'https://mainecampaignfinance.com'\n",
    "s = requests.Session()\n",
    "cookies = requests.cookies.RequestsCookieJar()\n",
    "\n",
    "#Can search multiple, comma-separated\n",
    "election_year = '2020,2019'\n",
    "\n",
    "#Parameters for looping through search\n",
    "committee_types = {'candidate':'01'\n",
    "                  ,'bqc':'02'\n",
    "                  ,'pac':'03'\n",
    "                  ,'party-committee':'09'}\n",
    "\n",
    "transaction_types = {'contributions':'CON'\n",
    "                    ,'expenditures':'EXP'\n",
    "                    ,'independent-expenditures':'IE'}\n",
    "\n",
    "trans_types = list(transaction_types.values())\n",
    "filenames = list(transaction_types.keys())\n",
    "comm_types = list(committee_types.values())\n",
    "\n",
    "#Data dictionary for query\n",
    "data = {\"ElectionYear\":election_year\n",
    "        ,\"pageNumber\":'1'\n",
    "        ,\"pageSize\":'2147483647' #Sets max responses from page (defaults to 10)\n",
    "        ,\"ValidationRequired\":'0'}\n",
    "\n",
    "#POST headers\n",
    "headers = {'Host':'mainecampaignfinance.com'\n",
    "            ,'Origin': url_base\n",
    "            ,'User-Agent': 'Mozilla/5.0 (Macintosh; Intel Mac OS X 10.14; rv:69.0) Gecko/20100101 Firefox/69.0'\n",
    "            ,'Accept': 'application/octet-stream'\n",
    "            ,'Accept-Language': 'en-US,en;q=0.5'\n",
    "            ,'Accept-Encoding': 'gzip, deflate, br'\n",
    "            ,'Referer':'https://mainecampaignfinance.com/'\n",
    "            ,'Content-Type': 'application/json;charset=utf-8'\n",
    "            ,'Connection': 'keep-alive'\n",
    "            ,'TE':'Trailers'\n",
    "            ,'Pragma': 'no-cache'\n",
    "            ,'Cache-Control': 'no-cache'}"
   ]
  },
  {
   "cell_type": "code",
   "execution_count": 38,
   "metadata": {},
   "outputs": [
    {
     "data": {
      "text/plain": [
       "4"
      ]
     },
     "execution_count": 38,
     "metadata": {},
     "output_type": "execute_result"
    }
   ],
   "source": [
    "i"
   ]
  },
  {
   "cell_type": "code",
   "execution_count": 41,
   "metadata": {},
   "outputs": [
    {
     "name": "stdout",
     "output_type": "stream",
     "text": [
      "Writing file contributions.csv to data.world, at 15089 records.\n",
      "Writing file expenditures.csv to data.world, at 5186 records.\n",
      "Writing file independent-expenditures.csv to data.world, at 20 records.\n"
     ]
    }
   ],
   "source": [
    "#GET SPENDING REPORTS#\n",
    "\n",
    "#Set index\n",
    "x=0\n",
    "for b in trans_types:\n",
    "    \n",
    "    data.update({\"TransactionType\":trans_types[x]})\n",
    "    \n",
    "    dfs=[]\n",
    "    \n",
    "    #Reset index\n",
    "    i=0\n",
    "    for n in comm_types:\n",
    "\n",
    "        data.update({\"CommitteeType\":comm_types[i]})\n",
    "\n",
    "        r = s.post(url, data=json.dumps(data), headers=headers)\n",
    "        df = pd.read_csv(StringIO(r.content.decode('utf-8')))\n",
    "        dfs.append(df)\n",
    "        \n",
    "        i+=1\n",
    "        \n",
    "    #Combine dfs\n",
    "    df=pd.concat(dfs,sort=False,ignore_index=True).drop_duplicates()\n",
    "    \n",
    "    print('Writing file '+filenames[x]+'.csv to data.world, at '+str(len(df))+' records.')\n",
    "    #Write single file for all transaction types\n",
    "    with dw.open_remote_file('darrenfishell/2020-maine-state-campaign-finance',filenames[x]+'.csv') as w:\n",
    "            df.to_csv(w,index=False)\n",
    "    \n",
    "    #Advance to next transaction type\n",
    "    x+=1"
   ]
  },
  {
   "cell_type": "code",
   "execution_count": 53,
   "metadata": {},
   "outputs": [
    {
     "data": {
      "text/plain": [
       "<Response [200]>"
      ]
     },
     "execution_count": 53,
     "metadata": {},
     "output_type": "execute_result"
    }
   ],
   "source": [
    "#GET CANDIDATES LOOKUP#\n",
    "url='https://mainecampaignfinance.com/api///Organization/SearchCandidatesforCSV'\n",
    "\n",
    "cand_q = {\"ElectionYear\":\"2020\",\n",
    " \"Party\":'null',\n",
    " \"OfficeSought\":'null',\n",
    " \"JurisdictionType\":'null',\n",
    " \"Jurisdiction\":'null',\n",
    " \"FinanceType\":'null',\n",
    " \"TransactionType\":'null',\n",
    " \"TransactionAmount\":'null',\n",
    " \"DistrictId\":'null',\n",
    " \"pageNumber\":1,\n",
    " \"pageSize\":2147483647,\n",
    " \"electionId\":'null'}\n",
    "\n",
    "r = s.post(url, data=json.dumps(cand_q), headers=headers)\n",
    "\n",
    "r\n",
    "# df = json_normalize(r)\n",
    "\n",
    "# with dw.open_remote_file('darrenfishell/2020-maine-state-campaign-finance','candidates.csv') as w:\n",
    "#     df.to_csv(w,index=False)"
   ]
  },
  {
   "cell_type": "code",
   "execution_count": 54,
   "metadata": {},
   "outputs": [
    {
     "data": {
      "text/plain": [
       "[{'Title': None,\n",
       "  'BallotQuestionNumber': None,\n",
       "  'BallotQuestion': None,\n",
       "  'ElectionYear': None,\n",
       "  'ElectionName': None,\n",
       "  'Status': 'Active',\n",
       "  'CommitteesSupport': None,\n",
       "  'CommitteesOppose': None,\n",
       "  'CommitteeName': 'Mainers for Health and Parental Rights',\n",
       "  'CommitteeType': 'Political Action Committee',\n",
       "  'TotalToSupport': 130787.82,\n",
       "  'TotalToOppose': 0.0,\n",
       "  'ElectionId': None,\n",
       "  'CommitteeId': 353083,\n",
       "  'SupportFlagStatus': 'Support',\n",
       "  'RowNumber': None,\n",
       "  'TotalRows': 5,\n",
       "  'BallotQuestionTypeId': None,\n",
       "  'ActiveFlag': 0},\n",
       " {'Title': None,\n",
       "  'BallotQuestionNumber': None,\n",
       "  'BallotQuestion': None,\n",
       "  'ElectionYear': None,\n",
       "  'ElectionName': None,\n",
       "  'Status': 'Active',\n",
       "  'CommitteesSupport': None,\n",
       "  'CommitteesOppose': None,\n",
       "  'CommitteeName': \"DON'T TREAD ON MAINE PAC\",\n",
       "  'CommitteeType': 'Political Action Committee',\n",
       "  'TotalToSupport': 100.0,\n",
       "  'TotalToOppose': 0.0,\n",
       "  'ElectionId': None,\n",
       "  'CommitteeId': 354202,\n",
       "  'SupportFlagStatus': 'Support',\n",
       "  'RowNumber': None,\n",
       "  'TotalRows': 5,\n",
       "  'BallotQuestionTypeId': None,\n",
       "  'ActiveFlag': 0},\n",
       " {'Title': None,\n",
       "  'BallotQuestionNumber': None,\n",
       "  'BallotQuestion': None,\n",
       "  'ElectionYear': None,\n",
       "  'ElectionName': None,\n",
       "  'Status': 'Active',\n",
       "  'CommitteesSupport': None,\n",
       "  'CommitteesOppose': None,\n",
       "  'CommitteeName': 'Maine Families for Vaccines PAC',\n",
       "  'CommitteeType': 'Political Action Committee',\n",
       "  'TotalToSupport': 0.0,\n",
       "  'TotalToOppose': 109311.85,\n",
       "  'ElectionId': None,\n",
       "  'CommitteeId': 354387,\n",
       "  'SupportFlagStatus': 'Oppose',\n",
       "  'RowNumber': None,\n",
       "  'TotalRows': 5,\n",
       "  'BallotQuestionTypeId': None,\n",
       "  'ActiveFlag': 0},\n",
       " {'Title': None,\n",
       "  'BallotQuestionNumber': None,\n",
       "  'BallotQuestion': None,\n",
       "  'ElectionYear': None,\n",
       "  'ElectionName': None,\n",
       "  'Status': 'Active',\n",
       "  'CommitteesSupport': None,\n",
       "  'CommitteesOppose': None,\n",
       "  'CommitteeName': 'Yes on 1 Maine to Reject Big Pharma',\n",
       "  'CommitteeType': 'Political Action Committee',\n",
       "  'TotalToSupport': 160522.0,\n",
       "  'TotalToOppose': 0.0,\n",
       "  'ElectionId': None,\n",
       "  'CommitteeId': 356082,\n",
       "  'SupportFlagStatus': 'Support',\n",
       "  'RowNumber': None,\n",
       "  'TotalRows': 5,\n",
       "  'BallotQuestionTypeId': None,\n",
       "  'ActiveFlag': 0},\n",
       " {'Title': None,\n",
       "  'BallotQuestionNumber': None,\n",
       "  'BallotQuestion': None,\n",
       "  'ElectionYear': None,\n",
       "  'ElectionName': None,\n",
       "  'Status': 'Active',\n",
       "  'CommitteesSupport': None,\n",
       "  'CommitteesOppose': None,\n",
       "  'CommitteeName': 'Maine Street Solutions - Protect Schools',\n",
       "  'CommitteeType': 'Ballot Question Committee',\n",
       "  'TotalToSupport': 0.0,\n",
       "  'TotalToOppose': 429651.0,\n",
       "  'ElectionId': None,\n",
       "  'CommitteeId': 356338,\n",
       "  'SupportFlagStatus': 'Oppose',\n",
       "  'RowNumber': None,\n",
       "  'TotalRows': 5,\n",
       "  'BallotQuestionTypeId': None,\n",
       "  'ActiveFlag': 0}]"
      ]
     },
     "execution_count": 54,
     "metadata": {},
     "output_type": "execute_result"
    }
   ],
   "source": [
    "#GET QUESTION ONE COMMITTEES#\n",
    "url='https://mainecampaignfinance.com/api///Organization/SearchAssociatedBallotQuestionCommittees'\n",
    "\n",
    "vax_dict = {\"BallotQuestionTypeId\":\"322\"\n",
    "            ,\"ElectionYear\":\"2020\"\n",
    "            ,\"pageNumber\":\"1\"\n",
    "            ,\"pageSize\":'10'\n",
    "            ,\"sortDir\":\"desc\"\n",
    "            ,\"sortedBy\":\"\"}\n",
    "\n",
    "r = s.post(url, data=json.dumps(vax_dict), headers=headers).json()\n",
    "\n",
    "df = json_normalize(r)\n",
    "\n",
    "with dw.open_remote_file('darrenfishell/2020-maine-state-campaign-finance','question-one-committees.csv') as w:\n",
    "    df.to_csv(w,index=False)"
   ]
  },
  {
   "cell_type": "code",
   "execution_count": 31,
   "metadata": {},
   "outputs": [],
   "source": [
    "# ##Loop through filenames##\n",
    "# with dw.open_remote_file('darrenfishell/2020-maine-state-campaign-finance',filenames[i]) as w:\n",
    "#         df.to_csv(w,index=False)"
   ]
  },
  {
   "cell_type": "code",
   "execution_count": null,
   "metadata": {},
   "outputs": [],
   "source": []
  }
 ],
 "metadata": {
  "kernelspec": {
   "display_name": "Python 3",
   "language": "python",
   "name": "python3"
  },
  "language_info": {
   "codemirror_mode": {
    "name": "ipython",
    "version": 3
   },
   "file_extension": ".py",
   "mimetype": "text/x-python",
   "name": "python",
   "nbconvert_exporter": "python",
   "pygments_lexer": "ipython3",
   "version": "3.6.9"
  }
 },
 "nbformat": 4,
 "nbformat_minor": 2
}
