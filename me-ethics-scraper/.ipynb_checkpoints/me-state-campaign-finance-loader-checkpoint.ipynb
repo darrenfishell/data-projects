{
 "cells": [
  {
   "cell_type": "code",
   "execution_count": 1,
   "metadata": {},
   "outputs": [],
   "source": [
    "import pandas as pd\n",
    "import requests\n",
    "import string\n",
    "import time\n",
    "import datadotworld as dw\n",
    "import os\n",
    "import json\n",
    "from io import StringIO"
   ]
  },
  {
   "cell_type": "code",
   "execution_count": 2,
   "metadata": {},
   "outputs": [],
   "source": [
    "##CONFIG.PY##\n",
    "\n",
    "#URL and session variables\n",
    "url = 'https://mainecampaignfinance.com/api///Search/TransactionSearchInformationExpExportToCSV'\n",
    "url_base = 'https://mainecampaignfinance.com'\n",
    "s = requests.Session()\n",
    "cookies = requests.cookies.RequestsCookieJar()\n",
    "\n",
    "#Can search multiple, comma-separated\n",
    "election_year = '2020'\n",
    "\n",
    "#Parameters for looping through search\n",
    "committee_types = {'candidate':'01'\n",
    "                  ,'bqc':'02'\n",
    "                  ,'pac':'03'\n",
    "                  ,'party-committee':'09'}\n",
    "\n",
    "transaction_types = {'contributions':'CON'\n",
    "                    ,'expenditures':'EXP'\n",
    "                    ,'independent-expenditures':'IE'}\n",
    "\n",
    "filenames = list(transaction_types.keys())\n",
    "\n",
    "#Data dictionary for query\n",
    "data = {\"CommitteeType\":\"01\"\n",
    "        ,\"ElectionYear\":election_year\n",
    "        ,\"pageNumber\":'1'\n",
    "        ,\"pageSize\":'2147483647' #Sets max responses from page (defaults to 10)\n",
    "        ,\"TransactionType\":\"CON\"\n",
    "        ,\"ValidationRequired\":'0'}\n",
    "\n",
    "#POST headers\n",
    "headers = {'Host':'mainecampaignfinance.com'\n",
    "            ,'Origin': url_base\n",
    "            ,'User-Agent': 'Mozilla/5.0 (Macintosh; Intel Mac OS X 10.14; rv:69.0) Gecko/20100101 Firefox/69.0'\n",
    "            ,'Accept': 'application/octet-stream'\n",
    "            ,'Accept-Language': 'en-US,en;q=0.5'\n",
    "            ,'Accept-Encoding': 'gzip, deflate, br'\n",
    "            ,'Referer':'https://mainecampaignfinance.com/'\n",
    "            ,'Content-Type': 'application/json;charset=utf-8'\n",
    "            ,'Connection': 'keep-alive'\n",
    "            ,'TE':'Trailers'\n",
    "            ,'Pragma': 'no-cache'\n",
    "            ,'Cache-Control': 'no-cache'}"
   ]
  },
  {
   "cell_type": "code",
   "execution_count": null,
   "metadata": {},
   "outputs": [],
   "source": [
    "r = s.post(url, data=json.dumps(data), headers=headers)\n",
    "\n",
    "df = pd.read_csv(io.StringIO(r.content.decode('utf-8')))\n",
    "\n"
   ]
  },
  {
   "cell_type": "code",
   "execution_count": null,
   "metadata": {},
   "outputs": [],
   "source": [
    "##Loop through filenames##\n",
    "\n",
    "with dw.open_remote_file('darrenfishell/2020-maine-state-campaign-finance',filenames[i]) as w:\n",
    "        df.to_csv(w,index=False)"
   ]
  },
  {
   "cell_type": "code",
   "execution_count": 51,
   "metadata": {},
   "outputs": [
    {
     "name": "stdout",
     "output_type": "stream",
     "text": [
      "Candidate 01\n",
      "PAC/BQC 02,03\n",
      "Party Committee 04\n"
     ]
    }
   ],
   "source": [
    "#How to loop through committee dict\n",
    "for k, v in committee_types.items():\n",
    "    print(k + ' ' + v)"
   ]
  },
  {
   "cell_type": "code",
   "execution_count": 16,
   "metadata": {},
   "outputs": [
    {
     "name": "stdout",
     "output_type": "stream",
     "text": [
      "contributions\n",
      "expenditures\n",
      "independent-expenditures\n"
     ]
    }
   ],
   "source": []
  },
  {
   "cell_type": "code",
   "execution_count": 17,
   "metadata": {},
   "outputs": [
    {
     "data": {
      "text/plain": [
       "'expenditures'"
      ]
     },
     "execution_count": 17,
     "metadata": {},
     "output_type": "execute_result"
    }
   ],
   "source": []
  },
  {
   "cell_type": "code",
   "execution_count": 56,
   "metadata": {},
   "outputs": [
    {
     "data": {
      "text/plain": [
       "618"
      ]
     },
     "execution_count": 56,
     "metadata": {},
     "output_type": "execute_result"
    }
   ],
   "source": [
    "#ID and variable to loop through alphabet\n",
    "data = {\"CommitteeType\":\"02\"\n",
    "        ,\"ElectionYear\":\"2018\"\n",
    "        ,\"pageNumber\":'1'\n",
    "        ,\"pageSize\":'2147483647' #Sets max responses from page (defaults to 10)\n",
    "        ,\"TransactionType\":\"CON\"\n",
    "        ,\"ValidationRequired\":'0'}\n",
    "\n",
    "#POST headers\n",
    "headers = {'Host':'mainecampaignfinance.com'\n",
    "            ,'Origin': url_base\n",
    "            ,'User-Agent': 'Mozilla/5.0 (Macintosh; Intel Mac OS X 10.14; rv:69.0) Gecko/20100101 Firefox/69.0'\n",
    "            ,'Accept': 'application/octet-stream'\n",
    "            ,'Accept-Language': 'en-US,en;q=0.5'\n",
    "            ,'Accept-Encoding': 'gzip, deflate, br'\n",
    "            ,'Referer':'https://mainecampaignfinance.com/'\n",
    "            ,'Content-Type': 'application/json;charset=utf-8'\n",
    "            ,'Connection': 'keep-alive'\n",
    "            ,'TE':'Trailers'\n",
    "            ,'Pragma': 'no-cache'\n",
    "            ,'Cache-Control': 'no-cache'}\n",
    "\n",
    "full = {'credentials':'include'\n",
    "       ,'headers':headers\n",
    "       ,'referrer':url_base\n",
    "       ,'body':data\n",
    "       ,'method':'POST'\n",
    "       ,'mode':'cors'\n",
    "       }\n",
    "\n",
    "r = s.post(url, data=json.dumps(data), headers=headers)\n",
    "\n",
    "df = pd.read_csv(io.StringIO(r.content.decode('utf-8')))\n",
    "\n",
    "len(df)"
   ]
  },
  {
   "cell_type": "code",
   "execution_count": null,
   "metadata": {},
   "outputs": [],
   "source": [
    "df.head()"
   ]
  }
 ],
 "metadata": {
  "kernelspec": {
   "display_name": "Python 3",
   "language": "python",
   "name": "python3"
  },
  "language_info": {
   "codemirror_mode": {
    "name": "ipython",
    "version": 3
   },
   "file_extension": ".py",
   "mimetype": "text/x-python",
   "name": "python",
   "nbconvert_exporter": "python",
   "pygments_lexer": "ipython3",
   "version": "3.6.9"
  }
 },
 "nbformat": 4,
 "nbformat_minor": 2
}
