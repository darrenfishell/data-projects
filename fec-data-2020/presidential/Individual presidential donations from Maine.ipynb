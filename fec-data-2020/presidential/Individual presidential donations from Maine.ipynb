{
 "cells": [
  {
   "cell_type": "code",
   "execution_count": 1,
   "metadata": {},
   "outputs": [],
   "source": [
    "import numpy as np\n",
    "import pandas as pd\n",
    "import requests\n",
    "import config\n",
    "import os\n",
    "import datadotworld as dw\n",
    "import json\n",
    "from pandas.io.json import json_normalize\n",
    "\n",
    "##Schedule_a API guide: https://api.open.fec.gov/developers/#/receipts/get_schedules_schedule_a_"
   ]
  },
  {
   "cell_type": "code",
   "execution_count": 11,
   "metadata": {},
   "outputs": [
    {
     "data": {
      "text/html": [
       "<div>\n",
       "<style scoped>\n",
       "    .dataframe tbody tr th:only-of-type {\n",
       "        vertical-align: middle;\n",
       "    }\n",
       "\n",
       "    .dataframe tbody tr th {\n",
       "        vertical-align: top;\n",
       "    }\n",
       "\n",
       "    .dataframe thead th {\n",
       "        text-align: right;\n",
       "    }\n",
       "</style>\n",
       "<table border=\"1\" class=\"dataframe\">\n",
       "  <thead>\n",
       "    <tr style=\"text-align: right;\">\n",
       "      <th></th>\n",
       "      <th>id</th>\n",
       "      <th>name</th>\n",
       "    </tr>\n",
       "  </thead>\n",
       "  <tbody>\n",
       "    <tr>\n",
       "      <th>0</th>\n",
       "      <td>C00401224</td>\n",
       "      <td>ACTBLUE</td>\n",
       "    </tr>\n",
       "    <tr>\n",
       "      <th>1</th>\n",
       "      <td>C00694323</td>\n",
       "      <td>WINRED</td>\n",
       "    </tr>\n",
       "  </tbody>\n",
       "</table>\n",
       "</div>"
      ],
      "text/plain": [
       "          id     name\n",
       "0  C00401224  ACTBLUE\n",
       "1  C00694323   WINRED"
      ]
     },
     "execution_count": 11,
     "metadata": {},
     "output_type": "execute_result"
    }
   ],
   "source": [
    "fec_key = config.api_key\n",
    "\n"
   ]
  },
  {
   "cell_type": "code",
   "execution_count": 12,
   "metadata": {},
   "outputs": [],
   "source": [
    "## MAINE DONATIONS TO PRESIDENTIAL CAMPAIGNS ##\n",
    "#Initialize dataframe collector for itemized contribs\n",
    "cycle='2020'\n",
    "dfs=[]\n",
    "id=int(0)\n",
    "\n",
    "#Initialize query dict\n",
    "querydict = {'per_page':'100'\n",
    "              ,'sort':'contribution_receipt_date'\n",
    "              ,'api_key':fec_key\n",
    "              ,'is_individual':'true'\n",
    "              ,'two_year_transaction_period':cycle\n",
    "              ,'recipient_committee_type':'P'\n",
    "              ,'contributor_state':'ME'\n",
    "              ,'last_index':[]\n",
    "              ,'last_contribution_receipt_date':[]\n",
    "             }\n",
    "\n",
    "r = requests.get('https://api.open.fec.gov/v1/schedules/schedule_a/',params=querydict).json()\n",
    "    \n",
    "#Last page variables\n",
    "while r['pagination']['last_indexes'] is not None:\n",
    "    \n",
    "    #Store results\n",
    "    df = json_normalize(r['results'])\n",
    "    dfs.append(df)\n",
    "    \n",
    "    #Declare and assign last date variables\n",
    "    last_index=pd.to_numeric(r['pagination']['last_indexes']['last_index'])\n",
    "    last_date=r['pagination']['last_indexes']['last_contribution_receipt_date']   \n",
    "    #Update dictionary with index dates\n",
    "    querydict.update([('last_index',last_index)\n",
    "                    ,('last_contribution_receipt_date',last_date)])\n",
    "    \n",
    "    #Get next payload\n",
    "    r = requests.get('https://api.open.fec.gov/v1/schedules/schedule_a/',params=querydict).json()\n",
    "\n",
    "# Concatenate all dfs\n",
    "itemdf=pd.concat(dfs,sort=False,ignore_index=True)\n",
    "itemdf=itemdf.drop_duplicates(subset='transaction_id')"
   ]
  },
  {
   "cell_type": "code",
   "execution_count": 13,
   "metadata": {},
   "outputs": [],
   "source": [
    "#Clean ZIPs\n",
    "def clean_contribs(df):\n",
    "    df['contributor_zip'] = df['contributor_zip'].str[:5]\n",
    "\n",
    "    #Filter out 00000, Nulls\n",
    "    df = df[(df['contributor_zip'].isnull()==False)\n",
    "                     & (df['contributor_zip']!='00000')]\n",
    "\n",
    "    #Filter ZIPs outside Maine (03 or 04 start)\n",
    "    df = df[(df['contributor_zip'].str[:2]=='03')\n",
    "                   | (df['contributor_zip'].str[:2]=='04')] \n",
    "\n",
    "clean_contribs(itemdf)"
   ]
  },
  {
   "cell_type": "code",
   "execution_count": 7,
   "metadata": {},
   "outputs": [],
   "source": [
    "#Write itemized individual results to local CSV\n",
    "cwd = os.getcwd()\n",
    "itemdf.to_csv(cwd+'/data/maine-presidential-donations.csv',index=False)"
   ]
  },
  {
   "cell_type": "code",
   "execution_count": 5,
   "metadata": {},
   "outputs": [],
   "source": [
    "#Write to data.world\n",
    "with dw.open_remote_file('darrenfishell/2020-election-repo','presidential-contributions-from-maine.csv') as w:\n",
    "    itemdf.to_csv(w,index=False)"
   ]
  },
  {
   "cell_type": "code",
   "execution_count": 6,
   "metadata": {},
   "outputs": [],
   "source": [
    "##COLLECT AND WRITE COMMITTEE LOOKUPS##"
   ]
  }
 ],
 "metadata": {
  "kernelspec": {
   "display_name": "Python 3",
   "language": "python",
   "name": "python3"
  },
  "language_info": {
   "codemirror_mode": {
    "name": "ipython",
    "version": 3
   },
   "file_extension": ".py",
   "mimetype": "text/x-python",
   "name": "python",
   "nbconvert_exporter": "python",
   "pygments_lexer": "ipython3",
   "version": "3.6.9"
  }
 },
 "nbformat": 4,
 "nbformat_minor": 2
}
