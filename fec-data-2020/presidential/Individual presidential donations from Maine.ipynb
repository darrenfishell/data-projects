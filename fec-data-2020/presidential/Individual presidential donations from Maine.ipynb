{
 "cells": [
  {
   "cell_type": "code",
   "execution_count": 1,
   "metadata": {},
   "outputs": [
    {
     "name": "stderr",
     "output_type": "stream",
     "text": [
      "Matplotlib is building the font cache using fc-list. This may take a moment.\n"
     ]
    }
   ],
   "source": [
    "import numpy as np\n",
    "import pandas as pd\n",
    "import requests\n",
    "import config\n",
    "import os\n",
    "import json\n",
    "from pandas.io.json import json_normalize\n",
    "import time\n",
    "\n",
    "##Schedule_a API guide: https://api.open.fec.gov/developers/#/receipts/get_schedules_schedule_a_"
   ]
  },
  {
   "cell_type": "code",
   "execution_count": 2,
   "metadata": {},
   "outputs": [],
   "source": [
    "## MAINE DONATIONS TO PRESIDENTIAL CAMPAIGNS ##\n",
    "#Initialize dataframe collector for itemized contribs\n",
    "cycle='2020'\n",
    "dfs=[]\n",
    "id=int(0)\n",
    "\n",
    "#Initialize query dict\n",
    "querydict = {'per_page':'100'\n",
    "              ,'sort':'contribution_receipt_date'\n",
    "              ,'api_key':config.api_key\n",
    "              ,'is_individual':'true'\n",
    "              ,'two_year_transaction_period':cycle\n",
    "              ,'recipient_committee_type':'P'\n",
    "              ,'contributor_state':'ME'\n",
    "              ,'last_index':[]\n",
    "              ,'last_contribution_receipt_date':[]\n",
    "             }\n",
    "\n",
    "r = requests.get('https://api.open.fec.gov/v1/schedules/schedule_a/',params=querydict).json()\n",
    "    \n",
    "#Last page variables\n",
    "while r['pagination']['last_indexes'] is not None:\n",
    "    \n",
    "    #Store results\n",
    "    df = json_normalize(r['results'])\n",
    "    dfs.append(df)\n",
    "    \n",
    "    #Declare and assign last date variables\n",
    "    last_index=pd.to_numeric(r['pagination']['last_indexes']['last_index'])\n",
    "    last_date=r['pagination']['last_indexes']['last_contribution_receipt_date']   \n",
    "    #Update dictionary with index dates\n",
    "    querydict.update([('last_index',last_index)\n",
    "                    ,('last_contribution_receipt_date',last_date)])\n",
    "    \n",
    "    #Get next payload\n",
    "    r = requests.get('https://api.open.fec.gov/v1/schedules/schedule_a/',params=querydict).json()"
   ]
  },
  {
   "cell_type": "code",
   "execution_count": 3,
   "metadata": {},
   "outputs": [],
   "source": [
    "# Concatenate all dfs\n",
    "itemdf=pd.concat(dfs,sort=False,ignore_index=True)\n",
    "itemdf=itemdf.drop_duplicates(subset='transaction_id')"
   ]
  },
  {
   "cell_type": "code",
   "execution_count": 4,
   "metadata": {},
   "outputs": [],
   "source": [
    "#Set ZIPs to 5 digits\n",
    "itemdf['contributor_zip'] = itemdf['contributor_zip'].str[:5]\n",
    "\n",
    "#Filter out 00000, Nulls\n",
    "itemdf = itemdf[(itemdf['contributor_zip'].isnull()==False)\n",
    "                 & (itemdf['contributor_zip']!='00000')]\n",
    "\n",
    "#Filter ZIPs outside Maine (03 or 04 start)\n",
    "itemdf = itemdf[(itemdf['contributor_zip'].str[:2]=='03')\n",
    "               | (itemdf['contributor_zip'].str[:2]=='04')] \n",
    "                "
   ]
  },
  {
   "cell_type": "code",
   "execution_count": 5,
   "metadata": {},
   "outputs": [],
   "source": [
    "#Write itemized individual results to local CSV\n",
    "cwd = os.getcwd()\n",
    "itemdf.to_csv(cwd+'/data/maine-presidential-donations.csv')"
   ]
  }
 ],
 "metadata": {
  "kernelspec": {
   "display_name": "Python 3",
   "language": "python",
   "name": "python3"
  },
  "language_info": {
   "codemirror_mode": {
    "name": "ipython",
    "version": 3
   },
   "file_extension": ".py",
   "mimetype": "text/x-python",
   "name": "python",
   "nbconvert_exporter": "python",
   "pygments_lexer": "ipython3",
   "version": "3.7.4"
  }
 },
 "nbformat": 4,
 "nbformat_minor": 2
}
