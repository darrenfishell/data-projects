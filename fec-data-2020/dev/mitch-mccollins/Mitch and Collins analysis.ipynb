{
 "cells": [
  {
   "cell_type": "code",
   "execution_count": 3,
   "metadata": {},
   "outputs": [],
   "source": [
    "import numpy as np\n",
    "import pandas as pd\n",
    "import requests\n",
    "import config\n",
    "import os\n",
    "import time\n",
    "import json\n",
    "from pandas.io.json import json_normalize\n",
    "\n",
    "##Schedule_a API guide: https://api.open.fec.gov/developers/#/receipts/get_schedules_schedule_a_"
   ]
  },
  {
   "cell_type": "code",
   "execution_count": 4,
   "metadata": {},
   "outputs": [
    {
     "data": {
      "text/plain": [
       "[  committee_id                 name party\n",
       " 0    C00314575  COLLINS FOR SENATOR   REP,\n",
       "   committee_id                        name party\n",
       " 0    C00193342  MCCONNELL SENATE COMMITTEE   REP\n",
       " 1    C00155051  MCCONNELL SENATE COMMITTEE   REP]"
      ]
     },
     "execution_count": 4,
     "metadata": {},
     "output_type": "execute_result"
    }
   ],
   "source": [
    "### MULTI-CANDIDATE SEARCH ###\n",
    "#Set search for all 2020 (two-year transaction period) Maine Congressional candidates\n",
    "fec_key = config.fec_key\n",
    "cand_name = ['COLLINS, SUSAN','MCCONNELL, MITCH']\n",
    "cycle='2020'\n",
    "\n",
    "#Initialize ID\n",
    "id=int(0)\n",
    "parameters = {'election_year':cycle\n",
    "            ,'q':cand_name[id]\n",
    "            ,'api_key':fec_key}\n",
    "\n",
    "#Initialize comm_ids\n",
    "cand_list=[]\n",
    "r_cands=[]\n",
    "\n",
    "for x in range(2):\n",
    "    \n",
    "    parameters.update(q=cand_name[id])\n",
    "    #Requests candidate info\n",
    "    r_cands = requests.get('https://api.open.fec.gov/v1/candidates/search',params=parameters).json()\n",
    "    \n",
    "    #Locates and sets Committee ID from 'principal_committees' sub-array\n",
    "    cand_list.append(json_normalize(data=r_cands['results'],record_path='principal_committees')[['committee_id','name','party']])\n",
    "    id=id+1\n",
    "    \n",
    "#Print list to validate\n",
    "cand_list"
   ]
  },
  {
   "cell_type": "code",
   "execution_count": 5,
   "metadata": {},
   "outputs": [
    {
     "data": {
      "text/plain": [
       "[0    C00314575\n",
       " Name: committee_id, dtype: object, 0    C00193342\n",
       " Name: committee_id, dtype: object]"
      ]
     },
     "execution_count": 5,
     "metadata": {},
     "output_type": "execute_result"
    }
   ],
   "source": [
    "#C00155051 refers to old McConnell campaign committee\n",
    "#Remove that item and reform list\n",
    "\n",
    "#Collins & McConnell joined\n",
    "comm_ids = [cand_list[0]['committee_id'],cand_list[1][0:1]['committee_id']]\n",
    "comm_ids"
   ]
  },
  {
   "cell_type": "code",
   "execution_count": 6,
   "metadata": {},
   "outputs": [
    {
     "name": "stdout",
     "output_type": "stream",
     "text": [
      "Job complete in: 19.326602935791016 seconds\n"
     ]
    }
   ],
   "source": [
    "start = time.time()\n",
    "## FOR LOOP TO COLLECT CONTRIBUTION RECORDS ##\n",
    "#Initialize dataframe collector for itemized contribs\n",
    "idfs=[]\n",
    "udfs=[]\n",
    "commid=0\n",
    "\n",
    "#Initialize query dictionary\n",
    "itemdict = {\n",
    "    'per_page':'100'\n",
    "    ,'sort':'contribution_receipt_date'\n",
    "    ,'api_key':fec_key\n",
    "    ,'two_year_transaction_period':cycle\n",
    "    ,'last_index':[]\n",
    "    ,'last_contribution_receipt_date':[]\n",
    "    ,'committee_id':comm_ids[commid]\n",
    "}\n",
    "\n",
    "#Page through results for each committee id\n",
    "for x in range(0,len(comm_ids)-1):\n",
    "\n",
    "    #Get first itemized payload for a candidate\n",
    "    r = requests.get('https://api.open.fec.gov/v1/schedules/schedule_a/',params=itemdict).json()\n",
    "    \n",
    "    #Last page variables\n",
    "    while r['pagination']['last_indexes'] is not None:\n",
    "        \n",
    "        #Store results of payload\n",
    "        idf = json_normalize(r['results'])\n",
    "        idfs.append(idf)\n",
    "                \n",
    "        #Assign last_index and date values, update itemdict\n",
    "        last_index=pd.to_numeric(r['pagination']['last_indexes']['last_index'])\n",
    "        last_date=r['pagination']['last_indexes']['last_contribution_receipt_date']\n",
    "        #Update dictionary with new indices\n",
    "        itemdict.update([('last_index',last_index)\n",
    "                        ,('last_contribution_receipt_date',last_date)])\n",
    "\n",
    "        #Get next payload with updated dict\n",
    "        r = requests.get('https://api.open.fec.gov/v1/schedules/schedule_a/',params=itemdict).json()\n",
    "    \n",
    "    commid+=1\n",
    "    \n",
    "    #Update dictionary with next candidate in list and reset last indices\n",
    "    itemdict.update([('committee_id',comm_ids[commid])\n",
    "                     ,('last_index',[])\n",
    "                     ,('last_contribution_receipt_date',[])])\n",
    "\n",
    "# Concatenate all dfs\n",
    "end = time.time()\n",
    "print('Job complete in: '+str(end-start)+' seconds')"
   ]
  },
  {
   "cell_type": "code",
   "execution_count": 7,
   "metadata": {},
   "outputs": [],
   "source": [
    "itemdf=pd.concat(idfs,sort=False,ignore_index=True)\n",
    "itemdf=itemdf.drop_duplicates(subset='transaction_id')"
   ]
  },
  {
   "cell_type": "code",
   "execution_count": 8,
   "metadata": {},
   "outputs": [
    {
     "data": {
      "text/plain": [
       "4336"
      ]
     },
     "execution_count": 8,
     "metadata": {},
     "output_type": "execute_result"
    }
   ],
   "source": [
    "len(itemdf.index)"
   ]
  },
  {
   "cell_type": "code",
   "execution_count": 11,
   "metadata": {},
   "outputs": [],
   "source": [
    "#Write itemized individual results to local CSV\n",
    "cwd = os.getcwd()\n",
    "itemdf.to_csv(cwd+'/data/collins-and-mitch-schedule-a.csv',index=None)"
   ]
  },
  {
   "cell_type": "code",
   "execution_count": 10,
   "metadata": {},
   "outputs": [],
   "source": [
    "# #Write itemized individual raw results to Google Sheet\n",
    "# cwd = os.getcwd()\n",
    "\n",
    "# #Google Credentials\n",
    "# gc = pygsheets.authorize(service_file=cwd+'/me-congress-2020-creds.json')\n",
    "\n",
    "# #Select sheet and worksheet\n",
    "# sh = gc.open('me-congress-2020')\n",
    "# #sh = gc.open_by_key('1AKrgHT9NLpoddV16B7_M_0PEjJmMQAGtXJUnLCTDHjA')\n",
    "# wks = sh[3]\n",
    "\n",
    "# #Clear sheet before load\n",
    "# wks.clear(start='A1',fields='*')\n",
    "\n",
    "# #Write contribs dataframe to sheet\n",
    "# wks.set_dataframe(itemdf,(1,1))"
   ]
  }
 ],
 "metadata": {
  "kernelspec": {
   "display_name": "Python 3",
   "language": "python",
   "name": "python3"
  },
  "language_info": {
   "codemirror_mode": {
    "name": "ipython",
    "version": 3
   },
   "file_extension": ".py",
   "mimetype": "text/x-python",
   "name": "python",
   "nbconvert_exporter": "python",
   "pygments_lexer": "ipython3",
   "version": "3.6.9"
  }
 },
 "nbformat": 4,
 "nbformat_minor": 2
}
