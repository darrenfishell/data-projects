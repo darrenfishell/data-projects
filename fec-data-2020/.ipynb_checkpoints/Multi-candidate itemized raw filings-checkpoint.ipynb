{
 "cells": [
  {
   "cell_type": "code",
   "execution_count": 2,
   "metadata": {},
   "outputs": [],
   "source": [
    "import numpy as np\n",
    "import pandas as pd\n",
    "import requests\n",
    "import config\n",
    "import os\n",
    "import json\n",
    "from pandas.io.json import json_normalize\n",
    "import pygsheets\n",
    "\n",
    "##Schedule_a API guide: https://api.open.fec.gov/developers/#/receipts/get_schedules_schedule_a_"
   ]
  },
  {
   "cell_type": "code",
   "execution_count": 3,
   "metadata": {},
   "outputs": [
    {
     "data": {
      "text/plain": [
       "['C00710087',\n",
       " 'C00314575',\n",
       " 'C00709899',\n",
       " 'C00653816',\n",
       " 'C00703413',\n",
       " 'C00706739',\n",
       " 'C00683193',\n",
       " 'C00433391',\n",
       " 'C00709279',\n",
       " 'C00694364']"
      ]
     },
     "execution_count": 3,
     "metadata": {},
     "output_type": "execute_result"
    }
   ],
   "source": [
    "### MULTI-CANDIDATE SEARCH ###\n",
    "#Set search for all 2020 (two-year transaction period) Maine Congressional candidates\n",
    "cand_state = 'ME'\n",
    "period='2020'\n",
    "parameters = {'election_year':period\n",
    "            ,'state':cand_state\n",
    "            ,'api_key':config.api_key}\n",
    "#To iterate over comm_ids\n",
    "id=int(0)\n",
    "\n",
    "#Requests candidate info\n",
    "r_cands = requests.get('https://api.open.fec.gov/v1/candidates/search',params=parameters).json()\n",
    "\n",
    "#Locates and sets Committee ID from 'principal_committees' sub-array\n",
    "#Output list of IDs\n",
    "comm_ids=json_normalize(data=r_cands['results'],record_path='principal_committees')['committee_id'].tolist()\n",
    "comm_ids"
   ]
  },
  {
   "cell_type": "code",
   "execution_count": 4,
   "metadata": {},
   "outputs": [
    {
     "name": "stdout",
     "output_type": "stream",
     "text": [
      "  committee_id                             name party\n",
      "0    C00710087         MICHAEL BUNKER FOR MAINE   DEM\n",
      "1    C00314575              COLLINS FOR SENATOR   REP\n",
      "2    C00709899            SARA GIDEON FOR MAINE   DEM\n",
      "3    C00653816  COMMITTEE TO ELECT JARED GOLDEN   DEM\n",
      "4    C00703413            FRIENDS OF BRE KIDMAN   DEM\n",
      "5    C00706739            DEREK FOR U.S. SENATE   REP\n",
      "6    C00683193      DR CAT LONDON FOR US SENATE   DEM\n",
      "7    C00433391             PINGREE FOR CONGRESS   DEM\n",
      "8    C00709279                 SWEET FOR SENATE   DEM\n",
      "9    C00694364   DANIELLE VANHELSING FOR SENATE   IND\n"
     ]
    }
   ],
   "source": [
    "#Print committee list to validate\n",
    "print(json_normalize(data=r_cands['results'],record_path='principal_committees')[['committee_id','name','party']])"
   ]
  },
  {
   "cell_type": "code",
   "execution_count": null,
   "metadata": {},
   "outputs": [
    {
     "name": "stdout",
     "output_type": "stream",
     "text": [
      "FOR\n",
      "FOR\n",
      "WHILE\n",
      "WHILE\n",
      "WHILE\n",
      "WHILE\n",
      "WHILE\n",
      "WHILE\n",
      "WHILE\n",
      "WHILE\n",
      "WHILE\n",
      "WHILE\n",
      "WHILE\n",
      "WHILE\n",
      "WHILE\n",
      "WHILE\n",
      "WHILE\n",
      "WHILE\n",
      "WHILE\n"
     ]
    }
   ],
   "source": [
    "#Initialize dataframe collector for itemized contribs\n",
    "dfs=[]\n",
    "id=int(0)\n",
    "p=int(1)\n",
    "    \n",
    "#Loop through pages\n",
    "for x in range(len(comm_ids)-1):\n",
    "    \n",
    "    querydict = {'per_page':'100'\n",
    "               ,'api_key':config.api_key\n",
    "               ,'committee_id':comm_ids[id]\n",
    "               ,'page':p\n",
    "               ,'sort_nulls_last':'false'\n",
    "               ,'sort':'-contribution_receipt_date'\n",
    "               ,'sort_hide_null':'false'\n",
    "                 }\n",
    "    \n",
    "    print('FOR')\n",
    "    #Reset page\n",
    "    p=int(1)\n",
    "    r = requests.get('https://api.open.fec.gov/v1/schedules/schedule_a/efile/',params=querydict).json()\n",
    "        \n",
    "    #Loop through pages\n",
    "    while p <= r['pagination']['pages']:\n",
    "\n",
    "        print('WHILE')\n",
    "\n",
    "        #Results rows\n",
    "        df = json_normalize(r['results'])\n",
    "        dfs.append(df)\n",
    "\n",
    "        p=p+1\n",
    "        r = requests.get('https://api.open.fec.gov/v1/schedules/schedule_a/efile/',params=querydict).json()\n",
    "\n",
    "    #Increment to next candidate\n",
    "    df = json_normalize(r['results'])\n",
    "    dfs.append(df)\n",
    "    id=id+1\n",
    "\n",
    "\n",
    "#Concatenate all dfs\n",
    "itemdf=pd.concat(dfs,sort=False)\n",
    "itemdf=itemdf.drop_duplicates(subset='committee_id')\n",
    "itemdf"
   ]
  },
  {
   "cell_type": "code",
   "execution_count": 18,
   "metadata": {},
   "outputs": [
    {
     "data": {
      "text/plain": [
       "9"
      ]
     },
     "execution_count": 18,
     "metadata": {},
     "output_type": "execute_result"
    }
   ],
   "source": []
  },
  {
   "cell_type": "code",
   "execution_count": null,
   "metadata": {},
   "outputs": [],
   "source": [
    "\n",
    "# #Itemized dataframe query\n",
    "# itemdf_c=itemdf[['committee.candidate_ids'\n",
    "#                 ,'committee.city'\n",
    "#                 ,'committee.committee_type_full'\n",
    "#                 ,'committee.cycle'\n",
    "#                 ,'committee.name'\n",
    "#                 ,'committee.party_full'\n",
    "#                 ,'committee.state_full'\n",
    "#                 ,'contribution_receipt_amount'\n",
    "#                 ,'contribution_receipt_date'\n",
    "#                 ,'contributor_aggregate_ytd'\n",
    "#                 ,'contributor_city'\n",
    "#                 ,'contributor_employer'\n",
    "#                 ,'contributor_first_name'\n",
    "#                 ,'contributor_last_name'\n",
    "#                 ,'contributor_name'\n",
    "#                 ,'contributor_occupation'\n",
    "#                 ,'contributor_state'\n",
    "#                 ,'contributor_street_1'\n",
    "#                 ,'contributor_zip'\n",
    "#                 ,'entity_type_desc'\n",
    "#                 ,'fec_election_type_desc'\n",
    "#                 ,'fec_election_year'\n",
    "#                 ,'line_number_label'\n",
    "#                 ,'load_date'\n",
    "#                 ,'pdf_url'\n",
    "#                 ,'transaction_id']]\n",
    "\n",
    "# itemdf_c"
   ]
  },
  {
   "cell_type": "code",
   "execution_count": null,
   "metadata": {},
   "outputs": [],
   "source": [
    "#Write itemized individual results to local CSV\n",
    "cwd = os.getcwd()\n",
    "itemdf.to_csv(cwd+'/maine-fed-raw-itemized-receipts.csv')"
   ]
  },
  {
   "cell_type": "code",
   "execution_count": null,
   "metadata": {},
   "outputs": [],
   "source": [
    "#Write itemized individual results to Google Sheet\n",
    "\n",
    "#Google Credentials\n",
    "gc = pygsheets.authorize(service_file=cwd+'/me-congress-2020-creds.json')\n",
    "\n",
    "#Select sheet and worksheet\n",
    "sh = gc.open('me-congress-2020')\n",
    "#sh = gc.open_by_key('1AKrgHT9NLpoddV16B7_M_0PEjJmMQAGtXJUnLCTDHjA')\n",
    "wks = sh[4]\n",
    "\n",
    "#Clear sheet before load\n",
    "wks.clear(start='A1',fields='*')\n",
    "\n",
    "#Write contribs dataframe to sheet\n",
    "wks.set_dataframe(itemdf_c,(1,1))"
   ]
  },
  {
   "cell_type": "code",
   "execution_count": null,
   "metadata": {},
   "outputs": [],
   "source": []
  }
 ],
 "metadata": {
  "kernelspec": {
   "display_name": "Python 3",
   "language": "python",
   "name": "python3"
  },
  "language_info": {
   "codemirror_mode": {
    "name": "ipython",
    "version": 3
   },
   "file_extension": ".py",
   "mimetype": "text/x-python",
   "name": "python",
   "nbconvert_exporter": "python",
   "pygments_lexer": "ipython3",
   "version": "3.6.4"
  }
 },
 "nbformat": 4,
 "nbformat_minor": 2
}
