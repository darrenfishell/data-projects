{
 "cells": [
  {
   "cell_type": "code",
   "execution_count": 129,
   "metadata": {},
   "outputs": [],
   "source": [
    "import numpy as np\n",
    "import pandas as pd\n",
    "import requests\n",
    "import config\n",
    "import os\n",
    "import json\n",
    "import math\n",
    "from pandas.io.json import json_normalize\n",
    "from copy import deepcopy\n",
    "\n",
    "##Schedule_a API guide: https://api.open.fec.gov/developers/#/receipts/get_schedules_schedule_a_"
   ]
  },
  {
   "cell_type": "code",
   "execution_count": 227,
   "metadata": {},
   "outputs": [
    {
     "data": {
      "text/plain": [
       "['C00710087',\n",
       " 'C00314575',\n",
       " 'C00709899',\n",
       " 'C00653816',\n",
       " 'C00703413',\n",
       " 'C00706739',\n",
       " 'C00683193',\n",
       " 'C00433391',\n",
       " 'C00709279',\n",
       " 'C00694364']"
      ]
     },
     "execution_count": 227,
     "metadata": {},
     "output_type": "execute_result"
    }
   ],
   "source": [
    "### MULTI-CANDIDATE SEARCH ###\n",
    "# DEVELOPING LOOP FOR CANDIDATE IDS #\n",
    "\n",
    "#Set search for all 2020 (two-year transaction period) Maine candidates\n",
    "cand_state = 'ME'\n",
    "period='2020'\n",
    "parameters = {'election_year':period\n",
    "            ,'state':cand_state\n",
    "            ,'api_key':config.api_key}\n",
    "#To iterate over comm_ids\n",
    "id=0\n",
    "#Change ID to an integer\n",
    "id=int(id)\n",
    "\n",
    "#Requests candidate info\n",
    "r_cands = requests.get('https://api.open.fec.gov/v1/candidates/search',params=parameters).json()\n",
    "r_cands\n",
    "\n",
    "#Locates and sets Committee ID from 'principal_committees' sub-array\n",
    "comm_ids=json_normalize(data=r_cands['results'],record_path='principal_committees')[['committee_id','name','party']]\n",
    "comm_ids=comm_ids['committee_id'].tolist()\n",
    "comm_ids"
   ]
  },
  {
   "cell_type": "code",
   "execution_count": 121,
   "metadata": {},
   "outputs": [],
   "source": [
    "#Initialize dataframe collector\n",
    "dfs=[]\n",
    "\n",
    "#Initialize last_index and last_date\n",
    "querydict = {'per_page':'100'\n",
    "              ,'committee_id':comm_ids['committee_id'][id]\n",
    "              ,'sort':'contribution_receipt_date'\n",
    "              ,'api_key':config.api_key\n",
    "              ,'is_individual':'true'\n",
    "              ,'two_year_transaction_period':period\n",
    "           }\n",
    "\n",
    "r = requests.get('https://api.open.fec.gov/v1/schedules/schedule_a/',params=querydict).json()\n",
    "\n",
    "#Results rows\n",
    "df = json_normalize(r['results'])\n",
    "dfs.append(df)"
   ]
  },
  {
   "cell_type": "code",
   "execution_count": 231,
   "metadata": {},
   "outputs": [],
   "source": [
    "#Last page variables\n",
    "if r['pagination']['last_indexes'] is None:\n",
    "    None\n",
    "    id=id+1\n",
    "else: \n",
    "    last_index=pd.to_numeric(r['pagination']['last_indexes']['last_index'])\n",
    "    last_date=r['pagination']['last_indexes']['last_contribution_receipt_date']"
   ]
  },
  {
   "cell_type": "code",
   "execution_count": 236,
   "metadata": {},
   "outputs": [
    {
     "name": "stdout",
     "output_type": "stream",
     "text": [
      "testing\n"
     ]
    },
    {
     "ename": "TypeError",
     "evalue": "list indices must be integers or slices, not str",
     "output_type": "error",
     "traceback": [
      "\u001b[0;31m---------------------------------------------------------------------------\u001b[0m",
      "\u001b[0;31mTypeError\u001b[0m                                 Traceback (most recent call last)",
      "\u001b[0;32m<ipython-input-236-385386ad9226>\u001b[0m in \u001b[0;36m<module>\u001b[0;34m\u001b[0m\n\u001b[1;32m      6\u001b[0m     \u001b[0;31m#Initialize query, without last_index and date\u001b[0m\u001b[0;34m\u001b[0m\u001b[0;34m\u001b[0m\u001b[0;34m\u001b[0m\u001b[0m\n\u001b[1;32m      7\u001b[0m     querydict = {'per_page':'100'\n\u001b[0;32m----> 8\u001b[0;31m               \u001b[0;34m,\u001b[0m\u001b[0;34m'committee_id'\u001b[0m\u001b[0;34m:\u001b[0m\u001b[0mcomm_ids\u001b[0m\u001b[0;34m[\u001b[0m\u001b[0;34m'committee_id'\u001b[0m\u001b[0;34m]\u001b[0m\u001b[0;34m[\u001b[0m\u001b[0mid\u001b[0m\u001b[0;34m]\u001b[0m\u001b[0;34m\u001b[0m\u001b[0;34m\u001b[0m\u001b[0m\n\u001b[0m\u001b[1;32m      9\u001b[0m               \u001b[0;34m,\u001b[0m\u001b[0;34m'sort'\u001b[0m\u001b[0;34m:\u001b[0m\u001b[0;34m'contribution_receipt_date'\u001b[0m\u001b[0;34m\u001b[0m\u001b[0;34m\u001b[0m\u001b[0m\n\u001b[1;32m     10\u001b[0m               \u001b[0;34m,\u001b[0m\u001b[0;34m'api_key'\u001b[0m\u001b[0;34m:\u001b[0m\u001b[0mconfig\u001b[0m\u001b[0;34m.\u001b[0m\u001b[0mapi_key\u001b[0m\u001b[0;34m\u001b[0m\u001b[0;34m\u001b[0m\u001b[0m\n",
      "\u001b[0;31mTypeError\u001b[0m: list indices must be integers or slices, not str"
     ]
    }
   ],
   "source": [
    "id=int(id)\n",
    "\n",
    "#Loop through pages\n",
    "for i in range(len(comm_ids[0])):\n",
    "    print('testing')\n",
    "    #Initialize query, without last_index and date\n",
    "    querydict = {'per_page':'100'\n",
    "              ,'committee_id':comm_ids['committee_id'][id]\n",
    "              ,'sort':'contribution_receipt_date'\n",
    "              ,'api_key':config.api_key\n",
    "              ,'is_individual':'true'\n",
    "              ,'two_year_transaction_period':period\n",
    "              ,'last_index':last_index\n",
    "              ,'last_contribution_receipt_date':last_date\n",
    "       }\n",
    "\n",
    "    r = requests.get('https://api.open.fec.gov/v1/schedules/schedule_a/',params=querydict).json()\n",
    "\n",
    "    #Results rows\n",
    "    df = json_normalize(r['results'])\n",
    "    dfs.append(df)\n",
    "\n",
    "    #Pagination variables\n",
    "    if r['pagination']['last_indexes'] is None:\n",
    "        #Avoids error, adds to index id\n",
    "        None\n",
    "        id=id+1\n",
    "    else: \n",
    "        last_index=pd.to_numeric(r['pagination']['last_indexes']['last_index'])\n",
    "        last_date=r['pagination']['last_indexes']['last_contribution_receipt_date']        \n",
    "\n",
    "    dfs.append(df)\n",
    "\n",
    "\n",
    "#Concatenate all dfs\n",
    "contribs=pd.concat(dfs,sort=True)\n",
    "contribs=contribs.drop_duplicates(subset='transaction_id')"
   ]
  },
  {
   "cell_type": "code",
   "execution_count": 230,
   "metadata": {},
   "outputs": [
    {
     "data": {
      "text/plain": [
       "{'api_version': '1.0',\n",
       " 'pagination': {'pages': 0, 'per_page': 100, 'count': 0, 'last_indexes': None},\n",
       " 'results': []}"
      ]
     },
     "execution_count": 230,
     "metadata": {},
     "output_type": "execute_result"
    }
   ],
   "source": []
  },
  {
   "cell_type": "code",
   "execution_count": 229,
   "metadata": {},
   "outputs": [
    {
     "data": {
      "text/plain": [
       "int"
      ]
     },
     "execution_count": 229,
     "metadata": {},
     "output_type": "execute_result"
    }
   ],
   "source": [
    "type(id)"
   ]
  },
  {
   "cell_type": "code",
   "execution_count": 89,
   "metadata": {},
   "outputs": [
    {
     "data": {
      "text/plain": [
       "0    C00710087\n",
       "1    C00314575\n",
       "2    C00709899\n",
       "3    C00653816\n",
       "4    C00703413\n",
       "5    C00706739\n",
       "6    C00683193\n",
       "7    C00433391\n",
       "8    C00709279\n",
       "9    C00694364\n",
       "Name: committee_id, dtype: object"
      ]
     },
     "execution_count": 89,
     "metadata": {},
     "output_type": "execute_result"
    }
   ],
   "source": [
    "comm_ids['committee_id']"
   ]
  },
  {
   "cell_type": "code",
   "execution_count": 458,
   "metadata": {},
   "outputs": [],
   "source": [
    "#Write itemized individual results to a CSV\n",
    "cwd = os.getcwd()\n",
    "contribs.to_csv(cwd+'/collins-itemized-receipts.csv')"
   ]
  }
 ],
 "metadata": {
  "kernelspec": {
   "display_name": "Python 3",
   "language": "python",
   "name": "python3"
  },
  "language_info": {
   "codemirror_mode": {
    "name": "ipython",
    "version": 3
   },
   "file_extension": ".py",
   "mimetype": "text/x-python",
   "name": "python",
   "nbconvert_exporter": "python",
   "pygments_lexer": "ipython3",
   "version": "3.7.3"
  }
 },
 "nbformat": 4,
 "nbformat_minor": 2
}
