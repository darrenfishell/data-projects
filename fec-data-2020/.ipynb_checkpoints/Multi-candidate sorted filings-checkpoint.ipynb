{
 "cells": [
  {
   "cell_type": "code",
   "execution_count": 4,
   "metadata": {},
   "outputs": [],
   "source": [
    "import numpy as np\n",
    "import pandas as pd\n",
    "import requests\n",
    "import config\n",
    "import os\n",
    "import json\n",
    "from pandas.io.json import json_normalize\n",
    "import pygsheets\n",
    "\n",
    "##Schedule_a API guide: https://api.open.fec.gov/developers/#/receipts/get_schedules_schedule_a_"
   ]
  },
  {
   "cell_type": "code",
   "execution_count": 31,
   "metadata": {},
   "outputs": [
    {
     "data": {
      "text/plain": [
       "['C00710087',\n",
       " 'C00314575',\n",
       " 'C00709899',\n",
       " 'C00653816',\n",
       " 'C00703413',\n",
       " 'C00706739',\n",
       " 'C00683193',\n",
       " 'C00433391',\n",
       " 'C00709279',\n",
       " 'C00694364']"
      ]
     },
     "execution_count": 31,
     "metadata": {},
     "output_type": "execute_result"
    }
   ],
   "source": [
    "### MULTI-CANDIDATE SEARCH ###\n",
    "#Set search for all 2020 (two-year transaction period) Maine Congressional candidates\n",
    "cand_state = 'ME'\n",
    "period='2020'\n",
    "parameters = {'election_year':period\n",
    "            ,'state':cand_state\n",
    "            ,'api_key':config.api_key}\n",
    "#To iterate over comm_ids\n",
    "id=int(0)\n",
    "\n",
    "#Requests candidate info\n",
    "r_cands = requests.get('https://api.open.fec.gov/v1/candidates/search',params=parameters).json()\n",
    "\n",
    "#Locates and sets Committee ID from 'principal_committees' sub-array\n",
    "#Output list of IDs\n",
    "comm_ids=json_normalize(data=r_cands['results'],record_path='principal_committees')['committee_id'].tolist()\n",
    "comm_ids"
   ]
  },
  {
   "cell_type": "code",
   "execution_count": 30,
   "metadata": {},
   "outputs": [
    {
     "name": "stdout",
     "output_type": "stream",
     "text": [
      "  committee_id                             name party\n",
      "0    C00710087         MICHAEL BUNKER FOR MAINE   DEM\n",
      "1    C00314575              COLLINS FOR SENATOR   REP\n",
      "2    C00709899            SARA GIDEON FOR MAINE   DEM\n",
      "3    C00653816  COMMITTEE TO ELECT JARED GOLDEN   DEM\n",
      "4    C00703413            FRIENDS OF BRE KIDMAN   DEM\n",
      "5    C00706739            DEREK FOR U.S. SENATE   REP\n",
      "6    C00683193      DR CAT LONDON FOR US SENATE   DEM\n",
      "7    C00433391             PINGREE FOR CONGRESS   DEM\n",
      "8    C00709279                 SWEET FOR SENATE   DEM\n",
      "9    C00694364   DANIELLE VANHELSING FOR SENATE   IND\n"
     ]
    }
   ],
   "source": [
    "#Print committee list to validate\n",
    "print(json_normalize(data=r_cands['results'],record_path='principal_committees')[['committee_id','name','party']])"
   ]
  },
  {
   "cell_type": "code",
   "execution_count": 19,
   "metadata": {},
   "outputs": [
    {
     "name": "stdout",
     "output_type": "stream",
     "text": [
      "FOR\n",
      "FOR\n",
      "WHILE\n",
      "WHILE\n",
      "WHILE\n",
      "WHILE\n",
      "WHILE\n",
      "WHILE\n",
      "WHILE\n",
      "WHILE\n",
      "FOR\n"
     ]
    }
   ],
   "source": [
    "#Initialize dataframe collector for itemized contribs\n",
    "dfs=[]\n",
    "id=int(0)\n",
    "\n",
    "#Loop through pages\n",
    "for x in range(len(comm_ids[0])):\n",
    "    \n",
    "# print('FOR')\n",
    "    #Initialize query dict\n",
    "    querydict = {'per_page':'100'\n",
    "                  ,'committee_id':comm_ids[id]\n",
    "                  ,'sort':'contribution_receipt_date'\n",
    "                  ,'api_key':config.api_key\n",
    "                  ,'is_individual':'true'\n",
    "                  ,'two_year_transaction_period':period\n",
    "                 }\n",
    "\n",
    "    r = requests.get('https://api.open.fec.gov/v1/schedules/schedule_a/',params=querydict).json()\n",
    "    \n",
    "    #Results rows\n",
    "    df = json_normalize(r['results'])\n",
    "    dfs.append(df)\n",
    "    \n",
    "    #Last page variables\n",
    "    if r['pagination']['last_indexes'] is None:\n",
    "        None\n",
    "        if id<len(comm_ids[0]):\n",
    "                id=id+1\n",
    "        else:\n",
    "            break\n",
    "    else: \n",
    "        last_index=pd.to_numeric(r['pagination']['last_indexes']['last_index'])\n",
    "        last_date=r['pagination']['last_indexes']['last_contribution_receipt_date']\n",
    "        \n",
    "        #Loop through pages\n",
    "        while id<len(comm_ids[0]):\n",
    "\n",
    "#print('WHILE')\n",
    "\n",
    "            #Initialize query, without last_index and date\n",
    "            querydict.update([('last_index',last_index)\n",
    "                            ,('last_contribution_receipt_date',last_date)])\n",
    "\n",
    "            r = requests.get('https://api.open.fec.gov/v1/schedules/schedule_a/',params=querydict).json()\n",
    "\n",
    "            #Results rows\n",
    "            df = json_normalize(r['results'])\n",
    "            dfs.append(df)\n",
    "\n",
    "            #Update Pagination variables\n",
    "            last_index=pd.to_numeric(r['pagination']['last_indexes']['last_index'])\n",
    "            last_date=r['pagination']['last_indexes']['last_contribution_receipt_date']        \n",
    "            dfs.append(df)\n",
    "            \n",
    "            #Increment to max ID in list\n",
    "            if id<len(comm_ids[0]):\n",
    "                id=id+1\n",
    "            else:\n",
    "                break\n",
    "\n",
    "#Concatenate all dfs\n",
    "itemdf=pd.concat(dfs,sort=False)\n",
    "itemdf=itemdf.drop_duplicates(subset='transaction_id')"
   ]
  },
  {
   "cell_type": "code",
   "execution_count": 8,
   "metadata": {},
   "outputs": [],
   "source": [
    "# #Write itemized individual results to local CSV\n",
    "# cwd = os.getcwd()\n",
    "# itemdf.to_csv(cwd+'/maine-fed-itemized-receipts.csv')"
   ]
  },
  {
   "cell_type": "code",
   "execution_count": 57,
   "metadata": {},
   "outputs": [],
   "source": [
    "#Write itemized individual results to Google Sheet\n",
    "\n",
    "#Google Credentials\n",
    "gc = pygsheets.authorize(service_file=cwd+'/me-congress-2020-creds.json')\n",
    "\n",
    "#Select sheet and worksheet\n",
    "sh = gc.open('me-congress-2020')\n",
    "#sh = gc.open_by_key('1AKrgHT9NLpoddV16B7_M_0PEjJmMQAGtXJUnLCTDHjA')\n",
    "wks = sh[0]\n",
    "\n",
    "#Clear sheet before load\n",
    "wks.clear(start='A1',fields='*')\n",
    "\n",
    "#Write contribs dataframe to sheet\n",
    "wks.set_dataframe(itemdf,(1,1))"
   ]
  },
  {
   "cell_type": "code",
   "execution_count": 128,
   "metadata": {},
   "outputs": [
    {
     "data": {
      "text/plain": [
       "1"
      ]
     },
     "execution_count": 128,
     "metadata": {},
     "output_type": "execute_result"
    }
   ],
   "source": [
    "#Initialize summary stat query\n",
    "p=int(1)\n",
    "\n",
    "querydict_u = {'per_page':'20'\n",
    "               ,'api_key':config.api_key\n",
    "               ,'cycle':'2020'\n",
    "               ,'page':p\n",
    "               ,'sort_nulls_last':'false'\n",
    "               ,'sort':'-cycle'\n",
    "               ,'sort_hide_null':'false'\n",
    "                 }\n",
    "p"
   ]
  },
  {
   "cell_type": "code",
   "execution_count": 139,
   "metadata": {},
   "outputs": [
    {
     "name": "stdout",
     "output_type": "stream",
     "text": [
      "FOR\n",
      "FOR\n",
      "FOR\n",
      "FOR\n",
      "FOR\n",
      "FOR\n",
      "FOR\n",
      "FOR\n",
      "FOR\n"
     ]
    }
   ],
   "source": [
    "#New dfs collector\n",
    "dfs_u=[]\n",
    "id_u=int(0)\n",
    "\n",
    "#Loop through pages\n",
    "for x in range(len(comm_ids[0])):\n",
    "    \n",
    "    print('FOR')\n",
    "\n",
    "    r_u = requests.get('https://api.open.fec.gov/v1/committee/'+comm_ids[id_u]+'/totals/',params=querydict_u).json()\n",
    "\n",
    "    #Loop through pages\n",
    "    while r_u['pagination']['pages'] >= 1 and r_u['pagination']['page'] > 1:\n",
    "\n",
    "        print('WHILE')\n",
    "\n",
    "        #Results rows\n",
    "        df_u = json_normalize(r['results'])\n",
    "        dfs_u.append(df_u)\n",
    "        \n",
    "        p=p+1\n",
    "        querydict.update({'page':p})\n",
    "        r_u = requests.get('https://api.open.fec.gov/v1/committee/'+comm_ids[id_u]+'/totals/',params=querydict_u).json()\n",
    "\n",
    "    #Increment to next candidate\n",
    "    df_u = json_normalize(r['results'])\n",
    "    dfs_u.append(df_u)\n",
    "    id_u=id_u+1\n",
    "        \n",
    "\n",
    "    #Concatenate all dfs\n",
    "    unitemdf=pd.concat(dfs_u,sort=False)\n",
    "    unitemdf=unitemdf.drop_duplicates(subset='transaction_id')\n",
    "    unitemdf"
   ]
  },
  {
   "cell_type": "code",
   "execution_count": 140,
   "metadata": {},
   "outputs": [
    {
     "data": {
      "text/plain": [
       "{'api_version': '1.0',\n",
       " 'pagination': {'count': 0, 'page': 1, 'pages': 0, 'per_page': 20},\n",
       " 'results': []}"
      ]
     },
     "execution_count": 140,
     "metadata": {},
     "output_type": "execute_result"
    }
   ],
   "source": [
    "r_u"
   ]
  },
  {
   "cell_type": "code",
   "execution_count": 141,
   "metadata": {},
   "outputs": [],
   "source": [
    "#Write itemized individual results to Google Sheet\n",
    "\n",
    "#Google Credentials\n",
    "gc = pygsheets.authorize(service_file=cwd+'/me-congress-2020-creds.json')\n",
    "\n",
    "#Select sheet and worksheet\n",
    "sh = gc.open('me-congress-2020')\n",
    "#sh = gc.open_by_key('1AKrgHT9NLpoddV16B7_M_0PEjJmMQAGtXJUnLCTDHjA')\n",
    "wks_u = sh[1]\n",
    "\n",
    "#Clear sheet before load\n",
    "wks_u.clear(start='A1',fields='*')\n",
    "\n",
    "#Write contribs dataframe to sheet\n",
    "wks_u.set_dataframe(unitemdf,(1,1))"
   ]
  }
 ],
 "metadata": {
  "kernelspec": {
   "display_name": "Python 3",
   "language": "python",
   "name": "python3"
  },
  "language_info": {
   "codemirror_mode": {
    "name": "ipython",
    "version": 3
   },
   "file_extension": ".py",
   "mimetype": "text/x-python",
   "name": "python",
   "nbconvert_exporter": "python",
   "pygments_lexer": "ipython3",
   "version": "3.6.4"
  }
 },
 "nbformat": 4,
 "nbformat_minor": 2
}
