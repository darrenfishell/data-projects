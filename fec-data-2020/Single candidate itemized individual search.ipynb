{
 "cells": [
  {
   "cell_type": "code",
   "execution_count": 460,
   "metadata": {},
   "outputs": [],
   "source": [
    "import numpy as np\n",
    "import pandas as pd\n",
    "import requests\n",
    "import config\n",
    "import os\n",
    "import json\n",
    "import time\n",
    "from pandas.io.json import json_normalize\n",
    "from copy import deepcopy\n",
    "\n",
    "##Schedule_a API guide: https://api.open.fec.gov/developers/#/receipts/get_schedules_schedule_a_"
   ]
  },
  {
   "cell_type": "code",
   "execution_count": 461,
   "metadata": {},
   "outputs": [
    {
     "data": {
      "text/html": [
       "<div>\n",
       "<style scoped>\n",
       "    .dataframe tbody tr th:only-of-type {\n",
       "        vertical-align: middle;\n",
       "    }\n",
       "\n",
       "    .dataframe tbody tr th {\n",
       "        vertical-align: top;\n",
       "    }\n",
       "\n",
       "    .dataframe thead th {\n",
       "        text-align: right;\n",
       "    }\n",
       "</style>\n",
       "<table border=\"1\" class=\"dataframe\">\n",
       "  <thead>\n",
       "    <tr style=\"text-align: right;\">\n",
       "      <th></th>\n",
       "      <th>committee_id</th>\n",
       "      <th>name</th>\n",
       "      <th>party</th>\n",
       "    </tr>\n",
       "  </thead>\n",
       "  <tbody>\n",
       "    <tr>\n",
       "      <th>0</th>\n",
       "      <td>C00314575</td>\n",
       "      <td>COLLINS FOR SENATOR</td>\n",
       "      <td>REP</td>\n",
       "    </tr>\n",
       "  </tbody>\n",
       "</table>\n",
       "</div>"
      ],
      "text/plain": [
       "  committee_id                 name party\n",
       "0    C00314575  COLLINS FOR SENATOR   REP"
      ]
     },
     "execution_count": 461,
     "metadata": {},
     "output_type": "execute_result"
    }
   ],
   "source": [
    "### SINGLE-CANDIDATE SEARCH ###\n",
    "\n",
    "#Set search for all 2020 (two-year transaction period) Maine candidates\n",
    "cand_name = 'COLLINS, SUSAN M'\n",
    "period='2020'\n",
    "parameters = {'q':cand_name\n",
    "            ,'api_key':config.api_key}\n",
    "#Requests candidate info\n",
    "r_cand = requests.get('https://api.open.fec.gov/v1/candidates/search',params=parameters).json()\n",
    "\n",
    "#Locates and sets Committee ID from 'principal_committees' sub-array\n",
    "comm_id=json_normalize(data=r_cand['results'],record_path='principal_committees')[['committee_id','name','party']]\n",
    "comm_id"
   ]
  },
  {
   "cell_type": "code",
   "execution_count": 462,
   "metadata": {},
   "outputs": [],
   "source": [
    "#Initialize dataframe collector\n",
    "dfs=[]\n",
    "\n",
    "#Initialize last_index and last_date\n",
    "querydict = {'per_page':'100'\n",
    "              ,'committee_id':comm_id['committee_id']\n",
    "              ,'sort':'contribution_receipt_date'\n",
    "              ,'api_key':config.api_key\n",
    "              ,'is_individual':'true'\n",
    "              ,'two_year_transaction_period':period\n",
    "       }\n",
    "\n",
    "r = requests.get('https://api.open.fec.gov/v1/schedules/schedule_a/',params=querydict).json()\n",
    "\n",
    "#Results rows\n",
    "df = json_normalize(r['results'])\n",
    "dfs.append(df)\n",
    "\n",
    "#Last page variables\n",
    "last_index=pd.to_numeric(r['pagination']['last_indexes']['last_index'])\n",
    "last_date=r['pagination']['last_indexes']['last_contribution_receipt_date']\n",
    "\n",
    "#Loop through pages\n",
    "while r['pagination']['last_indexes'] is not None:\n",
    "\n",
    "    #Initialize query, without last_index and date\n",
    "    querydict = {'per_page':'100'\n",
    "              ,'committee_id':comm_id['committee_id']\n",
    "              ,'sort':'contribution_receipt_date'\n",
    "              ,'api_key':config.api_key\n",
    "              ,'is_individual':'true'\n",
    "              ,'two_year_transaction_period':period\n",
    "              ,'last_index':last_index\n",
    "              ,'last_contribution_receipt_date':last_date\n",
    "       }\n",
    "    \n",
    "    r = requests.get('https://api.open.fec.gov/v1/schedules/schedule_a/',params=querydict).json()\n",
    "\n",
    "    #Results rows\n",
    "    df = json_normalize(r['results'])\n",
    "    dfs.append(df)\n",
    "\n",
    "    #Pagination variables\n",
    "    if r['pagination']['last_indexes'] is None:\n",
    "        None\n",
    "    else: \n",
    "        last_index=pd.to_numeric(r['pagination']['last_indexes']['last_index'])\n",
    "        last_date=r['pagination']['last_indexes']['last_contribution_receipt_date']        \n",
    "\n",
    "    dfs.append(df)\n",
    "\n",
    "\n",
    "#Concatenate all dfs\n",
    "contribs=pd.concat(dfs,sort=True)\n",
    "\n",
    "#Drop duplicate transactions\n",
    "contribs=contribs.drop_duplicates(subset='transaction_id')"
   ]
  },
  {
   "cell_type": "code",
   "execution_count": 463,
   "metadata": {},
   "outputs": [],
   "source": [
    "#Write itemized individual results to a CSV\n",
    "cwd = os.getcwd()\n",
    "contribs.to_csv(cwd+'/collins-itemized-receipts.csv')"
   ]
  }
 ],
 "metadata": {
  "kernelspec": {
   "display_name": "Python 3",
   "language": "python",
   "name": "python3"
  },
  "language_info": {
   "codemirror_mode": {
    "name": "ipython",
    "version": 3
   },
   "file_extension": ".py",
   "mimetype": "text/x-python",
   "name": "python",
   "nbconvert_exporter": "python",
   "pygments_lexer": "ipython3",
   "version": "3.7.3"
  }
 },
 "nbformat": 4,
 "nbformat_minor": 2
}
