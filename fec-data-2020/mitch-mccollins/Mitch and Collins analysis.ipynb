{
 "cells": [
  {
   "cell_type": "code",
   "execution_count": 6,
   "metadata": {},
   "outputs": [],
   "source": [
    "import numpy as np\n",
    "import pandas as pd\n",
    "import requests\n",
    "import config\n",
    "import os\n",
    "import json\n",
    "from pandas.io.json import json_normalize\n",
    "import pygsheets\n",
    "\n",
    "##Schedule_a API guide: https://api.open.fec.gov/developers/#/receipts/get_schedules_schedule_a_"
   ]
  },
  {
   "cell_type": "code",
   "execution_count": 21,
   "metadata": {},
   "outputs": [
    {
     "ename": "IndexError",
     "evalue": "list index out of range",
     "output_type": "error",
     "traceback": [
      "\u001b[0;31m---------------------------------------------------------------------------\u001b[0m",
      "\u001b[0;31mIndexError\u001b[0m                                Traceback (most recent call last)",
      "\u001b[0;32m<ipython-input-21-040f48747332>\u001b[0m in \u001b[0;36m<module>\u001b[0;34m()\u001b[0m\n\u001b[1;32m     21\u001b[0m     \u001b[0;31m#Locates and sets Committee ID from 'principal_committees' sub-array\u001b[0m\u001b[0;34m\u001b[0m\u001b[0;34m\u001b[0m\u001b[0m\n\u001b[1;32m     22\u001b[0m     \u001b[0mcomm_ids\u001b[0m\u001b[0;34m.\u001b[0m\u001b[0mappend\u001b[0m\u001b[0;34m(\u001b[0m\u001b[0mjson_normalize\u001b[0m\u001b[0;34m(\u001b[0m\u001b[0mdata\u001b[0m\u001b[0;34m=\u001b[0m\u001b[0mr_cands\u001b[0m\u001b[0;34m[\u001b[0m\u001b[0;34m'results'\u001b[0m\u001b[0;34m]\u001b[0m\u001b[0;34m,\u001b[0m\u001b[0mrecord_path\u001b[0m\u001b[0;34m=\u001b[0m\u001b[0;34m'principal_committees'\u001b[0m\u001b[0;34m)\u001b[0m\u001b[0;34m[\u001b[0m\u001b[0;34m'committee_id'\u001b[0m\u001b[0;34m]\u001b[0m\u001b[0;34m.\u001b[0m\u001b[0mtolist\u001b[0m\u001b[0;34m(\u001b[0m\u001b[0;34m)\u001b[0m\u001b[0;34m)\u001b[0m\u001b[0;34m\u001b[0m\u001b[0m\n\u001b[0;32m---> 23\u001b[0;31m     \u001b[0mparameters\u001b[0m\u001b[0;34m.\u001b[0m\u001b[0mupdate\u001b[0m\u001b[0;34m(\u001b[0m\u001b[0mq\u001b[0m\u001b[0;34m=\u001b[0m\u001b[0mcand_name\u001b[0m\u001b[0;34m[\u001b[0m\u001b[0mid\u001b[0m\u001b[0;34m]\u001b[0m\u001b[0;34m)\u001b[0m\u001b[0;34m\u001b[0m\u001b[0m\n\u001b[0m\u001b[1;32m     24\u001b[0m \u001b[0;34m\u001b[0m\u001b[0m\n\u001b[1;32m     25\u001b[0m \u001b[0mcomm_ids\u001b[0m\u001b[0;34m\u001b[0m\u001b[0m\n",
      "\u001b[0;31mIndexError\u001b[0m: list index out of range"
     ]
    }
   ],
   "source": [
    "### MULTI-CANDIDATE SEARCH ###\n",
    "#Set search for all 2020 (two-year transaction period) Maine Congressional candidates\n",
    "cand_name = ['COLLINS, SUSAN','MCCONNELL, MITCH']\n",
    "period='2020'\n",
    "\n",
    "#Initialize ID\n",
    "id=int(0)\n",
    "parameters = {'election_year':period\n",
    "            ,'q':cand_name[id]\n",
    "            ,'api_key':config.api_key}\n",
    "\n",
    "#Initialize comm_ids\n",
    "comm_ids=[]\n",
    "\n",
    "for x in cand_name:\n",
    "    \n",
    "    #Requests candidate info\n",
    "    r_cands = requests.get('https://api.open.fec.gov/v1/candidates/search',params=parameters).json()\n",
    "\n",
    "    #Locates and sets Committee ID from 'principal_committees' sub-array\n",
    "    comm_ids.append(json_normalize(data=r_cands['results'],record_path='principal_committees')['committee_id'].tolist())\n",
    "    parameters.update(q=cand_name[id])\n",
    "    id=id+1\n",
    "    \n",
    "comm_ids"
   ]
  },
  {
   "cell_type": "code",
   "execution_count": 23,
   "metadata": {},
   "outputs": [
    {
     "data": {
      "text/plain": [
       "True"
      ]
     },
     "execution_count": 23,
     "metadata": {},
     "output_type": "execute_result"
    }
   ],
   "source": [
    "cand_name"
   ]
  },
  {
   "cell_type": "code",
   "execution_count": null,
   "metadata": {},
   "outputs": [],
   "source": [
    "#Print committee list to validate\n",
    "cand_list=json_normalize(data=r_cands['results'],record_path='principal_committees')[['committee_id','name','party']]\n",
    "print(cand_list)"
   ]
  },
  {
   "cell_type": "code",
   "execution_count": null,
   "metadata": {},
   "outputs": [],
   "source": [
    "#Initialize dataframe collector for itemized contribs\n",
    "dfs=[]\n",
    "id=int(0)\n",
    "p=int(1)\n",
    "    \n",
    "#Loop through pages\n",
    "for x in range(len(comm_ids)-1):\n",
    "    \n",
    "    #Print out candidate\n",
    "    print(cand_list.iloc[id]['name'])\n",
    "    \n",
    "    querydict = {'per_page':'100'\n",
    "                ,'api_key':config.api_key\n",
    "                ,'committee_id':comm_ids[id]\n",
    "                ,'page':p\n",
    "                ,'sort_nulls_last':'false'\n",
    "                ,'sort':'-contribution_receipt_date'\n",
    "                ,'sort_hide_null':'false'\n",
    "                }\n",
    "    \n",
    "    r = requests.get('https://api.open.fec.gov/v1/schedules/schedule_a/efile/',params=querydict).json()\n",
    "    \n",
    "    #Loop through pages\n",
    "    while p <= r['pagination']['pages']:\n",
    "        \n",
    "        print('page: '+str(p)+','+str(r['pagination']['per_page'])+' records')\n",
    "        \n",
    "        querydict.update(page=p)\n",
    "        #Pull new results\n",
    "        r = requests.get('https://api.open.fec.gov/v1/schedules/schedule_a/efile/',params=querydict).json()\n",
    "        \n",
    "        #Add results to dataframe\n",
    "        df = json_normalize(r['results'])\n",
    "        dfs.append(df)\n",
    "        p=p+1\n",
    "    \n",
    "    #Reset to page 1\n",
    "    p=int(1)\n",
    "    #Increment to next candidate\n",
    "    id=id+1\n",
    "\n",
    "print('Job Complete')"
   ]
  },
  {
   "cell_type": "code",
   "execution_count": null,
   "metadata": {},
   "outputs": [],
   "source": [
    "itemdf=pd.concat(dfs,sort=False)\n",
    "itemdf=itemdf.drop_duplicates(subset='transaction_id')\n",
    "itemdf"
   ]
  },
  {
   "cell_type": "code",
   "execution_count": null,
   "metadata": {},
   "outputs": [],
   "source": [
    "#Itemized dataframe query\n",
    "itemdf=itemdf[[\n",
    "                'committee.city'\n",
    "                ,'committee.committee_id'\n",
    "                ,'committee.committee_type_full'\n",
    "                ,'committee.cycle'\n",
    "                ,'committee.name'\n",
    "                ,'committee.party_full'\n",
    "                ,'committee.state_full'\n",
    "                ,'contribution_receipt_amount'\n",
    "                ,'contribution_receipt_date'\n",
    "                ,'contributor_aggregate_ytd'\n",
    "                ,'contributor_city'\n",
    "                ,'contributor_employer'\n",
    "                ,'contributor_first_name'\n",
    "                ,'contributor_last_name'\n",
    "                ,'contributor_name'\n",
    "                ,'cycle'\n",
    "                ,'contributor_occupation'\n",
    "                ,'contributor_state'\n",
    "                ,'contributor_zip'\n",
    "                ,'entity_type'\n",
    "                ,'filing.coverage_end_date'\n",
    "                ,'filing.coverage_start_date'\n",
    "                ,'filing.filed_date'\n",
    "                ,'filing.is_amended'\n",
    "                ,'fec_election_type_desc'\n",
    "                ,'memo_text'\n",
    "                ,'filing.pdf_url'\n",
    "                ,'transaction_id']]\n",
    "len(itemdf.index)"
   ]
  },
  {
   "cell_type": "code",
   "execution_count": null,
   "metadata": {},
   "outputs": [],
   "source": [
    "#Write itemized individual results to local CSV\n",
    "cwd = os.getcwd()\n",
    "itemdf.to_csv(cwd+'/data/maine-fed-raw-itemized-receipts.csv')"
   ]
  },
  {
   "cell_type": "code",
   "execution_count": null,
   "metadata": {},
   "outputs": [],
   "source": [
    "#Write itemized individual raw results to Google Sheet\n",
    "cwd = os.getcwd()\n",
    "\n",
    "#Google Credentials\n",
    "gc = pygsheets.authorize(service_file=cwd+'/me-congress-2020-creds.json')\n",
    "\n",
    "#Select sheet and worksheet\n",
    "sh = gc.open('me-congress-2020')\n",
    "#sh = gc.open_by_key('1AKrgHT9NLpoddV16B7_M_0PEjJmMQAGtXJUnLCTDHjA')\n",
    "wks = sh[3]\n",
    "\n",
    "#Clear sheet before load\n",
    "wks.clear(start='A1',fields='*')\n",
    "\n",
    "#Write contribs dataframe to sheet\n",
    "wks.set_dataframe(itemdf,(1,1))"
   ]
  }
 ],
 "metadata": {
  "kernelspec": {
   "display_name": "Python 3",
   "language": "python",
   "name": "python3"
  },
  "language_info": {
   "codemirror_mode": {
    "name": "ipython",
    "version": 3
   },
   "file_extension": ".py",
   "mimetype": "text/x-python",
   "name": "python",
   "nbconvert_exporter": "python",
   "pygments_lexer": "ipython3",
   "version": "3.6.4"
  }
 },
 "nbformat": 4,
 "nbformat_minor": 2
}
