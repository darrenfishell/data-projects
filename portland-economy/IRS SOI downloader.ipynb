{
 "cells": [
  {
   "cell_type": "code",
   "execution_count": 3,
   "metadata": {},
   "outputs": [],
   "source": [
    "import pandas as pd\n",
    "import requests\n",
    "import datadotworld as dw\n",
    "import os\n",
    "from scrapy import Selector"
   ]
  },
  {
   "cell_type": "code",
   "execution_count": 22,
   "metadata": {},
   "outputs": [
    {
     "data": {
      "text/plain": [
       "['https://www.irs.gov/pub/irs-soi/zipcode2001.zip',\n",
       " 'https://www.irs.gov/pub/irs-soi/zipcode2002.zip',\n",
       " 'https://www.irs.gov/pub/irs-soi/zipcode2003.zip',\n",
       " 'https://www.irs.gov/pub/irs-soi/zipcode2004.zip',\n",
       " 'https://www.irs.gov/pub/irs-soi/zipcode2005.zip',\n",
       " 'https://www.irs.gov/pub/irs-soi/zipcode2006.zip',\n",
       " 'https://www.irs.gov/pub/irs-soi/zipcode2007.zip',\n",
       " 'https://www.irs.gov/pub/irs-soi/zipcode2008.zip',\n",
       " 'https://www.irs.gov/pub/irs-soi/zipcode2009.zip',\n",
       " 'https://www.irs.gov/pub/irs-soi/zipcode2010.zip',\n",
       " 'https://www.irs.gov/pub/irs-soi/zipcode2011.zip',\n",
       " 'https://www.irs.gov/pub/irs-soi/zipcode2012.zip',\n",
       " 'https://www.irs.gov/pub/irs-soi/zipcode2013.zip',\n",
       " 'https://www.irs.gov/pub/irs-soi/zipcode2014.zip',\n",
       " 'https://www.irs.gov/pub/irs-soi/zipcode2015.zip',\n",
       " 'https://www.irs.gov/pub/irs-soi/zipcode2016.zip',\n",
       " 'https://www.irs.gov/pub/irs-soi/zipcode2017.zip']"
      ]
     },
     "execution_count": 22,
     "metadata": {},
     "output_type": "execute_result"
    }
   ],
   "source": [
    "startyear=2001\n",
    "endyear=2017\n",
    "\n",
    "#Create list for start and end year + 1\n",
    "years = list(range(startyear,endyear+1))\n",
    "\n",
    "\n",
    "#Loop to create list of ZIP links\n",
    "i=0\n",
    "zip_urls=[]\n",
    "\n",
    "for i in range(0,len(years)): \n",
    "    \n",
    "    zip_urls.append('https://www.irs.gov/pub/irs-soi/zipcode'+str(years[i])+'.zip')\n",
    "    i+=1\n",
    "\n",
    "zip_urls"
   ]
  },
  {
   "cell_type": "code",
   "execution_count": 10,
   "metadata": {},
   "outputs": [],
   "source": [
    "#Annual file\n",
    "q_a = qcew[qcew['Period Type']=='Annual']\n",
    "\n",
    "#Quarterly file\n",
    "q_q = qcew[qcew['Period Type']=='Quarterly']"
   ]
  },
  {
   "cell_type": "code",
   "execution_count": 12,
   "metadata": {},
   "outputs": [],
   "source": [
    "#Write quarterly file\n",
    "with dw.open_remote_file('darrenfishell/maine-qcew','quarterly-city-town-qcew.csv') as w:\n",
    "    q_q.to_csv(w,index=False)\n",
    "\n",
    "#Write annual file\n",
    "with dw.open_remote_file('darrenfishell/maine-qcew','annual-city-town-qcew.csv') as w:\n",
    "    q_a.to_csv(w,index=False)"
   ]
  }
 ],
 "metadata": {
  "kernelspec": {
   "display_name": "Python 3",
   "language": "python",
   "name": "python3"
  },
  "language_info": {
   "codemirror_mode": {
    "name": "ipython",
    "version": 3
   },
   "file_extension": ".py",
   "mimetype": "text/x-python",
   "name": "python",
   "nbconvert_exporter": "python",
   "pygments_lexer": "ipython3",
   "version": "3.6.9"
  }
 },
 "nbformat": 4,
 "nbformat_minor": 2
}
