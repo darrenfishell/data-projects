{
 "cells": [
  {
   "cell_type": "code",
   "execution_count": 1,
   "metadata": {},
   "outputs": [],
   "source": [
    "import pandas as pd\n",
    "import requests\n",
    "from scrapy import Selector\n",
    "from lxml import html\n",
    "from lxml import etree"
   ]
  },
  {
   "cell_type": "code",
   "execution_count": 112,
   "metadata": {},
   "outputs": [],
   "source": [
    "#Read in business names and links, scraped manually by searching SoS site\n",
    "df = pd.read_csv('biz_names_and_real_links.csv')"
   ]
  },
  {
   "cell_type": "code",
   "execution_count": 334,
   "metadata": {},
   "outputs": [
    {
     "ename": "TypeError",
     "evalue": "unsupported operand type(s) for +: 'NoneType' and 'NoneType'",
     "output_type": "error",
     "traceback": [
      "\u001b[0;31m---------------------------------------------------------------------------\u001b[0m",
      "\u001b[0;31mTypeError\u001b[0m                                 Traceback (most recent call last)",
      "\u001b[0;32m<ipython-input-334-52f145599bdd>\u001b[0m in \u001b[0;36m<module>\u001b[0;34m()\u001b[0m\n\u001b[1;32m     24\u001b[0m         \u001b[0;32mif\u001b[0m \u001b[0msel\u001b[0m\u001b[0;34m.\u001b[0m\u001b[0mxpath\u001b[0m\u001b[0;34m(\u001b[0m\u001b[0;34m'//table[1]/tr[9]/td[1]/text()[preceding-sibling::br and following::br]'\u001b[0m\u001b[0;34m)\u001b[0m\u001b[0;34m.\u001b[0m\u001b[0mget\u001b[0m\u001b[0;34m(\u001b[0m\u001b[0;34m)\u001b[0m \u001b[0;32mis\u001b[0m \u001b[0;32mNone\u001b[0m\u001b[0;34m:\u001b[0m\u001b[0;34m\u001b[0m\u001b[0m\n\u001b[1;32m     25\u001b[0m             address.append(sel.xpath('//table[1]/tr[11]/td[1]/text()[preceding-sibling::br and following::br]').get()\n\u001b[0;32m---> 26\u001b[0;31m                            +sel.xpath('//table[1]/tr[11]/td[1]/text()[last()]').get())\n\u001b[0m\u001b[1;32m     27\u001b[0m         \u001b[0;32melse\u001b[0m\u001b[0;34m:\u001b[0m\u001b[0;34m\u001b[0m\u001b[0m\n\u001b[1;32m     28\u001b[0m             address.append(sel.xpath('//table[1]/tr[9]/td[1]/text()[preceding-sibling::br and following::br]').get() \n",
      "\u001b[0;31mTypeError\u001b[0m: unsupported operand type(s) for +: 'NoneType' and 'NoneType'"
     ]
    }
   ],
   "source": [
    "#Loops to append values to separate lists\n",
    "#All are to be concatenated into a dataframe after FOR loops\n",
    "#If statements account for differences in SoS page structure\n",
    "\n",
    "#Initialize lists to hold scraped variables\n",
    "status=[]\n",
    "org_type=[]\n",
    "address=[]\n",
    "\n",
    "id=0\n",
    "for x in df['real_urls']:\n",
    "\n",
    "    sel = Selector(text = requests.get(df['real_urls'][id]).content)\n",
    "    \n",
    "    if df['Type'][id] == 'MARK':\n",
    "        status.append(sel.xpath('//table[1]/tr[5]/td[2]/text()').get())\n",
    "        org_type.append(sel.xpath('//table[1]/tr[7]/td[5]/text()').get())\n",
    "        address.append(sel.xpath('//table[1]/tr/td[1]/text()[preceding-sibling::br and following::br]').get() \n",
    "        + sel.xpath('//table[1]/tr[9]/td[1]/text()[last()]').get())\n",
    "                        \n",
    "    else: \n",
    "        status.append(sel.xpath('//table[1]/tr[5]/td[4]/text()').get())\n",
    "        org_type.append(sel.xpath('//table[1]/tr[5]/td[3]/text()').get())\n",
    "        if sel.xpath('//table[1]/tr[9]/td[1]/text()[preceding-sibling::br and following::br]').get() is None:\n",
    "            address.append(sel.xpath('//table[1]/tr[11]/td[1]/text()[preceding-sibling::br and following::br]').get()\n",
    "                           +sel.xpath('//table[1]/tr[11]/td[1]/text()[last()]').get())\n",
    "        else:\n",
    "            address.append(sel.xpath('//table[1]/tr[9]/td[1]/text()[preceding-sibling::br and following::br]').get() \n",
    "                           +sel.xpath('//table[1]/tr[9]/td[1]/text()[last()]').get())\n",
    "    id+=1\n",
    "\n",
    "#Make lists to dataframe and concatenate with df\n",
    "all_biz = pd.concat([df,pd.DataFrame({'status':status\n",
    "                                      ,'owner/org_type':org_type\n",
    "                                      ,'address':address})], axis=1)\n",
    "all_biz"
   ]
  },
  {
   "cell_type": "code",
   "execution_count": 335,
   "metadata": {},
   "outputs": [
    {
     "data": {
      "text/plain": [
       "4"
      ]
     },
     "execution_count": 335,
     "metadata": {},
     "output_type": "execute_result"
    }
   ],
   "source": [
    "#OUTPUT SANDBOX\n",
    "id"
   ]
  },
  {
   "cell_type": "code",
   "execution_count": 473,
   "metadata": {},
   "outputs": [
    {
     "name": "stdout",
     "output_type": "stream",
     "text": [
      "Status: EXPIRED\n",
      "Owner Type: PARTNERSHIP\n",
      "Filing Date: 07/30/2007\n",
      "Owner Name: \n",
      "\t\t\t\t\t\t\t\t\n",
      "\t\t\t\t\t\t\t\t\tKEVIN A. WARD\n",
      "Owner Address: PAMELA J. WARD \n",
      "NORRIDGEWOCK, ME 04957 \n",
      "\t\t\t\t\t\t\t\t\n",
      "\t\t\t\t\t\t\t\t\n"
     ]
    }
   ],
   "source": [
    "selm = Selector(text = requests.get('https://icrs.informe.org/nei-sos-icrs/ICRS?MarkSumm=20080031+M').content)\n",
    "\n",
    "##MARK VALUES\n",
    "#Mark STATUS XPath\n",
    "print('Status: ' + selm.xpath('//table[1]/tr[5]/td[2]/text()').get()\n",
    ")\n",
    "\n",
    "#Mark OWNER XPath\n",
    "print('Owner Type: ' + selm.xpath('//table[1]/tr[7]/td[5]/text()').get()\n",
    ")\n",
    "\n",
    "#Mark FILING DATE XPath\n",
    "print('Filing Date: ' + selm.xpath('//table[1]/tr[7]/td[2]/text()').get()\n",
    ")\n",
    "\n",
    "#OWNER NAME\n",
    "print('Owner Name: ' + selm.xpath('//table[1]/tr/td[1]/text()[following-sibling::br]').get()\n",
    ")\n",
    "\n",
    "#OWNER ADDRESS\n",
    "print('Owner Address: ' + selm.xpath('//table[1]/tr/td[1]/text()[preceding-sibling::br and following::br]').get() \n",
    "      + selm.xpath('//table[1]/tr[9]/td[1]/text()[last()]').get()\n",
    ")\n",
    "\n",
    "#//div[@id=\"population\"]/text()[preceding-sibling::br and following-sibling::br]"
   ]
  },
  {
   "cell_type": "code",
   "execution_count": null,
   "metadata": {},
   "outputs": [],
   "source": [
    "#LEGAL/ASSUMED XPaths\n",
    "seld = Selector(text = requests.get('https://icrs.informe.org/nei-sos-icrs/ICRS?CorpSumm=19840005+D').content)\n",
    "\n",
    "#Legal STATUS XPath \n",
    "print('Status: ' + seld.xpath('//table[1]/tr[5]/td[4]').get()\n",
    ")\n",
    "\n",
    "#Legal FILING TYPE XPath\n",
    "print('Owner Type: ' + seld.xpath('//table[1]/tr[5]/td[3]').get()\n",
    ")\n",
    "\n",
    "#Legal ADDRESS XPath\n",
    "print(seld.xpath('//table//b[contains(text(),\"Clerk\")]//ancestor::tr[1]/following::tr[1]/td/text()[following::br][position()>1]')\n",
    "                #tbody/tr[3]/td/table/tbody/tr[11]/td\n",
    "                .extract())"
   ]
  },
  {
   "cell_type": "code",
   "execution_count": 322,
   "metadata": {},
   "outputs": [],
   "source": [
    "#IF LOGIC SANDBOX\n",
    "selx = Selector(text = requests.get('https://icrs.informe.org/nei-sos-icrs/ICRS?CorpSumm=20121980DC').content)\n",
    "\n",
    "if selx.xpath('//table[1]/tr[9]/td[1]/text()[preceding-sibling::br and following::br]').get() is None: \n",
    "    selx.xpath('//table[1]/tr[12]/td[1]/text()[preceding-sibling::br and following::br]').get() + selx.xpath('//table[1]/tr[12]/td[1]/text()[last()]').get()\n",
    "else:\n",
    "    selx.xpath('//table[1]/tr[9]/td[1]/text()[preceding-sibling::br and following::br]').get() + selx.xpath('//table[1]/tr[9]/td[1]/text()[last()]').get()"
   ]
  },
  {
   "cell_type": "code",
   "execution_count": 459,
   "metadata": {},
   "outputs": [
    {
     "name": "stdout",
     "output_type": "stream",
     "text": [
      "['123 FREE STREET', '  SUITE 200', '\\n PORTLAND, ME 04101 \\n\\t\\t\\t\\t\\t\\t\\t\\t\\n\\t\\t\\t\\t\\t\\t\\t\\t']\n"
     ]
    }
   ],
   "source": [
    "#XPATH SANDBOX\n",
    "selx = Selector(text = requests.get('https://icrs.informe.org/nei-sos-icrs/ICRS?CorpSumm=20121980DC').content)\n",
    "print(sel.xpath('//table//b[contains(text(),\"Clerk\")]//ancestor::tr[1]/following::tr[1]/td/text()[following::br][position()>1]')\n",
    "                #tbody/tr[3]/td/table/tbody/tr[11]/td\n",
    "                .extract())\n"
   ]
  }
 ],
 "metadata": {
  "kernelspec": {
   "display_name": "Python 3",
   "language": "python",
   "name": "python3"
  },
  "language_info": {
   "codemirror_mode": {
    "name": "ipython",
    "version": 3
   },
   "file_extension": ".py",
   "mimetype": "text/x-python",
   "name": "python",
   "nbconvert_exporter": "python",
   "pygments_lexer": "ipython3",
   "version": "3.6.4"
  }
 },
 "nbformat": 4,
 "nbformat_minor": 2
}
