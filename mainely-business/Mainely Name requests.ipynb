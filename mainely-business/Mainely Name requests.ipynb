{
 "cells": [
  {
   "cell_type": "code",
   "execution_count": 23,
   "metadata": {},
   "outputs": [
    {
     "data": {
      "text/plain": [
       "'<!-- BEGIN_TEMPLATE:result_search.html:BEGIN_TEMPLATE-->\\n<html>\\n\\n\\t<head>\\n\\t\\t<meta http-equiv=\"content-type\" content=\"text/html;charset=iso-8859-1\">\\n\\t\\t<title>Search Corporate Names</title>\\n\\t</head>\\n\\n\\t<body bgcolor=\"white\">\\n\\t\\t<form method=\"post\" action=\"/nei-sos-icrs/ICRS\">\\n\\t\\t<center>\\n\\t\\t\\t<table border=\"0\" cellpadding=\"0\" cellspacing=\"2\" width=\"577\">\\n\\t\\t\\t\\t<tr>\\n\\t\\t\\t\\t\\t<td><img src=\"https://icrs.informe.org/nei-sos-icrs/images/headcec.jpg\" height=\"120\" width=\"577\"></td>\\n\\t\\t\\t\\t</tr>\\n\\t\\t\\t\\t<tr>\\n\\t\\t\\t\\t\\t<td bgcolor=\"#000099\"><a href=\"/nei-sos-icrs/ICRS\"><img src=\"https://icrs.informe.org/nei-sos-icrs/images/corpname.gif\" height=\"18\" width=\"162\" border=0></a></td>\\n\\t\\t\\t\\t</tr>\\n\\t\\t\\t\\t<tr>\\n\\t\\t\\t\\t\\t<td>\\n\\t\\t\\t\\t\\t\\t<table border=\"0\" cellpadding=\"6\" cellspacing=\"2\" width=\"100%\">\\n\\t\\t\\t\\t\\t\\t\\t<tr>\\n\\t\\t\\t\\t\\t\\t\\t\\t<td colspan=\"4\" bgcolor=\"#000099\"><font face=\"Arial\" color=\"white\" size=\"5\"><b>Search Results</b></font></td>\\n\\t\\t\\t\\t\\t\\t\\t</tr>\\n\\t\\t\\t\\t\\t\\t\\t<tr>\\n\\t\\t\\t\\t\\t\\t\\t\\t\\n\\t\\t\\t\\t\\t\\t\\t\\t<td colspan=\"2\" width=\"30%\"></td>\\n\\t\\t\\t\\t\\t\\t\\t\\t<td colspan=\"2\" align=\"right\"><a href=\"/nei-sos-icrs/ICRS?Info\"><font size=\"2\" face=\"Arial,Helvetica\">Search tips and key to abbreviations</font></a></td>\\n\\t\\t\\t\\t\\t\\t\\t</tr>\\n\\t\\t\\t\\t\\t\\t\\t\\n\\t\\t\\t\\t\\t\\t\\t\\t\\n\\t\\t\\t\\t\\t\\t\\t\\n\\t\\t\\t\\t\\t\\t\\t<tr>\\n\\t\\t\\t\\t\\t\\t\\t\\t<td colspan=\"4\" bgcolor=\"#d3d3d3\"><font face=\"Arial,Helvetica,Geneva,Swiss,SunSans-Regular\"><b> Found 34 entities for query: Mainely A in category ALL CATEGORIES</b></font></td>\\n\\t\\t\\t\\t\\t\\t\\t</tr>\\n                                                          <tr>\\n                                                            <td colspan=\"4\" bgcolor=\"#d3d3d3\"></td>\\n                                                          </tr>\\n\\n\\t\\t\\t\\t\\t\\t\\t<tr>\\n\\t\\t\\t\\t\\t\\t\\t\\t<td bgcolor=\"#d3d3d3\" width=\"1%\">&nbsp;</td>\\n\\t\\t\\t\\t\\t\\t\\t\\t<td bgcolor=\"#d3d3d3\" ><font face=\"Arial,Helvetica,Geneva,Swiss,SunSans-Regular\"><b>Entity</b></font></td>\\n\\t\\t\\t\\t\\t\\t\\t\\t<td nowrap bgcolor=\"#d3d3d3\" width=\"1%\" ><font face=\"Arial,Helvetica,Geneva,Swiss,SunSans-Regular\"><b>Name Type</b></font></td>\\n\\t\\t\\t\\t\\t\\t\\t\\t<td bgcolor=\"#d3d3d3\" width=\"5%\" nowrap> &nbsp;</td>\\n\\t\\t\\t\\t\\t\\t\\t</tr>\\n\\t\\t\\t\\t\\t\\n\\t\\t\\t\\t\\t\\t\\t\\t<tr bgcolor=\"#f4f4f4\"><td align=right><font face=\"Arial,Helvetica\">1</font></td><td><font face=\"Arial,Helvetica\">MAINE-LY A STITCH IN TIME</font></td><td><font face=\"Arial,Helvetica\">MARK</font></td><td><font face=\"Arial,Helvetica\"><a href=\"/nei-sos-icrs/ICRS?MarkSumm=19930285+M\">Information Summary</a></font></td></tr><tr bgcolor=\"#efefef\"><td align=right><font face=\"Arial,Helvetica\">2</font></td><td><font face=\"Arial,Helvetica\">MAINE-LY ACCOUNTING INCORPORATED</font></td><td><font face=\"Arial,Helvetica\">LEGAL</font></td><td><font face=\"Arial,Helvetica\"><a href=\"/nei-sos-icrs/ICRS?CorpSumm=19840005+D\">Information Summary</a></font></td></tr><tr bgcolor=\"#f4f4f4\"><td align=right><font face=\"Arial,Helvetica\">3</font></td><td><font face=\"Arial,Helvetica\">MAINE-LY ACTION RENTALS, INC.</font></td><td><font face=\"Arial,Helvetica\">LEGAL</font></td><td><font face=\"Arial,Helvetica\"><a href=\"/nei-sos-icrs/ICRS?CorpSumm=20121068+D\">Information Summary</a></font></td></tr><tr bgcolor=\"#efefef\"><td align=right><font face=\"Arial,Helvetica\">4</font></td><td><font face=\"Arial,Helvetica\">MAINE-LY AIRBORNE LLC</font></td><td><font face=\"Arial,Helvetica\">LEGAL</font></td><td><font face=\"Arial,Helvetica\"><a href=\"/nei-sos-icrs/ICRS?CorpSumm=20121980DC\">Information Summary</a></font></td></tr><tr bgcolor=\"#f4f4f4\"><td align=right><font face=\"Arial,Helvetica\">5</font></td><td><font face=\"Arial,Helvetica\">MAINE-LY AMISH</font></td><td><font face=\"Arial,Helvetica\">ASSUMED</font></td><td><font face=\"Arial,Helvetica\"><a href=\"/nei-sos-icrs/ICRS?CorpSumm=19992093+D\">Information Summary</a></font></td></tr><tr bgcolor=\"#efefef\"><td align=right><font face=\"Arial,Helvetica\">6</font></td><td><font face=\"Arial,Helvetica\">MAINE-LY APPLES</font></td><td><font face=\"Arial,Helvetica\">LEGAL</font></td><td><font face=\"Arial,Helvetica\"><a href=\"/nei-sos-icrs/ICRS?CorpSumm=20090861+D\">Information Summary</a></font></td></tr><tr bgcolor=\"#f4f4f4\"><td align=right><font face=\"Arial,Helvetica\">7</font></td><td><font face=\"Arial,Helvetica\">MAINE-LY AQUARIUMS, LLC</font></td><td><font face=\"Arial,Helvetica\">LEGAL</font></td><td><font face=\"Arial,Helvetica\"><a href=\"/nei-sos-icrs/ICRS?CorpSumm=20163555DC\">Information Summary</a></font></td></tr><tr bgcolor=\"#efefef\"><td align=right><font face=\"Arial,Helvetica\">8</font></td><td><font face=\"Arial,Helvetica\">MAINE-LY ASIAN IMPORTS INC.</font></td><td><font face=\"Arial,Helvetica\">LEGAL</font></td><td><font face=\"Arial,Helvetica\"><a href=\"/nei-sos-icrs/ICRS?CorpSumm=19902305+D\">Information Summary</a></font></td></tr><tr bgcolor=\"#f4f4f4\"><td align=right><font face=\"Arial,Helvetica\">9</font></td><td><font face=\"Arial,Helvetica\">MAINELY A MEMORY</font></td><td><font face=\"Arial,Helvetica\">ASSUMED</font></td><td><font face=\"Arial,Helvetica\"><a href=\"/nei-sos-icrs/ICRS?CorpSumm=20082548DC\">Information Summary</a></font></td></tr><tr bgcolor=\"#efefef\"><td align=right><font face=\"Arial,Helvetica\">10</font></td><td><font face=\"Arial,Helvetica\">MAINELY ABODES, L.L.C.</font></td><td><font face=\"Arial,Helvetica\">LEGAL</font></td><td><font face=\"Arial,Helvetica\"><a href=\"/nei-sos-icrs/ICRS?CorpSumm=20032358DC\">Information Summary</a></font></td></tr><tr bgcolor=\"#f4f4f4\"><td align=right><font face=\"Arial,Helvetica\">11</font></td><td><font face=\"Arial,Helvetica\">MAINELY ACCESS, INC.</font></td><td><font face=\"Arial,Helvetica\">LEGAL</font></td><td><font face=\"Arial,Helvetica\"><a href=\"/nei-sos-icrs/ICRS?CorpSumm=20042486+D\">Information Summary</a></font></td></tr><tr bgcolor=\"#efefef\"><td align=right><font face=\"Arial,Helvetica\">12</font></td><td><font face=\"Arial,Helvetica\">MAINELY ACCOUNTABLE, LLC</font></td><td><font face=\"Arial,Helvetica\">LEGAL</font></td><td><font face=\"Arial,Helvetica\"><a href=\"/nei-sos-icrs/ICRS?CorpSumm=20194302DC\">Information Summary</a></font></td></tr><tr bgcolor=\"#f4f4f4\"><td align=right><font face=\"Arial,Helvetica\">13</font></td><td><font face=\"Arial,Helvetica\">MAINELY ACQUISITIONS, LLC.</font></td><td><font face=\"Arial,Helvetica\">LEGAL</font></td><td><font face=\"Arial,Helvetica\"><a href=\"/nei-sos-icrs/ICRS?CorpSumm=20165652DC\">Information Summary</a></font></td></tr><tr bgcolor=\"#efefef\"><td align=right><font face=\"Arial,Helvetica\">14</font></td><td><font face=\"Arial,Helvetica\">MAINELY ACUPUNCTURE, L.L.C.</font></td><td><font face=\"Arial,Helvetica\">LEGAL</font></td><td><font face=\"Arial,Helvetica\"><a href=\"/nei-sos-icrs/ICRS?CorpSumm=20180969DC\">Information Summary</a></font></td></tr><tr bgcolor=\"#f4f4f4\"><td align=right><font face=\"Arial,Helvetica\">15</font></td><td><font face=\"Arial,Helvetica\">MAINELY ADVENTURES GUIDE SERVICE</font></td><td><font face=\"Arial,Helvetica\">MARK</font></td><td><font face=\"Arial,Helvetica\"><a href=\"/nei-sos-icrs/ICRS?MarkSumm=20080031+M\">Information Summary</a></font></td></tr><tr bgcolor=\"#efefef\"><td align=right><font face=\"Arial,Helvetica\">16</font></td><td><font face=\"Arial,Helvetica\">MAINELY ADVENTURES LODGE, LLC</font></td><td><font face=\"Arial,Helvetica\">LEGAL</font></td><td><font face=\"Arial,Helvetica\"><a href=\"/nei-sos-icrs/ICRS?CorpSumm=20110148DC\">Information Summary</a></font></td></tr><tr bgcolor=\"#f4f4f4\"><td align=right><font face=\"Arial,Helvetica\">17</font></td><td><font face=\"Arial,Helvetica\">MAINELY AERIALS PHOTOGRAPHY LLC</font></td><td><font face=\"Arial,Helvetica\">LEGAL</font></td><td><font face=\"Arial,Helvetica\"><a href=\"/nei-sos-icrs/ICRS?CorpSumm=20165006DC\">Information Summary</a></font></td></tr><tr bgcolor=\"#efefef\"><td align=right><font face=\"Arial,Helvetica\">18</font></td><td><font face=\"Arial,Helvetica\">MAINELY AGILITY, LLC</font></td><td><font face=\"Arial,Helvetica\">LEGAL</font></td><td><font face=\"Arial,Helvetica\"><a href=\"/nei-sos-icrs/ICRS?CorpSumm=20141369DC\">Information Summary</a></font></td></tr><tr bgcolor=\"#f4f4f4\"><td align=right><font face=\"Arial,Helvetica\">19</font></td><td><font face=\"Arial,Helvetica\">MAINELY ALPACA LLC</font></td><td><font face=\"Arial,Helvetica\">LEGAL</font></td><td><font face=\"Arial,Helvetica\"><a href=\"/nei-sos-icrs/ICRS?CorpSumm=20141747DC\">Information Summary</a></font></td></tr><tr bgcolor=\"#efefef\"><td align=right><font face=\"Arial,Helvetica\">20</font></td><td><font face=\"Arial,Helvetica\">MAINELY ANGELS</font></td><td><font face=\"Arial,Helvetica\">MARK</font></td><td><font face=\"Arial,Helvetica\"><a href=\"/nei-sos-icrs/ICRS?MarkSumm=20030114+M\">Information Summary</a></font></td></tr><tr bgcolor=\"#f4f4f4\"><td align=right><font face=\"Arial,Helvetica\">21</font></td><td><font face=\"Arial,Helvetica\">MAINELY ANTIQUES</font></td><td><font face=\"Arial,Helvetica\">LEGAL</font></td><td><font face=\"Arial,Helvetica\"><a href=\"/nei-sos-icrs/ICRS?CorpSumm=19840075+D\">Information Summary</a></font></td></tr><tr bgcolor=\"#efefef\"><td align=right><font face=\"Arial,Helvetica\">22</font></td><td><font face=\"Arial,Helvetica\">MAINELY ANTIQUES</font></td><td><font face=\"Arial,Helvetica\">MARK</font></td><td><font face=\"Arial,Helvetica\"><a href=\"/nei-sos-icrs/ICRS?MarkSumm=19950286+M\">Information Summary</a></font></td></tr><tr bgcolor=\"#f4f4f4\"><td align=right><font face=\"Arial,Helvetica\">23</font></td><td><font face=\"Arial,Helvetica\">MAINELY APARTMENTS, LLC</font></td><td><font face=\"Arial,Helvetica\">LEGAL</font></td><td><font face=\"Arial,Helvetica\"><a href=\"/nei-sos-icrs/ICRS?CorpSumm=20185512DC\">Information Summary</a></font></td></tr><tr bgcolor=\"#efefef\"><td align=right><font face=\"Arial,Helvetica\">24</font></td><td><font face=\"Arial,Helvetica\">MAINELY APPLIANCE LLC</font></td><td><font face=\"Arial,Helvetica\">LEGAL</font></td><td><font face=\"Arial,Helvetica\"><a href=\"/nei-sos-icrs/ICRS?CorpSumm=20193343DC\">Information Summary</a></font></td></tr><tr bgcolor=\"#f4f4f4\"><td align=right><font face=\"Arial,Helvetica\">25</font></td><td><font face=\"Arial,Helvetica\">MAINELY APPRAISALS & CONSULTING, INC.</font></td><td><font face=\"Arial,Helvetica\">LEGAL</font></td><td><font face=\"Arial,Helvetica\"><a href=\"/nei-sos-icrs/ICRS?CorpSumm=20100538+D\">Information Summary</a></font></td></tr><tr bgcolor=\"#efefef\"><td align=right><font face=\"Arial,Helvetica\">26</font></td><td><font face=\"Arial,Helvetica\">MAINELY AQUATICS</font></td><td><font face=\"Arial,Helvetica\">LEGAL</font></td><td><font face=\"Arial,Helvetica\"><a href=\"/nei-sos-icrs/ICRS?CorpSumm=19962713+D\">Information Summary</a></font></td></tr><tr bgcolor=\"#f4f4f4\"><td align=right><font face=\"Arial,Helvetica\">27</font></td><td><font face=\"Arial,Helvetica\">MAINELY ASIA CONSULTING</font></td><td><font face=\"Arial,Helvetica\">LEGAL</font></td><td><font face=\"Arial,Helvetica\"><a href=\"/nei-sos-icrs/ICRS?CorpSumm=20150618+D\">Information Summary</a></font></td></tr><tr bgcolor=\"#efefef\"><td align=right><font face=\"Arial,Helvetica\">28</font></td><td><font face=\"Arial,Helvetica\">MAINELY ATMS</font></td><td><font face=\"Arial,Helvetica\">ASSUMED</font></td><td><font face=\"Arial,Helvetica\"><a href=\"/nei-sos-icrs/ICRS?CorpSumm=19780768+D\">Information Summary</a></font></td></tr><tr bgcolor=\"#f4f4f4\"><td align=right><font face=\"Arial,Helvetica\">29</font></td><td><font face=\"Arial,Helvetica\">MAINELY AUDIO LLC</font></td><td><font face=\"Arial,Helvetica\">LEGAL</font></td><td><font face=\"Arial,Helvetica\"><a href=\"/nei-sos-icrs/ICRS?CorpSumm=20042594DC\">Information Summary</a></font></td></tr><tr bgcolor=\"#efefef\"><td align=right><font face=\"Arial,Helvetica\">30</font></td><td><font face=\"Arial,Helvetica\">MAINELY AUTO</font></td><td><font face=\"Arial,Helvetica\">ASSUMED</font></td><td><font face=\"Arial,Helvetica\"><a href=\"/nei-sos-icrs/ICRS?CorpSumm=19851652+D\">Information Summary</a></font></td></tr><tr bgcolor=\"#f4f4f4\"><td align=right><font face=\"Arial,Helvetica\">31</font></td><td><font face=\"Arial,Helvetica\">MAINELY AUTOS, LLC</font></td><td><font face=\"Arial,Helvetica\">LEGAL</font></td><td><font face=\"Arial,Helvetica\"><a href=\"/nei-sos-icrs/ICRS?CorpSumm=20141923DC\">Information Summary</a></font></td></tr><tr bgcolor=\"#efefef\"><td align=right><font face=\"Arial,Helvetica\">32</font></td><td><font face=\"Arial,Helvetica\">MAINELY AVIATION, INC.</font></td><td><font face=\"Arial,Helvetica\">LEGAL</font></td><td><font face=\"Arial,Helvetica\"><a href=\"/nei-sos-icrs/ICRS?CorpSumm=20090344+D\">Information Summary</a></font></td></tr><tr bgcolor=\"#f4f4f4\"><td align=right><font face=\"Arial,Helvetica\">33</font></td><td><font face=\"Arial,Helvetica\">MAINELY AWNINGS - CANCELLED</font></td><td><font face=\"Arial,Helvetica\">ASSUMED</font></td><td><font face=\"Arial,Helvetica\"><a href=\"/nei-sos-icrs/ICRS?CorpSumm=20052904DC\">Information Summary</a></font></td></tr><tr bgcolor=\"#efefef\"><td align=right><font face=\"Arial,Helvetica\">34</font></td><td><font face=\"Arial,Helvetica\">MAINELY AWNINGS</font></td><td><font face=\"Arial,Helvetica\">ASSUMED</font></td><td><font face=\"Arial,Helvetica\"><a href=\"/nei-sos-icrs/ICRS?CorpSumm=19971029+D\">Information Summary</a></font></td></tr>\\n\\t\\t\\t\\t\\t\\t\\t\\n\\t\\t\\t\\t\\t\\t</table>\\n\\n\\t\\t\\t\\t\\t\\t<table border=\"0\" cellpadding=\"6\" cellspacing=\"2\" width=\"100%\">\\n\\t\\t\\t\\t\\t\\t\\t<tr>\\n\\t\\t\\t\\t\\t\\t\\t\\t<td colspan=\"2\" bgcolor=\"#000099\"><font face=\"Arial\" color=\"white\" size=\"5\"><b>New search</b></font></td>\\n\\t\\t\\t\\t\\t\\t\\t</tr>\\n\\t\\t\\t\\t\\t\\t\\t\\n\\t\\t\\t\\t\\t\\t\\t<tr>\\n\\t\\t\\t\\t\\t\\t\\t\\t<td colspan=\"2\" bgcolor=\"#d3d3d3\" nowrap >\\n\\t\\t\\t\\t\\t\\t\\t\\t<table  width=\"100%\" border=\"0\" cellpadding=\"0\" cellspacing=\"0\" >\\n\\t\\t\\t\\t\\t\\t\\t\\t<tr>\\n\\t\\t\\t\\t\\t\\t\\t\\t<td  width=\"40%\" align=\"right\" bgcolor=\"#d3d3d3\" nowrap >\\n\\t\\t\\t\\t\\t\\t\\t\\t\\t<font face=\"Arial,Helvetica\" size=\"2\"><b>Keyword from name to be searched:&nbsp;</b></font></td>\\n\\t\\t\\t\\t\\t\\t\\t\\t<td    align=\"left\" bgcolor=\"#d3d3d3\" nowrap ><input type=\"text\" name=\"WAISqueryString\" value=\"Mainely A\" size=\"28\" maxlength=\"60\">\\n\\t\\t\\t\\t\\t\\t\\t\\t</td>\\n\\t\\t\\t\\t\\t\\t\\t\\t</tr>\\n\\t\\t\\t\\t\\t\\t\\t\\t</table>\\n\\t\\t\\t\\t\\t\\t\\t\\t</td>\\n\\t\\t\\t\\t\\t\\t\\t</tr>\\n\\t\\t\\t\\t\\t\\t\\t\\n\\t\\t\\t\\t\\t\\t\\t<tr>\\n\\t\\t\\t\\t\\t\\t\\t\\t<td colspan=\"2\" bgcolor=\"#d3d3d3\" nowrap >\\n\\t\\t\\t\\t\\t\\t\\t\\t<table  width=\"100%\" border=\"0\" cellpadding=\"0\" cellspacing=\"0\" >\\n\\t\\t\\t\\t\\t\\t\\t\\t<tr>\\n\\t\\t\\t\\t\\t\\t\\t\\t<td  width=\"40%\" align=\"right\" bgcolor=\"#d3d3d3\" nowrap >\\n\\t\\t\\t\\t\\t\\t\\t\\t\\t<font face=\"Arial,Helvetica\" size=\"2\">\\n\\t\\t\\t\\t\\t\\t\\t\\t\\t<b>Charter number:&nbsp;</b></font></td>\\n\\t\\t\\t\\t\\t\\t\\t\\t<td    align=\"left\" bgcolor=\"#d3d3d3\" nowrap ><input type=\"text\" name=\"number\" value=\"\" size=\"10\" maxlength=\"10\">\\n\\t\\t\\t\\t\\t\\t\\t\\t</td>\\n\\t\\t\\t\\t\\t\\t\\t\\t</tr>\\n\\t\\t\\t\\t\\t\\t\\t\\t</table>\\n\\t\\t\\t\\t\\t\\t\\t\\t</td>\\n\\t\\t\\t\\t\\t\\t\\t</tr>\\n\\t\\t\\t\\t\\t\\t\\t\\n\\t\\t\\t\\t\\t\\t\\t<tr>\\n\\t\\t\\t\\t\\t\\t\\t\\t<!--<td aling=\"left\" bgcolor=\"#000099\"><font \\nface=\"Arial,Helvetica\" color=\"white\"><SELECT name=\"narowSearch\" size=\"1\"> </SELECT></font></td>-->\\n\\t\\t\\t\\t\\t\\t\\t\\t<td align=\"right\" colspan=\"2\" bgcolor=\"#000099\"><font \\ncolor=\"white\"><b><input type=\"submit\" name=\"search\" value=\"Click Here to Search\"><input type=\"hidden\" name=\"search\" value=\"search\"></b></font></td>\\n\\t\\t\\t\\t\\t\\t\\t</tr>\\n\\t\\t\\t\\t\\t\\t\\t<tr>\\n\\t\\t\\t\\t\\t\\t\\t\\t<td></td>\\n\\t\\t\\t\\t\\t\\t\\t\\t<td width=\"50%\">\\n\\t\\t\\t\\t\\t\\t\\t\\t\\t</form>\\n\\t\\t\\t\\t\\t\\t\\t\\t</td>\\n\\t\\t\\t\\t\\t\\t\\t</tr>\\n\\t\\t\\t\\t\\t\\t</table>\\n\\t\\t\\t\\t  </td>\\n\\t\\t\\t\\t</tr>\\n\\t\\t\\t\\t<tr>\\n\\t\\t\\t\\t\\t<td><font face=\"Arial,Helvetica,Geneva,Swiss,SunSans-Regular\" size=\"2\">If you encounter technical difficulties while using these services, please contact the <a href=\"mailto:webmaster@informe.org\">Webmaster.</a> If you are unable to find the information you need through the resources provided on this web site, please contact the Bureau\\'s Reporting and Information Section at 207-624-7752 or <a href=\"mailto:cec.corporations@maine.gov\">e-mail</a> or visit our <a href=\"http://www.informe.org/bmv/rapid-renewal/feedback.html\">Feedback</a> page.<br><br></font></td>\\n\\t\\t\\t\\t</tr>\\n\\t\\t\\t\\t<tr>\\n\\t\\t\\t\\t\\t<td align=\"center\"><font color=\"#000099\" face=\"Arial,Helvetica\">&copy; </font><font size=\"2\" face=\"Arial,Helvetica\" color=\"#000099\">Department of the Secretary of State</font></td>\\n\\t\\t\\t\\t</tr>\\n      </table>\\n    </center>\\n  </body>\\n</html>\\n<!-- END_TEMPLATE:result_search.html:END_TEMPLATE-->\\n'"
      ]
     },
     "execution_count": 23,
     "metadata": {},
     "output_type": "execute_result"
    }
   ],
   "source": [
    "import requests\n",
    "import string\n",
    "from scrapy import Selector\n",
    "\n",
    "#List of uppercase letters\n",
    "alpha = string.ascii_uppercase\n",
    "\n",
    "headers = {'Host':'icrs.informe.org'\n",
    "            ,'User-Agent': 'Mozilla/5.0 (Macintosh; Intel Mac OS X 10.14; rv:69.0) Gecko/20100101 Firefox/69.0'\n",
    "            ,'Accept': 'text/html,application/xhtml+xml,application/xml;q=0.9,*/*;q=0.8'\n",
    "            ,'Accept-Language': 'en-US,en;q=0.5'\n",
    "            ,'Accept-Encoding': 'gzip, deflate, br'\n",
    "            ,'Content-Type': 'application/x-www-form-urlencoded'\n",
    "            ,'Connection': 'keep-alive'\n",
    "            ,'Cookie': 'JSESSIONID=0DF53489E916020D19FCCAB79D9255EB'\n",
    "            ,'Referer': 'https://icrs.informe.org/nei-sos-icrs/ICRS?search=&MainPage=x&newsearch=New+Search'\n",
    "            ,'Upgrade-Insecure-Requests': '1'}\n",
    "\n",
    "#ID and variable to loop through alphabet\n",
    "id=0\n",
    "q = 'Mainely '+alpha[id]\n",
    "\n",
    "data = {'WAISqueryString':q\n",
    "       ,'number':''\n",
    "       ,'search': {\n",
    "           '0':'Click+Here+to+Search'\n",
    "           ,'1':'search'\n",
    "       }}\n",
    "\n",
    "url = 'https://icrs.informe.org/nei-sos-icrs/ICRS?MainPage=x'\n",
    "r = requests.post(url, data=data, headers=headers)\n",
    "r.text"
   ]
  },
  {
   "cell_type": "code",
   "execution_count": 29,
   "metadata": {},
   "outputs": [
    {
     "data": {
      "text/plain": [
       "['MAINE-LY A STITCH IN TIME',\n",
       " 'MAINE-LY ACCOUNTING INCORPORATED',\n",
       " 'MAINE-LY ACTION RENTALS, INC.',\n",
       " 'MAINE-LY AIRBORNE LLC',\n",
       " 'MAINE-LY AMISH',\n",
       " 'MAINE-LY APPLES',\n",
       " 'MAINE-LY AQUARIUMS, LLC',\n",
       " 'MAINE-LY ASIAN IMPORTS INC.',\n",
       " 'MAINELY A MEMORY',\n",
       " 'MAINELY ABODES, L.L.C.',\n",
       " 'MAINELY ACCESS, INC.',\n",
       " 'MAINELY ACCOUNTABLE, LLC',\n",
       " 'MAINELY ACQUISITIONS, LLC.',\n",
       " 'MAINELY ACUPUNCTURE, L.L.C.',\n",
       " 'MAINELY ADVENTURES GUIDE SERVICE',\n",
       " 'MAINELY ADVENTURES LODGE, LLC',\n",
       " 'MAINELY AERIALS PHOTOGRAPHY LLC',\n",
       " 'MAINELY AGILITY, LLC',\n",
       " 'MAINELY ALPACA LLC',\n",
       " 'MAINELY ANGELS',\n",
       " 'MAINELY ANTIQUES',\n",
       " 'MAINELY ANTIQUES',\n",
       " 'MAINELY APARTMENTS, LLC',\n",
       " 'MAINELY APPLIANCE LLC',\n",
       " 'MAINELY APPRAISALS & CONSULTING, INC.',\n",
       " 'MAINELY AQUATICS',\n",
       " 'MAINELY ASIA CONSULTING',\n",
       " 'MAINELY ATMS',\n",
       " 'MAINELY AUDIO LLC',\n",
       " 'MAINELY AUTO',\n",
       " 'MAINELY AUTOS, LLC',\n",
       " 'MAINELY AVIATION, INC.',\n",
       " 'MAINELY AWNINGS - CANCELLED',\n",
       " 'MAINELY AWNINGS']"
      ]
     },
     "execution_count": 29,
     "metadata": {},
     "output_type": "execute_result"
    }
   ],
   "source": [
    "##XPath Sandbox\n",
    "sel = Selector(text = r.text)\n",
    "\n",
    "names = sel.xpath('//tr[position()>=6]/td[2]//text()').extract()\n",
    "names"
   ]
  }
 ],
 "metadata": {
  "kernelspec": {
   "display_name": "Python 3",
   "language": "python",
   "name": "python3"
  },
  "language_info": {
   "codemirror_mode": {
    "name": "ipython",
    "version": 3
   },
   "file_extension": ".py",
   "mimetype": "text/x-python",
   "name": "python",
   "nbconvert_exporter": "python",
   "pygments_lexer": "ipython3",
   "version": "3.6.4"
  }
 },
 "nbformat": 4,
 "nbformat_minor": 2
}
