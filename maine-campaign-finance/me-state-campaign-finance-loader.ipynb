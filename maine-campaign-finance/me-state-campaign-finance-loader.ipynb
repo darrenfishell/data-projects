{
 "cells": [
  {
   "cell_type": "code",
   "execution_count": 22,
   "metadata": {
    "ExecuteTime": {
     "end_time": "2024-03-22T02:16:43.277132Z",
     "start_time": "2024-03-22T02:16:43.269813Z"
    }
   },
   "outputs": [],
   "source": [
    "import pandas as pd\n",
    "import requests\n",
    "import os\n",
    "import pygsheets\n",
    "import http.client\n",
    "import datadotworld as dw\n",
    "import json\n",
    "import config\n",
    "from io import StringIO\n",
    "from datetime import datetime\n",
    "import config\n",
    "# from pandas.io.json import json_normalize"
   ]
  },
  {
   "cell_type": "code",
   "execution_count": 43,
   "metadata": {
    "ExecuteTime": {
     "end_time": "2024-03-22T02:37:58.131697Z",
     "start_time": "2024-03-22T02:37:58.129041Z"
    }
   },
   "outputs": [],
   "source": [
    "#URL and session variables\n",
    "url_base = 'https://mainecampaignfinance.com'\n",
    "\n",
    "s = requests.Session()\n",
    "\n",
    "#POST headers\n",
    "session_headers = {'Host':'mainecampaignfinance.com'\n",
    "            ,'Origin': url_base\n",
    "            ,'User-Agent': 'Mozilla/5.0 (Macintosh; Intel Mac OS X 10.14; rv:69.0) Gecko/20100101 Firefox/69.0'\n",
    "            ,'Accept': 'application/octet-stream'\n",
    "            ,'Accept-Language': 'en-US,en;q=0.5'\n",
    "            ,'Accept-Encoding': 'gzip, deflate, br'\n",
    "            ,'Referer':'https://mainecampaignfinance.com/'\n",
    "            ,'Content-Type': 'application/json;charset=utf-8'\n",
    "            ,'Connection': 'keep-alive'\n",
    "            ,'TE':'Trailers'\n",
    "            ,'Pragma': 'no-cache'\n",
    "            ,'Cache-Control': 'no-cache'}\n",
    "\n",
    "#Parameters\n",
    "# years = ','.join(map(str, list(range(2008, datetime.now().year))))\n",
    "years = list(range(2014, datetime.now().year))\n",
    "site = 'darrenfishell'\n",
    "project = 'maine-political-cash'\n",
    "queryid = '6e1f1c4e-0648-448e-9474-8fe5af324b17'"
   ]
  },
  {
   "cell_type": "code",
   "execution_count": 50,
   "metadata": {
    "ExecuteTime": {
     "end_time": "2024-03-22T02:55:45.768481Z",
     "start_time": "2024-03-22T02:55:45.755622Z"
    }
   },
   "outputs": [],
   "source": [
    "def get_cands(year_list=None, headers=None):\n",
    "\n",
    "    url='https://mainecampaignfinance.com/api///Organization/SearchCandidates'\n",
    "    \n",
    "    dfs = []\n",
    "    \n",
    "    for year in year_list:\n",
    "        \n",
    "        data = json.dumps(\n",
    "            {\n",
    "                \"ElectionYear\":year,\n",
    "                \"pageNumber\":1,\n",
    "                \"pageSize\":2147483647\n",
    "            }\n",
    "        )\n",
    "        \n",
    "        r = s.post(url, data=data, headers=headers).json()\n",
    "        \n",
    "        df = pd.DataFrame(r)\n",
    "        \n",
    "        dfs.append(df)\n",
    "\n",
    "    df=pd.concat(dfs,sort=False,ignore_index=True)\n",
    "        \n",
    "    return df\n",
    "\n",
    "def get_trans(year_list=None, headers=None):\n",
    "    \n",
    "    s = requests.Session()\n",
    "\n",
    "    url = 'https://mainecampaignfinance.com/api///Search/TransactionSearchInformationExpExportToCSV'\n",
    "\n",
    "    #Parameters for looping through search\n",
    "    committee_types = {\n",
    "        'candidate':'01',\n",
    "        'bqc':'02',\n",
    "        'pac':'03',\n",
    "        'party-committee':'09'\n",
    "    }\n",
    "\n",
    "    transaction_types = {\n",
    "        'contributions':'CON',\n",
    "        'expenditures':'EXP',\n",
    "        'independent_expenditures':'IE'\n",
    "    }\n",
    "\n",
    "    #Data dictionary for query\n",
    "    data = {\n",
    "        \"pageNumber\":'1'\n",
    "        ,\"pageSize\":'2147483647' #Sets max responses from page (defaults to 10)\n",
    "        ,\"ValidationRequired\":'0'\n",
    "    }\n",
    "\n",
    "    for type_name, trans_type in transaction_types.items():\n",
    "\n",
    "        dfs=[]\n",
    "\n",
    "        for year in year_list:\n",
    "\n",
    "            for comm, comm_id in committee_types.items():\n",
    "\n",
    "                add_post_loop = {\n",
    "                    'TransactionType': trans_type,\n",
    "                    'ElectionYear': year,\n",
    "                    'CommitteeType': comm_id\n",
    "                }\n",
    "    \n",
    "                data = data | add_post_loop\n",
    "    \n",
    "                try:\n",
    "                    r = s.post(url, data=json.dumps(data), headers=headers)\n",
    "                    df = pd.read_csv(StringIO(r.content.decode('utf-8')))\n",
    "                    dfs.append(df)\n",
    "                except:\n",
    "                    continue\n",
    "        \n",
    "            print(f'Loaded {len(df)} records for {trans_type} for {year}')\n",
    "\n",
    "        #COMBINE dfs\n",
    "        df=pd.concat(dfs,sort=False,ignore_index=True).drop_duplicates()\n",
    "        \n",
    "        write_df_to_datadotworld(project=project, filename=type_name, df=df)\n",
    "    \n",
    "def write_df_to_datadotworld(site='darrenfishell', project=None, filename=None, df=None):\n",
    "    \n",
    "    try:\n",
    "        filepath = f'{os.path.join(site, project, filename)}.csv'\n",
    "        \n",
    "        with dw.open_remote_file(f'{site}/{project}', f'{filename}.csv') as w:\n",
    "            df.to_csv(w, index=False)\n",
    "            \n",
    "        print(f'Wrote {len(df)} records to {filepath} in data.world')\n",
    "    except Exception as e:\n",
    "        print(f'Failed to write {filename} to datadotworld.')\n",
    "\n",
    "def write_to_gsheet(site='darrenfishell', project=None, queryid=None):\n",
    "\n",
    "    #Write contribution query to GSheets\n",
    "    gc = pygsheets.authorize(service_file='gcreds.json')\n",
    "    gsh_idx = 0\n",
    "    sheet = 'maine-campaign-finance'\n",
    "    \n",
    "    #Retrieve query\n",
    "    conn = http.client.HTTPSConnection(\"api.data.world\")\n",
    "    headers = { 'Authorization': f'Bearer {config.DW_KEY}' }\n",
    "    conn.request('GET', '/v0/queries/' + queryid, headers=headers)\n",
    "    sql_query = json.loads(conn.getresponse().read()).get('body')\n",
    "    results = dw.query(os.path.join(site, project), sql_query).dataframe\n",
    "    \n",
    "    #Prepare to load into Google Sheets\n",
    "    sh = gc.open(sheet)\n",
    "    wks = sh.worksheet('index',gsh_idx)\n",
    "    wks.clear()\n",
    "    wks.rows = results.shape[0]\n",
    "    wks.set_dataframe(results,start='A1',nan='')\n",
    "    \n",
    "    print(f'Wrote {len(results)} records to Google Sheets')"
   ]
  },
  {
   "cell_type": "code",
   "execution_count": 5,
   "metadata": {
    "ExecuteTime": {
     "end_time": "2024-03-20T23:41:37.584877Z",
     "start_time": "2024-03-20T22:07:35.181810Z"
    }
   },
   "outputs": [
    {
     "name": "stdout",
     "output_type": "stream",
     "text": [
      "Loaded 1443 records for CON for 2014\n",
      "Loaded 725 records for CON for 2015\n",
      "Loaded 1452 records for CON for 2016\n",
      "Loaded 929 records for CON for 2017\n",
      "Loaded 1857 records for CON for 2018\n",
      "Loaded 1333 records for CON for 2019\n",
      "Loaded 2215 records for CON for 2020\n",
      "Loaded 1378 records for CON for 2021\n",
      "Loaded 2341 records for CON for 2022\n",
      "Loaded 1829 records for CON for 2023\n",
      "Wrote 414563 records to darrenfishell/maine-campaign-finance/contributions.csv in data.world\n"
     ]
    },
    {
     "name": "stderr",
     "output_type": "stream",
     "text": [
      "/var/folders/y6/mrljv2f12c56x4bmwb18gr8h0000gp/T/ipykernel_12155/834278900.py:68: DtypeWarning: Columns (4,12,13,34) have mixed types. Specify dtype option on import or set low_memory=False.\n",
      "  df = pd.read_csv(StringIO(r.content.decode('utf-8')))\n"
     ]
    },
    {
     "name": "stdout",
     "output_type": "stream",
     "text": [
      "Loaded 3278 records for EXP for 2014\n",
      "Loaded 1066 records for EXP for 2015\n",
      "Loaded 2717 records for EXP for 2016\n",
      "Loaded 1119 records for EXP for 2017\n",
      "Loaded 3440 records for EXP for 2018\n",
      "Loaded 1466 records for EXP for 2019\n",
      "Loaded 3107 records for EXP for 2020\n",
      "Loaded 1587 records for EXP for 2021\n",
      "Loaded 4058 records for EXP for 2022\n",
      "Loaded 2221 records for EXP for 2023\n",
      "Wrote 156290 records to darrenfishell/maine-campaign-finance/expenditures.csv in data.world\n",
      "Loaded 769 records for IE for 2014\n",
      "Loaded 0 records for IE for 2015\n",
      "Loaded 843 records for IE for 2016\n",
      "Loaded 0 records for IE for 2017\n",
      "Loaded 658 records for IE for 2018\n",
      "Loaded 13 records for IE for 2019\n",
      "Loaded 698 records for IE for 2020\n",
      "Loaded 50 records for IE for 2021\n",
      "Loaded 912 records for IE for 2022\n",
      "Loaded 12 records for IE for 2023\n",
      "Wrote 12431 records to darrenfishell/maine-campaign-finance/independent_expenditures.csv in data.world\n"
     ]
    },
    {
     "ename": "TypeError",
     "evalue": "join() argument must be str, bytes, or os.PathLike object, not 'NoneType'",
     "output_type": "error",
     "traceback": [
      "\u001B[0;31m---------------------------------------------------------------------------\u001B[0m",
      "\u001B[0;31mTypeError\u001B[0m                                 Traceback (most recent call last)",
      "Cell \u001B[0;32mIn[5], line 5\u001B[0m\n\u001B[1;32m      1\u001B[0m cand_df \u001B[38;5;241m=\u001B[39m get_cands(year_list\u001B[38;5;241m=\u001B[39myears, headers\u001B[38;5;241m=\u001B[39msession_headers)\n\u001B[1;32m      3\u001B[0m trans_df \u001B[38;5;241m=\u001B[39m get_trans(year_list\u001B[38;5;241m=\u001B[39myears, headers\u001B[38;5;241m=\u001B[39msession_headers)\n\u001B[0;32m----> 5\u001B[0m \u001B[43mwrite_to_gsheet\u001B[49m\u001B[43m(\u001B[49m\u001B[43m)\u001B[49m\n",
      "Cell \u001B[0;32mIn[4], line 89\u001B[0m, in \u001B[0;36mwrite_to_gsheet\u001B[0;34m(site, project)\u001B[0m\n\u001B[1;32m     87\u001B[0m \u001B[38;5;66;03m#Retrieve query\u001B[39;00m\n\u001B[1;32m     88\u001B[0m queryid \u001B[38;5;241m=\u001B[39m \u001B[38;5;124m'\u001B[39m\u001B[38;5;124ma65bf908-26ba-4f11-b413-a57bd8b3a9f5\u001B[39m\u001B[38;5;124m'\u001B[39m\n\u001B[0;32m---> 89\u001B[0m results \u001B[38;5;241m=\u001B[39m \u001B[43mget_datadotworld_query\u001B[49m\u001B[43m(\u001B[49m\u001B[43mproject\u001B[49m\u001B[38;5;241;43m=\u001B[39;49m\u001B[43mproject\u001B[49m\u001B[43m,\u001B[49m\u001B[43m \u001B[49m\u001B[43mqueryid\u001B[49m\u001B[38;5;241;43m=\u001B[39;49m\u001B[43mqueryid\u001B[49m\u001B[43m)\u001B[49m\n\u001B[1;32m     91\u001B[0m \u001B[38;5;66;03m#Prepare to load into Google Sheets\u001B[39;00m\n\u001B[1;32m     92\u001B[0m sh \u001B[38;5;241m=\u001B[39m gc\u001B[38;5;241m.\u001B[39mopen(sheet)\n",
      "Cell \u001B[0;32mIn[4], line 116\u001B[0m, in \u001B[0;36mget_datadotworld_query\u001B[0;34m(site, project, queryid)\u001B[0m\n\u001B[1;32m    114\u001B[0m conn\u001B[38;5;241m.\u001B[39mrequest(\u001B[38;5;124m'\u001B[39m\u001B[38;5;124mGET\u001B[39m\u001B[38;5;124m'\u001B[39m, \u001B[38;5;124m'\u001B[39m\u001B[38;5;124m/v0/queries/\u001B[39m\u001B[38;5;124m'\u001B[39m \u001B[38;5;241m+\u001B[39m queryid, headers\u001B[38;5;241m=\u001B[39mheaders)\n\u001B[1;32m    115\u001B[0m data \u001B[38;5;241m=\u001B[39m conn\u001B[38;5;241m.\u001B[39mgetresponse()\u001B[38;5;241m.\u001B[39mread()\n\u001B[0;32m--> 116\u001B[0m results \u001B[38;5;241m=\u001B[39m dw\u001B[38;5;241m.\u001B[39mquery(\u001B[43mos\u001B[49m\u001B[38;5;241;43m.\u001B[39;49m\u001B[43mpath\u001B[49m\u001B[38;5;241;43m.\u001B[39;49m\u001B[43mjoin\u001B[49m\u001B[43m(\u001B[49m\u001B[43msite\u001B[49m\u001B[43m,\u001B[49m\u001B[43m \u001B[49m\u001B[43mproject\u001B[49m\u001B[43m)\u001B[49m, json\u001B[38;5;241m.\u001B[39mloads(data)\u001B[38;5;241m.\u001B[39mget(\u001B[38;5;124m'\u001B[39m\u001B[38;5;124mbody\u001B[39m\u001B[38;5;124m'\u001B[39m)\u001B[38;5;241m.\u001B[39mdataframe)\n\u001B[1;32m    118\u001B[0m \u001B[38;5;28;01mreturn\u001B[39;00m results\n",
      "File \u001B[0;32m~/miniconda3/envs/scraping_env/lib/python3.10/posixpath.py:90\u001B[0m, in \u001B[0;36mjoin\u001B[0;34m(a, *p)\u001B[0m\n\u001B[1;32m     88\u001B[0m             path \u001B[38;5;241m+\u001B[39m\u001B[38;5;241m=\u001B[39m sep \u001B[38;5;241m+\u001B[39m b\n\u001B[1;32m     89\u001B[0m \u001B[38;5;28;01mexcept\u001B[39;00m (\u001B[38;5;167;01mTypeError\u001B[39;00m, \u001B[38;5;167;01mAttributeError\u001B[39;00m, \u001B[38;5;167;01mBytesWarning\u001B[39;00m):\n\u001B[0;32m---> 90\u001B[0m     \u001B[43mgenericpath\u001B[49m\u001B[38;5;241;43m.\u001B[39;49m\u001B[43m_check_arg_types\u001B[49m\u001B[43m(\u001B[49m\u001B[38;5;124;43m'\u001B[39;49m\u001B[38;5;124;43mjoin\u001B[39;49m\u001B[38;5;124;43m'\u001B[39;49m\u001B[43m,\u001B[49m\u001B[43m \u001B[49m\u001B[43ma\u001B[49m\u001B[43m,\u001B[49m\u001B[43m \u001B[49m\u001B[38;5;241;43m*\u001B[39;49m\u001B[43mp\u001B[49m\u001B[43m)\u001B[49m\n\u001B[1;32m     91\u001B[0m     \u001B[38;5;28;01mraise\u001B[39;00m\n\u001B[1;32m     92\u001B[0m \u001B[38;5;28;01mreturn\u001B[39;00m path\n",
      "File \u001B[0;32m~/miniconda3/envs/scraping_env/lib/python3.10/genericpath.py:152\u001B[0m, in \u001B[0;36m_check_arg_types\u001B[0;34m(funcname, *args)\u001B[0m\n\u001B[1;32m    150\u001B[0m         hasbytes \u001B[38;5;241m=\u001B[39m \u001B[38;5;28;01mTrue\u001B[39;00m\n\u001B[1;32m    151\u001B[0m     \u001B[38;5;28;01melse\u001B[39;00m:\n\u001B[0;32m--> 152\u001B[0m         \u001B[38;5;28;01mraise\u001B[39;00m \u001B[38;5;167;01mTypeError\u001B[39;00m(\u001B[38;5;124mf\u001B[39m\u001B[38;5;124m'\u001B[39m\u001B[38;5;132;01m{\u001B[39;00mfuncname\u001B[38;5;132;01m}\u001B[39;00m\u001B[38;5;124m() argument must be str, bytes, or \u001B[39m\u001B[38;5;124m'\u001B[39m\n\u001B[1;32m    153\u001B[0m                         \u001B[38;5;124mf\u001B[39m\u001B[38;5;124m'\u001B[39m\u001B[38;5;124mos.PathLike object, not \u001B[39m\u001B[38;5;132;01m{\u001B[39;00ms\u001B[38;5;241m.\u001B[39m\u001B[38;5;18m__class__\u001B[39m\u001B[38;5;241m.\u001B[39m\u001B[38;5;18m__name__\u001B[39m\u001B[38;5;132;01m!r}\u001B[39;00m\u001B[38;5;124m'\u001B[39m) \u001B[38;5;28;01mfrom\u001B[39;00m \u001B[38;5;28;01mNone\u001B[39;00m\n\u001B[1;32m    154\u001B[0m \u001B[38;5;28;01mif\u001B[39;00m hasstr \u001B[38;5;129;01mand\u001B[39;00m hasbytes:\n\u001B[1;32m    155\u001B[0m     \u001B[38;5;28;01mraise\u001B[39;00m \u001B[38;5;167;01mTypeError\u001B[39;00m(\u001B[38;5;124m\"\u001B[39m\u001B[38;5;124mCan\u001B[39m\u001B[38;5;124m'\u001B[39m\u001B[38;5;124mt mix strings and bytes in path components\u001B[39m\u001B[38;5;124m\"\u001B[39m) \u001B[38;5;28;01mfrom\u001B[39;00m \u001B[38;5;28;01mNone\u001B[39;00m\n",
      "\u001B[0;31mTypeError\u001B[0m: join() argument must be str, bytes, or os.PathLike object, not 'NoneType'"
     ]
    }
   ],
   "source": [
    "cand_df = get_cands(year_list=years, headers=session_headers)\n",
    " \n",
    "get_trans(year_list=years, headers=session_headers)"
   ]
  },
  {
   "cell_type": "code",
   "execution_count": null,
   "outputs": [],
   "source": [
    "write_to_gsheet(project=project, queryid=queryid)"
   ],
   "metadata": {
    "collapsed": false,
    "is_executing": true,
    "ExecuteTime": {
     "start_time": "2024-03-22T02:55:49.381814Z"
    }
   }
  }
 ],
 "metadata": {
  "kernelspec": {
   "name": "scraping_env",
   "language": "python",
   "display_name": "scraping_env"
  },
  "language_info": {
   "codemirror_mode": {
    "name": "ipython",
    "version": 3
   },
   "file_extension": ".py",
   "mimetype": "text/x-python",
   "name": "python",
   "nbconvert_exporter": "python",
   "pygments_lexer": "ipython3",
   "version": "3.6.9"
  }
 },
 "nbformat": 4,
 "nbformat_minor": 2
}
