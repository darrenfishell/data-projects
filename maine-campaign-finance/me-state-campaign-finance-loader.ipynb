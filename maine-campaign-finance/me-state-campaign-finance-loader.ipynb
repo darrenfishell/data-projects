{
 "cells": [
  {
   "cell_type": "code",
   "execution_count": 1,
   "metadata": {
    "ExecuteTime": {
     "end_time": "2024-03-12T04:30:55.486822Z",
     "start_time": "2024-03-12T04:30:54.842519Z"
    }
   },
   "outputs": [],
   "source": [
    "import pandas as pd\n",
    "import requests\n",
    "import os\n",
    "import pygsheets\n",
    "import http.client\n",
    "import datadotworld as dw\n",
    "import json\n",
    "from io import StringIO\n",
    "from datetime import datetime\n",
    "# from pandas.io.json import json_normalize"
   ]
  },
  {
   "cell_type": "code",
   "execution_count": 2,
   "outputs": [],
   "source": [
    "print('hello')"
   ],
   "metadata": {
    "collapsed": false,
    "ExecuteTime": {
     "end_time": "2024-03-12T04:30:55.490492Z",
     "start_time": "2024-03-12T04:30:55.488448Z"
    }
   }
  },
  {
   "cell_type": "code",
   "execution_count": 5,
   "metadata": {
    "ExecuteTime": {
     "end_time": "2024-03-12T04:32:45.159790Z",
     "start_time": "2024-03-12T04:32:45.156117Z"
    }
   },
   "outputs": [],
   "source": [
    "#URL and session variables\n",
    "url_base = 'https://mainecampaignfinance.com'\n",
    "\n",
    "s = requests.Session()\n",
    "cookies = requests.cookies.RequestsCookieJar()\n",
    "\n",
    "#POST headers\n",
    "session_headers = {'Host':'mainecampaignfinance.com'\n",
    "            ,'Origin': url_base\n",
    "            ,'User-Agent': 'Mozilla/5.0 (Macintosh; Intel Mac OS X 10.14; rv:69.0) Gecko/20100101 Firefox/69.0'\n",
    "            ,'Accept': 'application/octet-stream'\n",
    "            ,'Accept-Language': 'en-US,en;q=0.5'\n",
    "            ,'Accept-Encoding': 'gzip, deflate, br'\n",
    "            ,'Referer':'https://mainecampaignfinance.com/'\n",
    "            ,'Content-Type': 'application/json;charset=utf-8'\n",
    "            ,'Connection': 'keep-alive'\n",
    "            ,'TE':'Trailers'\n",
    "            ,'Pragma': 'no-cache'\n",
    "            ,'Cache-Control': 'no-cache'}\n",
    "\n",
    "#Parameters\n",
    "years = ','.join(map(str, list(range(2008, datetime.now().year))))\n",
    "\n",
    "project = '2020-maine-state-campaign-finance'"
   ]
  },
  {
   "cell_type": "code",
   "execution_count": null,
   "metadata": {
    "is_executing": true,
    "ExecuteTime": {
     "start_time": "2024-03-12T04:32:48.784314Z"
    }
   },
   "outputs": [],
   "source": [
    "def get_cands(year=None, headers=None):\n",
    "\n",
    "    url='https://mainecampaignfinance.com/api///Organization/SearchCandidates'\n",
    "\n",
    "    data = json.dumps(\n",
    "        {\n",
    "            \"ElectionYear\":year,\n",
    "            \"pageNumber\":1,\n",
    "            \"pageSize\":2147483647\n",
    "        }\n",
    "    )\n",
    "    \n",
    "    r = s.post(url, data=data, headers=headers).json()\n",
    "    \n",
    "    df = pd.DataFrame(r)\n",
    "        \n",
    "    return df\n",
    "\n",
    "def get_trans(year=None, headers=None):\n",
    "    \n",
    "    s = requests.Session()\n",
    "    cookies = requests.cookies.RequestsCookieJar()\n",
    "\n",
    "    url = 'https://mainecampaignfinance.com/api///Search/TransactionSearchInformationExpExportToCSV'\n",
    "\n",
    "    #Parameters for looping through search\n",
    "    committee_types = {'candidate':'01'\n",
    "                      ,'bqc':'02'\n",
    "                      ,'pac':'03'\n",
    "                      ,'party-committee':'09'}\n",
    "\n",
    "    transaction_types = {'contributions':'CON'\n",
    "                        ,'expenditures':'EXP'\n",
    "                        ,'independent_expenditures':'IE'}\n",
    "\n",
    "    #Data dictionary for query\n",
    "    data = {\"ElectionYear\":year\n",
    "            ,\"pageNumber\":'1'\n",
    "            ,\"pageSize\":'2147483647' #Sets max responses from page (defaults to 10)\n",
    "            ,\"ValidationRequired\":'0'}\n",
    "\n",
    "\n",
    "    for type_name, trans_type in transaction_types.items():\n",
    "\n",
    "        data.update({\"TransactionType\": type_name})\n",
    "        \n",
    "        dfs=[]\n",
    "\n",
    "        #Reset index\n",
    "\n",
    "        for comm, comm_id in committee_types.items():\n",
    "\n",
    "            data.update({\"CommitteeType\": comm})\n",
    "\n",
    "            try:\n",
    "                r = s.post(url, data=json.dumps(data), headers=headers)\n",
    "                df = pd.read_csv(StringIO(r.content.decode('utf-8')))\n",
    "                dfs.append(df)\n",
    "            except:\n",
    "                continue\n",
    "\n",
    "        #COMBINE dfs\n",
    "        df=pd.concat(dfs,sort=False,ignore_index=True).drop_duplicates()\n",
    "        \n",
    "        write_df_to_datadotworld(project=project, filename=type_name, df=df)\n",
    "        \n",
    "        return df\n",
    "        \n",
    "def write_to_gsheet():\n",
    "    \n",
    "    #Write contribution query to GSheets\n",
    "    gc = pygsheets.authorize(service_file='gcreds.json')\n",
    "    gsh_idx = 0\n",
    "    sheet = 'maine-state-campaign-finance-2020'\n",
    "\n",
    "    #Retrieve query\n",
    "    queryid = 'a65bf908-26ba-4f11-b413-a57bd8b3a9f5'\n",
    "    project = '2020-maine-state-campaign-finance'\n",
    "    results = get_datadotworld_query(project=project, queryid=queryid)\n",
    "\n",
    "    #Prepare to load into Google Sheets\n",
    "    sh = gc.open(sheet)\n",
    "    wks = sh.worksheet('index',gsh_idx)\n",
    "    wks.clear()\n",
    "    wks.rows = results.shape[0]\n",
    "    wks.set_dataframe(results,start='A1',nan='')\n",
    "    \n",
    "def write_df_to_datadotworld(site='darrenfishell', project=None, filename=None, df=None):\n",
    "    \n",
    "    try:\n",
    "        with dw.open_remote_file(os.path.join(site, project, filename, '.csv')) as w:\n",
    "            df.to_csv(w, index=False)\n",
    "        print(f'Wrote {len(df)} records from {filename} to data.world')\n",
    "    except:\n",
    "        print(f'Failed to write {filename} to datadotworld.')\n",
    "    \n",
    "def get_datadotworld_query(site='darrenfishell', project=None, queryid=None):\n",
    "\n",
    "    conn = http.client.HTTPSConnection(\"api.data.world\")\n",
    "    headers = { 'Authorization': f'Bearer {os.environ.get(\"DW_KEY\")}' }\n",
    "    conn.request('GET', '/v0/queries/' + queryid, headers=headers)\n",
    "    data = conn.getresponse().read()\n",
    "    results = dw.query(os.path.join(site, project), json.loads(data).get('body').dataframe)\n",
    "    \n",
    "    return results"
   ]
  },
  {
   "cell_type": "code",
   "execution_count": null,
   "metadata": {},
   "outputs": [],
   "source": [
    "cand_df = get_cands(year=years, headers=session_headers)\n",
    " \n",
    "trans_df = get_trans(year=years, headers=session_headers)\n",
    "\n",
    "write_to_gsheet()"
   ]
  },
  {
   "cell_type": "code",
   "execution_count": null,
   "outputs": [],
   "source": [
    "os.environ"
   ],
   "metadata": {
    "collapsed": false
   }
  }
 ],
 "metadata": {
  "kernelspec": {
   "name": "scraping_env",
   "language": "python",
   "display_name": "scraping_env"
  },
  "language_info": {
   "codemirror_mode": {
    "name": "ipython",
    "version": 3
   },
   "file_extension": ".py",
   "mimetype": "text/x-python",
   "name": "python",
   "nbconvert_exporter": "python",
   "pygments_lexer": "ipython3",
   "version": "3.6.9"
  }
 },
 "nbformat": 4,
 "nbformat_minor": 2
}
