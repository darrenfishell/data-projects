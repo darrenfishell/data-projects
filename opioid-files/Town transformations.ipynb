{
 "cells": [
  {
   "cell_type": "code",
   "execution_count": null,
   "metadata": {},
   "outputs": [],
   "source": [
    "import pandas as pd\n",
    "import numpy as np\n",
    "import os\n",
    "cwd=os.getcwd()\n",
    "\n",
    "df = pd.read_csv('https://www.washingtonpost.com/wp-stat/dea-pain-pill-database/summary/arcos-me-statewide-itemized.tsv.gz', compression='gzip', delimiter='\\t', low_memory=False)\n",
    "\n",
    "df.head()"
   ]
  },
  {
   "cell_type": "code",
   "execution_count": 14,
   "metadata": {},
   "outputs": [
    {
     "data": {
      "text/plain": [
       "array(['farmington', 'bangor', 'naples', 'calais', 'skowhegan', 'berwick',\n",
       "       'rockland', 'kingfield', 'kennebunkport', 'princeton', 'portland',\n",
       "       'kennebunk', 'freeport', 'waterville', 'brewer', 'gardiner',\n",
       "       'kittery', 'falmouth', 'south portland', 'biddeford', 'old town',\n",
       "       'lewiston', 'fairfield', 'bridgton', 'bar harbor', 'sanford',\n",
       "       'brunswick', 'bucksport', 'fryeburg', 'cornish', 'lisbon',\n",
       "       'machias', 'hampden', 'houlton', 'pittsfield', 'paris', 'winslow',\n",
       "       'ellsworth', 'boothbay harbor', 'westbrook', 'old orchard beach',\n",
       "       'millinocket', 'damariscotta', 'caribou', 'gray', 'topsham',\n",
       "       'newport', 'saco', 'madawaska', 'auburn', 'oakland', 'manchester',\n",
       "       'augusta', 'lincoln', 'rumford', 'dexter', 'fort fairfield',\n",
       "       'van buren', 'gorham', 'bethel', 'buxton', 'winthrop', 'yarmouth',\n",
       "       'livermore falls', 'wells', 'scarborough', 'fort kent',\n",
       "       'dover-foxcroft', 'camden', 'belfast', 'presque isle', 'milo',\n",
       "       'guilford', 'blue hill', 'thomaston', 'palmyra', 'oxford',\n",
       "       'windham', 'mexico', 'york', 'bath', 'cape elizabeth',\n",
       "       'greenville', 'standish', 'east millinocket', 'jay', 'waterboro',\n",
       "       'rockport', 'milbridge', 'mechanic falls', 'mars hill', 'orono',\n",
       "       'patten', 'indian island', 'south berwick', 'waldoboro', 'albion',\n",
       "       'corinth', 'randolph', 'china', 'marshfield', 'norway', 'unity',\n",
       "       'dedham', 'raymond', 'greene', 'madison', 'woolwich', 'sullivan',\n",
       "       'bingham', 'rangeley', 'southwest harbor', 'stonington',\n",
       "       'northport', 'veazie', 'west gardiner', 'acton', 'new gloucester',\n",
       "       'harpswell', 'searsport', 'cumberland', 'orrington', 'perry',\n",
       "       'windsor', 'wayne', 'monmouth', 'eliot', 'south thomaston',\n",
       "       'hollis', 'sidney', 'parkman', 'palermo', 'lebanon', 'union',\n",
       "       'warren', 'mount desert', 'belgrade', 'winter harbor', 'steuben',\n",
       "       'stockholm', 'boothbay', 'brownfield', 'alfred', 'exeter',\n",
       "       'vassalboro'], dtype=object)"
      ]
     },
     "execution_count": 14,
     "metadata": {},
     "output_type": "execute_result"
    }
   ],
   "source": [
    "townfix = {\n",
    "    'lisbon falls':'lisbon'\n",
    "    ,'bridgeton':'bridgton'\n",
    "    ,'cumberland center':'cumberland'\n",
    "    ,'grey':'gray'\n",
    "    ,'north windham':'windham'\n",
    "    ,'steep falls':'standish'\n",
    "    ,'seal harbor':'mount desert'\n",
    "    ,'east boothbay':'boothbay'\n",
    "    ,'no. vassalboro':'vassalboro'\n",
    "    ,'south paris':'paris'\n",
    "    ,'east waterboro':'waterboro'\n",
    "    ,'hollis center':'hollis'\n",
    "    ,'springvale':'sanford'\n",
    "    ,'dover foxcroft':'dover-foxcroft'\n",
    "}\n",
    "\n",
    "df['lower_city'] = df['BUYER_CITY'].str.lower()\n",
    "df['lower_city'].replace(townfix,value=None,inplace=True)\n",
    "df['lower_city'].unique()"
   ]
  },
  {
   "cell_type": "code",
   "execution_count": 12,
   "metadata": {},
   "outputs": [],
   "source": [
    "df.to_csv(cwd+'/arcos-me-statewide-cleaned-towns.csv')"
   ]
  },
  {
   "cell_type": "code",
   "execution_count": 18,
   "metadata": {},
   "outputs": [
    {
     "data": {
      "text/plain": [
       "Index(['REPORTER_DEA_NO', 'REPORTER_BUS_ACT', 'REPORTER_NAME',\n",
       "       'REPORTER_ADDL_CO_INFO', 'REPORTER_ADDRESS1', 'REPORTER_ADDRESS2',\n",
       "       'REPORTER_CITY', 'REPORTER_STATE', 'REPORTER_ZIP', 'REPORTER_COUNTY',\n",
       "       'BUYER_DEA_NO', 'BUYER_BUS_ACT', 'BUYER_NAME', 'BUYER_ADDL_CO_INFO',\n",
       "       'BUYER_ADDRESS1', 'BUYER_ADDRESS2', 'BUYER_CITY', 'BUYER_STATE',\n",
       "       'BUYER_ZIP', 'BUYER_COUNTY', 'TRANSACTION_CODE', 'DRUG_CODE', 'NDC_NO',\n",
       "       'DRUG_NAME', 'QUANTITY', 'UNIT', 'ACTION_INDICATOR', 'ORDER_FORM_NO',\n",
       "       'CORRECTION_NO', 'STRENGTH', 'TRANSACTION_DATE', 'CALC_BASE_WT_IN_GM',\n",
       "       'DOSAGE_UNIT', 'TRANSACTION_ID', 'Product_Name', 'Ingredient_Name',\n",
       "       'Measure', 'MME_Conversion_Factor', 'Combined_Labeler_Name',\n",
       "       'Revised_Company_Name', 'Reporter_family', 'dos_str', 'lower_city'],\n",
       "      dtype='object')"
      ]
     },
     "execution_count": 18,
     "metadata": {},
     "output_type": "execute_result"
    }
   ],
   "source": [
    "df.columns"
   ]
  },
  {
   "cell_type": "code",
   "execution_count": 20,
   "metadata": {},
   "outputs": [
    {
     "data": {
      "text/plain": [
       "BUYER_COUNTY\n",
       "ANDROSCOGGIN    259201.0\n",
       "AROOSTOOK       163083.0\n",
       "CUMBERLAND      596790.0\n",
       "FRANKLIN         66107.0\n",
       "HANCOCK         114708.0\n",
       "KENNEBEC        326549.0\n",
       "KNOX             71213.0\n",
       "LINCOLN          64580.0\n",
       "OXFORD          102679.0\n",
       "PENOBSCOT       423019.0\n",
       "PISCATAQUIS      44400.0\n",
       "SAGADAHOC        61845.0\n",
       "SOMERSET        135883.0\n",
       "WALDO            69170.0\n",
       "WASHINGTON       76984.0\n",
       "YORK            362793.0\n",
       "Name: QUANTITY, dtype: float64"
      ]
     },
     "execution_count": 20,
     "metadata": {},
     "output_type": "execute_result"
    }
   ],
   "source": [
    "df_co=df.groupby(['BUYER_COUNTY')['QUANTITY'].sum()\n",
    "\n",
    "df_co"
   ]
  }
 ],
 "metadata": {
  "kernelspec": {
   "display_name": "Python 3",
   "language": "python",
   "name": "python3"
  },
  "language_info": {
   "codemirror_mode": {
    "name": "ipython",
    "version": 3
   },
   "file_extension": ".py",
   "mimetype": "text/x-python",
   "name": "python",
   "nbconvert_exporter": "python",
   "pygments_lexer": "ipython3",
   "version": "3.6.4"
  }
 },
 "nbformat": 4,
 "nbformat_minor": 2
}
